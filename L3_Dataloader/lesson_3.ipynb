{
  "cells": [
    {
      "cell_type": "markdown",
      "metadata": {
        "id": "8aP3VqmLJ8jK"
      },
      "source": [
        "# Dataset, Dataloader, BatchNorm, Dropout, Оптимизация\n",
        "\n",
        "Сегодня у нас довольно объемная программа, она призвана закончить большую часть про базовую функциональность Pytorch, дальше мы двинемся к сверточным сетям и будем решать более прикладные задачи"
      ]
    },
    {
      "cell_type": "markdown",
      "metadata": {
        "id": "Fs3wLJ9eJ8jX"
      },
      "source": [
        "Для удобства в PyTorch предоставляется ряд утилит для загрузки датасетов, их предварительной обработки и взаимодействия с ними. Эти вспомогательные классы находятся в модуле torch.utils.data module. Здесь следует обратить внимание на:\n",
        "\n",
        "- Dataset,\n",
        "- DataLoader, отвечающий за загрузку датасета.\n",
        "\n",
        "Для создания новых датасетов наследуется класс torch.utils.data.Dataset и переопределяется метод __len__, так, чтобы он возвращал количество образцов в датасете, а также метод __getitem__ для доступа к единичному значению по конкретному индексу. Например, так выглядит простой датасет, в котором инкапсулирован диапазон целых чисел:"
      ]
    },
    {
      "cell_type": "markdown",
      "source": [
        "## Dataset"
      ],
      "metadata": {
        "id": "nfi6haSYP6FC"
      }
    },
    {
      "cell_type": "code",
      "execution_count": 2,
      "metadata": {
        "id": "kQofXN2GJ8je"
      },
      "outputs": [],
      "source": [
        "import math\n",
        "import torch\n",
        "import numpy as np\n",
        "\n",
        "class RangeDataset(torch.utils.data.Dataset):\n",
        "    def __init__(self, start, end, step=1):\n",
        "        self.start = start\n",
        "        self.end = end\n",
        "        self.step = step\n",
        "\n",
        "    def __len__(self):\n",
        "        return math.ceil((self.end - self.start) / self.step)\n",
        "\n",
        "    def __getitem__(self, index):\n",
        "        value = self.start + index * self.step\n",
        "        return np.array([value, value])"
      ]
    },
    {
      "cell_type": "markdown",
      "source": [
        "## Dataloader"
      ],
      "metadata": {
        "id": "I3sWdNW8P_GX"
      }
    },
    {
      "cell_type": "markdown",
      "metadata": {
        "id": "yNH4sm1OJ8jl"
      },
      "source": [
        "Объект DataLoader принимает датасет и ряд опций, конфигурирующих процедуру извлечения образца. Например, можно параллельно загружать образцы, задействовав множество процессов. Для этого конструктор DataLoader принимает аргумент num_workers. Обратите внимание: DataLoader всегда возвращает батчи, размер которых задается в параметре batch_size"
      ]
    },
    {
      "cell_type": "code",
      "execution_count": 3,
      "metadata": {
        "colab": {
          "base_uri": "https://localhost:8080/"
        },
        "id": "z96CBEaRJ8jo",
        "outputId": "55d7fa2b-bd3f-46a7-fc80-2a73398a08a5"
      },
      "outputs": [
        {
          "output_type": "stream",
          "name": "stdout",
          "text": [
            "14\n"
          ]
        },
        {
          "output_type": "execute_result",
          "data": {
            "text/plain": [
              "(array([0, 0]), array([5, 5]))"
            ]
          },
          "metadata": {},
          "execution_count": 3
        }
      ],
      "source": [
        "dataset = RangeDataset(0, 14)\n",
        "print(len(dataset))\n",
        "dataset[0], dataset[5]"
      ]
    },
    {
      "cell_type": "code",
      "source": [
        "dataset[0]"
      ],
      "metadata": {
        "colab": {
          "base_uri": "https://localhost:8080/"
        },
        "id": "xvLsL0q14XdY",
        "outputId": "f06568d8-ae7c-4f75-abc3-ae991c55394f"
      },
      "execution_count": 4,
      "outputs": [
        {
          "output_type": "execute_result",
          "data": {
            "text/plain": [
              "array([0, 0])"
            ]
          },
          "metadata": {},
          "execution_count": 4
        }
      ]
    },
    {
      "cell_type": "code",
      "source": [
        "data_loader = torch.utils.data.DataLoader(dataset, batch_size=4, shuffle=True,\n",
        "                                          num_workers=2, drop_last=False)\n",
        "len(data_loader)"
      ],
      "metadata": {
        "colab": {
          "base_uri": "https://localhost:8080/"
        },
        "id": "cMsZ2CrYLEyn",
        "outputId": "d504a002-80dd-478e-c5ba-f2511081a316"
      },
      "execution_count": 5,
      "outputs": [
        {
          "output_type": "execute_result",
          "data": {
            "text/plain": [
              "4"
            ]
          },
          "metadata": {},
          "execution_count": 5
        }
      ]
    },
    {
      "cell_type": "code",
      "source": [
        "for i, batch in enumerate(data_loader):\n",
        "    print(i, batch)"
      ],
      "metadata": {
        "colab": {
          "base_uri": "https://localhost:8080/"
        },
        "id": "RlQNrrmVK_zr",
        "outputId": "f6fc272b-837d-4f79-d002-083f356a1cfe"
      },
      "execution_count": 6,
      "outputs": [
        {
          "output_type": "stream",
          "name": "stdout",
          "text": [
            "0 tensor([[ 1,  1],\n",
            "        [10, 10],\n",
            "        [ 5,  5],\n",
            "        [ 2,  2]])\n",
            "1 tensor([[12, 12],\n",
            "        [ 7,  7],\n",
            "        [11, 11],\n",
            "        [ 0,  0]])\n",
            "2 tensor([[4, 4],\n",
            "        [3, 3],\n",
            "        [8, 8],\n",
            "        [9, 9]])\n",
            "3 tensor([[13, 13],\n",
            "        [ 6,  6]])\n"
          ]
        }
      ]
    },
    {
      "cell_type": "markdown",
      "metadata": {
        "id": "76fmIT0RJ8js"
      },
      "source": [
        "При этом нам часто нужно делать аугментацию данных или как-то их предобрабатывать. Это можно делать внутри датасета, но частично это можно переложить и внутрь DataLoader (особенно в части обработки изображений)"
      ]
    },
    {
      "cell_type": "code",
      "execution_count": 7,
      "metadata": {
        "id": "vtgdGTwpJ8jw"
      },
      "outputs": [],
      "source": [
        "import numpy as np\n",
        "\n",
        "from PIL import Image\n",
        "from torchvision import transforms, datasets"
      ]
    },
    {
      "cell_type": "code",
      "execution_count": 8,
      "metadata": {
        "colab": {
          "base_uri": "https://localhost:8080/",
          "height": 84,
          "referenced_widgets": [
            "208dfe63c73a4d10928ca7b9db7ad16a",
            "f5b3933b40b040809d4c52084d52dea5",
            "bb5e80a3fe79436285fbac83e61b4aeb",
            "6e511d70d98244b9b56aa29288267e20",
            "893e2f7eca3a4285bd2b6bf9cd4abed0",
            "3b58dcdd5627410db0bea36c55cf737a",
            "5010a96981f14192bafd53b688a510dd",
            "4196601eb90747efb6d7e7b0fcaa821a",
            "b5e054ed319b46c4950a00677a860a0e",
            "9c1e7cea18734ad0a14d7abc7a704c5c",
            "12828e401eb149b5b124112397859bd3"
          ]
        },
        "id": "L731fVgUJ8jy",
        "outputId": "ad979271-714b-4863-d2eb-f4beadc9f2fe"
      },
      "outputs": [
        {
          "output_type": "stream",
          "name": "stdout",
          "text": [
            "Downloading https://www.cs.toronto.edu/~kriz/cifar-10-python.tar.gz to data/cifar-10-python.tar.gz\n"
          ]
        },
        {
          "output_type": "display_data",
          "data": {
            "text/plain": [
              "  0%|          | 0/170498071 [00:00<?, ?it/s]"
            ],
            "application/vnd.jupyter.widget-view+json": {
              "version_major": 2,
              "version_minor": 0,
              "model_id": "208dfe63c73a4d10928ca7b9db7ad16a"
            }
          },
          "metadata": {}
        },
        {
          "output_type": "stream",
          "name": "stdout",
          "text": [
            "Extracting data/cifar-10-python.tar.gz to data/\n"
          ]
        }
      ],
      "source": [
        "train_dataset = datasets.CIFAR10(root='data/', train=True, download=True)\n",
        "image, label = train_dataset[0]"
      ]
    },
    {
      "cell_type": "code",
      "source": [
        "train_dataset"
      ],
      "metadata": {
        "colab": {
          "base_uri": "https://localhost:8080/"
        },
        "id": "fvm8e_XF43lq",
        "outputId": "d2aae125-6650-440d-f1b5-fd4b8d6ab358"
      },
      "execution_count": 9,
      "outputs": [
        {
          "output_type": "execute_result",
          "data": {
            "text/plain": [
              "Dataset CIFAR10\n",
              "    Number of datapoints: 50000\n",
              "    Root location: data/\n",
              "    Split: Train"
            ]
          },
          "metadata": {},
          "execution_count": 9
        }
      ]
    },
    {
      "cell_type": "code",
      "source": [
        "train_dataset[0]"
      ],
      "metadata": {
        "colab": {
          "base_uri": "https://localhost:8080/"
        },
        "id": "gY6hnqka46cJ",
        "outputId": "6fe1bdbc-b22a-446d-8ce5-69c8590e6c82"
      },
      "execution_count": 10,
      "outputs": [
        {
          "output_type": "execute_result",
          "data": {
            "text/plain": [
              "(<PIL.Image.Image image mode=RGB size=32x32 at 0x7F073089CC10>, 6)"
            ]
          },
          "metadata": {},
          "execution_count": 10
        }
      ]
    },
    {
      "cell_type": "code",
      "source": [
        "import matplotlib.pyplot as plt\n",
        "\n",
        "plt.imshow(image);"
      ],
      "metadata": {
        "colab": {
          "base_uri": "https://localhost:8080/",
          "height": 266
        },
        "id": "1dqE5zt4L2IE",
        "outputId": "cdb070ba-d03d-4252-b171-6f895b0e0a26"
      },
      "execution_count": 11,
      "outputs": [
        {
          "output_type": "display_data",
          "data": {
            "text/plain": [
              "<Figure size 432x288 with 1 Axes>"
            ],
            "image/png": "[encoded data removed]"
          },
          "metadata": {
            "needs_background": "light"
          }
        }
      ]
    },
    {
      "cell_type": "code",
      "execution_count": 12,
      "metadata": {
        "id": "BcQyxHD6J8j3"
      },
      "outputs": [],
      "source": [
        "img_size = 32\n",
        "\n",
        "class MyOwnCifar(torch.utils.data.Dataset):\n",
        "   \n",
        "    def __init__(self, init_dataset, transform=None):\n",
        "        self._base_dataset = init_dataset\n",
        "        self.transform = transform\n",
        "\n",
        "    def __len__(self):\n",
        "        return len(self._base_dataset)\n",
        "\n",
        "    def __getitem__(self, idx):\n",
        "        img, lbl = self._base_dataset[idx]\n",
        "\n",
        "        if self.transform is not None:\n",
        "            img = self.transform(img)\n",
        "        \n",
        "        img = img.view(img_size * img_size * 3)\n",
        "        return img, lbl\n",
        "    \n",
        "\n",
        "trans_actions = transforms.Compose([transforms.Resize(img_size + 2),\n",
        "                                    transforms.RandomCrop(img_size, padding=2), \n",
        "                                    transforms.ToTensor()])\n",
        "\n",
        "dataset = MyOwnCifar(train_dataset, trans_actions)\n",
        "train_loader = torch.utils.data.DataLoader(dataset,\n",
        "                          batch_size=128,\n",
        "                          shuffle=True,\n",
        "                          num_workers=2)"
      ]
    },
    {
      "cell_type": "code",
      "source": [
        "test_dataset = datasets.CIFAR10(root='./data', train=False,\n",
        "                                download=True,)\n",
        "test_dataset = MyOwnCifar(test_dataset, \n",
        "                          transforms.Compose([transforms.ToTensor(),\n",
        "                                              transforms.Resize(img_size)])\n",
        "                          )\n",
        "\n",
        "test_loader = torch.utils.data.DataLoader(test_dataset, batch_size=8,\n",
        "                                          shuffle=False)"
      ],
      "metadata": {
        "colab": {
          "base_uri": "https://localhost:8080/"
        },
        "id": "XOVzVX_uMPt7",
        "outputId": "f4c6f4f6-a7df-406e-d6ef-0167e26e6ea0"
      },
      "execution_count": 13,
      "outputs": [
        {
          "output_type": "stream",
          "name": "stdout",
          "text": [
            "Files already downloaded and verified\n"
          ]
        }
      ]
    },
    {
      "cell_type": "code",
      "source": [
        "classes = ['plane', 'car', 'bird', 'cat','deer', 'dog', \n",
        "           'frog', 'horse', 'ship', 'truck']"
      ],
      "metadata": {
        "id": "JeORkXVaOQ3u"
      },
      "execution_count": 14,
      "outputs": []
    },
    {
      "cell_type": "code",
      "execution_count": 15,
      "metadata": {
        "colab": {
          "base_uri": "https://localhost:8080/",
          "height": 301
        },
        "id": "LNFF0N7VJ8j9",
        "outputId": "d6d5aa50-f1b7-42e8-dfe7-69c9b848db70"
      },
      "outputs": [
        {
          "output_type": "stream",
          "name": "stdout",
          "text": [
            "torch.Size([128, 3072])\n",
            "label is dog\n"
          ]
        },
        {
          "output_type": "display_data",
          "data": {
            "text/plain": [
              "<Figure size 432x288 with 1 Axes>"
            ],
            "image/png": "[encoded data removed]"
          },
          "metadata": {
            "needs_background": "light"
          }
        }
      ],
      "source": [
        "for batch, label in train_loader:\n",
        "    print(batch.shape)\n",
        "    plt.imshow(batch[0].view(3, img_size, img_size).permute(1, 2, 0))\n",
        "    print('label is', classes[label[0]])\n",
        "    break"
      ]
    },
    {
      "cell_type": "code",
      "source": [
        "for batch, label in test_loader:\n",
        "    print(batch.shape)\n",
        "    plt.imshow(batch[0].view(3, img_size, img_size).permute(1, 2, 0))\n",
        "    print('label is', classes[label[0]])\n",
        "    break"
      ],
      "metadata": {
        "colab": {
          "base_uri": "https://localhost:8080/",
          "height": 301
        },
        "id": "O1zweAJqM7zm",
        "outputId": "aa1b7c30-9c83-4a50-d849-8d52f046cc4c"
      },
      "execution_count": 16,
      "outputs": [
        {
          "output_type": "stream",
          "name": "stdout",
          "text": [
            "torch.Size([8, 3072])\n",
            "label is cat\n"
          ]
        },
        {
          "output_type": "display_data",
          "data": {
            "text/plain": [
              "<Figure size 432x288 with 1 Axes>"
            ],
            "image/png": "[encoded data removed]"
          },
          "metadata": {
            "needs_background": "light"
          }
        }
      ]
    },
    {
      "cell_type": "markdown",
      "metadata": {
        "id": "40cMLaFiJ8kA"
      },
      "source": [
        "## Dropout - исключение заданного числа нейронов\n",
        "\n",
        "\n",
        "Метод регуляризации искусственных нейронных сетей, предназначен для уменьшения переобучения сети за счет предотвращения сложных адаптаций отдельных нейронов на тренировочных данных во время обучения.\n",
        "\n",
        "Характеризует исключение определённого процента (например 50%) случайных нейронов на разных итерациях во время обучения нейронной сети. В результате  обучение происходит более общее, нет надежды на определенные нейроны. Такой приём значительно увеличивает скорость обучения, качество обучения на тренировочных данных, а также повышает качество предсказаний модели на новых тестовых данных.\n",
        "\n",
        "На моменте предсказания все нейроны включаются обратно, dropout не используется.\n",
        "\n",
        "<img src=\"https://drive.google.com/uc?export=view&id=1UP-yYkA4UEfZmdFUZG-3ccftXPQcfno1\">\n",
        "\n"
      ]
    },
    {
      "cell_type": "markdown",
      "source": [
        "## BatchNorm\n",
        "\n",
        "\n",
        "Batch Normalization (Пакетная нормализация) — метод, который позволяет повысить производительность и стабилизировать работу искусственных нейронных сетей. Суть данного метода заключается в том, что некоторым слоям нейронной сети на вход подаются данные, предварительно обработанные и имеющие нулевое мат. ожидание и единичную дисперсию.\n",
        "\n",
        "Batch norm дает следующие эффекты:\n",
        "\n",
        "- ускорение сходимости модели;\n",
        "- бОльшая независимость обучения каждого слоя нейронов;\n",
        "- в некоторой степени предотвращает эффект переобучения;\n",
        "- меньшая чувствительность к начальной инициализации весовых коэффициентов.\n",
        "\n",
        "\n",
        "<img src='https://drive.google.com/uc?export=view&id=1y0ye2bQTB2cwgP4cgxVQ50Fhi8FvIZeH'>\n",
        "\n",
        "Получается, что нейронам в одной сети приходится адаптироваться к разным картинкам на разных итерациях, потому что разные статистические показатели распределений приходят на вход, из-за чего снижается скорость сходимости, чтобы это было легче для сети, можно выполнять нормализацию батча.\n",
        "\n",
        "Получается, что нужно нормировать статистические показатели. \n",
        "<img src=\"https://drive.google.com/uc?export=view&id=1kd0XCd5FSPoVR1tlD3HfA2Nc5mwdWtj1\" width=400>\n",
        "\n",
        "\n",
        "<img src='https://drive.google.com/uc?export=view&id=11YY3T8a31W583tJHxz-Sq7Q7A3Z02a47'>\n",
        "\n",
        "\n",
        "<h2>$z^i_k = \\frac{v^i_k + \\mu_v}{\\sqrt{ \\sigma^2_v+ \\epsilon}}$</h2><br>\n",
        "$y_i^k = \\gamma z_i^k + \\beta$, где $\\gamma$ и $\\beta$ - это настраиваемые параметры, которые нужны для дополнительного масштабирования и смещения.\n",
        "\n",
        "\n",
        "\n",
        "\n",
        "\n",
        "\n"
      ],
      "metadata": {
        "id": "wF39tMklQH8u"
      }
    },
    {
      "cell_type": "code",
      "execution_count": 17,
      "metadata": {
        "id": "at8qRIrLJ8kD"
      },
      "outputs": [],
      "source": [
        "import torch.nn.functional as F\n",
        "import torch.nn as nn"
      ]
    },
    {
      "cell_type": "code",
      "execution_count": 18,
      "metadata": {
        "id": "03Grc9WDJ8kF"
      },
      "outputs": [],
      "source": [
        "class Perceptron(nn.Module):\n",
        "    def __init__(self, input_dim, output_dim, activation=\"relu\"):\n",
        "        super().__init__()\n",
        "        self.fc = nn.Linear(input_dim, output_dim)\n",
        "        self.activation = activation\n",
        "        \n",
        "    def forward(self, x):\n",
        "        x = self.fc(x)\n",
        "        if self.activation == \"relu\":\n",
        "            return F.relu(x)\n",
        "        if self.activation == \"sigmoid\":\n",
        "            return F.sigmoid(x)\n",
        "        raise RuntimeError\n",
        "        \n",
        "\n",
        "class FeedForward(nn.Module):\n",
        "    def __init__(self, input_dim, hidden_dim):\n",
        "        super().__init__()\n",
        "        self.fc1 = Perceptron(input_dim, hidden_dim)\n",
        "        self.bn = nn.BatchNorm1d(hidden_dim)\n",
        "        self.dp = nn.Dropout(0.25)\n",
        "        self.fc2 = Perceptron(hidden_dim, 10, \"relu\")\n",
        "        \n",
        "    def forward(self, x):\n",
        "        x = self.fc1(x)\n",
        "        x = self.dp(x)\n",
        "        x = self.bn(x)\n",
        "        x = self.fc2(x)\n",
        "        return x"
      ]
    },
    {
      "cell_type": "code",
      "execution_count": 19,
      "metadata": {
        "id": "FCnKJyDvJ8kI"
      },
      "outputs": [],
      "source": [
        "net = FeedForward(3*32*32, 200)\n",
        "\n",
        "optimizer = torch.optim.SGD(net.parameters(), lr=0.01)\n",
        "criterion = nn.CrossEntropyLoss()"
      ]
    },
    {
      "cell_type": "code",
      "execution_count": 20,
      "metadata": {
        "id": "rTKeMl5KJ8kK",
        "outputId": "32cc95cf-a31f-490b-ac7b-37e1aef4b52c",
        "colab": {
          "base_uri": "https://localhost:8080/"
        }
      },
      "outputs": [
        {
          "output_type": "stream",
          "name": "stdout",
          "text": [
            "Epoch [1/10]. Step [1/391]. Loss: 0.019. Acc: 0.094. Test acc: 0.119\n",
            "Epoch [1/10]. Step [151/391]. Loss: 0.016. Acc: 0.264. Test acc: 0.334\n",
            "Epoch [1/10]. Step [301/391]. Loss: 0.015. Acc: 0.312. Test acc: 0.349\n",
            "Epoch [2/10]. Step [1/391]. Loss: 0.015. Acc: 0.352. Test acc: 0.354\n",
            "Epoch [2/10]. Step [151/391]. Loss: 0.015. Acc: 0.334. Test acc: 0.371\n",
            "Epoch [2/10]. Step [301/391]. Loss: 0.015. Acc: 0.346. Test acc: 0.386\n",
            "Epoch [3/10]. Step [1/391]. Loss: 0.015. Acc: 0.328. Test acc: 0.375\n",
            "Epoch [3/10]. Step [151/391]. Loss: 0.015. Acc: 0.354. Test acc: 0.388\n",
            "Epoch [3/10]. Step [301/391]. Loss: 0.014. Acc: 0.359. Test acc: 0.389\n",
            "Epoch [4/10]. Step [1/391]. Loss: 0.015. Acc: 0.352. Test acc: 0.390\n",
            "Epoch [4/10]. Step [151/391]. Loss: 0.014. Acc: 0.362. Test acc: 0.389\n",
            "Epoch [4/10]. Step [301/391]. Loss: 0.014. Acc: 0.362. Test acc: 0.397\n",
            "Epoch [5/10]. Step [1/391]. Loss: 0.015. Acc: 0.297. Test acc: 0.403\n",
            "Epoch [5/10]. Step [151/391]. Loss: 0.014. Acc: 0.369. Test acc: 0.401\n",
            "Epoch [5/10]. Step [301/391]. Loss: 0.014. Acc: 0.370. Test acc: 0.386\n",
            "Epoch [6/10]. Step [1/391]. Loss: 0.014. Acc: 0.344. Test acc: 0.399\n",
            "Epoch [6/10]. Step [151/391]. Loss: 0.014. Acc: 0.368. Test acc: 0.410\n",
            "Epoch [6/10]. Step [301/391]. Loss: 0.014. Acc: 0.369. Test acc: 0.425\n",
            "Epoch [7/10]. Step [1/391]. Loss: 0.014. Acc: 0.406. Test acc: 0.424\n",
            "Epoch [7/10]. Step [151/391]. Loss: 0.014. Acc: 0.379. Test acc: 0.419\n",
            "Epoch [7/10]. Step [301/391]. Loss: 0.014. Acc: 0.380. Test acc: 0.433\n",
            "Epoch [8/10]. Step [1/391]. Loss: 0.014. Acc: 0.383. Test acc: 0.412\n",
            "Epoch [8/10]. Step [151/391]. Loss: 0.014. Acc: 0.381. Test acc: 0.431\n",
            "Epoch [8/10]. Step [301/391]. Loss: 0.014. Acc: 0.378. Test acc: 0.426\n",
            "Epoch [9/10]. Step [1/391]. Loss: 0.014. Acc: 0.312. Test acc: 0.424\n",
            "Epoch [9/10]. Step [151/391]. Loss: 0.014. Acc: 0.385. Test acc: 0.431\n",
            "Epoch [9/10]. Step [301/391]. Loss: 0.014. Acc: 0.379. Test acc: 0.431\n",
            "Epoch [10/10]. Step [1/391]. Loss: 0.014. Acc: 0.406. Test acc: 0.435\n",
            "Epoch [10/10]. Step [151/391]. Loss: 0.014. Acc: 0.386. Test acc: 0.436\n",
            "Epoch [10/10]. Step [301/391]. Loss: 0.014. Acc: 0.380. Test acc: 0.433\n",
            "Training is finished!\n"
          ]
        }
      ],
      "source": [
        "num_epochs = 10\n",
        "\n",
        "for epoch in range(num_epochs):  \n",
        "    running_loss, running_items, running_right = 0.0, 0.0, 0.0\n",
        "    for i, data in enumerate(train_loader):\n",
        "        inputs, labels = data[0], data[1]\n",
        "\n",
        "        # обнуляем градиент\n",
        "        optimizer.zero_grad()\n",
        "\n",
        "        outputs = net(inputs)\n",
        "        loss = criterion(outputs, labels)\n",
        "        loss.backward()\n",
        "        optimizer.step()\n",
        "\n",
        "        # выводим статистику о процессе обучения\n",
        "        running_loss += loss.item()\n",
        "        running_items += len(labels)\n",
        "        running_right += (labels == torch.max(outputs, 1)[1]).sum()\n",
        "        \n",
        "        # выводим статистику о процессе обучения\n",
        "        if i % 150 == 0:    # печатаем каждые 300 mini-batches\n",
        "            net.eval()\n",
        "            \n",
        "            print(f'Epoch [{epoch + 1}/{num_epochs}]. ' \\\n",
        "                  f'Step [{i + 1}/{len(train_loader)}]. ' \\\n",
        "                  f'Loss: {running_loss / running_items:.3f}. ' \\\n",
        "                  f'Acc: {running_right / running_items:.3f}', end='. ')\n",
        "            running_loss, running_items, running_right = 0.0, 0.0, 0.0\n",
        "\n",
        "            test_running_right, test_running_total = 0.0, 0.0\n",
        "            for i, data in enumerate(test_loader):\n",
        "            \n",
        "                test_outputs = net(data[0])\n",
        "                test_running_total += len(data[1])\n",
        "                test_running_right += (data[1] == torch.max(test_outputs, 1)[1]).sum()\n",
        "            \n",
        "            print(f'Test acc: {test_running_right / test_running_total:.3f}')\n",
        "            net.train()\n",
        "        \n",
        "print('Training is finished!')"
      ]
    },
    {
      "cell_type": "markdown",
      "metadata": {
        "id": "3AA_rUsQlrgH"
      },
      "source": [
        "## Оптимизаторы\n",
        "\n",
        "Как конкретно мы собираемся обновлять параметры? Это про улучшенные методы градиентного спуска, которые есть в pytorch.\n",
        "Все оптимизаторы можно найти в разделе [torch.optim](https://pytorch.org/docs/stable/optim.html)"
      ]
    },
    {
      "cell_type": "markdown",
      "source": [
        "\n",
        "### SGD  \n",
        "\n",
        "В самом простом варианте , мы вычисляем наш градиент и умножаем на learningrate.\n",
        "$$w = w - learning\\_rate * gradient$$"
      ],
      "metadata": {
        "id": "KzpAqPIQQOSR"
      }
    },
    {
      "cell_type": "markdown",
      "metadata": {
        "id": "5tFb0gGGlrgH"
      },
      "source": [
        "Но оказывается что это не так уж и эффективно. На гифке ниже видны разные подходы оптимизаторов. Они из одной точки по-разному добираются до цели. Можно увидеть что в отличие от нашего простого метода(SGD) другие оптимизаторы выполняют свою работу намного быстрее. Это происходит в основном из-за неконстантного шага обучения:"
      ]
    },
    {
      "cell_type": "markdown",
      "metadata": {
        "id": "3kFEaPQ3lrgI"
      },
      "source": [
        "<img src='https://i.stack.imgur.com/8rpzr.gif'>"
      ]
    },
    {
      "cell_type": "markdown",
      "metadata": {
        "id": "-SGTgbhYlrgJ"
      },
      "source": [
        "Давайте подробнее посмотрим на эти оптимизаторы и как ими пользоваться в pytorch:"
      ]
    },
    {
      "cell_type": "markdown",
      "metadata": {
        "id": "qoSR0zdSlrgK"
      },
      "source": [
        "Как реализовано в pytorch:"
      ]
    },
    {
      "cell_type": "code",
      "metadata": {
        "id": "_PvHaeKxlrgK"
      },
      "source": [
        "optimizer = torch.optim.SGD(net.parameters(), lr=0.1)"
      ],
      "execution_count": 21,
      "outputs": []
    },
    {
      "cell_type": "markdown",
      "metadata": {
        "id": "eUgJU3bXlrgL"
      },
      "source": [
        "### Momentum (импульс)\n",
        "\n",
        "\n",
        "\n",
        "[статья](https://arxiv.org/abs/1810.13395?utm_source=feedburner&utm_medium=feed&utm_campaign=Feed%253A+arxiv%252FQSXk+%2528ExcitingAds%2521+cs+updates+on+arXiv.org%2529)  \n",
        "[pytorch doc](https://pytorch.org/docs/master/generated/torch.optim.SGD.html?highlight=sgd#torch.optim.SGD)\n",
        "\n",
        "<img src='https://drive.google.com/uc?export=view&id=1JMoY1y1oZUtiicvCuhxhliiLBLoNl7bA' width=600>\n",
        "\n",
        "\n",
        "$$velocity = momentum * velocity - \\eta*gradient\\\\w = w + velocity$$"
      ]
    },
    {
      "cell_type": "markdown",
      "metadata": {
        "id": "IxOID2bPlrgN"
      },
      "source": [
        "Как это математически объясняется: мы накапливаем некоторую скорость velocity, которая скорость вектора. Наш learningrate, который мы применяли к веса, теперь применяется к скорости. Т.е. по направлению градиента мы увеличиваем не просто веса, а скорость изменения весов. И есть такой момент затухания momentum, для того что бы было каке-то трение в системе, иначе все это улетит очень при очень далеко. И мы обычно берем momentum от 0.9-0.99. \n",
        "И таким образом мы берем старое значение скорости, его немного уменьшаем и добавляем к нему направление градиента. "
      ]
    },
    {
      "cell_type": "markdown",
      "metadata": {
        "id": "sqtk507kfVDI"
      },
      "source": [
        "\n",
        "\n",
        "<img src='https://drive.google.com/uc?export=view&id=1h0u3hNo2cjDRoq0FVdXIScgRo6Iq687y' width=400>"
      ]
    },
    {
      "cell_type": "markdown",
      "metadata": {
        "id": "QnMoeBWF3f8g"
      },
      "source": [
        "Засчет добавления импульса получается сглаживание оптимизации.\n",
        "\n",
        "|$t_1$|$t_2$|..|$t_n$|\n",
        "|--|--|--|--|\n",
        "|$g_1$|$g_2$|..|$g_n$|\n",
        "\n",
        "$\\gamma = 0.5$\n",
        "\n",
        "$v_1 = g_1$<br>\n",
        "$v_2 = \\gamma * v_1 + g_2 = 0.5 * g_1 + g_2$<br>\n",
        "$v_3 = \\gamma * v_2 + g_3 = \\gamma (\\gamma * v_1 + g_2) + g_3 = \\gamma^2 * g_1 + \\gamma * g_2 + g_3 = 0.25 * g_1 + 0.5 * g_2 + g_3$<br>"
      ]
    },
    {
      "cell_type": "markdown",
      "metadata": {
        "id": "wUHfJiIflrgO"
      },
      "source": [
        "Как реализовано в pytorch:"
      ]
    },
    {
      "cell_type": "code",
      "metadata": {
        "id": "60wFP2udlrgP"
      },
      "source": [
        "optimizer = torch.optim.SGD(net.parameters(), lr=0.1, momentum=0.9)"
      ],
      "execution_count": 22,
      "outputs": []
    },
    {
      "cell_type": "markdown",
      "metadata": {
        "id": "P8F7XM9ilrgP"
      },
      "source": [
        "Другие методы предназначены для решения кейса \"седловая точка\". Седловая точка - это точка в которой формально градиент равен нулю. Но это не глобальный минимум. Он по некоторым направлениям локальный минимум, а по некоторым локальный максимум. Т.е. это не точка глобального минимума. И вообще было такое обсуждение, что методы градиентого спуска могут скатиться в локальные мимнимумы. Но оказывается на практике это сделать довольно сложно. Пространство на столько огромное, что найти настоящий глобальный минимум по этим тысячам параметров довольно сложно. И такой проблемы на практике скорее нет. А есть проблема, что метод может скатиться в такие точки, что градиент все еще ноль. И поэтому если мы в нем оказались, то очень сложно из него выйти, тк. нет сигнала от градиента. Но если отойти в определенном направлении, то можно понять что эта точка так же и локальный максимум. И после этого можно успешно скатиться. \n",
        "И поэтому есть несколько модификаций градиентного спуска, что бы как раз выкатываться из таких точек."
      ]
    },
    {
      "cell_type": "markdown",
      "metadata": {
        "id": "FmWVdJk-lrgQ"
      },
      "source": [
        "<img src='https://i.ytimg.com/vi/fODpu1-lNTw/maxresdefault.jpg' width=600>"
      ]
    },
    {
      "cell_type": "markdown",
      "metadata": {
        "id": "npFYZWVYlrgQ"
      },
      "source": [
        "### Adagrad\n",
        "\n",
        "[статья](http://www.jmlr.org/papers/volume12/duchi11a/duchi11a.pdf)  \n",
        "[pytorch doc](https://pytorch.org/docs/master/generated/torch.optim.Adagrad.html?highlight=adagrad#torch.optim.Adagrad)\n",
        "\n",
        "Собственно каким образом этим методам удается выходить из подобных точек.\n",
        "\n"
      ]
    },
    {
      "cell_type": "markdown",
      "metadata": {
        "id": "OX-YS6urlrgR"
      },
      "source": [
        "Основная идея следующая - делать learning_rate не константой для всех измерений, а адаптивно для разных измерений и весов подбирать свой learning_rate. Если по какому-то направлению нам градиент будет говорить что там не интересно, там очень маленькое изменение, мы его искусственно повысим. А в тех направлениях где градиент  будет говорить что да, нужно во всю двигаться - мы наоборот его понизим. таким образом мы накапливаем статистику какие градиенты мы считаем наиболее важными или наименее важными. И усилим те которые считаются неважными. И это даст нам возможность выкатиться, потому что мы даже по неважным измерениям будем знать существенный шаг. А как только мы выкатились из этой точки, то сразу происходит существенное ускорение.   \n",
        "Как мы это делаем:\n",
        "$$accumulated = accumulated + gradient^2\\\\adaptive\\_\\eta = \\frac{\\eta}{sqrt(accumulated)}\\\\w = w - adaptive\\_\\eta*gradient$$"
      ]
    },
    {
      "cell_type": "markdown",
      "metadata": {
        "id": "JEPesFb_lrgS"
      },
      "source": [
        "Мы таким образом считаем накопленный вес accumulated как квадрат градиента по всем направлениям. Т.е. если в каком-то направлении этот градиент будет большой - там этот квадрат мы накопим очень большой. А потом поделим на корень из него. Т.о. мы уменьшим adaptive_learning_rate в местах где градиент накопился и наоборот в обратном случае. И будем вот с таким adaptive_learning_rate обновлять наши веса. "
      ]
    },
    {
      "cell_type": "markdown",
      "metadata": {
        "id": "UKDeEHtwlrgS"
      },
      "source": [
        "Как реализовано в pytorch:"
      ]
    },
    {
      "cell_type": "code",
      "metadata": {
        "id": "WJ57MXl5lrgT"
      },
      "source": [
        "optimizer = torch.optim.Adagrad(net.parameters(), lr=0.1)"
      ],
      "execution_count": 23,
      "outputs": []
    },
    {
      "cell_type": "markdown",
      "metadata": {
        "id": "9Bb5LTv5lrgU"
      },
      "source": [
        "### RMSProp\n",
        "[статья](https://arxiv.org/abs/1412.6980)  \n",
        "[pytorch doc](https://pytorch.org/docs/master/generated/torch.optim.RMSprop.html)\n",
        "\n",
        "Следующий апгрейт делает примерно тоже самое, но только применяет к аккумуляции релаксацию как в momentum'е.  \n",
        "$$accumulated = \\rho * accumulated + (1-\\rho) * gradient^2\\\\adaptive\\eta = \\frac{\\eta}{sqrt(accumulated)}\\\\w = w - adaptive\\eta*gradient$$"
      ]
    },
    {
      "cell_type": "markdown",
      "metadata": {
        "id": "CrYFbR-slrgV"
      },
      "source": [
        "Как реализовано в pytorch:"
      ]
    },
    {
      "cell_type": "code",
      "metadata": {
        "id": "zYquTjk0lrgV"
      },
      "source": [
        "optimizer = torch.optim.RMSprop(net.parameters(), lr=0.1, alpha=0.99)"
      ],
      "execution_count": 24,
      "outputs": []
    },
    {
      "cell_type": "markdown",
      "metadata": {
        "id": "7OsmUvD3lrgW"
      },
      "source": [
        "### Adam\n",
        "\n",
        "[статья](https://arxiv.org/abs/1412.6980)  \n",
        "[pytorch doc](https://pytorch.org/docs/master/generated/torch.optim.Adam.html?highlight=adam#torch.optim.Adam)\n",
        "\n",
        "Этот метод комбинирует идеи RMSProp + Momentum. \n",
        "\n",
        "$$velocity = beta1 * velocity + (1-beta1) * gradient\\\\accumulated = beta2*accumulated + (1-beta2)*gradient^2\\\\adaptive\\_\\eta = \\frac{\\eta}{sqrt(accumulated)}\\\\w = w - adaptive\\_\\eta*velocity$$"
      ]
    },
    {
      "cell_type": "markdown",
      "metadata": {
        "id": "c37oeTvqlrgW"
      },
      "source": [
        "Т.е. все так же есть adaptive_learning_rate, но мы применяем его не к обычному градиенту, а к скорости, которая вычисляется как в momentum'е. "
      ]
    },
    {
      "cell_type": "markdown",
      "metadata": {
        "id": "D8_gfvmElrgX"
      },
      "source": [
        "Как реализовано в pytorch:"
      ]
    },
    {
      "cell_type": "code",
      "metadata": {
        "id": "xCbiOprClrgY"
      },
      "source": [
        "optimizer = torch.optim.Adam(net.parameters(), lr=0.1)"
      ],
      "execution_count": 25,
      "outputs": []
    },
    {
      "cell_type": "markdown",
      "metadata": {
        "id": "99hvXk0mlrgY"
      },
      "source": [
        "Adam - такой хороший современный выбор по дефолту. Если не знаете какой оптимизатор использовать - берите его!"
      ]
    },
    {
      "cell_type": "markdown",
      "source": [
        "# Домашнее задание\n",
        "\n",
        "Будем практиковаться на датасете недвижимости (sklearn.datasets.fetch_california_housing)\n",
        "\n",
        "Ваша задача:\n",
        "1. Создать Dataset для загрузки данных\n",
        "2. Обернуть его в Dataloader\n",
        "3. Написать архитектуру сети, которая предсказывает стоимость недвижимости. Сеть должна включать BatchNorm слои и Dropout (или НЕ включать, но нужно обосновать)\n",
        "4. Сравните сходимость Adam, RMSProp и SGD, сделайте вывод по качеству работы модели\n",
        "\n",
        "train-test разделение нужно сделать с помощью sklearn random_state=13, test_size = 0.25"
      ],
      "metadata": {
        "id": "_1kh-e0oXz7V"
      }
    },
    {
      "cell_type": "markdown",
      "source": [
        "## 1. Создать Dataset"
      ],
      "metadata": {
        "id": "57hAL52XfH8q"
      }
    },
    {
      "cell_type": "code",
      "source": [
        "import math\n",
        "import torch\n",
        "import torch.nn.functional as F\n",
        "from torchmetrics import R2Score\n",
        "# from torchvision import transforms, datasets\n",
        "import numpy as np"
      ],
      "metadata": {
        "id": "vHzQuJZcgA6u"
      },
      "execution_count": 5,
      "outputs": []
    },
    {
      "cell_type": "code",
      "source": [
        "from sklearn.datasets import fetch_california_housing\n",
        "from sklearn.model_selection import train_test_split\n",
        "from sklearn.preprocessing import normalize"
      ],
      "metadata": {
        "id": "0ZPdYF86gDN4"
      },
      "execution_count": 6,
      "outputs": []
    },
    {
      "cell_type": "code",
      "source": [
        "housing = fetch_california_housing(as_frame=False, return_X_y=False)"
      ],
      "metadata": {
        "id": "PpeDQNgng4Ay"
      },
      "execution_count": 7,
      "outputs": []
    },
    {
      "cell_type": "code",
      "source": [
        "df_X = housing['data']\n",
        "df_y = housing['target']"
      ],
      "metadata": {
        "id": "HRXMS2lYg9xF"
      },
      "execution_count": 8,
      "outputs": []
    },
    {
      "cell_type": "code",
      "source": [
        "df_X.shape, df_y.shape"
      ],
      "metadata": {
        "colab": {
          "base_uri": "https://localhost:8080/"
        },
        "id": "N3D-mvXQh4Zq",
        "outputId": "721d4468-9fb7-4621-b776-504b1152b5c3"
      },
      "execution_count": 9,
      "outputs": [
        {
          "output_type": "execute_result",
          "data": {
            "text/plain": [
              "((20640, 8), (20640,))"
            ]
          },
          "metadata": {},
          "execution_count": 9
        }
      ]
    },
    {
      "cell_type": "code",
      "source": [
        "df_X[:2]"
      ],
      "metadata": {
        "colab": {
          "base_uri": "https://localhost:8080/"
        },
        "id": "td8IVCQIh4cm",
        "outputId": "b0f716b5-daca-4721-f65f-e726bd61d287"
      },
      "execution_count": 10,
      "outputs": [
        {
          "output_type": "execute_result",
          "data": {
            "text/plain": [
              "array([[ 8.32520000e+00,  4.10000000e+01,  6.98412698e+00,\n",
              "         1.02380952e+00,  3.22000000e+02,  2.55555556e+00,\n",
              "         3.78800000e+01, -1.22230000e+02],\n",
              "       [ 8.30140000e+00,  2.10000000e+01,  6.23813708e+00,\n",
              "         9.71880492e-01,  2.40100000e+03,  2.10984183e+00,\n",
              "         3.78600000e+01, -1.22220000e+02]])"
            ]
          },
          "metadata": {},
          "execution_count": 10
        }
      ]
    },
    {
      "cell_type": "code",
      "source": [
        "df_y[:2]"
      ],
      "metadata": {
        "colab": {
          "base_uri": "https://localhost:8080/"
        },
        "id": "YrSqWfS0N9v2",
        "outputId": "5efc67c9-dda4-4676-88c5-896e1216e2e4"
      },
      "execution_count": 11,
      "outputs": [
        {
          "output_type": "execute_result",
          "data": {
            "text/plain": [
              "array([4.526, 3.585])"
            ]
          },
          "metadata": {},
          "execution_count": 11
        }
      ]
    },
    {
      "cell_type": "code",
      "source": [
        "train_X, test_X, train_y, test_y = train_test_split(df_X, df_y, \n",
        "                                                    random_state=13, \n",
        "                                                    test_size = 0.25, \n",
        "                                                    shuffle=True)"
      ],
      "metadata": {
        "id": "2jgYjyc7h-JW"
      },
      "execution_count": 103,
      "outputs": []
    },
    {
      "cell_type": "code",
      "source": [
        "train_X.shape, test_X.shape, train_y.shape, test_y.shape"
      ],
      "metadata": {
        "colab": {
          "base_uri": "https://localhost:8080/"
        },
        "id": "4ApxysmtkYTE",
        "outputId": "97e47806-1931-4f6f-e1e9-15664238ab9c"
      },
      "execution_count": 104,
      "outputs": [
        {
          "output_type": "execute_result",
          "data": {
            "text/plain": [
              "((15480, 8), (5160, 8), (15480,), (5160,))"
            ]
          },
          "metadata": {},
          "execution_count": 104
        }
      ]
    },
    {
      "cell_type": "code",
      "source": [
        "# np.expand_dims(train_y, axis=1).shape"
      ],
      "metadata": {
        "id": "WyMhYeZc_c8Z"
      },
      "execution_count": 14,
      "outputs": []
    },
    {
      "cell_type": "code",
      "execution_count": 105,
      "metadata": {
        "id": "Houlc1dgfg51"
      },
      "outputs": [],
      "source": [
        "class MyOwnHousing(torch.utils.data.Dataset):\n",
        "    def __init__(self, X, y, transform=None):\n",
        "        self.data = np.float32(normalize(X))\n",
        "        self.target = np.expand_dims(np.float32(y), axis=1)  # float32 need\n",
        "        self.transform = transform\n",
        "\n",
        "    def __len__(self):\n",
        "        return len(self.data)\n",
        "\n",
        "    def __getitem__(self, idx):\n",
        "        inputs, labels = self.data[idx], self.target[idx]\n",
        "\n",
        "        if self.transform is not None:\n",
        "            inputs = self.transform(input)\n",
        "        \n",
        "        return inputs, labels"
      ]
    },
    {
      "cell_type": "code",
      "source": [
        "train_dataset = MyOwnHousing(train_X, train_y)"
      ],
      "metadata": {
        "id": "1vDcOMayf2U3"
      },
      "execution_count": 106,
      "outputs": []
    },
    {
      "cell_type": "code",
      "source": [
        "test_dataset = MyOwnHousing(test_X, test_y)"
      ],
      "metadata": {
        "id": "dJUXNytIl5x6"
      },
      "execution_count": 107,
      "outputs": []
    },
    {
      "cell_type": "markdown",
      "source": [
        "## Обернуть его в Dataloader"
      ],
      "metadata": {
        "id": "ZLgOG_HJf3Ps"
      }
    },
    {
      "cell_type": "code",
      "source": [
        "train_loader = torch.utils.data.DataLoader(train_dataset,\n",
        "                                           batch_size=128,\n",
        "                                           shuffle=True,\n",
        "                                           num_workers=1)"
      ],
      "metadata": {
        "id": "lXrblh7Rf35o"
      },
      "execution_count": 110,
      "outputs": []
    },
    {
      "cell_type": "code",
      "source": [
        "test_loader = torch.utils.data.DataLoader(test_dataset,\n",
        "                                           batch_size=128,\n",
        "                                           shuffle=False,\n",
        "                                           num_workers=1)"
      ],
      "metadata": {
        "id": "WEum5XmjmvTt"
      },
      "execution_count": 111,
      "outputs": []
    },
    {
      "cell_type": "markdown",
      "source": [
        "## Написать сеть\n",
        "\n",
        "Написать архитектуру сети, которая предсказывает стоимость недвижимости. Сеть должна включать BatchNorm слои и Dropout (или НЕ включать, но нужно обосновать)"
      ],
      "metadata": {
        "id": "qLu8FF3gLUfO"
      }
    },
    {
      "cell_type": "code",
      "source": [
        "class Perceptron(torch.nn.Module):\n",
        "    def __init__(self, input_dim, output_dim, activation=None):\n",
        "        super(Perceptron, self).__init__()  \n",
        "\n",
        "        self.fc = torch.nn.Linear(input_dim, output_dim)\n",
        "        self.activation = activation\n",
        "        \n",
        "    def forward(self, x):\n",
        "        x = self.fc(x)\n",
        "        if self.activation == None:\n",
        "            return x\n",
        "        if self.activation == \"relu\":\n",
        "            return F.relu(x)\n",
        "        if self.activation == \"leaky_relu\":\n",
        "            return F.leaky_relu(x)\n",
        "        if self.activation == \"sigmoid\":\n",
        "            return F.sigmoid(x)\n",
        "        if self.activation == \"softmax\":\n",
        "            return F.softmax(x)\n",
        "        raise RuntimeError"
      ],
      "metadata": {
        "id": "Nacf6K9nLYLA"
      },
      "execution_count": 115,
      "outputs": []
    },
    {
      "cell_type": "code",
      "source": [
        "class Net(torch.nn.Module):\n",
        "    def __init__(self, input_dim, hidden_dim, output_dim):\n",
        "        super(Net, self).__init__()\n",
        "\n",
        "        self.fc1 = Perceptron(input_dim, hidden_dim, 'leaky_relu')\n",
        "        # self.bn = torch.nn.BatchNorm1d(hidden_dim)\n",
        "        self.do = torch.nn.Dropout(p=0.1)\n",
        "        self.fc2 = Perceptron(hidden_dim, hidden_dim, 'leaky_relu')\n",
        "        self.bn = torch.nn.BatchNorm1d(hidden_dim)\n",
        "        self.fc3 = Perceptron(hidden_dim, output_dim)\n",
        "    \n",
        "    def forward(self, x):\n",
        "        x = self.fc1(x)\n",
        "        x = self.do(x)\n",
        "        x = self.fc2(x)\n",
        "        x = self.bn(x)\n",
        "        x = self.fc3(x) # logits out w/o activation\n",
        "        return x"
      ],
      "metadata": {
        "id": "hwCPKnX5LY9S"
      },
      "execution_count": 137,
      "outputs": []
    },
    {
      "cell_type": "code",
      "source": [
        "net = Net(8, 16, 1)\n",
        "\n",
        "optimizer = torch.optim.Adam(net.parameters(), lr=0.001)\n",
        "criterion = torch.nn.MSELoss()"
      ],
      "metadata": {
        "id": "ECTiiBvBLY_4"
      },
      "execution_count": 141,
      "outputs": []
    },
    {
      "cell_type": "markdown",
      "source": [
        "## Сравнить оптимизаторы\n",
        "\n",
        "Сравните сходимость Adam, RMSProp и SGD, сделайте вывод по качеству работы модели"
      ],
      "metadata": {
        "id": "T1B2R2sP7Bb1"
      }
    },
    {
      "cell_type": "code",
      "source": [
        "def net_fit(net, \n",
        "            num_epochs=15, \n",
        "            optimizer=torch.optim.Adam(net.parameters(), lr=0.001),\n",
        "            criterion=torch.nn.MSELoss()):\n",
        "    # num_epochs = 15\n",
        "\n",
        "    for epoch in range(num_epochs):  \n",
        "        running_loss, running_items, running_right, r2 = 0.0, 0.0, 0.0, 0.0\n",
        "        count = 0\n",
        "        for i, data in enumerate(train_loader):\n",
        "            inputs, labels = data[0], data[1]\n",
        "\n",
        "            # обнуляем градиент\n",
        "            optimizer.zero_grad()\n",
        "\n",
        "            outputs = net(inputs)\n",
        "            loss = criterion(outputs, labels)\n",
        "            loss.backward()\n",
        "            optimizer.step()\n",
        "\n",
        "            # выводим статистику о процессе обучения\n",
        "            count += 1\n",
        "            running_loss += loss.item()\n",
        "            running_items += len(labels)\n",
        "            running_right += (1 - loss.item() / torch.pow((labels - labels.mean()), 2).mean()) # r2\n",
        "            # r2 += r2score(outputs, labels)\n",
        "            \n",
        "            # выводим статистику о процессе обучения\n",
        "            if i % 62 == 0:    # печатаем каждые 150 mini-batches\n",
        "                net.eval()\n",
        "                \n",
        "                print(f'Epoch [{epoch + 1}/{num_epochs}]. ' \\\n",
        "                      f'Step [{i + 1}/{len(train_loader)}]. ' \\\n",
        "                      f'Loss: {running_loss / running_items:.4f}. ' \\\n",
        "                      f'R2: {running_right / count:.3f}', end='.   ')\n",
        "                      # f'R2: {r2 / count:.3f} ' )\n",
        "                running_loss, running_items, running_right, r2 = 0.0, 0.0, 0.0, 0.0\n",
        "\n",
        "                test_running_right, test_running_total, test_r2 = 0.0, 0.0, 0.0\n",
        "                test_running_loss = 0.0\n",
        "                for tests in test_loader:\n",
        "                    inp, lbl = tests[0], tests[1]\n",
        "                    test_outputs = net(inp)\n",
        "                    test_loss = criterion(test_outputs, lbl)\n",
        "                    test_running_loss += test_loss.item()\n",
        "                    test_running_total += len(lbl)\n",
        "                    test_running_right += (1 - test_loss.item() / torch.pow((lbl - lbl.mean()), 2).mean())\n",
        "                    # test_r2 += r2score(test_outputs, lbl)\n",
        "\n",
        "                print(f'Test R2: {test_running_right / len(test_loader):.3f}. ', end=' ')\n",
        "                print(f'Test_loss: {test_running_loss / test_running_total:.3f}')\n",
        "                      # f'Test R2: {test_r2 / test_count:.3f}.')\n",
        "                count = 0\n",
        "                net.train()\n",
        "            \n",
        "    print('Training is finished!')\n",
        "\n",
        "    return net"
      ],
      "metadata": {
        "id": "e2MRw1o67ga4"
      },
      "execution_count": 158,
      "outputs": []
    },
    {
      "cell_type": "code",
      "source": [
        "net = Net(8, 32, 1)\n",
        "optimizer = torch.optim.Adam(net.parameters(), lr=0.1)\n",
        "criterion = torch.nn.MSELoss()\n",
        "\n",
        "net = net_fit(net, optimizer=optimizer, criterion=criterion)"
      ],
      "metadata": {
        "colab": {
          "base_uri": "https://localhost:8080/"
        },
        "id": "HP1PH0jJUqKb",
        "outputId": "55bbadbb-8cbd-4976-ee00-05a883686205"
      },
      "execution_count": 166,
      "outputs": [
        {
          "output_type": "stream",
          "name": "stdout",
          "text": [
            "Epoch [1/15]. Step [1/121]. Loss: 0.0416. R2: -3.103.   Test R2: -2.286.  Test_loss: 0.035\n",
            "Epoch [1/15]. Step [63/121]. Loss: 0.0123. R2: -0.215.   Test R2: -0.014.  Test_loss: 0.011\n",
            "Epoch [2/15]. Step [1/121]. Loss: 0.0103. R2: -0.001.   Test R2: -0.015.  Test_loss: 0.011\n",
            "Epoch [2/15]. Step [63/121]. Loss: 0.0105. R2: -0.013.   Test R2: -0.014.  Test_loss: 0.011\n",
            "Epoch [3/15]. Step [1/121]. Loss: 0.0109. R2: 0.012.   Test R2: -0.013.  Test_loss: 0.011\n",
            "Epoch [3/15]. Step [63/121]. Loss: 0.0102. R2: -0.011.   Test R2: -0.003.  Test_loss: 0.011\n",
            "Epoch [4/15]. Step [1/121]. Loss: 0.0081. R2: 0.043.   Test R2: -0.047.  Test_loss: 0.011\n",
            "Epoch [4/15]. Step [63/121]. Loss: 0.0105. R2: -0.009.   Test R2: -1.065.  Test_loss: 0.022\n",
            "Epoch [5/15]. Step [1/121]. Loss: 0.0092. R2: 0.179.   Test R2: -0.525.  Test_loss: 0.016\n",
            "Epoch [5/15]. Step [63/121]. Loss: 0.0083. R2: 0.164.   Test R2: 0.158.  Test_loss: 0.009\n",
            "Epoch [6/15]. Step [1/121]. Loss: 0.0061. R2: 0.437.   Test R2: 0.302.  Test_loss: 0.007\n",
            "Epoch [6/15]. Step [63/121]. Loss: 0.0076. R2: 0.282.   Test R2: 0.178.  Test_loss: 0.009\n",
            "Epoch [7/15]. Step [1/121]. Loss: 0.0048. R2: 0.476.   Test R2: 0.477.  Test_loss: 0.006\n",
            "Epoch [7/15]. Step [63/121]. Loss: 0.0059. R2: 0.413.   Test R2: 0.537.  Test_loss: 0.005\n",
            "Epoch [8/15]. Step [1/121]. Loss: 0.0084. R2: 0.130.   Test R2: 0.120.  Test_loss: 0.009\n",
            "Epoch [8/15]. Step [63/121]. Loss: 0.0067. R2: 0.337.   Test R2: 0.485.  Test_loss: 0.005\n",
            "Epoch [9/15]. Step [1/121]. Loss: 0.0054. R2: 0.508.   Test R2: 0.474.  Test_loss: 0.005\n",
            "Epoch [9/15]. Step [63/121]. Loss: 0.0062. R2: 0.387.   Test R2: 0.450.  Test_loss: 0.006\n",
            "Epoch [10/15]. Step [1/121]. Loss: 0.0067. R2: 0.315.   Test R2: 0.290.  Test_loss: 0.008\n",
            "Epoch [10/15]. Step [63/121]. Loss: 0.0067. R2: 0.323.   Test R2: 0.325.  Test_loss: 0.007\n",
            "Epoch [11/15]. Step [1/121]. Loss: 0.0042. R2: 0.594.   Test R2: 0.531.  Test_loss: 0.005\n",
            "Epoch [11/15]. Step [63/121]. Loss: 0.0057. R2: 0.427.   Test R2: 0.402.  Test_loss: 0.006\n",
            "Epoch [12/15]. Step [1/121]. Loss: 0.0068. R2: 0.343.   Test R2: 0.549.  Test_loss: 0.005\n",
            "Epoch [12/15]. Step [63/121]. Loss: 0.0061. R2: 0.400.   Test R2: 0.493.  Test_loss: 0.005\n",
            "Epoch [13/15]. Step [1/121]. Loss: 0.0042. R2: 0.522.   Test R2: 0.510.  Test_loss: 0.005\n",
            "Epoch [13/15]. Step [63/121]. Loss: 0.0057. R2: 0.436.   Test R2: 0.556.  Test_loss: 0.005\n",
            "Epoch [14/15]. Step [1/121]. Loss: 0.0072. R2: 0.351.   Test R2: 0.491.  Test_loss: 0.005\n",
            "Epoch [14/15]. Step [63/121]. Loss: 0.0056. R2: 0.436.   Test R2: 0.562.  Test_loss: 0.005\n",
            "Epoch [15/15]. Step [1/121]. Loss: 0.0054. R2: 0.502.   Test R2: 0.382.  Test_loss: 0.006\n",
            "Epoch [15/15]. Step [63/121]. Loss: 0.0061. R2: 0.410.   Test R2: 0.547.  Test_loss: 0.005\n",
            "Training is finished!\n"
          ]
        }
      ]
    },
    {
      "cell_type": "code",
      "source": [
        "net = Net(8, 32, 1)\n",
        "optimizer = torch.optim.SGD(net.parameters(), lr=0.1)\n",
        "criterion = torch.nn.MSELoss()\n",
        "\n",
        "net = net_fit(net, optimizer=optimizer, criterion=criterion)"
      ],
      "metadata": {
        "colab": {
          "base_uri": "https://localhost:8080/"
        },
        "id": "WlFgvwrvXGBO",
        "outputId": "a9a111a8-01b2-4120-b883-7c5589206cfe"
      },
      "execution_count": 171,
      "outputs": [
        {
          "output_type": "stream",
          "name": "stdout",
          "text": [
            "Epoch [1/15]. Step [1/121]. Loss: 0.0548. R2: -3.778.   Test R2: -1.618.  Test_loss: 0.028\n",
            "Epoch [1/15]. Step [63/121]. Loss: 0.0113. R2: -0.122.   Test R2: -0.018.  Test_loss: 0.011\n",
            "Epoch [2/15]. Step [1/121]. Loss: 0.0113. R2: -0.025.   Test R2: -0.020.  Test_loss: 0.011\n",
            "Epoch [2/15]. Step [63/121]. Loss: 0.0105. R2: -0.027.   Test R2: -0.014.  Test_loss: 0.011\n",
            "Epoch [3/15]. Step [1/121]. Loss: 0.0121. R2: -0.051.   Test R2: -0.011.  Test_loss: 0.011\n",
            "Epoch [3/15]. Step [63/121]. Loss: 0.0107. R2: -0.025.   Test R2: -0.031.  Test_loss: 0.011\n",
            "Epoch [4/15]. Step [1/121]. Loss: 0.0114. R2: 0.015.   Test R2: -0.029.  Test_loss: 0.011\n",
            "Epoch [4/15]. Step [63/121]. Loss: 0.0105. R2: -0.020.   Test R2: -0.010.  Test_loss: 0.011\n",
            "Epoch [5/15]. Step [1/121]. Loss: 0.0118. R2: -0.025.   Test R2: -0.011.  Test_loss: 0.011\n",
            "Epoch [5/15]. Step [63/121]. Loss: 0.0104. R2: -0.017.   Test R2: -0.014.  Test_loss: 0.011\n",
            "Epoch [6/15]. Step [1/121]. Loss: 0.0112. R2: -0.030.   Test R2: -0.012.  Test_loss: 0.011\n",
            "Epoch [6/15]. Step [63/121]. Loss: 0.0103. R2: -0.014.   Test R2: -0.008.  Test_loss: 0.011\n",
            "Epoch [7/15]. Step [1/121]. Loss: 0.0112. R2: -0.027.   Test R2: -0.013.  Test_loss: 0.011\n",
            "Epoch [7/15]. Step [63/121]. Loss: 0.0106. R2: -0.017.   Test R2: -0.008.  Test_loss: 0.011\n",
            "Epoch [8/15]. Step [1/121]. Loss: 0.0124. R2: -0.005.   Test R2: -0.052.  Test_loss: 0.011\n",
            "Epoch [8/15]. Step [63/121]. Loss: 0.0104. R2: -0.020.   Test R2: -0.001.  Test_loss: 0.011\n",
            "Epoch [9/15]. Step [1/121]. Loss: 0.0098. R2: -0.032.   Test R2: -0.012.  Test_loss: 0.011\n",
            "Epoch [9/15]. Step [63/121]. Loss: 0.0104. R2: -0.018.   Test R2: -0.013.  Test_loss: 0.011\n",
            "Epoch [10/15]. Step [1/121]. Loss: 0.0115. R2: -0.005.   Test R2: -0.011.  Test_loss: 0.011\n",
            "Epoch [10/15]. Step [63/121]. Loss: 0.0104. R2: -0.013.   Test R2: -0.019.  Test_loss: 0.011\n",
            "Epoch [11/15]. Step [1/121]. Loss: 0.0111. R2: 0.017.   Test R2: -0.012.  Test_loss: 0.011\n",
            "Epoch [11/15]. Step [63/121]. Loss: 0.0106. R2: -0.015.   Test R2: -0.020.  Test_loss: 0.011\n",
            "Epoch [12/15]. Step [1/121]. Loss: 0.0086. R2: -0.013.   Test R2: -0.014.  Test_loss: 0.011\n",
            "Epoch [12/15]. Step [63/121]. Loss: 0.0107. R2: -0.017.   Test R2: -0.138.  Test_loss: 0.012\n",
            "Epoch [13/15]. Step [1/121]. Loss: 0.0093. R2: -0.020.   Test R2: -0.009.  Test_loss: 0.011\n",
            "Epoch [13/15]. Step [63/121]. Loss: 0.0105. R2: -0.015.   Test R2: -0.013.  Test_loss: 0.011\n",
            "Epoch [14/15]. Step [1/121]. Loss: 0.0090. R2: 0.004.   Test R2: -0.018.  Test_loss: 0.011\n",
            "Epoch [14/15]. Step [63/121]. Loss: 0.0106. R2: -0.014.   Test R2: -0.019.  Test_loss: 0.011\n",
            "Epoch [15/15]. Step [1/121]. Loss: 0.0126. R2: -0.047.   Test R2: -0.022.  Test_loss: 0.011\n",
            "Epoch [15/15]. Step [63/121]. Loss: 0.0102. R2: -0.011.   Test R2: -0.016.  Test_loss: 0.011\n",
            "Training is finished!\n"
          ]
        }
      ]
    },
    {
      "cell_type": "code",
      "source": [
        "net = Net(8, 32, 1)\n",
        "optimizer = torch.optim.RMSprop(net.parameters(), lr=0.01)\n",
        "criterion = torch.nn.MSELoss()\n",
        "\n",
        "net = net_fit(net, optimizer=optimizer, criterion=criterion)"
      ],
      "metadata": {
        "colab": {
          "base_uri": "https://localhost:8080/"
        },
        "id": "9obw0JSxXdWc",
        "outputId": "2012f9e3-0397-44cd-d556-bc9ae9f2367d"
      },
      "execution_count": 173,
      "outputs": [
        {
          "output_type": "stream",
          "name": "stdout",
          "text": [
            "Epoch [1/15]. Step [1/121]. Loss: 0.0393. R2: -3.486.   Test R2: -2.233.  Test_loss: 0.034\n",
            "Epoch [1/15]. Step [63/121]. Loss: 0.0117. R2: -0.134.   Test R2: -0.046.  Test_loss: 0.011\n",
            "Epoch [2/15]. Step [1/121]. Loss: 0.0112. R2: 0.034.   Test R2: -0.112.  Test_loss: 0.012\n",
            "Epoch [2/15]. Step [63/121]. Loss: 0.0101. R2: 0.035.   Test R2: 0.042.  Test_loss: 0.010\n",
            "Epoch [3/15]. Step [1/121]. Loss: 0.0111. R2: -0.066.   Test R2: -0.051.  Test_loss: 0.011\n",
            "Epoch [3/15]. Step [63/121]. Loss: 0.0090. R2: 0.110.   Test R2: 0.001.  Test_loss: 0.011\n",
            "Epoch [4/15]. Step [1/121]. Loss: 0.0067. R2: 0.137.   Test R2: 0.180.  Test_loss: 0.009\n",
            "Epoch [4/15]. Step [63/121]. Loss: 0.0085. R2: 0.182.   Test R2: -0.803.  Test_loss: 0.019\n",
            "Epoch [5/15]. Step [1/121]. Loss: 0.0079. R2: 0.282.   Test R2: 0.105.  Test_loss: 0.010\n",
            "Epoch [5/15]. Step [63/121]. Loss: 0.0091. R2: 0.114.   Test R2: 0.144.  Test_loss: 0.009\n",
            "Epoch [6/15]. Step [1/121]. Loss: 0.0093. R2: 0.009.   Test R2: -0.533.  Test_loss: 0.016\n",
            "Epoch [6/15]. Step [63/121]. Loss: 0.0099. R2: 0.033.   Test R2: -0.057.  Test_loss: 0.011\n",
            "Epoch [7/15]. Step [1/121]. Loss: 0.0089. R2: 0.093.   Test R2: -0.128.  Test_loss: 0.012\n",
            "Epoch [7/15]. Step [63/121]. Loss: 0.0097. R2: 0.047.   Test R2: -0.431.  Test_loss: 0.015\n",
            "Epoch [8/15]. Step [1/121]. Loss: 0.0071. R2: 0.343.   Test R2: -0.238.  Test_loss: 0.013\n",
            "Epoch [8/15]. Step [63/121]. Loss: 0.0084. R2: 0.179.   Test R2: -35.104.  Test_loss: 0.374\n",
            "Epoch [9/15]. Step [1/121]. Loss: 0.0083. R2: 0.168.   Test R2: 0.210.  Test_loss: 0.008\n",
            "Epoch [9/15]. Step [63/121]. Loss: 0.0078. R2: 0.233.   Test R2: 0.232.  Test_loss: 0.008\n",
            "Epoch [10/15]. Step [1/121]. Loss: 0.0065. R2: 0.387.   Test R2: 0.316.  Test_loss: 0.007\n",
            "Epoch [10/15]. Step [63/121]. Loss: 0.0074. R2: 0.260.   Test R2: 0.310.  Test_loss: 0.007\n",
            "Epoch [11/15]. Step [1/121]. Loss: 0.0070. R2: 0.273.   Test R2: 0.314.  Test_loss: 0.007\n",
            "Epoch [11/15]. Step [63/121]. Loss: 0.0078. R2: 0.249.   Test R2: -1.440.  Test_loss: 0.026\n",
            "Epoch [12/15]. Step [1/121]. Loss: 0.0085. R2: 0.322.   Test R2: 0.329.  Test_loss: 0.007\n",
            "Epoch [12/15]. Step [63/121]. Loss: 0.0075. R2: 0.276.   Test R2: -0.351.  Test_loss: 0.014\n",
            "Epoch [13/15]. Step [1/121]. Loss: 0.0069. R2: 0.325.   Test R2: 0.280.  Test_loss: 0.008\n",
            "Epoch [13/15]. Step [63/121]. Loss: 0.0073. R2: 0.284.   Test R2: 0.275.  Test_loss: 0.008\n",
            "Epoch [14/15]. Step [1/121]. Loss: 0.0116. R2: -0.121.   Test R2: 0.147.  Test_loss: 0.009\n",
            "Epoch [14/15]. Step [63/121]. Loss: 0.0072. R2: 0.313.   Test R2: -0.027.  Test_loss: 0.011\n",
            "Epoch [15/15]. Step [1/121]. Loss: 0.0058. R2: 0.463.   Test R2: 0.335.  Test_loss: 0.007\n",
            "Epoch [15/15]. Step [63/121]. Loss: 0.0072. R2: 0.295.   Test R2: 0.214.  Test_loss: 0.008\n",
            "Training is finished!\n"
          ]
        }
      ]
    },
    {
      "cell_type": "markdown",
      "source": [
        "## Вывод\n",
        "Ожидаемо Adam показал лучший результат. SGD так и не нашел минимум. RMSProp получше, но не стабильно."
      ],
      "metadata": {
        "id": "-CmjJtqAYgM2"
      }
    },
    {
      "cell_type": "code",
      "source": [
        ""
      ],
      "metadata": {
        "id": "5Ec-AtYbY00I"
      },
      "execution_count": null,
      "outputs": []
    }
  ],
  "metadata": {
    "kernelspec": {
      "display_name": "Python 3",
      "language": "python",
      "name": "python3"
    },
    "language_info": {
      "codemirror_mode": {
        "name": "ipython",
        "version": 3
      },
      "file_extension": ".py",
      "mimetype": "text/x-python",
      "name": "python",
      "nbconvert_exporter": "python",
      "pygments_lexer": "ipython3",
      "version": "3.7.4"
    },
    "colab": {
      "name": "PyTorch Lesson_3.ipynb",
      "provenance": [],
      "collapsed_sections": [],
      "toc_visible": true
    },
    "widgets": {
      "application/vnd.jupyter.widget-state+json": {
        "208dfe63c73a4d10928ca7b9db7ad16a": {
          "model_module": "@jupyter-widgets/controls",
          "model_name": "HBoxModel",
          "model_module_version": "1.5.0",
          "state": {
            "_dom_classes": [],
            "_model_module": "@jupyter-widgets/controls",
            "_model_module_version": "1.5.0",
            "_model_name": "HBoxModel",
            "_view_count": null,
            "_view_module": "@jupyter-widgets/controls",
            "_view_module_version": "1.5.0",
            "_view_name": "HBoxView",
            "box_style": "",
            "children": [
              "IPY_MODEL_f5b3933b40b040809d4c52084d52dea5",
              "IPY_MODEL_bb5e80a3fe79436285fbac83e61b4aeb",
              "IPY_MODEL_6e511d70d98244b9b56aa29288267e20"
            ],
            "layout": "IPY_MODEL_893e2f7eca3a4285bd2b6bf9cd4abed0"
          }
        },
        "f5b3933b40b040809d4c52084d52dea5": {
          "model_module": "@jupyter-widgets/controls",
          "model_name": "HTMLModel",
          "model_module_version": "1.5.0",
          "state": {
            "_dom_classes": [],
            "_model_module": "@jupyter-widgets/controls",
            "_model_module_version": "1.5.0",
            "_model_name": "HTMLModel",
            "_view_count": null,
            "_view_module": "@jupyter-widgets/controls",
            "_view_module_version": "1.5.0",
            "_view_name": "HTMLView",
            "description": "",
            "description_tooltip": null,
            "layout": "IPY_MODEL_3b58dcdd5627410db0bea36c55cf737a",
            "placeholder": "​",
            "style": "IPY_MODEL_5010a96981f14192bafd53b688a510dd",
            "value": "100%"
          }
        },
        "bb5e80a3fe79436285fbac83e61b4aeb": {
          "model_module": "@jupyter-widgets/controls",
          "model_name": "FloatProgressModel",
          "model_module_version": "1.5.0",
          "state": {
            "_dom_classes": [],
            "_model_module": "@jupyter-widgets/controls",
            "_model_module_version": "1.5.0",
            "_model_name": "FloatProgressModel",
            "_view_count": null,
            "_view_module": "@jupyter-widgets/controls",
            "_view_module_version": "1.5.0",
            "_view_name": "ProgressView",
            "bar_style": "success",
            "description": "",
            "description_tooltip": null,
            "layout": "IPY_MODEL_4196601eb90747efb6d7e7b0fcaa821a",
            "max": 170498071,
            "min": 0,
            "orientation": "horizontal",
            "style": "IPY_MODEL_b5e054ed319b46c4950a00677a860a0e",
            "value": 170498071
          }
        },
        "6e511d70d98244b9b56aa29288267e20": {
          "model_module": "@jupyter-widgets/controls",
          "model_name": "HTMLModel",
          "model_module_version": "1.5.0",
          "state": {
            "_dom_classes": [],
            "_model_module": "@jupyter-widgets/controls",
            "_model_module_version": "1.5.0",
            "_model_name": "HTMLModel",
            "_view_count": null,
            "_view_module": "@jupyter-widgets/controls",
            "_view_module_version": "1.5.0",
            "_view_name": "HTMLView",
            "description": "",
            "description_tooltip": null,
            "layout": "IPY_MODEL_9c1e7cea18734ad0a14d7abc7a704c5c",
            "placeholder": "​",
            "style": "IPY_MODEL_12828e401eb149b5b124112397859bd3",
            "value": " 170498071/170498071 [00:04&lt;00:00, 60054706.46it/s]"
          }
        },
        "893e2f7eca3a4285bd2b6bf9cd4abed0": {
          "model_module": "@jupyter-widgets/base",
          "model_name": "LayoutModel",
          "model_module_version": "1.2.0",
          "state": {
            "_model_module": "@jupyter-widgets/base",
            "_model_module_version": "1.2.0",
            "_model_name": "LayoutModel",
            "_view_count": null,
            "_view_module": "@jupyter-widgets/base",
            "_view_module_version": "1.2.0",
            "_view_name": "LayoutView",
            "align_content": null,
            "align_items": null,
            "align_self": null,
            "border": null,
            "bottom": null,
            "display": null,
            "flex": null,
            "flex_flow": null,
            "grid_area": null,
            "grid_auto_columns": null,
            "grid_auto_flow": null,
            "grid_auto_rows": null,
            "grid_column": null,
            "grid_gap": null,
            "grid_row": null,
            "grid_template_areas": null,
            "grid_template_columns": null,
            "grid_template_rows": null,
            "height": null,
            "justify_content": null,
            "justify_items": null,
            "left": null,
            "margin": null,
            "max_height": null,
            "max_width": null,
            "min_height": null,
            "min_width": null,
            "object_fit": null,
            "object_position": null,
            "order": null,
            "overflow": null,
            "overflow_x": null,
            "overflow_y": null,
            "padding": null,
            "right": null,
            "top": null,
            "visibility": null,
            "width": null
          }
        },
        "3b58dcdd5627410db0bea36c55cf737a": {
          "model_module": "@jupyter-widgets/base",
          "model_name": "LayoutModel",
          "model_module_version": "1.2.0",
          "state": {
            "_model_module": "@jupyter-widgets/base",
            "_model_module_version": "1.2.0",
            "_model_name": "LayoutModel",
            "_view_count": null,
            "_view_module": "@jupyter-widgets/base",
            "_view_module_version": "1.2.0",
            "_view_name": "LayoutView",
            "align_content": null,
            "align_items": null,
            "align_self": null,
            "border": null,
            "bottom": null,
            "display": null,
            "flex": null,
            "flex_flow": null,
            "grid_area": null,
            "grid_auto_columns": null,
            "grid_auto_flow": null,
            "grid_auto_rows": null,
            "grid_column": null,
            "grid_gap": null,
            "grid_row": null,
            "grid_template_areas": null,
            "grid_template_columns": null,
            "grid_template_rows": null,
            "height": null,
            "justify_content": null,
            "justify_items": null,
            "left": null,
            "margin": null,
            "max_height": null,
            "max_width": null,
            "min_height": null,
            "min_width": null,
            "object_fit": null,
            "object_position": null,
            "order": null,
            "overflow": null,
            "overflow_x": null,
            "overflow_y": null,
            "padding": null,
            "right": null,
            "top": null,
            "visibility": null,
            "width": null
          }
        },
        "5010a96981f14192bafd53b688a510dd": {
          "model_module": "@jupyter-widgets/controls",
          "model_name": "DescriptionStyleModel",
          "model_module_version": "1.5.0",
          "state": {
            "_model_module": "@jupyter-widgets/controls",
            "_model_module_version": "1.5.0",
            "_model_name": "DescriptionStyleModel",
            "_view_count": null,
            "_view_module": "@jupyter-widgets/base",
            "_view_module_version": "1.2.0",
            "_view_name": "StyleView",
            "description_width": ""
          }
        },
        "4196601eb90747efb6d7e7b0fcaa821a": {
          "model_module": "@jupyter-widgets/base",
          "model_name": "LayoutModel",
          "model_module_version": "1.2.0",
          "state": {
            "_model_module": "@jupyter-widgets/base",
            "_model_module_version": "1.2.0",
            "_model_name": "LayoutModel",
            "_view_count": null,
            "_view_module": "@jupyter-widgets/base",
            "_view_module_version": "1.2.0",
            "_view_name": "LayoutView",
            "align_content": null,
            "align_items": null,
            "align_self": null,
            "border": null,
            "bottom": null,
            "display": null,
            "flex": null,
            "flex_flow": null,
            "grid_area": null,
            "grid_auto_columns": null,
            "grid_auto_flow": null,
            "grid_auto_rows": null,
            "grid_column": null,
            "grid_gap": null,
            "grid_row": null,
            "grid_template_areas": null,
            "grid_template_columns": null,
            "grid_template_rows": null,
            "height": null,
            "justify_content": null,
            "justify_items": null,
            "left": null,
            "margin": null,
            "max_height": null,
            "max_width": null,
            "min_height": null,
            "min_width": null,
            "object_fit": null,
            "object_position": null,
            "order": null,
            "overflow": null,
            "overflow_x": null,
            "overflow_y": null,
            "padding": null,
            "right": null,
            "top": null,
            "visibility": null,
            "width": null
          }
        },
        "b5e054ed319b46c4950a00677a860a0e": {
          "model_module": "@jupyter-widgets/controls",
          "model_name": "ProgressStyleModel",
          "model_module_version": "1.5.0",
          "state": {
            "_model_module": "@jupyter-widgets/controls",
            "_model_module_version": "1.5.0",
            "_model_name": "ProgressStyleModel",
            "_view_count": null,
            "_view_module": "@jupyter-widgets/base",
            "_view_module_version": "1.2.0",
            "_view_name": "StyleView",
            "bar_color": null,
            "description_width": ""
          }
        },
        "9c1e7cea18734ad0a14d7abc7a704c5c": {
          "model_module": "@jupyter-widgets/base",
          "model_name": "LayoutModel",
          "model_module_version": "1.2.0",
          "state": {
            "_model_module": "@jupyter-widgets/base",
            "_model_module_version": "1.2.0",
            "_model_name": "LayoutModel",
            "_view_count": null,
            "_view_module": "@jupyter-widgets/base",
            "_view_module_version": "1.2.0",
            "_view_name": "LayoutView",
            "align_content": null,
            "align_items": null,
            "align_self": null,
            "border": null,
            "bottom": null,
            "display": null,
            "flex": null,
            "flex_flow": null,
            "grid_area": null,
            "grid_auto_columns": null,
            "grid_auto_flow": null,
            "grid_auto_rows": null,
            "grid_column": null,
            "grid_gap": null,
            "grid_row": null,
            "grid_template_areas": null,
            "grid_template_columns": null,
            "grid_template_rows": null,
            "height": null,
            "justify_content": null,
            "justify_items": null,
            "left": null,
            "margin": null,
            "max_height": null,
            "max_width": null,
            "min_height": null,
            "min_width": null,
            "object_fit": null,
            "object_position": null,
            "order": null,
            "overflow": null,
            "overflow_x": null,
            "overflow_y": null,
            "padding": null,
            "right": null,
            "top": null,
            "visibility": null,
            "width": null
          }
        },
        "12828e401eb149b5b124112397859bd3": {
          "model_module": "@jupyter-widgets/controls",
          "model_name": "DescriptionStyleModel",
          "model_module_version": "1.5.0",
          "state": {
            "_model_module": "@jupyter-widgets/controls",
            "_model_module_version": "1.5.0",
            "_model_name": "DescriptionStyleModel",
            "_view_count": null,
            "_view_module": "@jupyter-widgets/base",
            "_view_module_version": "1.2.0",
            "_view_name": "StyleView",
            "description_width": ""
          }
        }
      }
    },
    "accelerator": "GPU",
    "gpuClass": "standard"
  },
  "nbformat": 4,
  "nbformat_minor": 0
}