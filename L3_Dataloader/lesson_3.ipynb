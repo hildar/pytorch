{
  "cells": [
    {
      "cell_type": "markdown",
      "metadata": {
        "id": "8aP3VqmLJ8jK"
      },
      "source": [
        "# Dataset, Dataloader, BatchNorm, Dropout, Оптимизация\n",
        "\n",
        "Сегодня у нас довольно объемная программа, она призвана закончить большую часть про базовую функциональность Pytorch, дальше мы двинемся к сверточным сетям и будем решать более прикладные задачи"
      ]
    },
    {
      "cell_type": "markdown",
      "metadata": {
        "id": "Fs3wLJ9eJ8jX"
      },
      "source": [
        "Для удобства в PyTorch предоставляется ряд утилит для загрузки датасетов, их предварительной обработки и взаимодействия с ними. Эти вспомогательные классы находятся в модуле torch.utils.data module. Здесь следует обратить внимание на:\n",
        "\n",
        "- Dataset,\n",
        "- DataLoader, отвечающий за загрузку датасета.\n",
        "\n",
        "Для создания новых датасетов наследуется класс torch.utils.data.Dataset и переопределяется метод __len__, так, чтобы он возвращал количество образцов в датасете, а также метод __getitem__ для доступа к единичному значению по конкретному индексу. Например, так выглядит простой датасет, в котором инкапсулирован диапазон целых чисел:"
      ]
    },
    {
      "cell_type": "markdown",
      "source": [
        "## Dataset"
      ],
      "metadata": {
        "id": "nfi6haSYP6FC"
      }
    },
    {
      "cell_type": "code",
      "execution_count": 2,
      "metadata": {
        "id": "kQofXN2GJ8je"
      },
      "outputs": [],
      "source": [
        "import math\n",
        "import torch\n",
        "import numpy as np\n",
        "\n",
        "class RangeDataset(torch.utils.data.Dataset):\n",
        "    def __init__(self, start, end, step=1):\n",
        "        self.start = start\n",
        "        self.end = end\n",
        "        self.step = step\n",
        "\n",
        "    def __len__(self):\n",
        "        return math.ceil((self.end - self.start) / self.step)\n",
        "\n",
        "    def __getitem__(self, index):\n",
        "        value = self.start + index * self.step\n",
        "        return np.array([value, value])"
      ]
    },
    {
      "cell_type": "markdown",
      "source": [
        "## Dataloader"
      ],
      "metadata": {
        "id": "I3sWdNW8P_GX"
      }
    },
    {
      "cell_type": "markdown",
      "metadata": {
        "id": "yNH4sm1OJ8jl"
      },
      "source": [
        "Объект DataLoader принимает датасет и ряд опций, конфигурирующих процедуру извлечения образца. Например, можно параллельно загружать образцы, задействовав множество процессов. Для этого конструктор DataLoader принимает аргумент num_workers. Обратите внимание: DataLoader всегда возвращает батчи, размер которых задается в параметре batch_size"
      ]
    },
    {
      "cell_type": "code",
      "execution_count": 3,
      "metadata": {
        "colab": {
          "base_uri": "https://localhost:8080/"
        },
        "id": "z96CBEaRJ8jo",
        "outputId": "55d7fa2b-bd3f-46a7-fc80-2a73398a08a5"
      },
      "outputs": [
        {
          "output_type": "stream",
          "name": "stdout",
          "text": [
            "14\n"
          ]
        },
        {
          "output_type": "execute_result",
          "data": {
            "text/plain": [
              "(array([0, 0]), array([5, 5]))"
            ]
          },
          "metadata": {},
          "execution_count": 3
        }
      ],
      "source": [
        "dataset = RangeDataset(0, 14)\n",
        "print(len(dataset))\n",
        "dataset[0], dataset[5]"
      ]
    },
    {
      "cell_type": "code",
      "source": [
        "dataset[0]"
      ],
      "metadata": {
        "colab": {
          "base_uri": "https://localhost:8080/"
        },
        "id": "xvLsL0q14XdY",
        "outputId": "f06568d8-ae7c-4f75-abc3-ae991c55394f"
      },
      "execution_count": 4,
      "outputs": [
        {
          "output_type": "execute_result",
          "data": {
            "text/plain": [
              "array([0, 0])"
            ]
          },
          "metadata": {},
          "execution_count": 4
        }
      ]
    },
    {
      "cell_type": "code",
      "source": [
        "data_loader = torch.utils.data.DataLoader(dataset, batch_size=4, shuffle=True,\n",
        "                                          num_workers=2, drop_last=False)\n",
        "len(data_loader)"
      ],
      "metadata": {
        "colab": {
          "base_uri": "https://localhost:8080/"
        },
        "id": "cMsZ2CrYLEyn",
        "outputId": "d504a002-80dd-478e-c5ba-f2511081a316"
      },
      "execution_count": 5,
      "outputs": [
        {
          "output_type": "execute_result",
          "data": {
            "text/plain": [
              "4"
            ]
          },
          "metadata": {},
          "execution_count": 5
        }
      ]
    },
    {
      "cell_type": "code",
      "source": [
        "for i, batch in enumerate(data_loader):\n",
        "    print(i, batch)"
      ],
      "metadata": {
        "colab": {
          "base_uri": "https://localhost:8080/"
        },
        "id": "RlQNrrmVK_zr",
        "outputId": "f6fc272b-837d-4f79-d002-083f356a1cfe"
      },
      "execution_count": 6,
      "outputs": [
        {
          "output_type": "stream",
          "name": "stdout",
          "text": [
            "0 tensor([[ 1,  1],\n",
            "        [10, 10],\n",
            "        [ 5,  5],\n",
            "        [ 2,  2]])\n",
            "1 tensor([[12, 12],\n",
            "        [ 7,  7],\n",
            "        [11, 11],\n",
            "        [ 0,  0]])\n",
            "2 tensor([[4, 4],\n",
            "        [3, 3],\n",
            "        [8, 8],\n",
            "        [9, 9]])\n",
            "3 tensor([[13, 13],\n",
            "        [ 6,  6]])\n"
          ]
        }
      ]
    },
    {
      "cell_type": "markdown",
      "metadata": {
        "id": "76fmIT0RJ8js"
      },
      "source": [
        "При этом нам часто нужно делать аугментацию данных или как-то их предобрабатывать. Это можно делать внутри датасета, но частично это можно переложить и внутрь DataLoader (особенно в части обработки изображений)"
      ]
    },
    {
      "cell_type": "code",
      "execution_count": 7,
      "metadata": {
        "id": "vtgdGTwpJ8jw"
      },
      "outputs": [],
      "source": [
        "import numpy as np\n",
        "\n",
        "from PIL import Image\n",
        "from torchvision import transforms, datasets"
      ]
    },
    {
      "cell_type": "code",
      "execution_count": 8,
      "metadata": {
        "colab": {
          "base_uri": "https://localhost:8080/",
          "height": 84,
          "referenced_widgets": [
            "208dfe63c73a4d10928ca7b9db7ad16a",
            "f5b3933b40b040809d4c52084d52dea5",
            "bb5e80a3fe79436285fbac83e61b4aeb",
            "6e511d70d98244b9b56aa29288267e20",
            "893e2f7eca3a4285bd2b6bf9cd4abed0",
            "3b58dcdd5627410db0bea36c55cf737a",
            "5010a96981f14192bafd53b688a510dd",
            "4196601eb90747efb6d7e7b0fcaa821a",
            "b5e054ed319b46c4950a00677a860a0e",
            "9c1e7cea18734ad0a14d7abc7a704c5c",
            "12828e401eb149b5b124112397859bd3"
          ]
        },
        "id": "L731fVgUJ8jy",
        "outputId": "ad979271-714b-4863-d2eb-f4beadc9f2fe"
      },
      "outputs": [
        {
          "output_type": "stream",
          "name": "stdout",
          "text": [
            "Downloading https://www.cs.toronto.edu/~kriz/cifar-10-python.tar.gz to data/cifar-10-python.tar.gz\n"
          ]
        },
        {
          "output_type": "display_data",
          "data": {
            "text/plain": [
              "  0%|          | 0/170498071 [00:00<?, ?it/s]"
            ],
            "application/vnd.jupyter.widget-view+json": {
              "version_major": 2,
              "version_minor": 0,
              "model_id": "208dfe63c73a4d10928ca7b9db7ad16a"
            }
          },
          "metadata": {}
        },
        {
          "output_type": "stream",
          "name": "stdout",
          "text": [
            "Extracting data/cifar-10-python.tar.gz to data/\n"
          ]
        }
      ],
      "source": [
        "train_dataset = datasets.CIFAR10(root='data/', train=True, download=True)\n",
        "image, label = train_dataset[0]"
      ]
    },
    {
      "cell_type": "code",
      "source": [
        "train_dataset"
      ],
      "metadata": {
        "colab": {
          "base_uri": "https://localhost:8080/"
        },
        "id": "fvm8e_XF43lq",
        "outputId": "d2aae125-6650-440d-f1b5-fd4b8d6ab358"
      },
      "execution_count": 9,
      "outputs": [
        {
          "output_type": "execute_result",
          "data": {
            "text/plain": [
              "Dataset CIFAR10\n",
              "    Number of datapoints: 50000\n",
              "    Root location: data/\n",
              "    Split: Train"
            ]
          },
          "metadata": {},
          "execution_count": 9
        }
      ]
    },
    {
      "cell_type": "code",
      "source": [
        "train_dataset[0]"
      ],
      "metadata": {
        "colab": {
          "base_uri": "https://localhost:8080/"
        },
        "id": "gY6hnqka46cJ",
        "outputId": "6fe1bdbc-b22a-446d-8ce5-69c8590e6c82"
      },
      "execution_count": 10,
      "outputs": [
        {
          "output_type": "execute_result",
          "data": {
            "text/plain": [
              "(<PIL.Image.Image image mode=RGB size=32x32 at 0x7F073089CC10>, 6)"
            ]
          },
          "metadata": {},
          "execution_count": 10
        }
      ]
    },
    {
      "cell_type": "code",
      "source": [
        "import matplotlib.pyplot as plt\n",
        "\n",
        "plt.imshow(image);"
      ],
      "metadata": {
        "colab": {
          "base_uri": "https://localhost:8080/",
          "height": 266
        },
        "id": "1dqE5zt4L2IE",
        "outputId": "cdb070ba-d03d-4252-b171-6f895b0e0a26"
      },
      "execution_count": 11,
      "outputs": [
        {
          "output_type": "display_data",
          "data": {
            "text/plain": [
              "<Figure size 432x288 with 1 Axes>"
            ],
            "image/png": "[encoded data removed]"
          },
          "metadata": {
            "needs_background": "light"
          }
        }
      ]
    },
    {
      "cell_type": "code",
      "execution_count": 12,
      "metadata": {
        "id": "BcQyxHD6J8j3"
      },
      "outputs": [],
      "source": [
        "img_size = 32\n",
        "\n",
        "class MyOwnCifar(torch.utils.data.Dataset):\n",
        "   \n",
        "    def __init__(self, init_dataset, transform=None):\n",
        "        self._base_dataset = init_dataset\n",
        "        self.transform = transform\n",
        "\n",
        "    def __len__(self):\n",
        "        return len(self._base_dataset)\n",
        "\n",
        "    def __getitem__(self, idx):\n",
        "        img, lbl = self._base_dataset[idx]\n",
        "\n",
        "        if self.transform is not None:\n",
        "            img = self.transform(img)\n",
        "        \n",
        "        img = img.view(img_size * img_size * 3)\n",
        "        return img, lbl\n",
        "    \n",
        "\n",
        "trans_actions = transforms.Compose([transforms.Resize(img_size + 2),\n",
        "                                    transforms.RandomCrop(img_size, padding=2), \n",
        "                                    transforms.ToTensor()])\n",
        "\n",
        "dataset = MyOwnCifar(train_dataset, trans_actions)\n",
        "train_loader = torch.utils.data.DataLoader(dataset,\n",
        "                          batch_size=128,\n",
        "                          shuffle=True,\n",
        "                          num_workers=2)"
      ]
    },
    {
      "cell_type": "code",
      "source": [
        "test_dataset = datasets.CIFAR10(root='./data', train=False,\n",
        "                                download=True,)\n",
        "test_dataset = MyOwnCifar(test_dataset, \n",
        "                          transforms.Compose([transforms.ToTensor(),\n",
        "                                              transforms.Resize(img_size)])\n",
        "                          )\n",
        "\n",
        "test_loader = torch.utils.data.DataLoader(test_dataset, batch_size=8,\n",
        "                                          shuffle=False)"
      ],
      "metadata": {
        "colab": {
          "base_uri": "https://localhost:8080/"
        },
        "id": "XOVzVX_uMPt7",
        "outputId": "f4c6f4f6-a7df-406e-d6ef-0167e26e6ea0"
      },
      "execution_count": 13,
      "outputs": [
        {
          "output_type": "stream",
          "name": "stdout",
          "text": [
            "Files already downloaded and verified\n"
          ]
        }
      ]
    },
    {
      "cell_type": "code",
      "source": [
        "classes = ['plane', 'car', 'bird', 'cat','deer', 'dog', \n",
        "           'frog', 'horse', 'ship', 'truck']"
      ],
      "metadata": {
        "id": "JeORkXVaOQ3u"
      },
      "execution_count": 14,
      "outputs": []
    },
    {
      "cell_type": "code",
      "execution_count": 15,
      "metadata": {
        "colab": {
          "base_uri": "https://localhost:8080/",
          "height": 301
        },
        "id": "LNFF0N7VJ8j9",
        "outputId": "d6d5aa50-f1b7-42e8-dfe7-69c9b848db70"
      },
      "outputs": [
        {
          "output_type": "stream",
          "name": "stdout",
          "text": [
            "torch.Size([128, 3072])\n",
            "label is dog\n"
          ]
        },
        {
          "output_type": "display_data",
          "data": {
            "text/plain": [
              "<Figure size 432x288 with 1 Axes>"
            ],
            "image/png": "[encoded data removed]"
          },
          "metadata": {
            "needs_background": "light"
          }
        }
      ],
      "source": [
        "for batch, label in train_loader:\n",
        "    print(batch.shape)\n",
        "    plt.imshow(batch[0].view(3, img_size, img_size).permute(1, 2, 0))\n",
        "    print('label is', classes[label[0]])\n",
        "    break"
      ]
    },
    {
      "cell_type": "code",
      "source": [
        "for batch, label in test_loader:\n",
        "    print(batch.shape)\n",
        "    plt.imshow(batch[0].view(3, img_size, img_size).permute(1, 2, 0))\n",
        "    print('label is', classes[label[0]])\n",
        "    break"
      ],
      "metadata": {
        "colab": {
          "base_uri": "https://localhost:8080/",
          "height": 301
        },
        "id": "O1zweAJqM7zm",
        "outputId": "aa1b7c30-9c83-4a50-d849-8d52f046cc4c"
      },
      "execution_count": 16,
      "outputs": [
        {
          "output_type": "stream",
          "name": "stdout",
          "text": [
            "torch.Size([8, 3072])\n",
            "label is cat\n"
          ]
        },
        {
          "output_type": "display_data",
          "data": {
            "text/plain": [
              "<Figure size 432x288 with 1 Axes>"
            ],
            "image/png": "[encoded data removed]"
          },
          "metadata": {
            "needs_background": "light"
          }
        }
      ]
    },
    {
      "cell_type": "markdown",
      "metadata": {
        "id": "40cMLaFiJ8kA"
      },
      "source": [
        "## Dropout - исключение заданного числа нейронов\n",
        "\n",
        "\n",
        "Метод регуляризации искусственных нейронных сетей, предназначен для уменьшения переобучения сети за счет предотвращения сложных адаптаций отдельных нейронов на тренировочных данных во время обучения.\n",
        "\n",
        "Характеризует исключение определённого процента (например 50%) случайных нейронов на разных итерациях во время обучения нейронной сети. В результате  обучение происходит более общее, нет надежды на определенные нейроны. Такой приём значительно увеличивает скорость обучения, качество обучения на тренировочных данных, а также повышает качество предсказаний модели на новых тестовых данных.\n",
        "\n",
        "На моменте предсказания все нейроны включаются обратно, dropout не используется.\n",
        "\n",
        "<img src=\"https://drive.google.com/uc?export=view&id=1UP-yYkA4UEfZmdFUZG-3ccftXPQcfno1\">\n",
        "\n"
      ]
    },
    {
      "cell_type": "markdown",
      "source": [
        "## BatchNorm\n",
        "\n",
        "\n",
        "Batch Normalization (Пакетная нормализация) — метод, который позволяет повысить производительность и стабилизировать работу искусственных нейронных сетей. Суть данного метода заключается в том, что некоторым слоям нейронной сети на вход подаются данные, предварительно обработанные и имеющие нулевое мат. ожидание и единичную дисперсию.\n",
        "\n",
        "Batch norm дает следующие эффекты:\n",
        "\n",
        "- ускорение сходимости модели;\n",
        "- бОльшая независимость обучения каждого слоя нейронов;\n",
        "- в некоторой степени предотвращает эффект переобучения;\n",
        "- меньшая чувствительность к начальной инициализации весовых коэффициентов.\n",
        "\n",
        "\n",
        "<img src='https://drive.google.com/uc?export=view&id=1y0ye2bQTB2cwgP4cgxVQ50Fhi8FvIZeH'>\n",
        "\n",
        "Получается, что нейронам в одной сети приходится адаптироваться к разным картинкам на разных итерациях, потому что разные статистические показатели распределений приходят на вход, из-за чего снижается скорость сходимости, чтобы это было легче для сети, можно выполнять нормализацию батча.\n",
        "\n",
        "Получается, что нужно нормировать статистические показатели. \n",
        "<img src=\"https://drive.google.com/uc?export=view&id=1kd0XCd5FSPoVR1tlD3HfA2Nc5mwdWtj1\" width=400>\n",
        "\n",
        "\n",
        "<img src='https://drive.google.com/uc?export=view&id=11YY3T8a31W583tJHxz-Sq7Q7A3Z02a47'>\n",
        "\n",
        "\n",
        "<h2>$z^i_k = \\frac{v^i_k + \\mu_v}{\\sqrt{ \\sigma^2_v+ \\epsilon}}$</h2><br>\n",
        "$y_i^k = \\gamma z_i^k + \\beta$, где $\\gamma$ и $\\beta$ - это настраиваемые параметры, которые нужны для дополнительного масштабирования и смещения.\n",
        "\n",
        "\n",
        "\n",
        "\n",
        "\n",
        "\n"
      ],
      "metadata": {
        "id": "wF39tMklQH8u"
      }
    },
    {
      "cell_type": "code",
      "execution_count": 17,
      "metadata": {
        "id": "at8qRIrLJ8kD"
      },
      "outputs": [],
      "source": [
        "import torch.nn.functional as F\n",
        "import torch.nn as nn"
      ]
    },
    {
      "cell_type": "code",
      "execution_count": 18,
      "metadata": {
        "id": "03Grc9WDJ8kF"
      },
      "outputs": [],
      "source": [
        "class Perceptron(nn.Module):\n",
        "    def __init__(self, input_dim, output_dim, activation=\"relu\"):\n",
        "        super().__init__()\n",
        "        self.fc = nn.Linear(input_dim, output_dim)\n",
        "        self.activation = activation\n",
        "        \n",
        "    def forward(self, x):\n",
        "        x = self.fc(x)\n",
        "        if self.activation == \"relu\":\n",
        "            return F.relu(x)\n",
        "        if self.activation == \"sigmoid\":\n",
        "            return F.sigmoid(x)\n",
        "        raise RuntimeError\n",
        "        \n",
        "\n",
        "class FeedForward(nn.Module):\n",
        "    def __init__(self, input_dim, hidden_dim):\n",
        "        super().__init__()\n",
        "        self.fc1 = Perceptron(input_dim, hidden_dim)\n",
        "        self.bn = nn.BatchNorm1d(hidden_dim)\n",
        "        self.dp = nn.Dropout(0.25)\n",
        "        self.fc2 = Perceptron(hidden_dim, 10, \"relu\")\n",
        "        \n",
        "    def forward(self, x):\n",
        "        x = self.fc1(x)\n",
        "        x = self.dp(x)\n",
        "        x = self.bn(x)\n",
        "        x = self.fc2(x)\n",
        "        return x"
      ]
    },
    {
      "cell_type": "code",
      "execution_count": 19,
      "metadata": {
        "id": "FCnKJyDvJ8kI"
      },
      "outputs": [],
      "source": [
        "net = FeedForward(3*32*32, 200)\n",
        "\n",
        "optimizer = torch.optim.SGD(net.parameters(), lr=0.01)\n",
        "criterion = nn.CrossEntropyLoss()"
      ]
    },
    {
      "cell_type": "code",
      "execution_count": 20,
      "metadata": {
        "id": "rTKeMl5KJ8kK",
        "outputId": "32cc95cf-a31f-490b-ac7b-37e1aef4b52c",
        "colab": {
          "base_uri": "https://localhost:8080/"
        }
      },
      "outputs": [
        {
          "output_type": "stream",
          "name": "stdout",
          "text": [
            "Epoch [1/10]. Step [1/391]. Loss: 0.019. Acc: 0.094. Test acc: 0.119\n",
            "Epoch [1/10]. Step [151/391]. Loss: 0.016. Acc: 0.264. Test acc: 0.334\n",
            "Epoch [1/10]. Step [301/391]. Loss: 0.015. Acc: 0.312. Test acc: 0.349\n",
            "Epoch [2/10]. Step [1/391]. Loss: 0.015. Acc: 0.352. Test acc: 0.354\n",
            "Epoch [2/10]. Step [151/391]. Loss: 0.015. Acc: 0.334. Test acc: 0.371\n",
            "Epoch [2/10]. Step [301/391]. Loss: 0.015. Acc: 0.346. Test acc: 0.386\n",
            "Epoch [3/10]. Step [1/391]. Loss: 0.015. Acc: 0.328. Test acc: 0.375\n",
            "Epoch [3/10]. Step [151/391]. Loss: 0.015. Acc: 0.354. Test acc: 0.388\n",
            "Epoch [3/10]. Step [301/391]. Loss: 0.014. Acc: 0.359. Test acc: 0.389\n",
            "Epoch [4/10]. Step [1/391]. Loss: 0.015. Acc: 0.352. Test acc: 0.390\n",
            "Epoch [4/10]. Step [151/391]. Loss: 0.014. Acc: 0.362. Test acc: 0.389\n",
            "Epoch [4/10]. Step [301/391]. Loss: 0.014. Acc: 0.362. Test acc: 0.397\n",
            "Epoch [5/10]. Step [1/391]. Loss: 0.015. Acc: 0.297. Test acc: 0.403\n",
            "Epoch [5/10]. Step [151/391]. Loss: 0.014. Acc: 0.369. Test acc: 0.401\n",
            "Epoch [5/10]. Step [301/391]. Loss: 0.014. Acc: 0.370. Test acc: 0.386\n",
            "Epoch [6/10]. Step [1/391]. Loss: 0.014. Acc: 0.344. Test acc: 0.399\n",
            "Epoch [6/10]. Step [151/391]. Loss: 0.014. Acc: 0.368. Test acc: 0.410\n",
            "Epoch [6/10]. Step [301/391]. Loss: 0.014. Acc: 0.369. Test acc: 0.425\n",
            "Epoch [7/10]. Step [1/391]. Loss: 0.014. Acc: 0.406. Test acc: 0.424\n",
            "Epoch [7/10]. Step [151/391]. Loss: 0.014. Acc: 0.379. Test acc: 0.419\n",
            "Epoch [7/10]. Step [301/391]. Loss: 0.014. Acc: 0.380. Test acc: 0.433\n",
            "Epoch [8/10]. Step [1/391]. Loss: 0.014. Acc: 0.383. Test acc: 0.412\n",
            "Epoch [8/10]. Step [151/391]. Loss: 0.014. Acc: 0.381. Test acc: 0.431\n",
            "Epoch [8/10]. Step [301/391]. Loss: 0.014. Acc: 0.378. Test acc: 0.426\n",
            "Epoch [9/10]. Step [1/391]. Loss: 0.014. Acc: 0.312. Test acc: 0.424\n",
            "Epoch [9/10]. Step [151/391]. Loss: 0.014. Acc: 0.385. Test acc: 0.431\n",
            "Epoch [9/10]. Step [301/391]. Loss: 0.014. Acc: 0.379. Test acc: 0.431\n",
            "Epoch [10/10]. Step [1/391]. Loss: 0.014. Acc: 0.406. Test acc: 0.435\n",
            "Epoch [10/10]. Step [151/391]. Loss: 0.014. Acc: 0.386. Test acc: 0.436\n",
            "Epoch [10/10]. Step [301/391]. Loss: 0.014. Acc: 0.380. Test acc: 0.433\n",
            "Training is finished!\n"
          ]
        }
      ],
      "source": [
        "num_epochs = 10\n",
        "\n",
        "for epoch in range(num_epochs):  \n",
        "    running_loss, running_items, running_right = 0.0, 0.0, 0.0\n",
        "    for i, data in enumerate(train_loader):\n",
        "        inputs, labels = data[0], data[1]\n",
        "\n",
        "        # обнуляем градиент\n",
        "        optimizer.zero_grad()\n",
        "\n",
        "        outputs = net(inputs)\n",
        "        loss = criterion(outputs, labels)\n",
        "        loss.backward()\n",
        "        optimizer.step()\n",
        "\n",
        "        # выводим статистику о процессе обучения\n",
        "        running_loss += loss.item()\n",
        "        running_items += len(labels)\n",
        "        running_right += (labels == torch.max(outputs, 1)[1]).sum()\n",
        "        \n",
        "        # выводим статистику о процессе обучения\n",
        "        if i % 150 == 0:    # печатаем каждые 300 mini-batches\n",
        "            net.eval()\n",
        "            \n",
        "            print(f'Epoch [{epoch + 1}/{num_epochs}]. ' \\\n",
        "                  f'Step [{i + 1}/{len(train_loader)}]. ' \\\n",
        "                  f'Loss: {running_loss / running_items:.3f}. ' \\\n",
        "                  f'Acc: {running_right / running_items:.3f}', end='. ')\n",
        "            running_loss, running_items, running_right = 0.0, 0.0, 0.0\n",
        "\n",
        "            test_running_right, test_running_total = 0.0, 0.0\n",
        "            for i, data in enumerate(test_loader):\n",
        "            \n",
        "                test_outputs = net(data[0])\n",
        "                test_running_total += len(data[1])\n",
        "                test_running_right += (data[1] == torch.max(test_outputs, 1)[1]).sum()\n",
        "            \n",
        "            print(f'Test acc: {test_running_right / test_running_total:.3f}')\n",
        "            net.train()\n",
        "        \n",
        "print('Training is finished!')"
      ]
    },
    {
      "cell_type": "markdown",
      "metadata": {
        "id": "3AA_rUsQlrgH"
      },
      "source": [
        "## Оптимизаторы\n",
        "\n",
        "Как конкретно мы собираемся обновлять параметры? Это про улучшенные методы градиентного спуска, которые есть в pytorch.\n",
        "Все оптимизаторы можно найти в разделе [torch.optim](https://pytorch.org/docs/stable/optim.html)"
      ]
    },
    {
      "cell_type": "markdown",
      "source": [
        "\n",
        "### SGD  \n",
        "\n",
        "В самом простом варианте , мы вычисляем наш градиент и умножаем на learningrate.\n",
        "$$w = w - learning\\_rate * gradient$$"
      ],
      "metadata": {
        "id": "KzpAqPIQQOSR"
      }
    },
    {
      "cell_type": "markdown",
      "metadata": {
        "id": "5tFb0gGGlrgH"
      },
      "source": [
        "Но оказывается что это не так уж и эффективно. На гифке ниже видны разные подходы оптимизаторов. Они из одной точки по-разному добираются до цели. Можно увидеть что в отличие от нашего простого метода(SGD) другие оптимизаторы выполняют свою работу намного быстрее. Это происходит в основном из-за неконстантного шага обучения:"
      ]
    },
    {
      "cell_type": "markdown",
      "metadata": {
        "id": "3kFEaPQ3lrgI"
      },
      "source": [
        "<img src='https://i.stack.imgur.com/8rpzr.gif'>"
      ]
    },
    {
      "cell_type": "markdown",
      "metadata": {
        "id": "-SGTgbhYlrgJ"
      },
      "source": [
        "Давайте подробнее посмотрим на эти оптимизаторы и как ими пользоваться в pytorch:"
      ]
    },
    {
      "cell_type": "markdown",
      "metadata": {
        "id": "qoSR0zdSlrgK"
      },
      "source": [
        "Как реализовано в pytorch:"
      ]
    },
    {
      "cell_type": "code",
      "metadata": {
        "id": "_PvHaeKxlrgK"
      },
      "source": [
        "optimizer = torch.optim.SGD(net.parameters(), lr=0.1)"
      ],
      "execution_count": 21,
      "outputs": []
    },
    {
      "cell_type": "markdown",
      "metadata": {
        "id": "eUgJU3bXlrgL"
      },
      "source": [
        "### Momentum (импульс)\n",
        "\n",
        "\n",
        "\n",
        "[статья](https://arxiv.org/abs/1810.13395?utm_source=feedburner&utm_medium=feed&utm_campaign=Feed%253A+arxiv%252FQSXk+%2528ExcitingAds%2521+cs+updates+on+arXiv.org%2529)  \n",
        "[pytorch doc](https://pytorch.org/docs/master/generated/torch.optim.SGD.html?highlight=sgd#torch.optim.SGD)\n",
        "\n",
        "<img src='https://drive.google.com/uc?export=view&id=1JMoY1y1oZUtiicvCuhxhliiLBLoNl7bA' width=600>\n",
        "\n",
        "\n",
        "$$velocity = momentum * velocity - \\eta*gradient\\\\w = w + velocity$$"
      ]
    },
    {
      "cell_type": "markdown",
      "metadata": {
        "id": "IxOID2bPlrgN"
      },
      "source": [
        "Как это математически объясняется: мы накапливаем некоторую скорость velocity, которая скорость вектора. Наш learningrate, который мы применяли к веса, теперь применяется к скорости. Т.е. по направлению градиента мы увеличиваем не просто веса, а скорость изменения весов. И есть такой момент затухания momentum, для того что бы было каке-то трение в системе, иначе все это улетит очень при очень далеко. И мы обычно берем momentum от 0.9-0.99. \n",
        "И таким образом мы берем старое значение скорости, его немного уменьшаем и добавляем к нему направление градиента. "
      ]
    },
    {
      "cell_type": "markdown",
      "metadata": {
        "id": "sqtk507kfVDI"
      },
      "source": [
        "\n",
        "\n",
        "<img src='https://drive.google.com/uc?export=view&id=1h0u3hNo2cjDRoq0FVdXIScgRo6Iq687y' width=400>"
      ]
    },
    {
      "cell_type": "markdown",
      "metadata": {
        "id": "QnMoeBWF3f8g"
      },
      "source": [
        "Засчет добавления импульса получается сглаживание оптимизации.\n",
        "\n",
        "|$t_1$|$t_2$|..|$t_n$|\n",
        "|--|--|--|--|\n",
        "|$g_1$|$g_2$|..|$g_n$|\n",
        "\n",
        "$\\gamma = 0.5$\n",
        "\n",
        "$v_1 = g_1$<br>\n",
        "$v_2 = \\gamma * v_1 + g_2 = 0.5 * g_1 + g_2$<br>\n",
        "$v_3 = \\gamma * v_2 + g_3 = \\gamma (\\gamma * v_1 + g_2) + g_3 = \\gamma^2 * g_1 + \\gamma * g_2 + g_3 = 0.25 * g_1 + 0.5 * g_2 + g_3$<br>"
      ]
    },
    {
      "cell_type": "markdown",
      "metadata": {
        "id": "wUHfJiIflrgO"
      },
      "source": [
        "Как реализовано в pytorch:"
      ]
    },
    {
      "cell_type": "code",
      "metadata": {
        "id": "60wFP2udlrgP"
      },
      "source": [
        "optimizer = torch.optim.SGD(net.parameters(), lr=0.1, momentum=0.9)"
      ],
      "execution_count": 22,
      "outputs": []
    },
    {
      "cell_type": "markdown",
      "metadata": {
        "id": "P8F7XM9ilrgP"
      },
      "source": [
        "Другие методы предназначены для решения кейса \"седловая точка\". Седловая точка - это точка в которой формально градиент равен нулю. Но это не глобальный минимум. Он по некоторым направлениям локальный минимум, а по некоторым локальный максимум. Т.е. это не точка глобального минимума. И вообще было такое обсуждение, что методы градиентого спуска могут скатиться в локальные мимнимумы. Но оказывается на практике это сделать довольно сложно. Пространство на столько огромное, что найти настоящий глобальный минимум по этим тысячам параметров довольно сложно. И такой проблемы на практике скорее нет. А есть проблема, что метод может скатиться в такие точки, что градиент все еще ноль. И поэтому если мы в нем оказались, то очень сложно из него выйти, тк. нет сигнала от градиента. Но если отойти в определенном направлении, то можно понять что эта точка так же и локальный максимум. И после этого можно успешно скатиться. \n",
        "И поэтому есть несколько модификаций градиентного спуска, что бы как раз выкатываться из таких точек."
      ]
    },
    {
      "cell_type": "markdown",
      "metadata": {
        "id": "FmWVdJk-lrgQ"
      },
      "source": [
        "<img src='https://i.ytimg.com/vi/fODpu1-lNTw/maxresdefault.jpg' width=600>"
      ]
    },
    {
      "cell_type": "markdown",
      "metadata": {
        "id": "npFYZWVYlrgQ"
      },
      "source": [
        "### Adagrad\n",
        "\n",
        "[статья](http://www.jmlr.org/papers/volume12/duchi11a/duchi11a.pdf)  \n",
        "[pytorch doc](https://pytorch.org/docs/master/generated/torch.optim.Adagrad.html?highlight=adagrad#torch.optim.Adagrad)\n",
        "\n",
        "Собственно каким образом этим методам удается выходить из подобных точек.\n",
        "\n"
      ]
    },
    {
      "cell_type": "markdown",
      "metadata": {
        "id": "OX-YS6urlrgR"
      },
      "source": [
        "Основная идея следующая - делать learning_rate не константой для всех измерений, а адаптивно для разных измерений и весов подбирать свой learning_rate. Если по какому-то направлению нам градиент будет говорить что там не интересно, там очень маленькое изменение, мы его искусственно повысим. А в тех направлениях где градиент  будет говорить что да, нужно во всю двигаться - мы наоборот его понизим. таким образом мы накапливаем статистику какие градиенты мы считаем наиболее важными или наименее важными. И усилим те которые считаются неважными. И это даст нам возможность выкатиться, потому что мы даже по неважным измерениям будем знать существенный шаг. А как только мы выкатились из этой точки, то сразу происходит существенное ускорение.   \n",
        "Как мы это делаем:\n",
        "$$accumulated = accumulated + gradient^2\\\\adaptive\\_\\eta = \\frac{\\eta}{sqrt(accumulated)}\\\\w = w - adaptive\\_\\eta*gradient$$"
      ]
    },
    {
      "cell_type": "markdown",
      "metadata": {
        "id": "JEPesFb_lrgS"
      },
      "source": [
        "Мы таким образом считаем накопленный вес accumulated как квадрат градиента по всем направлениям. Т.е. если в каком-то направлении этот градиент будет большой - там этот квадрат мы накопим очень большой. А потом поделим на корень из него. Т.о. мы уменьшим adaptive_learning_rate в местах где градиент накопился и наоборот в обратном случае. И будем вот с таким adaptive_learning_rate обновлять наши веса. "
      ]
    },
    {
      "cell_type": "markdown",
      "metadata": {
        "id": "UKDeEHtwlrgS"
      },
      "source": [
        "Как реализовано в pytorch:"
      ]
    },
    {
      "cell_type": "code",
      "metadata": {
        "id": "WJ57MXl5lrgT"
      },
      "source": [
        "optimizer = torch.optim.Adagrad(net.parameters(), lr=0.1)"
      ],
      "execution_count": 23,
      "outputs": []
    },
    {
      "cell_type": "markdown",
      "metadata": {
        "id": "9Bb5LTv5lrgU"
      },
      "source": [
        "### RMSProp\n",
        "[статья](https://arxiv.org/abs/1412.6980)  \n",
        "[pytorch doc](https://pytorch.org/docs/master/generated/torch.optim.RMSprop.html)\n",
        "\n",
        "Следующий апгрейт делает примерно тоже самое, но только применяет к аккумуляции релаксацию как в momentum'е.  \n",
        "$$accumulated = \\rho * accumulated + (1-\\rho) * gradient^2\\\\adaptive\\eta = \\frac{\\eta}{sqrt(accumulated)}\\\\w = w - adaptive\\eta*gradient$$"
      ]
    },
    {
      "cell_type": "markdown",
      "metadata": {
        "id": "CrYFbR-slrgV"
      },
      "source": [
        "Как реализовано в pytorch:"
      ]
    },
    {
      "cell_type": "code",
      "metadata": {
        "id": "zYquTjk0lrgV"
      },
      "source": [
        "optimizer = torch.optim.RMSprop(net.parameters(), lr=0.1, alpha=0.99)"
      ],
      "execution_count": 24,
      "outputs": []
    },
    {
      "cell_type": "markdown",
      "metadata": {
        "id": "7OsmUvD3lrgW"
      },
      "source": [
        "### Adam\n",
        "\n",
        "[статья](https://arxiv.org/abs/1412.6980)  \n",
        "[pytorch doc](https://pytorch.org/docs/master/generated/torch.optim.Adam.html?highlight=adam#torch.optim.Adam)\n",
        "\n",
        "Этот метод комбинирует идеи RMSProp + Momentum. \n",
        "\n",
        "$$velocity = beta1 * velocity + (1-beta1) * gradient\\\\accumulated = beta2*accumulated + (1-beta2)*gradient^2\\\\adaptive\\_\\eta = \\frac{\\eta}{sqrt(accumulated)}\\\\w = w - adaptive\\_\\eta*velocity$$"
      ]
    },
    {
      "cell_type": "markdown",
      "metadata": {
        "id": "c37oeTvqlrgW"
      },
      "source": [
        "Т.е. все так же есть adaptive_learning_rate, но мы применяем его не к обычному градиенту, а к скорости, которая вычисляется как в momentum'е. "
      ]
    },
    {
      "cell_type": "markdown",
      "metadata": {
        "id": "D8_gfvmElrgX"
      },
      "source": [
        "Как реализовано в pytorch:"
      ]
    },
    {
      "cell_type": "code",
      "metadata": {
        "id": "xCbiOprClrgY"
      },
      "source": [
        "optimizer = torch.optim.Adam(net.parameters(), lr=0.1)"
      ],
      "execution_count": 25,
      "outputs": []
    },
    {
      "cell_type": "markdown",
      "metadata": {
        "id": "99hvXk0mlrgY"
      },
      "source": [
        "Adam - такой хороший современный выбор по дефолту. Если не знаете какой оптимизатор использовать - берите его!"
      ]
    },
    {
      "cell_type": "markdown",
      "source": [
        "# Домашнее задание\n",
        "\n",
        "Будем практиковаться на датасете недвижимости (sklearn.datasets.fetch_california_housing)\n",
        "\n",
        "Ваша задача:\n",
        "1. Создать Dataset для загрузки данных\n",
        "2. Обернуть его в Dataloader\n",
        "3. Написать архитектуру сети, которая предсказывает стоимость недвижимости. Сеть должна включать BatchNorm слои и Dropout (или НЕ включать, но нужно обосновать)\n",
        "4. Сравните сходимость Adam, RMSProp и SGD, сделайте вывод по качеству работы модели\n",
        "\n",
        "train-test разделение нужно сделать с помощью sklearn random_state=13, test_size = 0.25"
      ],
      "metadata": {
        "id": "_1kh-e0oXz7V"
      }
    },
    {
      "cell_type": "markdown",
      "source": [
        "## 1. Создать Dataset"
      ],
      "metadata": {
        "id": "57hAL52XfH8q"
      }
    },
    {
      "cell_type": "code",
      "source": [
        "import math\n",
        "import torch\n",
        "import torch.nn.functional as F\n",
        "# from torchvision import transforms, datasets\n",
        "import numpy as np"
      ],
      "metadata": {
        "id": "vHzQuJZcgA6u"
      },
      "execution_count": 34,
      "outputs": []
    },
    {
      "cell_type": "code",
      "source": [
        "from sklearn.datasets import fetch_california_housing\n",
        "from sklearn.model_selection import train_test_split\n",
        "from sklearn.preprocessing import normalize"
      ],
      "metadata": {
        "id": "0ZPdYF86gDN4"
      },
      "execution_count": 35,
      "outputs": []
    },
    {
      "cell_type": "code",
      "source": [
        "housing = fetch_california_housing(as_frame=False, return_X_y=False)"
      ],
      "metadata": {
        "id": "PpeDQNgng4Ay"
      },
      "execution_count": 36,
      "outputs": []
    },
    {
      "cell_type": "code",
      "source": [
        "df_X = housing['data']\n",
        "df_y = housing['target']"
      ],
      "metadata": {
        "id": "HRXMS2lYg9xF"
      },
      "execution_count": 37,
      "outputs": []
    },
    {
      "cell_type": "code",
      "source": [
        "df_X.shape, df_y.shape"
      ],
      "metadata": {
        "colab": {
          "base_uri": "https://localhost:8080/"
        },
        "id": "N3D-mvXQh4Zq",
        "outputId": "c8f546bc-ca90-48c6-a989-eade6daf8a91"
      },
      "execution_count": 38,
      "outputs": [
        {
          "output_type": "execute_result",
          "data": {
            "text/plain": [
              "((20640, 8), (20640,))"
            ]
          },
          "metadata": {},
          "execution_count": 38
        }
      ]
    },
    {
      "cell_type": "code",
      "source": [
        "df_X[:2]"
      ],
      "metadata": {
        "colab": {
          "base_uri": "https://localhost:8080/"
        },
        "id": "td8IVCQIh4cm",
        "outputId": "2e3f2e6d-d15c-4d0b-8d93-773a14056479"
      },
      "execution_count": 39,
      "outputs": [
        {
          "output_type": "execute_result",
          "data": {
            "text/plain": [
              "array([[ 8.32520000e+00,  4.10000000e+01,  6.98412698e+00,\n",
              "         1.02380952e+00,  3.22000000e+02,  2.55555556e+00,\n",
              "         3.78800000e+01, -1.22230000e+02],\n",
              "       [ 8.30140000e+00,  2.10000000e+01,  6.23813708e+00,\n",
              "         9.71880492e-01,  2.40100000e+03,  2.10984183e+00,\n",
              "         3.78600000e+01, -1.22220000e+02]])"
            ]
          },
          "metadata": {},
          "execution_count": 39
        }
      ]
    },
    {
      "cell_type": "code",
      "source": [
        "df_y[:2]"
      ],
      "metadata": {
        "colab": {
          "base_uri": "https://localhost:8080/"
        },
        "id": "YrSqWfS0N9v2",
        "outputId": "d3da50a4-4db6-442d-cb9d-ac6f7b828cae"
      },
      "execution_count": 54,
      "outputs": [
        {
          "output_type": "execute_result",
          "data": {
            "text/plain": [
              "array([4.526, 3.585])"
            ]
          },
          "metadata": {},
          "execution_count": 54
        }
      ]
    },
    {
      "cell_type": "code",
      "source": [
        "train_X, test_X, train_y, test_y = train_test_split(df_X, df_y, \n",
        "                                                    random_state=13, \n",
        "                                                    test_size = 0.25, \n",
        "                                                    shuffle=False)"
      ],
      "metadata": {
        "id": "2jgYjyc7h-JW"
      },
      "execution_count": 40,
      "outputs": []
    },
    {
      "cell_type": "code",
      "source": [
        "train_X.shape, test_X.shape, train_y.shape, test_y.shape"
      ],
      "metadata": {
        "colab": {
          "base_uri": "https://localhost:8080/"
        },
        "id": "4ApxysmtkYTE",
        "outputId": "f9611d52-7c81-484e-c2aa-1c5d9cca80d4"
      },
      "execution_count": 41,
      "outputs": [
        {
          "output_type": "execute_result",
          "data": {
            "text/plain": [
              "((15480, 8), (5160, 8), (15480,), (5160,))"
            ]
          },
          "metadata": {},
          "execution_count": 41
        }
      ]
    },
    {
      "cell_type": "code",
      "source": [
        "# np.expand_dims(train_y, axis=1).shape"
      ],
      "metadata": {
        "id": "WyMhYeZc_c8Z"
      },
      "execution_count": 42,
      "outputs": []
    },
    {
      "cell_type": "code",
      "execution_count": 43,
      "metadata": {
        "id": "Houlc1dgfg51"
      },
      "outputs": [],
      "source": [
        "class MyOwnHousing(torch.utils.data.Dataset):\n",
        "    def __init__(self, X, y, transform=None):\n",
        "        self.data = np.float32(normalize(X))\n",
        "        self.target = np.expand_dims(np.float32(y), axis=1)  # float32 need\n",
        "        self.transform = transform\n",
        "\n",
        "    def __len__(self):\n",
        "        return len(self.data)\n",
        "\n",
        "    def __getitem__(self, idx):\n",
        "        inputs, labels = self.data[idx], self.target[idx]\n",
        "\n",
        "        if self.transform is not None:\n",
        "            inputs = self.transform(input)\n",
        "        \n",
        "        return inputs, labels"
      ]
    },
    {
      "cell_type": "code",
      "source": [
        "train_dataset = MyOwnHousing(train_X, train_y)"
      ],
      "metadata": {
        "id": "1vDcOMayf2U3"
      },
      "execution_count": 44,
      "outputs": []
    },
    {
      "cell_type": "code",
      "source": [
        "test_dataset = MyOwnHousing(test_X, test_y)"
      ],
      "metadata": {
        "id": "dJUXNytIl5x6"
      },
      "execution_count": 45,
      "outputs": []
    },
    {
      "cell_type": "markdown",
      "source": [
        "## Обернуть его в Dataloader"
      ],
      "metadata": {
        "id": "ZLgOG_HJf3Ps"
      }
    },
    {
      "cell_type": "code",
      "source": [
        "train_loader = torch.utils.data.DataLoader(train_dataset,\n",
        "                                           batch_size=64,\n",
        "                                           shuffle=True,\n",
        "                                           num_workers=2)"
      ],
      "metadata": {
        "id": "lXrblh7Rf35o"
      },
      "execution_count": 82,
      "outputs": []
    },
    {
      "cell_type": "code",
      "source": [
        "test_loader = torch.utils.data.DataLoader(test_dataset,\n",
        "                                           batch_size=64,\n",
        "                                           shuffle=False,\n",
        "                                           num_workers=2)"
      ],
      "metadata": {
        "id": "WEum5XmjmvTt"
      },
      "execution_count": 83,
      "outputs": []
    },
    {
      "cell_type": "code",
      "source": [
        "data_iter = iter(train_loader)\n",
        "inp, lbl = data_iter.next()"
      ],
      "metadata": {
        "id": "aRPGvDazm1cG"
      },
      "execution_count": 84,
      "outputs": []
    },
    {
      "cell_type": "code",
      "source": [
        "# lbl - lbl.std()"
      ],
      "metadata": {
        "id": "TyjGXcllOf-w"
      },
      "execution_count": 86,
      "outputs": []
    },
    {
      "cell_type": "code",
      "source": [
        "torch.pow((lbl - lbl.std()), 2).std()"
      ],
      "metadata": {
        "colab": {
          "base_uri": "https://localhost:8080/"
        },
        "id": "pSjNOH9FN2OU",
        "outputId": "4f230fd0-33e5-4c9e-f1a8-d27f9789c16e"
      },
      "execution_count": 87,
      "outputs": [
        {
          "output_type": "execute_result",
          "data": {
            "text/plain": [
              "tensor(3.9239)"
            ]
          },
          "metadata": {},
          "execution_count": 87
        }
      ]
    },
    {
      "cell_type": "code",
      "source": [
        "torch.pow((lbl - lbl.mean()), 2).std()"
      ],
      "metadata": {
        "colab": {
          "base_uri": "https://localhost:8080/"
        },
        "id": "R0fk7xTLWVBu",
        "outputId": "c0d1e00d-4522-4a5a-9026-00fc0654070e"
      },
      "execution_count": 109,
      "outputs": [
        {
          "output_type": "execute_result",
          "data": {
            "text/plain": [
              "tensor(1.8884)"
            ]
          },
          "metadata": {},
          "execution_count": 109
        }
      ]
    },
    {
      "cell_type": "markdown",
      "source": [
        "## Написать сеть\n",
        "\n",
        "Написать архитектуру сети, которая предсказывает стоимость недвижимости. Сеть должна включать BatchNorm слои и Dropout (или НЕ включать, но нужно обосновать)"
      ],
      "metadata": {
        "id": "qLu8FF3gLUfO"
      }
    },
    {
      "cell_type": "code",
      "source": [
        "class Perceptron(torch.nn.Module):\n",
        "    def __init__(self, input_dim, output_dim, activation=None):\n",
        "        super(Perceptron, self).__init__()  \n",
        "\n",
        "        self.fc = torch.nn.Linear(input_dim, output_dim)\n",
        "        self.activation = activation\n",
        "        \n",
        "    def forward(self, x):\n",
        "        x = self.fc(x)\n",
        "        if self.activation == None:\n",
        "            return x\n",
        "        if self.activation == \"relu\":\n",
        "            return F.relu(x)\n",
        "        if self.activation == \"leaky_relu\":\n",
        "            return F.leaky_relu(x)\n",
        "        if self.activation == \"sigmoid\":\n",
        "            return F.sigmoid(x)\n",
        "        if self.activation == \"softmax\":\n",
        "            return F.softmax(x)\n",
        "        raise RuntimeError"
      ],
      "metadata": {
        "id": "Nacf6K9nLYLA"
      },
      "execution_count": 88,
      "outputs": []
    },
    {
      "cell_type": "code",
      "source": [
        "class Net(torch.nn.Module):\n",
        "    def __init__(self, input_dim, hidden_dim, output_dim):\n",
        "        super(Net, self).__init__()\n",
        "\n",
        "        self.fc1 = Perceptron(input_dim, hidden_dim, 'leaky_relu')\n",
        "        # self.bn = torch.nn.BatchNorm1d(hidden_dim)\n",
        "        self.do = torch.nn.Dropout(p=0.1)\n",
        "        self.fc2 = Perceptron(hidden_dim, hidden_dim, 'relu')\n",
        "        self.bn = torch.nn.BatchNorm1d(hidden_dim)\n",
        "        self.fc3 = Perceptron(hidden_dim, output_dim)\n",
        "    \n",
        "    def forward(self, x):\n",
        "        x = self.fc1(x)\n",
        "        x = self.do(x)\n",
        "        x = self.fc2(x)\n",
        "        x = self.bn(x)\n",
        "        x = self.fc3(x) # logits out w/o activation\n",
        "        return x"
      ],
      "metadata": {
        "id": "hwCPKnX5LY9S"
      },
      "execution_count": 96,
      "outputs": []
    },
    {
      "cell_type": "code",
      "source": [
        "net = Net(8, 16, 1)\n",
        "\n",
        "optimizer = torch.optim.Adam(net.parameters(), lr=0.001)\n",
        "criterion = torch.nn.MSELoss()"
      ],
      "metadata": {
        "id": "ECTiiBvBLY_4"
      },
      "execution_count": 107,
      "outputs": []
    },
    {
      "cell_type": "markdown",
      "source": [
        "## Сравнить оптимизаторы\n",
        "\n",
        "Сравните сходимость Adam, RMSProp и SGD, сделайте вывод по качеству работы модели"
      ],
      "metadata": {
        "id": "T1B2R2sP7Bb1"
      }
    },
    {
      "cell_type": "code",
      "source": [
        "num_epochs = 10\n",
        "\n",
        "for epoch in range(num_epochs):  \n",
        "    running_loss, running_items, running_right = 0.0, 0.0, 0.0\n",
        "    for i, data in enumerate(train_loader):\n",
        "        inputs, labels = data[0], data[1]\n",
        "\n",
        "        # обнуляем градиент\n",
        "        optimizer.zero_grad()\n",
        "\n",
        "        outputs = net(inputs)\n",
        "        loss = criterion(outputs, labels)\n",
        "        loss.backward()\n",
        "        optimizer.step()\n",
        "\n",
        "        # выводим статистику о процессе обучения\n",
        "        running_loss += loss.item()\n",
        "        running_items += len(labels)\n",
        "        # running_right += (labels == torch.max(outputs, 1)[1]).sum()\n",
        "        running_right += (1 - loss.item() / torch.pow((labels - labels.mean()), 2).mean()) # r2\n",
        "        \n",
        "        # выводим статистику о процессе обучения\n",
        "        if i % 150 == 0:    # печатаем каждые 150 mini-batches\n",
        "            net.eval()\n",
        "            \n",
        "            print(f'Epoch [{epoch + 1}/{num_epochs}]. ' \\\n",
        "                  f'Step [{i + 1}/{len(train_loader)}]. ' \\\n",
        "                  f'Loss: {running_loss / running_items:.5f}. ' \\\n",
        "                  f'R2: {running_right / running_items:.5f}', end='. ')\n",
        "            running_loss, running_items, running_right = 0.0, 0.0, 0.0\n",
        "\n",
        "            test_running_right, test_running_total = 0.0, 0.0\n",
        "            for i, data in enumerate(test_loader):\n",
        "            \n",
        "                test_outputs = net(data[0])\n",
        "                test_loss = criterion(test_outputs, data[1])\n",
        "                test_running_total += len(data[1])\n",
        "                test_running_right += (1 - test_loss.item() / torch.pow((data[1] - data[1].std()), 2).mean())\n",
        "            \n",
        "            print(f'Test R2: {test_running_right / test_running_total:.5f}')\n",
        "            net.train()\n",
        "        \n",
        "print('Training is finished!')"
      ],
      "metadata": {
        "colab": {
          "base_uri": "https://localhost:8080/"
        },
        "id": "e2MRw1o67ga4",
        "outputId": "25f996f1-1a4e-40a9-b99f-f1a21ef65627"
      },
      "execution_count": 108,
      "outputs": [
        {
          "output_type": "stream",
          "name": "stdout",
          "text": [
            "Epoch [1/10]. Step [1/242]. Loss: 0.11360. R2: -0.07102. Test R2: -0.02020\n",
            "Epoch [1/10]. Step [151/242]. Loss: 0.07750. R2: -0.04938. Test R2: -0.00126\n",
            "Epoch [2/10]. Step [1/242]. Loss: 0.01341. R2: -0.00617. Test R2: 0.00617\n",
            "Epoch [2/10]. Step [151/242]. Loss: 0.02113. R2: -0.00118. Test R2: -0.00247\n",
            "Epoch [3/10]. Step [1/242]. Loss: 0.02418. R2: 0.00029. Test R2: 0.00148\n",
            "Epoch [3/10]. Step [151/242]. Loss: 0.01789. R2: 0.00097. Test R2: -0.00523\n",
            "Epoch [4/10]. Step [1/242]. Loss: 0.01155. R2: 0.00420. Test R2: 0.00844\n",
            "Epoch [4/10]. Step [151/242]. Loss: 0.01344. R2: 0.00453. Test R2: 0.00689\n",
            "Epoch [5/10]. Step [1/242]. Loss: 0.01362. R2: 0.00519. Test R2: 0.00920\n",
            "Epoch [5/10]. Step [151/242]. Loss: 0.01225. R2: 0.00560. Test R2: 0.00403\n",
            "Epoch [6/10]. Step [1/242]. Loss: 0.00737. R2: 0.00778. Test R2: -0.00506\n",
            "Epoch [6/10]. Step [151/242]. Loss: 0.01149. R2: 0.00608. Test R2: 0.00974\n",
            "Epoch [7/10]. Step [1/242]. Loss: 0.01069. R2: 0.00684. Test R2: 0.01018\n",
            "Epoch [7/10]. Step [151/242]. Loss: 0.01150. R2: 0.00616. Test R2: 0.00599\n",
            "Epoch [8/10]. Step [1/242]. Loss: 0.00864. R2: 0.00743. Test R2: 0.00842\n",
            "Epoch [8/10]. Step [151/242]. Loss: 0.01093. R2: 0.00654. Test R2: 0.00793\n",
            "Epoch [9/10]. Step [1/242]. Loss: 0.01439. R2: 0.00615. Test R2: 0.01061\n",
            "Epoch [9/10]. Step [151/242]. Loss: 0.01073. R2: 0.00660. Test R2: -0.00005\n",
            "Epoch [10/10]. Step [1/242]. Loss: 0.00922. R2: 0.00323. Test R2: 0.00872\n",
            "Epoch [10/10]. Step [151/242]. Loss: 0.01028. R2: 0.00710. Test R2: 0.01027\n",
            "Training is finished!\n"
          ]
        }
      ]
    },
    {
      "cell_type": "code",
      "source": [
        "lbl[:5]"
      ],
      "metadata": {
        "colab": {
          "base_uri": "https://localhost:8080/"
        },
        "id": "pPi5qox3VfBA",
        "outputId": "63a4be9a-6b29-4791-bfa8-0c2c73014970"
      },
      "execution_count": 110,
      "outputs": [
        {
          "output_type": "execute_result",
          "data": {
            "text/plain": [
              "tensor([[1.3810],\n",
              "        [1.4960],\n",
              "        [1.7500],\n",
              "        [3.2500],\n",
              "        [3.3650]])"
            ]
          },
          "metadata": {},
          "execution_count": 110
        }
      ]
    },
    {
      "cell_type": "code",
      "source": [
        "net(inp[:5])"
      ],
      "metadata": {
        "colab": {
          "base_uri": "https://localhost:8080/"
        },
        "id": "Xp18re5ZWlhL",
        "outputId": "7643a2ce-ca0f-46fa-9f72-50fc2e71d4da"
      },
      "execution_count": 111,
      "outputs": [
        {
          "output_type": "execute_result",
          "data": {
            "text/plain": [
              "tensor([[2.4030],\n",
              "        [2.2502],\n",
              "        [1.7278],\n",
              "        [0.6591],\n",
              "        [2.8590]], grad_fn=<AddmmBackward0>)"
            ]
          },
          "metadata": {},
          "execution_count": 111
        }
      ]
    },
    {
      "cell_type": "code",
      "source": [
        "net(inp[:5])"
      ],
      "metadata": {
        "colab": {
          "base_uri": "https://localhost:8080/"
        },
        "id": "mMriPxyWVW9V",
        "outputId": "362152af-723a-4111-b8a5-1bfa6d2f8d7c"
      },
      "execution_count": 106,
      "outputs": [
        {
          "output_type": "execute_result",
          "data": {
            "text/plain": [
              "tensor([[2.1202],\n",
              "        [1.9398],\n",
              "        [1.6414],\n",
              "        [1.2886],\n",
              "        [2.9051]], grad_fn=<AddmmBackward0>)"
            ]
          },
          "metadata": {},
          "execution_count": 106
        }
      ]
    },
    {
      "cell_type": "code",
      "source": [
        "pip install pytorch-ignite"
      ],
      "metadata": {
        "colab": {
          "base_uri": "https://localhost:8080/"
        },
        "id": "LQ2mCYyjX2yx",
        "outputId": "dcb8da70-7baf-40ca-84fc-27baafa85cc4"
      },
      "execution_count": 114,
      "outputs": [
        {
          "output_type": "stream",
          "name": "stdout",
          "text": [
            "Looking in indexes: https://pypi.org/simple, https://us-python.pkg.dev/colab-wheels/public/simple/\n",
            "Collecting pytorch-ignite\n",
            "  Downloading pytorch_ignite-0.4.9-py3-none-any.whl (259 kB)\n",
            "\u001b[K     |████████████████████████████████| 259 kB 36.5 MB/s \n",
            "\u001b[?25hRequirement already satisfied: torch<2,>=1.3 in /usr/local/lib/python3.7/dist-packages (from pytorch-ignite) (1.12.0+cu113)\n",
            "Requirement already satisfied: packaging in /usr/local/lib/python3.7/dist-packages (from pytorch-ignite) (21.3)\n",
            "Requirement already satisfied: typing-extensions in /usr/local/lib/python3.7/dist-packages (from torch<2,>=1.3->pytorch-ignite) (4.1.1)\n",
            "Requirement already satisfied: pyparsing!=3.0.5,>=2.0.2 in /usr/local/lib/python3.7/dist-packages (from packaging->pytorch-ignite) (3.0.9)\n",
            "Installing collected packages: pytorch-ignite\n",
            "Successfully installed pytorch-ignite-0.4.9\n"
          ]
        }
      ]
    },
    {
      "cell_type": "code",
      "source": [
        "torchmetrics"
      ],
      "metadata": {
        "id": "eZdihvYda3NI"
      },
      "execution_count": null,
      "outputs": []
    },
    {
      "cell_type": "code",
      "source": [
        "from torchmetrics import R2Score\n",
        "target = torch.tensor([3, -0.5, 2, 7])\n",
        "preds = torch.tensor([2.5, 0.0, 2, 8])\n",
        "r2score = R2Score()\n",
        "r2score(preds, target)"
      ],
      "metadata": {
        "colab": {
          "base_uri": "https://localhost:8080/",
          "height": 374
        },
        "id": "G8gHc8xHXBjP",
        "outputId": "91594c97-f035-4a85-e8d0-fc297125daac"
      },
      "execution_count": 122,
      "outputs": [
        {
          "output_type": "error",
          "ename": "ModuleNotFoundError",
          "evalue": "ignored",
          "traceback": [
            "\u001b[0;31m---------------------------------------------------------------------------\u001b[0m",
            "\u001b[0;31mModuleNotFoundError\u001b[0m                       Traceback (most recent call last)",
            "\u001b[0;32m<ipython-input-122-8ae4c23a7c4d>\u001b[0m in \u001b[0;36m<module>\u001b[0;34m()\u001b[0m\n\u001b[0;32m----> 1\u001b[0;31m \u001b[0;32mfrom\u001b[0m \u001b[0mtorchmetrics\u001b[0m \u001b[0;32mimport\u001b[0m \u001b[0mR2Score\u001b[0m\u001b[0;34m\u001b[0m\u001b[0;34m\u001b[0m\u001b[0m\n\u001b[0m\u001b[1;32m      2\u001b[0m \u001b[0mtarget\u001b[0m \u001b[0;34m=\u001b[0m \u001b[0mtorch\u001b[0m\u001b[0;34m.\u001b[0m\u001b[0mtensor\u001b[0m\u001b[0;34m(\u001b[0m\u001b[0;34m[\u001b[0m\u001b[0;36m3\u001b[0m\u001b[0;34m,\u001b[0m \u001b[0;34m-\u001b[0m\u001b[0;36m0.5\u001b[0m\u001b[0;34m,\u001b[0m \u001b[0;36m2\u001b[0m\u001b[0;34m,\u001b[0m \u001b[0;36m7\u001b[0m\u001b[0;34m]\u001b[0m\u001b[0;34m)\u001b[0m\u001b[0;34m\u001b[0m\u001b[0;34m\u001b[0m\u001b[0m\n\u001b[1;32m      3\u001b[0m \u001b[0mpreds\u001b[0m \u001b[0;34m=\u001b[0m \u001b[0mtorch\u001b[0m\u001b[0;34m.\u001b[0m\u001b[0mtensor\u001b[0m\u001b[0;34m(\u001b[0m\u001b[0;34m[\u001b[0m\u001b[0;36m2.5\u001b[0m\u001b[0;34m,\u001b[0m \u001b[0;36m0.0\u001b[0m\u001b[0;34m,\u001b[0m \u001b[0;36m2\u001b[0m\u001b[0;34m,\u001b[0m \u001b[0;36m8\u001b[0m\u001b[0;34m]\u001b[0m\u001b[0;34m)\u001b[0m\u001b[0;34m\u001b[0m\u001b[0;34m\u001b[0m\u001b[0m\n\u001b[1;32m      4\u001b[0m \u001b[0mr2score\u001b[0m \u001b[0;34m=\u001b[0m \u001b[0mR2Score\u001b[0m\u001b[0;34m(\u001b[0m\u001b[0;34m)\u001b[0m\u001b[0;34m\u001b[0m\u001b[0;34m\u001b[0m\u001b[0m\n\u001b[1;32m      5\u001b[0m \u001b[0mr2score\u001b[0m\u001b[0;34m(\u001b[0m\u001b[0mpreds\u001b[0m\u001b[0;34m,\u001b[0m \u001b[0mtarget\u001b[0m\u001b[0;34m)\u001b[0m\u001b[0;34m\u001b[0m\u001b[0;34m\u001b[0m\u001b[0m\n",
            "\u001b[0;31mModuleNotFoundError\u001b[0m: No module named 'torchmetrics'",
            "",
            "\u001b[0;31m---------------------------------------------------------------------------\u001b[0;32m\nNOTE: If your import is failing due to a missing package, you can\nmanually install dependencies using either !pip or !apt.\n\nTo view examples of installing some common dependencies, click the\n\"Open Examples\" button below.\n\u001b[0;31m---------------------------------------------------------------------------\u001b[0m\n"
          ],
          "errorDetails": {
            "actions": [
              {
                "action": "open_url",
                "actionText": "Open Examples",
                "url": "/notebooks/snippets/importing_libraries.ipynb"
              }
            ]
          }
        }
      ]
    },
    {
      "cell_type": "code",
      "source": [
        "R2Score([y_pred, y_true])"
      ],
      "metadata": {
        "colab": {
          "base_uri": "https://localhost:8080/"
        },
        "id": "_040CXnfVeOd",
        "outputId": "760a40db-649f-4eb8-bbd5-5e759b15da09"
      },
      "execution_count": 120,
      "outputs": [
        {
          "output_type": "execute_result",
          "data": {
            "text/plain": [
              "<ignite.contrib.metrics.regression.r2_score.R2Score at 0x7f0634cc0f50>"
            ]
          },
          "metadata": {},
          "execution_count": 120
        }
      ]
    },
    {
      "cell_type": "code",
      "source": [
        ""
      ],
      "metadata": {
        "id": "X2szWtPCVeRB"
      },
      "execution_count": null,
      "outputs": []
    },
    {
      "cell_type": "code",
      "source": [
        "def net_fit(net, train_loader, test_loader, optimizer):\n",
        "    num_epochs = 3\n",
        "\n",
        "    for epoch in range(num_epochs):  \n",
        "        running_loss, running_items, running_right = 0.0, 0.0, 0.0\n",
        "        for i, data in enumerate(train_loader):\n",
        "            inputs, labels = data[0], data[1]\n",
        "\n",
        "            # обнуляем градиент\n",
        "            optimizer.zero_grad()\n",
        "\n",
        "            outputs = net(inputs)\n",
        "            loss = criterion(outputs, labels)\n",
        "            loss.backward()\n",
        "            optimizer.step()\n",
        "\n",
        "            # выводим статистику о процессе обучения\n",
        "            running_loss += loss.item()\n",
        "            running_items += len(labels)\n",
        "            running_right += (labels == torch.max(outputs, 1)[1]).sum()\n",
        "            \n",
        "            # выводим статистику о процессе обучения\n",
        "            if i % 150 == 0:    # печатаем каждые 300 mini-batches\n",
        "                net.eval()\n",
        "                \n",
        "                print(f'Epoch [{epoch + 1}/{num_epochs}]. ' \\\n",
        "                      f'Step [{i + 1}/{len(train_loader)}]. ' \\\n",
        "                      f'Loss: {running_loss / running_items:.3f}. ' \\\n",
        "                      f'Acc: {running_right / running_items:.3f}', end='. ')\n",
        "                running_loss, running_items, running_right = 0.0, 0.0, 0.0\n",
        "\n",
        "                test_running_right, test_running_total = 0.0, 0.0\n",
        "                for i, data in enumerate(test_loader):\n",
        "                \n",
        "                    test_outputs = net(data[0])\n",
        "                    test_running_total += len(data[1])\n",
        "                    test_running_right += (data[1] == torch.max(test_outputs, 1)[1]).sum()\n",
        "                \n",
        "                print(f'Test acc: {test_running_right / test_running_total:.3f}')\n",
        "                net.train()\n",
        "            \n",
        "    print('Training is finished!')\n",
        "    return net"
      ],
      "metadata": {
        "id": "Z4sERZ25LZHY"
      },
      "execution_count": null,
      "outputs": []
    },
    {
      "cell_type": "code",
      "source": [
        "# inp, lbl = data_iter.next()"
      ],
      "metadata": {
        "id": "p7kcm1-97tTa"
      },
      "execution_count": null,
      "outputs": []
    },
    {
      "cell_type": "code",
      "source": [
        "# type(train_dataset[0][1])"
      ],
      "metadata": {
        "id": "W0DUWX-D76Cc"
      },
      "execution_count": null,
      "outputs": []
    },
    {
      "cell_type": "code",
      "source": [
        "# lbl.shape"
      ],
      "metadata": {
        "id": "dUGg_5YL_KjE"
      },
      "execution_count": null,
      "outputs": []
    },
    {
      "cell_type": "code",
      "source": [
        ""
      ],
      "metadata": {
        "id": "0wkqJapt6yKd"
      },
      "execution_count": null,
      "outputs": []
    }
  ],
  "metadata": {
    "kernelspec": {
      "display_name": "Python 3",
      "language": "python",
      "name": "python3"
    },
    "language_info": {
      "codemirror_mode": {
        "name": "ipython",
        "version": 3
      },
      "file_extension": ".py",
      "mimetype": "text/x-python",
      "name": "python",
      "nbconvert_exporter": "python",
      "pygments_lexer": "ipython3",
      "version": "3.7.4"
    },
    "colab": {
      "name": "PyTorch Lesson_3.ipynb",
      "provenance": [],
      "collapsed_sections": [],
      "toc_visible": true
    },
    "widgets": {
      "application/vnd.jupyter.widget-state+json": {
        "208dfe63c73a4d10928ca7b9db7ad16a": {
          "model_module": "@jupyter-widgets/controls",
          "model_name": "HBoxModel",
          "model_module_version": "1.5.0",
          "state": {
            "_dom_classes": [],
            "_model_module": "@jupyter-widgets/controls",
            "_model_module_version": "1.5.0",
            "_model_name": "HBoxModel",
            "_view_count": null,
            "_view_module": "@jupyter-widgets/controls",
            "_view_module_version": "1.5.0",
            "_view_name": "HBoxView",
            "box_style": "",
            "children": [
              "IPY_MODEL_f5b3933b40b040809d4c52084d52dea5",
              "IPY_MODEL_bb5e80a3fe79436285fbac83e61b4aeb",
              "IPY_MODEL_6e511d70d98244b9b56aa29288267e20"
            ],
            "layout": "IPY_MODEL_893e2f7eca3a4285bd2b6bf9cd4abed0"
          }
        },
        "f5b3933b40b040809d4c52084d52dea5": {
          "model_module": "@jupyter-widgets/controls",
          "model_name": "HTMLModel",
          "model_module_version": "1.5.0",
          "state": {
            "_dom_classes": [],
            "_model_module": "@jupyter-widgets/controls",
            "_model_module_version": "1.5.0",
            "_model_name": "HTMLModel",
            "_view_count": null,
            "_view_module": "@jupyter-widgets/controls",
            "_view_module_version": "1.5.0",
            "_view_name": "HTMLView",
            "description": "",
            "description_tooltip": null,
            "layout": "IPY_MODEL_3b58dcdd5627410db0bea36c55cf737a",
            "placeholder": "​",
            "style": "IPY_MODEL_5010a96981f14192bafd53b688a510dd",
            "value": "100%"
          }
        },
        "bb5e80a3fe79436285fbac83e61b4aeb": {
          "model_module": "@jupyter-widgets/controls",
          "model_name": "FloatProgressModel",
          "model_module_version": "1.5.0",
          "state": {
            "_dom_classes": [],
            "_model_module": "@jupyter-widgets/controls",
            "_model_module_version": "1.5.0",
            "_model_name": "FloatProgressModel",
            "_view_count": null,
            "_view_module": "@jupyter-widgets/controls",
            "_view_module_version": "1.5.0",
            "_view_name": "ProgressView",
            "bar_style": "success",
            "description": "",
            "description_tooltip": null,
            "layout": "IPY_MODEL_4196601eb90747efb6d7e7b0fcaa821a",
            "max": 170498071,
            "min": 0,
            "orientation": "horizontal",
            "style": "IPY_MODEL_b5e054ed319b46c4950a00677a860a0e",
            "value": 170498071
          }
        },
        "6e511d70d98244b9b56aa29288267e20": {
          "model_module": "@jupyter-widgets/controls",
          "model_name": "HTMLModel",
          "model_module_version": "1.5.0",
          "state": {
            "_dom_classes": [],
            "_model_module": "@jupyter-widgets/controls",
            "_model_module_version": "1.5.0",
            "_model_name": "HTMLModel",
            "_view_count": null,
            "_view_module": "@jupyter-widgets/controls",
            "_view_module_version": "1.5.0",
            "_view_name": "HTMLView",
            "description": "",
            "description_tooltip": null,
            "layout": "IPY_MODEL_9c1e7cea18734ad0a14d7abc7a704c5c",
            "placeholder": "​",
            "style": "IPY_MODEL_12828e401eb149b5b124112397859bd3",
            "value": " 170498071/170498071 [00:04&lt;00:00, 60054706.46it/s]"
          }
        },
        "893e2f7eca3a4285bd2b6bf9cd4abed0": {
          "model_module": "@jupyter-widgets/base",
          "model_name": "LayoutModel",
          "model_module_version": "1.2.0",
          "state": {
            "_model_module": "@jupyter-widgets/base",
            "_model_module_version": "1.2.0",
            "_model_name": "LayoutModel",
            "_view_count": null,
            "_view_module": "@jupyter-widgets/base",
            "_view_module_version": "1.2.0",
            "_view_name": "LayoutView",
            "align_content": null,
            "align_items": null,
            "align_self": null,
            "border": null,
            "bottom": null,
            "display": null,
            "flex": null,
            "flex_flow": null,
            "grid_area": null,
            "grid_auto_columns": null,
            "grid_auto_flow": null,
            "grid_auto_rows": null,
            "grid_column": null,
            "grid_gap": null,
            "grid_row": null,
            "grid_template_areas": null,
            "grid_template_columns": null,
            "grid_template_rows": null,
            "height": null,
            "justify_content": null,
            "justify_items": null,
            "left": null,
            "margin": null,
            "max_height": null,
            "max_width": null,
            "min_height": null,
            "min_width": null,
            "object_fit": null,
            "object_position": null,
            "order": null,
            "overflow": null,
            "overflow_x": null,
            "overflow_y": null,
            "padding": null,
            "right": null,
            "top": null,
            "visibility": null,
            "width": null
          }
        },
        "3b58dcdd5627410db0bea36c55cf737a": {
          "model_module": "@jupyter-widgets/base",
          "model_name": "LayoutModel",
          "model_module_version": "1.2.0",
          "state": {
            "_model_module": "@jupyter-widgets/base",
            "_model_module_version": "1.2.0",
            "_model_name": "LayoutModel",
            "_view_count": null,
            "_view_module": "@jupyter-widgets/base",
            "_view_module_version": "1.2.0",
            "_view_name": "LayoutView",
            "align_content": null,
            "align_items": null,
            "align_self": null,
            "border": null,
            "bottom": null,
            "display": null,
            "flex": null,
            "flex_flow": null,
            "grid_area": null,
            "grid_auto_columns": null,
            "grid_auto_flow": null,
            "grid_auto_rows": null,
            "grid_column": null,
            "grid_gap": null,
            "grid_row": null,
            "grid_template_areas": null,
            "grid_template_columns": null,
            "grid_template_rows": null,
            "height": null,
            "justify_content": null,
            "justify_items": null,
            "left": null,
            "margin": null,
            "max_height": null,
            "max_width": null,
            "min_height": null,
            "min_width": null,
            "object_fit": null,
            "object_position": null,
            "order": null,
            "overflow": null,
            "overflow_x": null,
            "overflow_y": null,
            "padding": null,
            "right": null,
            "top": null,
            "visibility": null,
            "width": null
          }
        },
        "5010a96981f14192bafd53b688a510dd": {
          "model_module": "@jupyter-widgets/controls",
          "model_name": "DescriptionStyleModel",
          "model_module_version": "1.5.0",
          "state": {
            "_model_module": "@jupyter-widgets/controls",
            "_model_module_version": "1.5.0",
            "_model_name": "DescriptionStyleModel",
            "_view_count": null,
            "_view_module": "@jupyter-widgets/base",
            "_view_module_version": "1.2.0",
            "_view_name": "StyleView",
            "description_width": ""
          }
        },
        "4196601eb90747efb6d7e7b0fcaa821a": {
          "model_module": "@jupyter-widgets/base",
          "model_name": "LayoutModel",
          "model_module_version": "1.2.0",
          "state": {
            "_model_module": "@jupyter-widgets/base",
            "_model_module_version": "1.2.0",
            "_model_name": "LayoutModel",
            "_view_count": null,
            "_view_module": "@jupyter-widgets/base",
            "_view_module_version": "1.2.0",
            "_view_name": "LayoutView",
            "align_content": null,
            "align_items": null,
            "align_self": null,
            "border": null,
            "bottom": null,
            "display": null,
            "flex": null,
            "flex_flow": null,
            "grid_area": null,
            "grid_auto_columns": null,
            "grid_auto_flow": null,
            "grid_auto_rows": null,
            "grid_column": null,
            "grid_gap": null,
            "grid_row": null,
            "grid_template_areas": null,
            "grid_template_columns": null,
            "grid_template_rows": null,
            "height": null,
            "justify_content": null,
            "justify_items": null,
            "left": null,
            "margin": null,
            "max_height": null,
            "max_width": null,
            "min_height": null,
            "min_width": null,
            "object_fit": null,
            "object_position": null,
            "order": null,
            "overflow": null,
            "overflow_x": null,
            "overflow_y": null,
            "padding": null,
            "right": null,
            "top": null,
            "visibility": null,
            "width": null
          }
        },
        "b5e054ed319b46c4950a00677a860a0e": {
          "model_module": "@jupyter-widgets/controls",
          "model_name": "ProgressStyleModel",
          "model_module_version": "1.5.0",
          "state": {
            "_model_module": "@jupyter-widgets/controls",
            "_model_module_version": "1.5.0",
            "_model_name": "ProgressStyleModel",
            "_view_count": null,
            "_view_module": "@jupyter-widgets/base",
            "_view_module_version": "1.2.0",
            "_view_name": "StyleView",
            "bar_color": null,
            "description_width": ""
          }
        },
        "9c1e7cea18734ad0a14d7abc7a704c5c": {
          "model_module": "@jupyter-widgets/base",
          "model_name": "LayoutModel",
          "model_module_version": "1.2.0",
          "state": {
            "_model_module": "@jupyter-widgets/base",
            "_model_module_version": "1.2.0",
            "_model_name": "LayoutModel",
            "_view_count": null,
            "_view_module": "@jupyter-widgets/base",
            "_view_module_version": "1.2.0",
            "_view_name": "LayoutView",
            "align_content": null,
            "align_items": null,
            "align_self": null,
            "border": null,
            "bottom": null,
            "display": null,
            "flex": null,
            "flex_flow": null,
            "grid_area": null,
            "grid_auto_columns": null,
            "grid_auto_flow": null,
            "grid_auto_rows": null,
            "grid_column": null,
            "grid_gap": null,
            "grid_row": null,
            "grid_template_areas": null,
            "grid_template_columns": null,
            "grid_template_rows": null,
            "height": null,
            "justify_content": null,
            "justify_items": null,
            "left": null,
            "margin": null,
            "max_height": null,
            "max_width": null,
            "min_height": null,
            "min_width": null,
            "object_fit": null,
            "object_position": null,
            "order": null,
            "overflow": null,
            "overflow_x": null,
            "overflow_y": null,
            "padding": null,
            "right": null,
            "top": null,
            "visibility": null,
            "width": null
          }
        },
        "12828e401eb149b5b124112397859bd3": {
          "model_module": "@jupyter-widgets/controls",
          "model_name": "DescriptionStyleModel",
          "model_module_version": "1.5.0",
          "state": {
            "_model_module": "@jupyter-widgets/controls",
            "_model_module_version": "1.5.0",
            "_model_name": "DescriptionStyleModel",
            "_view_count": null,
            "_view_module": "@jupyter-widgets/base",
            "_view_module_version": "1.2.0",
            "_view_name": "StyleView",
            "description_width": ""
          }
        }
      }
    },
    "accelerator": "GPU",
    "gpuClass": "standard"
  },
  "nbformat": 4,
  "nbformat_minor": 0
}