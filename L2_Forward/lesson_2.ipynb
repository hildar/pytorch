{
  "cells": [
    {
      "cell_type": "markdown",
      "metadata": {
        "id": "b2FXQKvGtZ2D"
      },
      "source": [
        "# Feed-forward neural network"
      ]
    },
    {
      "cell_type": "markdown",
      "metadata": {
        "id": "CnD4Qj8WtZ2I"
      },
      "source": [
        "<img src=\"https://drive.google.com/uc?export=view&id=1K1rumu2ZTPO0S7-7f7nNegp-D-MXrUI-\">\n",
        "\n",
        "Давайте вспомним, что такое нейронные сети прямого распространения. \n",
        "\n",
        "Нейронные сети прямого распространения (feed forward neural networks, FF или FFNN) и перцептроны (perceptrons, P) очень прямолинейны, они передают информацию от входа к выходу. Нейронные сети часто описываются в виде слоёного торта, где каждый слой состоит из входных, скрытых или выходных клеток. Клетки одного слоя не связаны между собой, а соседние слои обычно полностью связаны. Самая простая нейронная сеть имеет две входных клетки и одну выходную, и может использоваться в качестве модели логических вентилей. FFNN обычно обучается по методу обратного распространения ошибки, в котором сеть получает множества входных и выходных данных. Этот процесс называется обучением с учителем, и он отличается от обучения без учителя тем, что во втором случае множество выходных данных сеть составляет самостоятельно. Вышеупомянутая ошибка является разницей между вводом и выводом. Если у сети есть достаточное количество скрытых нейронов, она теоретически способна смоделировать взаимодействие между входным и выходными данными. Практически такие сети используются редко, но их часто комбинируют с другими типами для получения новых.\n",
        "\n",
        "По сути - это последовательность матричных умножений"
      ]
    },
    {
      "cell_type": "markdown",
      "metadata": {
        "id": "J233-U8Blrfy"
      },
      "source": [
        "### Инициализация весов и функции активации\n",
        "\n",
        "<img src='https://drive.google.com/uc?export=view&id=14zSYfRzDax_bDT-8wir83UJx2DUUdxst'>"
      ]
    },
    {
      "cell_type": "markdown",
      "metadata": {
        "id": "BzH24z7-lrf0"
      },
      "source": [
        "#### Проблема затухающего градиента"
      ]
    },
    {
      "cell_type": "markdown",
      "metadata": {
        "id": "jbrlEjKllrf0"
      },
      "source": [
        "Инициализируются веса случайным образом. Но нужно правильным образом инициализировать веса этими случайными значениями чтобы все сошлось.\n",
        "Почему очень часто люди выбирают Relu в качестве функции активации. Очень большая проблема - это проблема затухающего градиента. \n",
        "$$tanh(x) = \\frac{2}{1+\\mathrm{e}^{-2x}}-1 $$"
      ]
    },
    {
      "cell_type": "markdown",
      "metadata": {
        "id": "c05tcJYAlrf2"
      },
      "source": [
        "Раньше нейросети обучали с помощью такой гладкой функцией нелинейности называемой гипорболическим тангенсом. С  ней есть следующая проблема. Предположим что на вход она получила какое-то большое число. Например 4. на выходе эта функия выдаст 1,т.к. 4 очень близко к месту насыщения. На обратном проходе она получит градиент который тоже равен 1. И что же она выдаст на выходе обратного распространения? А выдаст она 0, т.к. в этой точке функция уже не чувствительна к смещению.\n",
        "Это значит, что как только мы вышли из эффективного пространства этой функции, она сразу уводит значения в 1 или -1 и после этого уже вывести его от туда сверх сложно. Т.к. любой градиент который мы в нее пошлем она превратит в близкое к нулю значение. \n",
        "И если наша система состоит из большого количества слоев таких функций, то как только любой из них доходит до такого значения - он сразу убивает возможность нормально тренироваться всей предыдущей части сети. "
      ]
    },
    {
      "cell_type": "markdown",
      "metadata": {
        "id": "MO7ay4JAlrf2"
      },
      "source": [
        "<img src='https://drive.google.com/uc?export=view&id=19oHVl2sLsfro7C0Jlz2fL_zoHeL5hUYl' width=800>"
      ]
    },
    {
      "cell_type": "markdown",
      "metadata": {
        "id": "aC2tuCnHlrf3"
      },
      "source": [
        "#### Rectifier Linear Unit ReLU\n",
        "\n",
        "[pytorch doc](https://pytorch.org/docs/stable/generated/torch.nn.ReLU.html#torch.nn.ReLU)\n",
        "\n",
        "А вот у ReLU нет такой проблемы, т.к. она нигде не выходит ни на какую ассимптоту. Она продолжает идти дальше по мере возрастания. Поэтому градиент никогда не затухает даже если очень много слоев впихнуть последовательно. "
      ]
    },
    {
      "cell_type": "markdown",
      "metadata": {
        "id": "vb_72xgNlrf3"
      },
      "source": [
        "<img src='https://drive.google.com/uc?export=view&id=12Yp-5AdkSQl99jeMXkECEgLtFBAZ8zCa' width=400>"
      ]
    },
    {
      "cell_type": "markdown",
      "metadata": {
        "id": "Uqh5IUcclrf4"
      },
      "source": [
        "Как реализовано в pytorch:"
      ]
    },
    {
      "cell_type": "code",
      "metadata": {
        "id": "DfSChYvFlrf5",
        "colab": {
          "base_uri": "https://localhost:8080/"
        },
        "outputId": "f92502bb-16d7-4eb4-b5af-781c8ac545c3"
      },
      "source": [
        "import torch\n",
        "\n",
        "torch.nn.ReLU()"
      ],
      "execution_count": null,
      "outputs": [
        {
          "output_type": "execute_result",
          "data": {
            "text/plain": [
              "ReLU()"
            ]
          },
          "metadata": {},
          "execution_count": 1
        }
      ]
    },
    {
      "cell_type": "markdown",
      "metadata": {
        "id": "R6XOSAXalrf5"
      },
      "source": [
        "Но у ReLU есть следующая проблема: бывает так, что  в какой-то момент у конкретной ReLU все точки датасета лежат в области < 0. Т.е. там градиент всегда ноль. Никакая оптимизация не сдвинет ему веса. Но на практике процент нейронов с такой функцией активации очень мал, что не особо мешает обучению.   \n",
        "Но в современном мире есть альтернативные варианты для ReLU:"
      ]
    },
    {
      "cell_type": "markdown",
      "metadata": {
        "id": "W5YC2V_Ulrf6"
      },
      "source": [
        "<img src='https://drive.google.com/uc?export=view&id=1i1mBXeRaThObNEDYw4fPnHb9AQsju9en' width=600>"
      ]
    },
    {
      "cell_type": "markdown",
      "metadata": {
        "id": "ILmXmrGOlrf6"
      },
      "source": [
        "[pytorch doc](https://pytorch.org/docs/stable/generated/torch.nn.LeakyReLU.html#torch.nn.LeakyReLU)\n",
        "\n",
        "Как реализовано в pytorch:"
      ]
    },
    {
      "cell_type": "code",
      "metadata": {
        "id": "6o7j0cE9lrf7",
        "colab": {
          "base_uri": "https://localhost:8080/"
        },
        "outputId": "558d4e70-f0c7-4852-bca7-7f5418b42627"
      },
      "source": [
        "torch.nn.LeakyReLU(negative_slope=0.01)"
      ],
      "execution_count": null,
      "outputs": [
        {
          "output_type": "execute_result",
          "data": {
            "text/plain": [
              "LeakyReLU(negative_slope=0.01)"
            ]
          },
          "metadata": {},
          "execution_count": 2
        }
      ]
    },
    {
      "cell_type": "markdown",
      "metadata": {
        "id": "jxTCMoQXlrf8"
      },
      "source": [
        "<img src='https://drive.google.com/uc?export=view&id=1yUQbnVHMlTZ6SCvSal-SH5bm5lee1gfD' width=400>"
      ]
    },
    {
      "cell_type": "markdown",
      "metadata": {
        "id": "9GSBl71Hlrf8"
      },
      "source": [
        "[pytorch doc](https://pytorch.org/docs/stable/generated/torch.nn.ELU.html#torch.nn.ELU)\n",
        "\n",
        "Как реализовано в pytorch:"
      ]
    },
    {
      "cell_type": "code",
      "metadata": {
        "id": "GIun7UdVlrf9",
        "colab": {
          "base_uri": "https://localhost:8080/"
        },
        "outputId": "7f2edafa-c7fb-4ab4-e71a-42a8510cef97"
      },
      "source": [
        "torch.nn.ELU(alpha=1.0)"
      ],
      "execution_count": null,
      "outputs": [
        {
          "output_type": "execute_result",
          "data": {
            "text/plain": [
              "ELU(alpha=1.0)"
            ]
          },
          "metadata": {},
          "execution_count": 3
        }
      ]
    },
    {
      "cell_type": "markdown",
      "metadata": {
        "id": "qNkbbIzBlrf9"
      },
      "source": [
        "С остальными функциями активации вы можете ознакомится [здесь](https://pytorch.org/docs/stable/nn.html#non-linear-activations-weighted-sum-nonlinearity) и [здесь](https://pytorch.org/docs/stable/nn.html#non-linear-activations-other)"
      ]
    },
    {
      "cell_type": "markdown",
      "metadata": {
        "id": "jO3LHAyIlrf-"
      },
      "source": [
        "#### Инициализация весов\n",
        "\n",
        "В самом простом варианте мы можем инициализировать наши веса следующим образом:\n",
        "\n",
        "$$w = a * random(width, height)$$"
      ]
    },
    {
      "cell_type": "markdown",
      "metadata": {
        "id": "A1fTRwIGlrgB"
      },
      "source": [
        "Какая тут у нас может возникнуть проблема? Мы начинаем тренировку с того что подаем X и прогоняем его через большое количество слоев.   \n",
        "Важный вопрос : как выбрать a? В чем проблема? Если мы например выберем a>>1, то каждый из следующих слоев будет умножать выход примерно на a, второй слой на а в квадрате и т.д. И это очень быстро растущая функция. В конце в итоге получится очень большое число, которое может выйти за пределы всех допустимых вычислений. И вернуть по этому числу градиент будет очень сложно.  \n",
        "А если а<<1, то точно так же градиент будет затухать что приведет к проблеме затухающего градиента.  \n",
        "Т.е. а нужно выбирать так, что бы функции активации не сильно увеличивались и не сильно уменьшались."
      ]
    },
    {
      "cell_type": "markdown",
      "metadata": {
        "id": "1ShK7sF1Sy43"
      },
      "source": [
        "<img src='https://drive.google.com/uc?export=view&id=1ucOBrTAjt4RwlRK8IKsXftls-XOy1f22' width=600>"
      ]
    },
    {
      "cell_type": "markdown",
      "metadata": {
        "id": "9gNDGeCvlrgB"
      },
      "source": [
        "Есть методы, которые позволяют по размерам w вычислить это правильное значение а:\n",
        "\n",
        "Со всеми можно познакомиться в разделе [torch.nn.init](https://pytorch.org/docs/stable/nn.init.html) "
      ]
    },
    {
      "cell_type": "markdown",
      "metadata": {
        "id": "54rM2BeclrgC"
      },
      "source": [
        "##### Xavier initialization\n",
        "\n",
        "[статья](http://citeseerx.ist.psu.edu/viewdoc/download?doi=10.1.1.207.2059&rep=rep1&type=pdf)\n",
        "\n",
        "$$a = \\frac{1}{sqrt(in\\_num)}\\\\W = a * random({in\\_num}, {out\\_num})$$\n",
        "\n",
        "\n",
        "<img src='https://drive.google.com/uc?export=view&id=1ZzTgjrfAx0l2p_64K6TWZEcCze1cDML6' width=600>"
      ]
    },
    {
      "cell_type": "markdown",
      "metadata": {
        "id": "FDx96959lrgD"
      },
      "source": [
        "Как реализовано в pytorch:"
      ]
    },
    {
      "cell_type": "code",
      "metadata": {
        "id": "gS4XLj9hlrgE",
        "colab": {
          "base_uri": "https://localhost:8080/"
        },
        "outputId": "aee26e95-47a6-4e70-ffb1-6562ca48587f"
      },
      "source": [
        "torch.nn.init.xavier_normal_(torch.empty(3, 5))"
      ],
      "execution_count": null,
      "outputs": [
        {
          "output_type": "execute_result",
          "data": {
            "text/plain": [
              "tensor([[ 0.5218,  0.1344,  0.4690,  0.0036, -0.3246],\n",
              "        [-0.3350,  0.7189, -0.9298, -0.6071, -0.2655],\n",
              "        [-0.0646,  0.5094,  0.5042, -1.5569,  0.4028]])"
            ]
          },
          "metadata": {},
          "execution_count": 4
        }
      ]
    },
    {
      "cell_type": "markdown",
      "metadata": {
        "id": "vQva7xCXlrgF"
      },
      "source": [
        "##### He initialization\n",
        "\n",
        "[статья](https://arxiv.org/abs/1502.01852)\n",
        "\n",
        "Небольшой апдейт метода выше. Предназначается для сетей с активацией ReLU. \n",
        "\n",
        "$$a = \\frac{1}{sqrt(2/in\\_num)}\\\\W = a * random({in\\_num}, {out\\_num})$$"
      ]
    },
    {
      "cell_type": "markdown",
      "metadata": {
        "id": "Gw97J36-lrgF"
      },
      "source": [
        "<img src='https://drive.google.com/uc?export=view&id=1uZmbOPqQhK-JUg_e-1poGEF-O9-R4zLM' width=600>"
      ]
    },
    {
      "cell_type": "markdown",
      "metadata": {
        "id": "0jf1X4EvlrgG"
      },
      "source": [
        "Как реализовано в pytorch:"
      ]
    },
    {
      "cell_type": "code",
      "metadata": {
        "id": "291487DZlrgG",
        "colab": {
          "base_uri": "https://localhost:8080/"
        },
        "outputId": "5f5b82b7-97b6-47d0-8eda-3c91e501164f"
      },
      "source": [
        "torch.nn.init.kaiming_normal_(torch.empty(3, 5))"
      ],
      "execution_count": null,
      "outputs": [
        {
          "output_type": "execute_result",
          "data": {
            "text/plain": [
              "tensor([[ 0.1550, -0.3872,  1.0005, -0.5005, -0.3212],\n",
              "        [-0.4909,  0.7610,  0.3805,  0.5564, -0.6081],\n",
              "        [ 0.1873, -0.2001, -0.2258, -0.3303,  0.5269]])"
            ]
          },
          "metadata": {},
          "execution_count": 5
        }
      ]
    },
    {
      "cell_type": "markdown",
      "source": [
        "## Пример feed-forward сети"
      ],
      "metadata": {
        "id": "DRbThpxYvsC8"
      }
    },
    {
      "cell_type": "markdown",
      "source": [
        "Напишим небольшую полносвязную сеть на торче."
      ],
      "metadata": {
        "id": "Rg5iDYoFvmNu"
      }
    },
    {
      "cell_type": "code",
      "execution_count": null,
      "metadata": {
        "id": "YVb6A-bvtZ2P"
      },
      "outputs": [],
      "source": [
        "import torch\n",
        "import numpy as np\n",
        "import torch.nn.functional as F\n",
        "from torch import nn\n",
        "import torchvision"
      ]
    },
    {
      "cell_type": "code",
      "execution_count": null,
      "metadata": {
        "id": "ITonhzkPtZ2T"
      },
      "outputs": [],
      "source": [
        "class Perceptron(nn.Module):\n",
        "    def __init__(self):\n",
        "        super().__init__()\n",
        "        self.fc = nn.Linear(1, 1)\n",
        "        # torch.nn.init.xavier_uniform(self.fc.weight)\n",
        "        print(self.fc)\n",
        "        self.relu = nn.ReLU()\n",
        "\n",
        "    def forward(self, x):\n",
        "        print('input', x)\n",
        "        output = self.fc(x)\n",
        "        print('output fc', output)\n",
        "        output = self.relu(output)\n",
        "        print('output relu', output)\n",
        "        return output"
      ]
    },
    {
      "cell_type": "code",
      "execution_count": null,
      "metadata": {
        "colab": {
          "base_uri": "https://localhost:8080/"
        },
        "id": "jXIFauNttZ2V",
        "outputId": "f8125244-33e5-46b5-f151-b6368ff977c5"
      },
      "outputs": [
        {
          "output_type": "stream",
          "name": "stdout",
          "text": [
            "Linear(in_features=1, out_features=1, bias=True)\n"
          ]
        },
        {
          "output_type": "execute_result",
          "data": {
            "text/plain": [
              "Perceptron(\n",
              "  (fc): Linear(in_features=1, out_features=1, bias=True)\n",
              "  (relu): ReLU()\n",
              ")"
            ]
          },
          "metadata": {},
          "execution_count": 18
        }
      ],
      "source": [
        "perc = Perceptron()\n",
        "perc"
      ]
    },
    {
      "cell_type": "code",
      "execution_count": null,
      "metadata": {
        "colab": {
          "base_uri": "https://localhost:8080/"
        },
        "id": "M3nV8WkRtZ2Z",
        "outputId": "7278beb2-aabe-4252-a84e-f55143ef119b"
      },
      "outputs": [
        {
          "output_type": "stream",
          "name": "stdout",
          "text": [
            "input tensor([5.])\n",
            "output fc tensor([2.4444], grad_fn=<AddBackward0>)\n",
            "output relu tensor([2.4444], grad_fn=<ReluBackward0>)\n"
          ]
        },
        {
          "output_type": "execute_result",
          "data": {
            "text/plain": [
              "tensor([2.4444], grad_fn=<ReluBackward0>)"
            ]
          },
          "metadata": {},
          "execution_count": 53
        }
      ],
      "source": [
        "# Так выглядит инференс нейронной сети по входным данным\n",
        "perc(torch.FloatTensor([5]))"
      ]
    },
    {
      "cell_type": "code",
      "execution_count": null,
      "metadata": {
        "colab": {
          "base_uri": "https://localhost:8080/"
        },
        "id": "Flrzm6y8tZ2b",
        "outputId": "8d667994-58a3-4faf-b909-a343ed923026"
      },
      "outputs": [
        {
          "output_type": "execute_result",
          "data": {
            "text/plain": [
              "(Parameter containing:\n",
              " tensor([[0.6823]], requires_grad=True), Parameter containing:\n",
              " tensor([-0.9670], requires_grad=True))"
            ]
          },
          "metadata": {},
          "execution_count": 54
        }
      ],
      "source": [
        "perc.fc.weight, perc.fc.bias"
      ]
    },
    {
      "cell_type": "markdown",
      "metadata": {
        "id": "4imK6lCNtZ2f"
      },
      "source": [
        "# Посмотрим на более сложную архитектуру"
      ]
    },
    {
      "cell_type": "code",
      "execution_count": null,
      "metadata": {
        "id": "h5MuL2WKtZ2j"
      },
      "outputs": [],
      "source": [
        "class Feedforward(nn.Module):\n",
        "    def __init__(self, input_size, hidden_size):\n",
        "        super().__init__()\n",
        "        self.input_size = input_size\n",
        "        self.hidden_size  = hidden_size\n",
        "        self.fc1 = torch.nn.Linear(self.input_size, self.hidden_size)\n",
        "        self.relu = torch.nn.ReLU()\n",
        "        self.fc2 = torch.nn.Linear(self.hidden_size, 1)\n",
        "        self.sigmoid = torch.nn.Sigmoid()\n",
        "        \n",
        "    def forward(self, x):\n",
        "        x = self.fc1(x)\n",
        "        x = self.relu(x)\n",
        "        x = self.fc2(x)\n",
        "        x = self.sigmoid(x)\n",
        "        return x"
      ]
    },
    {
      "cell_type": "code",
      "execution_count": null,
      "metadata": {
        "id": "2p6kLTlmtZ2o"
      },
      "outputs": [],
      "source": [
        "class Perceptron(nn.Module):\n",
        "    def __init__(self, input_dim, output_dim, activation=\"relu\"):\n",
        "        super(Perceptron, self).__init__()\n",
        "        self.fc = nn.Linear(input_dim, output_dim)\n",
        "        self.activation = activation\n",
        "        \n",
        "    def forward(self, x):\n",
        "        x = self.fc(x)\n",
        "        if self.activation == \"relu\":\n",
        "            return F.relu(x)\n",
        "        if self.activation == \"sigmoid\":\n",
        "            return F.sigmoid(x)\n",
        "        raise RuntimeError\n",
        "        \n",
        "\n",
        "class FeedForward(nn.Module):\n",
        "    def __init__(self, input_dim, hidden_dim):\n",
        "        self.fc1 = Perceptron(input_dim, hidden_dim)\n",
        "        self.fc2 = Perceptron(hidden_dim, 1, \"sigmoid\")\n",
        "        \n",
        "    def forward(self, x):\n",
        "        x = self.fc1(x)\n",
        "        x = self.fc2(x)\n",
        "        print(x)\n",
        "        return x"
      ]
    },
    {
      "cell_type": "code",
      "execution_count": null,
      "metadata": {
        "id": "QssAD3QHtZ2q"
      },
      "outputs": [],
      "source": [
        "from sklearn.datasets import make_classification\n",
        "\n",
        "\n",
        "x_train, y_train = make_classification(random_state=1, n_samples=40, n_features=2, n_informative=2, n_redundant=0, shuffle=True)\n",
        "x_train = torch.FloatTensor(x_train)\n",
        "y_train = torch.FloatTensor(y_train)\n",
        "\n",
        "x_test, y_test = make_classification(random_state=1, n_samples=10, n_features=2, n_informative=2, n_redundant=0, shuffle=True)\n",
        "x_test = torch.FloatTensor(x_test)\n",
        "y_test = torch.FloatTensor(y_test)"
      ]
    },
    {
      "cell_type": "code",
      "execution_count": null,
      "metadata": {
        "id": "5JTEgh3BtZ2r"
      },
      "outputs": [],
      "source": [
        "import matplotlib.pyplot as plt\n",
        "\n",
        "# %pylab inline"
      ]
    },
    {
      "cell_type": "code",
      "execution_count": null,
      "metadata": {
        "colab": {
          "base_uri": "https://localhost:8080/",
          "height": 265
        },
        "id": "8HEr5GYOtZ2s",
        "outputId": "90dec6d5-795b-4ca4-e0ec-3a8c112a2daa"
      },
      "outputs": [
        {
          "output_type": "display_data",
          "data": {
            "text/plain": [
              "<Figure size 432x288 with 1 Axes>"
            ],
            "image/png": "[encoded data removed]"
          },
          "metadata": {
            "needs_background": "light"
          }
        }
      ],
      "source": [
        "plt.scatter(x_train.numpy()[:, 0], x_train.numpy()[:, 1], c=y_train.numpy())\n",
        "plt.scatter(x_test.numpy()[:, 0], x_test.numpy()[:, 1], c=y_test.numpy(), marker='+');"
      ]
    },
    {
      "cell_type": "code",
      "execution_count": null,
      "metadata": {
        "id": "zAlJC45MtZ2u"
      },
      "outputs": [],
      "source": [
        "model = Feedforward(2, 1)\n",
        "criterion = torch.nn.BCELoss()\n",
        "optimizer = torch.optim.SGD(model.parameters(), lr=0.01)"
      ]
    },
    {
      "cell_type": "code",
      "execution_count": null,
      "metadata": {
        "colab": {
          "base_uri": "https://localhost:8080/"
        },
        "id": "PZOAh6VntZ2u",
        "outputId": "d45190d8-c9e4-4226-c5ad-72fe9180770f"
      },
      "outputs": [
        {
          "output_type": "stream",
          "name": "stdout",
          "text": [
            "Test loss before training 0.6931115388870239\n"
          ]
        }
      ],
      "source": [
        "model.eval()\n",
        "y_pred = model(x_test)\n",
        "before_train = criterion(y_pred.squeeze(), y_test)\n",
        "print('Test loss before training' , before_train.item())"
      ]
    },
    {
      "cell_type": "code",
      "execution_count": null,
      "metadata": {
        "colab": {
          "base_uri": "https://localhost:8080/"
        },
        "id": "oaPJBBG0tZ2w",
        "outputId": "082682e2-afcf-4ae2-cdb5-60ddd081c52f"
      },
      "outputs": [
        {
          "output_type": "stream",
          "name": "stdout",
          "text": [
            "Epoch 0: train loss: 0.7776726484298706\n",
            "Epoch 100: train loss: 0.7409309148788452\n",
            "Epoch 200: train loss: 0.7154493927955627\n",
            "Epoch 300: train loss: 0.6968469023704529\n",
            "Epoch 400: train loss: 0.6822898983955383\n",
            "Epoch 500: train loss: 0.6692532300949097\n",
            "Epoch 600: train loss: 0.6548384428024292\n",
            "Epoch 700: train loss: 0.638917863368988\n",
            "Epoch 800: train loss: 0.6221844553947449\n",
            "Epoch 900: train loss: 0.6039155721664429\n",
            "Epoch 1000: train loss: 0.580295741558075\n",
            "Epoch 1100: train loss: 0.5492730140686035\n",
            "Epoch 1200: train loss: 0.5223451256752014\n",
            "Epoch 1300: train loss: 0.5009826421737671\n",
            "Epoch 1400: train loss: 0.4844059348106384\n",
            "Epoch 1500: train loss: 0.4623485207557678\n",
            "Epoch 1600: train loss: 0.4480856955051422\n",
            "Epoch 1700: train loss: 0.4368252754211426\n",
            "Epoch 1800: train loss: 0.4270758628845215\n",
            "Epoch 1900: train loss: 0.418544203042984\n"
          ]
        }
      ],
      "source": [
        "model.train()\n",
        "epochs = 2000\n",
        "\n",
        "for epoch in range(epochs):\n",
        "    optimizer.zero_grad()\n",
        "\n",
        "    # Forward pass\n",
        "    y_pred = model(x_train)\n",
        "\n",
        "    # Compute Loss\n",
        "    loss = criterion(y_pred.squeeze(), y_train)\n",
        "   \n",
        "    # Backward pass\n",
        "    loss.backward()\n",
        "    optimizer.step()\n",
        "\n",
        "    if epoch % 100 == 0:\n",
        "        print('Epoch {}: train loss: {}'.format(epoch, loss.item()))"
      ]
    },
    {
      "cell_type": "code",
      "execution_count": null,
      "metadata": {
        "colab": {
          "base_uri": "https://localhost:8080/"
        },
        "id": "XofaB1WbtZ2x",
        "outputId": "186f9cc5-6392-45ff-a6d7-aba026b9e886"
      },
      "outputs": [
        {
          "output_type": "stream",
          "name": "stdout",
          "text": [
            "Test loss after Training 2.1875154972076416\n"
          ]
        }
      ],
      "source": [
        "model.eval()\n",
        "y_pred = model(x_test)\n",
        "after_test = criterion(y_pred.squeeze(), y_test) \n",
        "print('Test loss after Training' , after_test.item())"
      ]
    },
    {
      "cell_type": "code",
      "execution_count": null,
      "metadata": {
        "id": "IIl8JhaxtZ2y"
      },
      "outputs": [],
      "source": [
        ""
      ]
    },
    {
      "cell_type": "code",
      "execution_count": null,
      "metadata": {
        "id": "Gp3vmbx3tZ2z"
      },
      "outputs": [],
      "source": [
        "from torch import optim"
      ]
    },
    {
      "cell_type": "code",
      "execution_count": null,
      "metadata": {
        "id": "NzHXA9Q_tZ20"
      },
      "outputs": [],
      "source": [
        "import torchvision.transforms as transforms"
      ]
    },
    {
      "cell_type": "code",
      "execution_count": null,
      "metadata": {
        "colab": {
          "base_uri": "https://localhost:8080/",
          "height": 118,
          "referenced_widgets": [
            "12d5111eacba4b7fbaa1be9a2c6fd5e8",
            "532b0b538d144e9f8cee61da205821dc",
            "49a5c3c309654925a832b23cc093eaf1",
            "e0147a7ac42641a1b530d4172267a5f3",
            "3eeeccd6475f4df2932ead3c35428268",
            "f867f44df781429eaaa2c98ad4ecb0bf",
            "a36a803f80e54c8986833550d63fc123",
            "8e1a2b63ba8f4f44a23a02d5e2b80841",
            "4217b364b3474b68ac8a89241506c4d3",
            "23506035b6bd49f286c04151e9a92a8a",
            "d840d683b6b342a1b7f82c268b45005e"
          ]
        },
        "id": "1ABe6EY5tZ20",
        "outputId": "f4faddf5-7458-4d0a-cfbd-26844e042a76"
      },
      "outputs": [
        {
          "output_type": "stream",
          "name": "stdout",
          "text": [
            "Downloading https://www.cs.toronto.edu/~kriz/cifar-10-python.tar.gz to data/cifar-10-python.tar.gz\n"
          ]
        },
        {
          "output_type": "display_data",
          "data": {
            "text/plain": [
              "  0%|          | 0/170498071 [00:00<?, ?it/s]"
            ],
            "application/vnd.jupyter.widget-view+json": {
              "version_major": 2,
              "version_minor": 0,
              "model_id": "12d5111eacba4b7fbaa1be9a2c6fd5e8"
            }
          },
          "metadata": {}
        },
        {
          "output_type": "stream",
          "name": "stdout",
          "text": [
            "Extracting data/cifar-10-python.tar.gz to data/\n",
            "torch.Size([3, 32, 32])\n",
            "6\n"
          ]
        }
      ],
      "source": [
        "train_dataset = torchvision.datasets.CIFAR10(root='data/',\n",
        "                                             train=True,  \n",
        "                                             transform=transforms.ToTensor(), \n",
        "                                             download=True)\n",
        "\n",
        "\n",
        "image, label = train_dataset[0]\n",
        "print(image.size())\n",
        "print(label)"
      ]
    },
    {
      "cell_type": "code",
      "source": [
        "image.permute(1, 2, 0).shape"
      ],
      "metadata": {
        "colab": {
          "base_uri": "https://localhost:8080/"
        },
        "id": "wgkIcZL6FQWk",
        "outputId": "0e6ab2c9-5246-4119-c497-c104d84d9d68"
      },
      "execution_count": null,
      "outputs": [
        {
          "output_type": "execute_result",
          "data": {
            "text/plain": [
              "torch.Size([32, 32, 3])"
            ]
          },
          "metadata": {},
          "execution_count": 24
        }
      ]
    },
    {
      "cell_type": "code",
      "execution_count": null,
      "metadata": {
        "colab": {
          "base_uri": "https://localhost:8080/",
          "height": 266
        },
        "id": "gk9lX8VdtZ21",
        "outputId": "01a0c116-4267-491e-ea03-20c5c534a875"
      },
      "outputs": [
        {
          "output_type": "display_data",
          "data": {
            "text/plain": [
              "<Figure size 432x288 with 1 Axes>"
            ],
            "image/png": "[encoded data removed]"
          },
          "metadata": {
            "needs_background": "light"
          }
        }
      ],
      "source": [
        "plt.imshow(image.permute(1, 2, 0).numpy());"
      ]
    },
    {
      "cell_type": "code",
      "execution_count": null,
      "metadata": {
        "id": "dzocRyIKtZ22"
      },
      "outputs": [],
      "source": [
        "train_loader = torch.utils.data.DataLoader(dataset=train_dataset,\n",
        "                                           batch_size=64, \n",
        "                                           shuffle=True)"
      ]
    },
    {
      "cell_type": "code",
      "execution_count": null,
      "metadata": {
        "colab": {
          "base_uri": "https://localhost:8080/"
        },
        "id": "K1XeQ1aPtZ23",
        "outputId": "8d468146-6acf-41d7-e4d3-4bcc0a422719"
      },
      "outputs": [
        {
          "output_type": "stream",
          "name": "stdout",
          "text": [
            "Files already downloaded and verified\n"
          ]
        }
      ],
      "source": [
        "test_dataset = torchvision.datasets.CIFAR10(root='./data', train=False,\n",
        "                                            download=True, transform=transforms.ToTensor())\n",
        "test_loader = torch.utils.data.DataLoader(test_dataset, batch_size=8,\n",
        "                                          shuffle=False)"
      ]
    },
    {
      "cell_type": "code",
      "execution_count": null,
      "metadata": {
        "id": "oFYrzU1NtZ24"
      },
      "outputs": [],
      "source": [
        "classes = ('plane', 'car', 'bird', 'cat',\n",
        "           'deer', 'dog', 'frog', 'horse', 'ship', 'truck')"
      ]
    },
    {
      "cell_type": "code",
      "execution_count": null,
      "metadata": {
        "id": "8wS-xS37tZ26",
        "colab": {
          "base_uri": "https://localhost:8080/"
        },
        "outputId": "8551e8d3-8142-4d05-9e5b-b4e7523d8cd0"
      },
      "outputs": [
        {
          "output_type": "execute_result",
          "data": {
            "text/plain": [
              "Net(\n",
              "  (fc1): Linear(in_features=3072, out_features=400, bias=True)\n",
              "  (fc2): Linear(in_features=400, out_features=200, bias=True)\n",
              "  (fc3): Linear(in_features=200, out_features=100, bias=True)\n",
              "  (fc4): Linear(in_features=100, out_features=10, bias=True)\n",
              ")"
            ]
          },
          "metadata": {},
          "execution_count": 29
        }
      ],
      "source": [
        "import torch.nn.functional as F\n",
        "\n",
        "\n",
        "class Net(nn.Module):\n",
        "    def __init__(self, input_dim, hidden_dim, output_dim):\n",
        "        super().__init__()\n",
        "        self.fc1 = nn.Linear(input_dim, 4 * hidden_dim)\n",
        "        self.fc2 = nn.Linear(4 * hidden_dim, 2 * hidden_dim)\n",
        "        self.fc3 = nn.Linear(2 * hidden_dim, hidden_dim)\n",
        "        self.fc4 = nn.Linear(hidden_dim, output_dim)\n",
        "\n",
        "    def forward(self, x):\n",
        "        x = x.view(x.shape[0], -1)\n",
        "        x = self.fc1(x)\n",
        "        x = F.leaky_relu(x)\n",
        "        x = self.fc2(x)\n",
        "        x = F.leaky_relu(x)\n",
        "        x = self.fc3(x)\n",
        "        x = F.leaky_relu(x)\n",
        "        x = self.fc4(x)\n",
        "        return x\n",
        "    \n",
        "    def predict(self, x):\n",
        "        x = x.view(x.shape[0], -1)\n",
        "        x = self.fc1(x)\n",
        "        x = F.leaky_relu(x)\n",
        "        x = self.fc2(x)\n",
        "        x = F.leaky_relu(x)\n",
        "        x = self.fc3(x)\n",
        "        x = F.leaky_relu(x)\n",
        "        x = self.fc4(x)\n",
        "        x = F.softmax(x)\n",
        "        return x\n",
        "\n",
        "\n",
        "net = Net(3072, 100, 10)\n",
        "net.train()"
      ]
    },
    {
      "cell_type": "code",
      "execution_count": null,
      "metadata": {
        "colab": {
          "base_uri": "https://localhost:8080/"
        },
        "id": "Gdc_JriftZ25",
        "outputId": "78c2b60e-f66c-4dd2-d99c-ac28cd606fb4"
      },
      "outputs": [
        {
          "output_type": "execute_result",
          "data": {
            "text/plain": [
              "3072"
            ]
          },
          "metadata": {},
          "execution_count": 30
        }
      ],
      "source": [
        "3 * 32 * 32"
      ]
    },
    {
      "cell_type": "code",
      "execution_count": null,
      "metadata": {
        "id": "cps8zpkctZ26"
      },
      "outputs": [],
      "source": [
        "criterion = nn.CrossEntropyLoss()\n",
        "optimizer = optim.SGD(net.parameters(), lr=0.01, momentum=0.0)"
      ]
    },
    {
      "cell_type": "code",
      "execution_count": null,
      "metadata": {
        "colab": {
          "base_uri": "https://localhost:8080/"
        },
        "id": "5fKNYUqetZ27",
        "outputId": "e7930466-b230-48bc-fba8-28b3e06520ac"
      },
      "outputs": [
        {
          "output_type": "stream",
          "name": "stdout",
          "text": [
            "Epoch [1/5]. Step [1/782]. Loss: 0.030\n",
            "Epoch [1/5]. Step [301/782]. Loss: 0.029\n",
            "Epoch [1/5]. Step [601/782]. Loss: 0.029\n",
            "Epoch [2/5]. Step [1/782]. Loss: 0.027\n",
            "Epoch [2/5]. Step [301/782]. Loss: 0.028\n",
            "Epoch [2/5]. Step [601/782]. Loss: 0.029\n",
            "Epoch [3/5]. Step [1/782]. Loss: 0.029\n",
            "Epoch [3/5]. Step [301/782]. Loss: 0.029\n",
            "Epoch [3/5]. Step [601/782]. Loss: 0.028\n",
            "Epoch [4/5]. Step [1/782]. Loss: 0.029\n",
            "Epoch [4/5]. Step [301/782]. Loss: 0.029\n",
            "Epoch [4/5]. Step [601/782]. Loss: 0.028\n",
            "Epoch [5/5]. Step [1/782]. Loss: 0.034\n",
            "Epoch [5/5]. Step [301/782]. Loss: 0.029\n",
            "Epoch [5/5]. Step [601/782]. Loss: 0.028\n",
            "Training is finished!\n"
          ]
        }
      ],
      "source": [
        "num_epochs = 5\n",
        "\n",
        "for epoch in range(num_epochs):\n",
        "    running_loss = 0.0\n",
        "    running_items = 0.0\n",
        "\n",
        "\n",
        "    for i, data in enumerate(train_loader):\n",
        "        inputs, labels = data[0], data[1]\n",
        "\n",
        "         # Обнуляем градиент\n",
        "        optimizer.zero_grad()\n",
        "        # Делаем предсказание\n",
        "        outputs = net(inputs)\n",
        "        # Рассчитываем лосс-функцию\n",
        "        loss = criterion(outputs, labels)\n",
        "        # Делаем шаг назад по лоссу\n",
        "        loss.backward()\n",
        "        # Делаем шаг нашего оптимайзера\n",
        "        optimizer.step()\n",
        "\n",
        "        # выводим статистику о процессе обучения\n",
        "        running_loss += loss.item()\n",
        "        running_items += len(labels)\n",
        "        if i % 300 == 0:    # печатаем каждые 300 mini-batches\n",
        "            print(f'Epoch [{epoch + 1}/{num_epochs}]. ' \\\n",
        "                  f'Step [{i + 1}/{len(train_loader)}]. ' \\\n",
        "                  f'Loss: {running_loss / running_items:.3f}')\n",
        "            running_loss, running_items = 0.0, 0.0\n",
        "\n",
        "print('Training is finished!')"
      ]
    },
    {
      "cell_type": "markdown",
      "metadata": {
        "id": "_sTks3KslrhC"
      },
      "source": [
        "## Загрузка и сохранение модели"
      ]
    },
    {
      "cell_type": "markdown",
      "metadata": {
        "id": "LPFEiskvlrhC"
      },
      "source": [
        "### Сохранение модели"
      ]
    },
    {
      "cell_type": "code",
      "metadata": {
        "id": "KD7mnuaeAhhs"
      },
      "source": [
        "PATH_WEIGHTS = './cifar_net_test_version_weights.pth'\n",
        "torch.save(net.state_dict(), PATH_WEIGHTS)"
      ],
      "execution_count": null,
      "outputs": []
    },
    {
      "cell_type": "code",
      "metadata": {
        "id": "vfaFpun1Ahhs",
        "colab": {
          "base_uri": "https://localhost:8080/"
        },
        "outputId": "d5666fde-0bef-4b0e-8f91-24b1f6620206"
      },
      "source": [
        "print(\"Model state_dict: \")\n",
        "for param in net.state_dict():\n",
        "    print(param, \"\\t\", net.state_dict()[param].size())"
      ],
      "execution_count": null,
      "outputs": [
        {
          "output_type": "stream",
          "name": "stdout",
          "text": [
            "Model state_dict: \n",
            "fc1.weight \t torch.Size([400, 3072])\n",
            "fc1.bias \t torch.Size([400])\n",
            "fc2.weight \t torch.Size([200, 400])\n",
            "fc2.bias \t torch.Size([200])\n",
            "fc3.weight \t torch.Size([100, 200])\n",
            "fc3.bias \t torch.Size([100])\n",
            "fc4.weight \t torch.Size([10, 100])\n",
            "fc4.bias \t torch.Size([10])\n"
          ]
        }
      ]
    },
    {
      "cell_type": "code",
      "metadata": {
        "id": "7uo21kDtpehh"
      },
      "source": [
        "PATH_MODEL = './cifar_net_test_version_model.pth'\n",
        "torch.save(net, PATH_MODEL)"
      ],
      "execution_count": null,
      "outputs": []
    },
    {
      "cell_type": "markdown",
      "metadata": {
        "id": "ehNiDFWtAhht"
      },
      "source": [
        "### Загрузка и использование модели "
      ]
    },
    {
      "cell_type": "code",
      "metadata": {
        "id": "3bobKodiAhht",
        "colab": {
          "base_uri": "https://localhost:8080/"
        },
        "outputId": "16d46c86-9766-4608-92e8-c222f6763bc6"
      },
      "source": [
        "net = Net(3072, 100, 10)\n",
        "net.load_state_dict(torch.load(PATH_WEIGHTS))\n",
        "net"
      ],
      "execution_count": null,
      "outputs": [
        {
          "output_type": "execute_result",
          "data": {
            "text/plain": [
              "Net(\n",
              "  (fc1): Linear(in_features=3072, out_features=400, bias=True)\n",
              "  (fc2): Linear(in_features=400, out_features=200, bias=True)\n",
              "  (fc3): Linear(in_features=200, out_features=100, bias=True)\n",
              "  (fc4): Linear(in_features=100, out_features=10, bias=True)\n",
              ")"
            ]
          },
          "metadata": {},
          "execution_count": 58
        }
      ]
    },
    {
      "cell_type": "code",
      "metadata": {
        "id": "EcC_eMaxphxr"
      },
      "source": [
        "net = torch.load(PATH_MODEL)"
      ],
      "execution_count": null,
      "outputs": []
    },
    {
      "cell_type": "code",
      "metadata": {
        "id": "bnItAZIgAhht"
      },
      "source": [
        "data_iter = iter(test_loader)\n",
        "images, labels = data_iter.next()"
      ],
      "execution_count": null,
      "outputs": []
    },
    {
      "cell_type": "code",
      "metadata": {
        "id": "xaZVP7lWAhhu",
        "colab": {
          "base_uri": "https://localhost:8080/",
          "height": 141
        },
        "outputId": "004982fa-23a0-4d1c-aa0d-0c5ae1f78007"
      },
      "source": [
        "net.eval()\n",
        "outputs = net(images)\n",
        "imgs = torchvision.utils.make_grid(images)\n",
        "plt.figure(figsize=(10, 5))\n",
        "plt.imshow(imgs.permute(1, 2, 0).numpy())\n",
        "print('GroundTruth: ', ' '.join(classes[labels[j]] for j in range(len(labels))))"
      ],
      "execution_count": null,
      "outputs": [
        {
          "output_type": "stream",
          "name": "stdout",
          "text": [
            "GroundTruth:  cat ship ship plane frog frog car frog\n"
          ]
        },
        {
          "output_type": "display_data",
          "data": {
            "text/plain": [
              "<Figure size 720x360 with 1 Axes>"
            ],
            "image/png": "[encoded data removed]"
          },
          "metadata": {
            "needs_background": "light"
          }
        }
      ]
    },
    {
      "cell_type": "code",
      "metadata": {
        "id": "OK5qzXeCAhhv",
        "colab": {
          "base_uri": "https://localhost:8080/"
        },
        "outputId": "ab50cad2-9039-4808-9944-c8d43e146f05"
      },
      "source": [
        "print(outputs)"
      ],
      "execution_count": null,
      "outputs": [
        {
          "output_type": "stream",
          "name": "stdout",
          "text": [
            "tensor([[ 0.2454,  0.1091,  0.6335,  0.7541, -0.1607,  0.7379, -0.2696, -1.5642,\n",
            "          0.5582, -1.6936],\n",
            "        [ 1.6097,  1.9895, -0.8146, -1.8504, -1.5021, -2.5625, -3.0864, -1.3189,\n",
            "          3.3313,  2.3615],\n",
            "        [ 2.1304,  0.9090, -0.3450, -1.3336, -1.2161, -1.7829, -3.4569, -1.3329,\n",
            "          3.5677,  1.0934],\n",
            "        [ 2.5897,  0.0396,  0.6909, -1.3371, -0.3014, -1.7300, -3.1730, -1.0888,\n",
            "          2.9991, -0.0282],\n",
            "        [-0.4008, -2.0032,  1.5435,  0.0937,  1.6691,  0.6329,  0.5618,  1.1959,\n",
            "         -1.5256, -2.0432],\n",
            "        [-1.5353,  0.2662,  0.0137,  0.7774,  0.2644,  0.6086,  1.5275,  0.0070,\n",
            "         -1.9312, -0.4388],\n",
            "        [-1.5037,  0.4431, -0.3976,  1.9812, -0.6435,  2.1039,  0.8379, -0.9999,\n",
            "         -0.8581, -1.3113],\n",
            "        [-0.5153, -1.8367,  1.7314, -0.1660,  1.8294,  0.2322,  0.8021,  1.2369,\n",
            "         -1.7700, -1.7917]], grad_fn=<AddmmBackward0>)\n"
          ]
        }
      ]
    },
    {
      "cell_type": "code",
      "source": [
        "net.predict(images)"
      ],
      "metadata": {
        "colab": {
          "base_uri": "https://localhost:8080/"
        },
        "id": "lR4a_Km2BGlq",
        "outputId": "3507fdf0-d0fb-45eb-b168-c738dad26abd"
      },
      "execution_count": null,
      "outputs": [
        {
          "output_type": "stream",
          "name": "stderr",
          "text": [
            "/usr/local/lib/python3.7/dist-packages/ipykernel_launcher.py:32: UserWarning: Implicit dimension choice for softmax has been deprecated. Change the call to include dim=X as an argument.\n"
          ]
        },
        {
          "output_type": "execute_result",
          "data": {
            "text/plain": [
              "tensor([[1.0433e-01, 9.1039e-02, 1.5380e-01, 1.7352e-01, 6.9508e-02, 1.7072e-01,\n",
              "         6.2336e-02, 1.7080e-02, 1.4265e-01, 1.5008e-02],\n",
              "        [9.5980e-02, 1.4032e-01, 8.4982e-03, 3.0164e-03, 4.2729e-03, 1.4798e-03,\n",
              "         8.7640e-04, 5.1320e-03, 5.3686e-01, 2.0356e-01],\n",
              "        [1.6490e-01, 4.8613e-02, 1.3872e-02, 5.1619e-03, 5.8052e-03, 3.2938e-03,\n",
              "         6.1752e-04, 5.1654e-03, 6.9411e-01, 5.8459e-02],\n",
              "        [3.4204e-01, 2.6705e-02, 5.1220e-02, 6.7405e-03, 1.8990e-02, 4.5508e-03,\n",
              "         1.0749e-03, 8.6408e-03, 5.1508e-01, 2.4955e-02],\n",
              "        [3.4917e-02, 7.0331e-03, 2.4402e-01, 5.7254e-02, 2.7670e-01, 9.8171e-02,\n",
              "         9.1430e-02, 1.7238e-01, 1.1338e-02, 6.7570e-03],\n",
              "        [1.5111e-02, 9.1554e-02, 7.1125e-02, 1.5265e-01, 9.1391e-02, 1.2894e-01,\n",
              "         3.2318e-01, 7.0648e-02, 1.0170e-02, 4.5235e-02],\n",
              "        [1.0198e-02, 7.1449e-02, 3.0822e-02, 3.3264e-01, 2.4103e-02, 3.7607e-01,\n",
              "         1.0604e-01, 1.6877e-02, 1.9447e-02, 1.2361e-02],\n",
              "        [2.8779e-02, 7.6767e-03, 2.7214e-01, 4.0809e-02, 3.0016e-01, 6.0768e-02,\n",
              "         1.0745e-01, 1.6598e-01, 8.2066e-03, 8.0304e-03]],\n",
              "       grad_fn=<SoftmaxBackward0>)"
            ]
          },
          "metadata": {},
          "execution_count": 55
        }
      ]
    },
    {
      "cell_type": "code",
      "metadata": {
        "id": "VF-ezeboAhhv",
        "colab": {
          "base_uri": "https://localhost:8080/"
        },
        "outputId": "15529ee4-5284-4f8e-a591-0b78615f2506"
      },
      "source": [
        "_, predicted = torch.max(outputs, 1)\n",
        "\n",
        "predicted"
      ],
      "execution_count": null,
      "outputs": [
        {
          "output_type": "execute_result",
          "data": {
            "text/plain": [
              "tensor([3, 8, 8, 8, 4, 6, 5, 4])"
            ]
          },
          "metadata": {},
          "execution_count": 41
        }
      ]
    },
    {
      "cell_type": "code",
      "metadata": {
        "id": "Vd6w5xrvHP-O",
        "colab": {
          "base_uri": "https://localhost:8080/"
        },
        "outputId": "12b21bbd-b1c4-4cd2-f623-609458e87bef"
      },
      "source": [
        "print('Predicted: ', ' '.join(classes[predicted[j]] for j in range(len(labels))))"
      ],
      "execution_count": null,
      "outputs": [
        {
          "output_type": "stream",
          "name": "stdout",
          "text": [
            "Predicted:  cat ship ship ship deer frog dog deer\n"
          ]
        }
      ]
    },
    {
      "cell_type": "code",
      "metadata": {
        "id": "oxPcScN3ROv2",
        "colab": {
          "base_uri": "https://localhost:8080/"
        },
        "outputId": "dfb4c3af-13b7-4bb6-a2f5-3d262ccc8ae2"
      },
      "source": [
        "gt = np.array([classes[labels[j]] for j in range(len(labels))])\n",
        "pred = np.array([classes[predicted[j]] for j in range(len(labels))])\n",
        "\n",
        "print(gt)\n",
        "print(pred)\n",
        "print(f'Accuracy is {(gt == pred).sum() / len(gt)}')"
      ],
      "execution_count": null,
      "outputs": [
        {
          "output_type": "stream",
          "name": "stdout",
          "text": [
            "['cat' 'ship' 'ship' 'plane' 'frog' 'frog' 'car' 'frog']\n",
            "['cat' 'ship' 'ship' 'ship' 'deer' 'frog' 'dog' 'deer']\n",
            "Accuracy is 0.5\n"
          ]
        }
      ]
    },
    {
      "cell_type": "markdown",
      "metadata": {
        "id": "MkJ7emsMxaYF"
      },
      "source": [
        "# Домашнее задание\n",
        "\n",
        "1. Добиться хорошего результата от модели, собранной на занятии (5 угаданныx картинок из 8 предложенных). Варианты изменений:\n",
        "- изменение слоёв и их количества;\n",
        "- изменение метода оптимизации;\n",
        "- изменение процесса обучения;\n",
        "- *преобразование данных transform\n",
        "\n",
        "2. *Переписать данный туториал на PyTorch: https://www.tensorflow.org/tutorials/quickstart/beginner?hl=ru"
      ]
    }
  ],
  "metadata": {
    "kernelspec": {
      "display_name": "Python 3",
      "language": "python",
      "name": "python3"
    },
    "language_info": {
      "codemirror_mode": {
        "name": "ipython",
        "version": 3
      },
      "file_extension": ".py",
      "mimetype": "text/x-python",
      "name": "python",
      "nbconvert_exporter": "python",
      "pygments_lexer": "ipython3",
      "version": "3.7.4"
    },
    "colab": {
      "name": "lesson_2.ipynb",
      "provenance": [],
      "collapsed_sections": [],
      "toc_visible": true
    },
    "accelerator": "GPU",
    "widgets": {
      "application/vnd.jupyter.widget-state+json": {
        "12d5111eacba4b7fbaa1be9a2c6fd5e8": {
          "model_module": "@jupyter-widgets/controls",
          "model_name": "HBoxModel",
          "model_module_version": "1.5.0",
          "state": {
            "_dom_classes": [],
            "_model_module": "@jupyter-widgets/controls",
            "_model_module_version": "1.5.0",
            "_model_name": "HBoxModel",
            "_view_count": null,
            "_view_module": "@jupyter-widgets/controls",
            "_view_module_version": "1.5.0",
            "_view_name": "HBoxView",
            "box_style": "",
            "children": [
              "IPY_MODEL_532b0b538d144e9f8cee61da205821dc",
              "IPY_MODEL_49a5c3c309654925a832b23cc093eaf1",
              "IPY_MODEL_e0147a7ac42641a1b530d4172267a5f3"
            ],
            "layout": "IPY_MODEL_3eeeccd6475f4df2932ead3c35428268"
          }
        },
        "532b0b538d144e9f8cee61da205821dc": {
          "model_module": "@jupyter-widgets/controls",
          "model_name": "HTMLModel",
          "model_module_version": "1.5.0",
          "state": {
            "_dom_classes": [],
            "_model_module": "@jupyter-widgets/controls",
            "_model_module_version": "1.5.0",
            "_model_name": "HTMLModel",
            "_view_count": null,
            "_view_module": "@jupyter-widgets/controls",
            "_view_module_version": "1.5.0",
            "_view_name": "HTMLView",
            "description": "",
            "description_tooltip": null,
            "layout": "IPY_MODEL_f867f44df781429eaaa2c98ad4ecb0bf",
            "placeholder": "​",
            "style": "IPY_MODEL_a36a803f80e54c8986833550d63fc123",
            "value": ""
          }
        },
        "49a5c3c309654925a832b23cc093eaf1": {
          "model_module": "@jupyter-widgets/controls",
          "model_name": "FloatProgressModel",
          "model_module_version": "1.5.0",
          "state": {
            "_dom_classes": [],
            "_model_module": "@jupyter-widgets/controls",
            "_model_module_version": "1.5.0",
            "_model_name": "FloatProgressModel",
            "_view_count": null,
            "_view_module": "@jupyter-widgets/controls",
            "_view_module_version": "1.5.0",
            "_view_name": "ProgressView",
            "bar_style": "success",
            "description": "",
            "description_tooltip": null,
            "layout": "IPY_MODEL_8e1a2b63ba8f4f44a23a02d5e2b80841",
            "max": 170498071,
            "min": 0,
            "orientation": "horizontal",
            "style": "IPY_MODEL_4217b364b3474b68ac8a89241506c4d3",
            "value": 170498071
          }
        },
        "e0147a7ac42641a1b530d4172267a5f3": {
          "model_module": "@jupyter-widgets/controls",
          "model_name": "HTMLModel",
          "model_module_version": "1.5.0",
          "state": {
            "_dom_classes": [],
            "_model_module": "@jupyter-widgets/controls",
            "_model_module_version": "1.5.0",
            "_model_name": "HTMLModel",
            "_view_count": null,
            "_view_module": "@jupyter-widgets/controls",
            "_view_module_version": "1.5.0",
            "_view_name": "HTMLView",
            "description": "",
            "description_tooltip": null,
            "layout": "IPY_MODEL_23506035b6bd49f286c04151e9a92a8a",
            "placeholder": "​",
            "style": "IPY_MODEL_d840d683b6b342a1b7f82c268b45005e",
            "value": " 170499072/? [00:03&lt;00:00, 38509826.55it/s]"
          }
        },
        "3eeeccd6475f4df2932ead3c35428268": {
          "model_module": "@jupyter-widgets/base",
          "model_name": "LayoutModel",
          "model_module_version": "1.2.0",
          "state": {
            "_model_module": "@jupyter-widgets/base",
            "_model_module_version": "1.2.0",
            "_model_name": "LayoutModel",
            "_view_count": null,
            "_view_module": "@jupyter-widgets/base",
            "_view_module_version": "1.2.0",
            "_view_name": "LayoutView",
            "align_content": null,
            "align_items": null,
            "align_self": null,
            "border": null,
            "bottom": null,
            "display": null,
            "flex": null,
            "flex_flow": null,
            "grid_area": null,
            "grid_auto_columns": null,
            "grid_auto_flow": null,
            "grid_auto_rows": null,
            "grid_column": null,
            "grid_gap": null,
            "grid_row": null,
            "grid_template_areas": null,
            "grid_template_columns": null,
            "grid_template_rows": null,
            "height": null,
            "justify_content": null,
            "justify_items": null,
            "left": null,
            "margin": null,
            "max_height": null,
            "max_width": null,
            "min_height": null,
            "min_width": null,
            "object_fit": null,
            "object_position": null,
            "order": null,
            "overflow": null,
            "overflow_x": null,
            "overflow_y": null,
            "padding": null,
            "right": null,
            "top": null,
            "visibility": null,
            "width": null
          }
        },
        "f867f44df781429eaaa2c98ad4ecb0bf": {
          "model_module": "@jupyter-widgets/base",
          "model_name": "LayoutModel",
          "model_module_version": "1.2.0",
          "state": {
            "_model_module": "@jupyter-widgets/base",
            "_model_module_version": "1.2.0",
            "_model_name": "LayoutModel",
            "_view_count": null,
            "_view_module": "@jupyter-widgets/base",
            "_view_module_version": "1.2.0",
            "_view_name": "LayoutView",
            "align_content": null,
            "align_items": null,
            "align_self": null,
            "border": null,
            "bottom": null,
            "display": null,
            "flex": null,
            "flex_flow": null,
            "grid_area": null,
            "grid_auto_columns": null,
            "grid_auto_flow": null,
            "grid_auto_rows": null,
            "grid_column": null,
            "grid_gap": null,
            "grid_row": null,
            "grid_template_areas": null,
            "grid_template_columns": null,
            "grid_template_rows": null,
            "height": null,
            "justify_content": null,
            "justify_items": null,
            "left": null,
            "margin": null,
            "max_height": null,
            "max_width": null,
            "min_height": null,
            "min_width": null,
            "object_fit": null,
            "object_position": null,
            "order": null,
            "overflow": null,
            "overflow_x": null,
            "overflow_y": null,
            "padding": null,
            "right": null,
            "top": null,
            "visibility": null,
            "width": null
          }
        },
        "a36a803f80e54c8986833550d63fc123": {
          "model_module": "@jupyter-widgets/controls",
          "model_name": "DescriptionStyleModel",
          "model_module_version": "1.5.0",
          "state": {
            "_model_module": "@jupyter-widgets/controls",
            "_model_module_version": "1.5.0",
            "_model_name": "DescriptionStyleModel",
            "_view_count": null,
            "_view_module": "@jupyter-widgets/base",
            "_view_module_version": "1.2.0",
            "_view_name": "StyleView",
            "description_width": ""
          }
        },
        "8e1a2b63ba8f4f44a23a02d5e2b80841": {
          "model_module": "@jupyter-widgets/base",
          "model_name": "LayoutModel",
          "model_module_version": "1.2.0",
          "state": {
            "_model_module": "@jupyter-widgets/base",
            "_model_module_version": "1.2.0",
            "_model_name": "LayoutModel",
            "_view_count": null,
            "_view_module": "@jupyter-widgets/base",
            "_view_module_version": "1.2.0",
            "_view_name": "LayoutView",
            "align_content": null,
            "align_items": null,
            "align_self": null,
            "border": null,
            "bottom": null,
            "display": null,
            "flex": null,
            "flex_flow": null,
            "grid_area": null,
            "grid_auto_columns": null,
            "grid_auto_flow": null,
            "grid_auto_rows": null,
            "grid_column": null,
            "grid_gap": null,
            "grid_row": null,
            "grid_template_areas": null,
            "grid_template_columns": null,
            "grid_template_rows": null,
            "height": null,
            "justify_content": null,
            "justify_items": null,
            "left": null,
            "margin": null,
            "max_height": null,
            "max_width": null,
            "min_height": null,
            "min_width": null,
            "object_fit": null,
            "object_position": null,
            "order": null,
            "overflow": null,
            "overflow_x": null,
            "overflow_y": null,
            "padding": null,
            "right": null,
            "top": null,
            "visibility": null,
            "width": null
          }
        },
        "4217b364b3474b68ac8a89241506c4d3": {
          "model_module": "@jupyter-widgets/controls",
          "model_name": "ProgressStyleModel",
          "model_module_version": "1.5.0",
          "state": {
            "_model_module": "@jupyter-widgets/controls",
            "_model_module_version": "1.5.0",
            "_model_name": "ProgressStyleModel",
            "_view_count": null,
            "_view_module": "@jupyter-widgets/base",
            "_view_module_version": "1.2.0",
            "_view_name": "StyleView",
            "bar_color": null,
            "description_width": ""
          }
        },
        "23506035b6bd49f286c04151e9a92a8a": {
          "model_module": "@jupyter-widgets/base",
          "model_name": "LayoutModel",
          "model_module_version": "1.2.0",
          "state": {
            "_model_module": "@jupyter-widgets/base",
            "_model_module_version": "1.2.0",
            "_model_name": "LayoutModel",
            "_view_count": null,
            "_view_module": "@jupyter-widgets/base",
            "_view_module_version": "1.2.0",
            "_view_name": "LayoutView",
            "align_content": null,
            "align_items": null,
            "align_self": null,
            "border": null,
            "bottom": null,
            "display": null,
            "flex": null,
            "flex_flow": null,
            "grid_area": null,
            "grid_auto_columns": null,
            "grid_auto_flow": null,
            "grid_auto_rows": null,
            "grid_column": null,
            "grid_gap": null,
            "grid_row": null,
            "grid_template_areas": null,
            "grid_template_columns": null,
            "grid_template_rows": null,
            "height": null,
            "justify_content": null,
            "justify_items": null,
            "left": null,
            "margin": null,
            "max_height": null,
            "max_width": null,
            "min_height": null,
            "min_width": null,
            "object_fit": null,
            "object_position": null,
            "order": null,
            "overflow": null,
            "overflow_x": null,
            "overflow_y": null,
            "padding": null,
            "right": null,
            "top": null,
            "visibility": null,
            "width": null
          }
        },
        "d840d683b6b342a1b7f82c268b45005e": {
          "model_module": "@jupyter-widgets/controls",
          "model_name": "DescriptionStyleModel",
          "model_module_version": "1.5.0",
          "state": {
            "_model_module": "@jupyter-widgets/controls",
            "_model_module_version": "1.5.0",
            "_model_name": "DescriptionStyleModel",
            "_view_count": null,
            "_view_module": "@jupyter-widgets/base",
            "_view_module_version": "1.2.0",
            "_view_name": "StyleView",
            "description_width": ""
          }
        }
      }
    }
  },
  "nbformat": 4,
  "nbformat_minor": 0
}