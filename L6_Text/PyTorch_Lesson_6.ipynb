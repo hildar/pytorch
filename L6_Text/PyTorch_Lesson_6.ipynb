{
  "cells": [
    {
      "cell_type": "markdown",
      "metadata": {
        "id": "V8FsvOED8UlF"
      },
      "source": [
        "# Нейросети в обработке текста\n",
        "\n",
        "Нейросети могут выделить сложные паттерны — взаимоотношения в данных. Для текстов, паттерны проявляются, как именно слова употребляются вместе, как построены фразы. Другими словами, нейросети нужны для того, чтобы представить контекст в виде математического объекта — вектора или матрицы. \n",
        "\n",
        "### Основные блоки\n",
        "\n",
        "1. **Свёрточные блоки** \n",
        "  * Для текстов используются одномерные свёртки.\n",
        "  * Хорошо подходят для нахождения в данных локальных паттернов.\n",
        "  * Эффективно распараллеливаются на видеокартах \n",
        "  * Достаточно быстрые и простые \n",
        "  * Хорошо учатся \n",
        "  * Недостаточно гибкие и мощные, для широких паттернов — например, сравнивать первое слово в предложении и последнее, игнорируя при этом слова между ними. А также, чтобы увеличить максимальную длину паттерна, нужно существенно увеличить количество параметров свёрточной сети.\n",
        "\n",
        "2. **Рекуррентные блоки**\n",
        "  * Последовательно токен за токеном\n",
        "  * Информация обо всём предложении\n",
        "  * В результате могут учитываться достаточно длинные зависимости. \n",
        "  * Учить гораздо сложнее.\n",
        "\n",
        "3. **Блоки пулинга**\n",
        "  * убирает мелкие детали и оставляет только значимые. \n",
        "  * соседние элементы матриц усредняются или заменяются на один — например, максимальный.\n",
        "\n",
        "4. **Блоки внимания**\n",
        "  * По сути, механизм внимания осуществляет попарное сравнение элементов двух последовательностей, и позволяет выбрать только наиболее значимые их элементы, чтобы продолжить работу только с ними, а всё остальное убрать. \n",
        "  * Сети \"с вниманием\", как правило, хорошо учатся. "
      ]
    },
    {
      "cell_type": "markdown",
      "metadata": {
        "id": "nQglPQH2Rncq"
      },
      "source": [
        "### Общее описание сверток\n",
        "\n",
        "\n",
        "Работают они примерно так:  \n",
        "<img src='https://drive.google.com/uc?export=view&id=1edbW-Y4y61tSaPIfN7YGGx5eHCxc4p1o'>\n",
        "\n",
        "From [Feature extraction using convolution](http://deeplearning.stanford.edu/wiki/index.php/Feature_extraction_using_convolution).\n",
        "\n",
        "Формально - учатся наборы фильтров, каждый из которых скалярно умножается на элементы матрицы признаков. На картинке выше исходная матрица сворачивается с фильтром\n",
        "$$\n",
        " \\begin{pmatrix}\n",
        "  1 & 0 & 1 \\\\\n",
        "  0 & 1 & 0 \\\\\n",
        "  1 & 0 & 1\n",
        " \\end{pmatrix}\n",
        "$$\n",
        "\n",
        "Но нужно не забывать, что свертки обычно имеют ещё такую размерность, как число каналов. Например, картинки имеют обычно три канала: RGB.  \n",
        "Наглядно демонстрируется как выглядят при этом фильтры [здесь](http://cs231n.github.io/convolutional-networks/#conv).\n",
        "\n",
        "После сверток обычно следуют pooling-слои. Они помогают уменьшить размерность тензора, с которым приходится работать. Самым частым является max-pooling:  \n",
        "\n",
        "<img src='https://drive.google.com/uc?export=view&id=10TwIuQzfB52xBRkEhDSoIRctsXpyytoX'>\n",
        "\n",
        "From [CS231n Convolutional Neural Networks for Visual Recognition](http://cs231n.github.io/convolutional-networks/#pool)"
      ]
    },
    {
      "cell_type": "markdown",
      "metadata": {
        "id": "hdPE2FBHSXZt"
      },
      "source": [
        "### Свёртки для текстов\n",
        "\n",
        "Каноничный пример одномерной свертки:\n",
        "\n",
        "<img src='https://drive.google.com/uc?export=view&id=1H_G0v7H_bzpAXcWNV1b6rsSwnOFX1XDy'>\n",
        "\n",
        "\n",
        "Как использовать **одномерную свертку при работе с текстами**:\n",
        "\n",
        "(Текст закодирован через частотное кодирование)\n",
        "\n",
        "<img src='https://drive.google.com/uc?export=view&id=1DzYTxl4eiNWHUMskM-MUjvbKrTbArqV1'>\n",
        "\n",
        "Затем окно свертки сдвигается на один элемент вправо и всё повторяется по новой.\n",
        "\n"
      ]
    },
    {
      "cell_type": "code",
      "source": [
        "import torch\n",
        "\n",
        "conv_1 = torch.nn.Conv1d(1, 1, kernel_size=5, bias=False)\n",
        "conv_1.weight = torch.nn.Parameter(torch.FloatTensor([[[0.2, 0.2, 0.2, 0.2, 0.2]]]))\n",
        "\n",
        "conv_1.weight, conv_1.bias"
      ],
      "metadata": {
        "colab": {
          "base_uri": "https://localhost:8080/"
        },
        "id": "nSIsH59K9cLD",
        "outputId": "75e38cf8-6a28-4a6e-e4fb-85bbe479678a"
      },
      "execution_count": null,
      "outputs": [
        {
          "output_type": "execute_result",
          "data": {
            "text/plain": [
              "(Parameter containing:\n",
              " tensor([[[0.2000, 0.2000, 0.2000, 0.2000, 0.2000]]], requires_grad=True),\n",
              " None)"
            ]
          },
          "metadata": {},
          "execution_count": 1
        }
      ]
    },
    {
      "cell_type": "code",
      "source": [
        "tens = torch.FloatTensor([[93, 1655, 16, 288, 4, 163]])\n",
        "conv_1(tens[None])"
      ],
      "metadata": {
        "colab": {
          "base_uri": "https://localhost:8080/"
        },
        "id": "Bpm4BZ6E-BPn",
        "outputId": "18e215bf-0e9f-4618-835a-dd69fffd1fcb"
      },
      "execution_count": null,
      "outputs": [
        {
          "output_type": "execute_result",
          "data": {
            "text/plain": [
              "tensor([[[411.2000, 425.2000]]], grad_fn=<ConvolutionBackward0>)"
            ]
          },
          "metadata": {},
          "execution_count": 2
        }
      ]
    },
    {
      "cell_type": "markdown",
      "source": [
        "Чуть сложнее, когда слова представлены не через частотное кодирование, а через **эмбеддинги** (векторное представление):\n",
        "\n",
        "Возьмем эмбеддинг размерности два для примера. \n",
        "\n",
        "В этом случае окно свертки остается таким же - равным 5, а вот размерность ядра свертки увеличивается: по одной размерности сохраняется размер окна, а по второй размерности элементов становится столько, сколько элементов в размерности эмбеддинга, то есть два.\n",
        "\n",
        "<img src='https://drive.google.com/uc?id=1iuu_oMkSVlM93msmB3RcUv1_u8B2_qT3'>"
      ],
      "metadata": {
        "id": "gcfOSDrve4LU"
      }
    },
    {
      "cell_type": "code",
      "source": [
        "import torch\n",
        "\n",
        "conv_1 = torch.nn.Conv1d(1, 2, kernel_size=5, bias=False)\n",
        "conv_1.weight = torch.nn.Parameter(torch.FloatTensor([[\n",
        "                                    [0.1, 0.1, 0.1, 0.1, 0.1],\n",
        "                                    [0.1, 0.1, 0.1, 0.1, 0.1]\n",
        "]]))\n",
        "\n",
        "conv_1.weight, conv_1.bias"
      ],
      "metadata": {
        "colab": {
          "base_uri": "https://localhost:8080/"
        },
        "outputId": "ca2c4589-9bb8-47ae-c346-433dc3a13a87",
        "id": "go3riF-s_kRv"
      },
      "execution_count": null,
      "outputs": [
        {
          "output_type": "execute_result",
          "data": {
            "text/plain": [
              "(Parameter containing:\n",
              " tensor([[[0.1000, 0.1000, 0.1000, 0.1000, 0.1000],\n",
              "          [0.1000, 0.1000, 0.1000, 0.1000, 0.1000]]], requires_grad=True),\n",
              " None)"
            ]
          },
          "metadata": {},
          "execution_count": 27
        }
      ]
    },
    {
      "cell_type": "code",
      "source": [
        "tens = torch.FloatTensor([[0.13, -0.11], [0.24, -0.19], [-0.01, -0.05], [0.07, -0.01], [0.01, 0.01]]).permute(1, 0)\n",
        "conv_1(tens)"
      ],
      "metadata": {
        "colab": {
          "base_uri": "https://localhost:8080/"
        },
        "outputId": "61abdd79-ce37-4350-e52a-4960d538db3b",
        "id": "bZHmaArv_kSK"
      },
      "execution_count": null,
      "outputs": [
        {
          "output_type": "execute_result",
          "data": {
            "text/plain": [
              "tensor([[0.0090]], grad_fn=<SqueezeBackward1>)"
            ]
          },
          "metadata": {},
          "execution_count": 21
        }
      ]
    },
    {
      "cell_type": "code",
      "source": [
        "tens.shape"
      ],
      "metadata": {
        "colab": {
          "base_uri": "https://localhost:8080/"
        },
        "id": "rscaJI4z-A_3",
        "outputId": "a90d9a28-1489-449b-8e55-23b2ad53a975"
      },
      "execution_count": null,
      "outputs": [
        {
          "output_type": "execute_result",
          "data": {
            "text/plain": [
              "torch.Size([2, 5])"
            ]
          },
          "metadata": {},
          "execution_count": 22
        }
      ]
    },
    {
      "cell_type": "markdown",
      "source": [
        "И еще при работе с одномерной сверткой могу использоваться слои подвыборки, как и в CNN для картинок, чаще используется операция взятия максимума из двух элементов.\n",
        "\n",
        "<img src='https://drive.google.com/uc?export=view&id=1TKx1C-Tk1yN5xMBDQ1L_iLbRg5Rgjwan'>\n",
        "\n",
        "В сетях таких блоков может быть несколько.\n"
      ],
      "metadata": {
        "id": "dzBO64HehEim"
      }
    },
    {
      "cell_type": "markdown",
      "source": [
        "**Как теперь подбирать значения в ядре свертки?**\n",
        "\n",
        "Для картинок мы могли вручную подобрать значения для нахожения границ объектов, для размытия, для увеличения четкости и т.д.\n",
        "\n",
        "Для текстов так не получится, как собственно и не получается подобрать вручную фильтры для более сложных операций с картинками.\n",
        "\n"
      ],
      "metadata": {
        "id": "l7nStS2UgDqm"
      }
    },
    {
      "cell_type": "markdown",
      "metadata": {
        "id": "9eHK0K1Lw6nb"
      },
      "source": [
        "## Задача (Sentiment Analysis)\n",
        "\n",
        "Собраны твиты 2-ух тональностей, необходимо произвести классификацию на 2-а класса."
      ]
    },
    {
      "cell_type": "code",
      "execution_count": null,
      "metadata": {
        "id": "2H5tFUEMCE7d"
      },
      "outputs": [],
      "source": [
        "max_words = 2000\n",
        "max_len = 20\n",
        "num_classes = 1\n",
        "\n",
        "# Training\n",
        "epochs = 5\n",
        "batch_size = 512\n",
        "print_batch_n = 100"
      ]
    },
    {
      "cell_type": "markdown",
      "source": [
        "Ссылка на google drive: https://drive.google.com/file/d/1Mev_EEput0LlBj8MDHIJkBtahlJ6J901"
      ],
      "metadata": {
        "id": "XzAye9tJRPaH"
      }
    },
    {
      "cell_type": "code",
      "source": [
        "!wget 'https://drive.google.com/uc?export=download&id=1Mev_EEput0LlBj8MDHIJkBtahlJ6J901' -O data.zip"
      ],
      "metadata": {
        "colab": {
          "base_uri": "https://localhost:8080/"
        },
        "id": "kAcbPjyeRSkQ",
        "outputId": "8dbf77b3-5f94-4c55-f413-0ea0a5162b12"
      },
      "execution_count": null,
      "outputs": [
        {
          "output_type": "stream",
          "name": "stdout",
          "text": [
            "--2022-08-18 14:52:30--  https://drive.google.com/uc?export=download&id=1Mev_EEput0LlBj8MDHIJkBtahlJ6J901\n",
            "Resolving drive.google.com (drive.google.com)... 74.125.69.113, 74.125.69.102, 74.125.69.100, ...\n",
            "Connecting to drive.google.com (drive.google.com)|74.125.69.113|:443... connected.\n",
            "HTTP request sent, awaiting response... 303 See Other\n",
            "Location: https://doc-14-c0-docs.googleusercontent.com/docs/securesc/ha0ro937gcuc7l7deffksulhg5h7mbp1/0soacsbsnit7vshrk4ntskbd9arbb4j2/1660834350000/14904333240138417226/*/1Mev_EEput0LlBj8MDHIJkBtahlJ6J901?e=download&uuid=c02d916d-f8aa-460f-b7f1-1711ecce6bcf [following]\n",
            "Warning: wildcards not supported in HTTP.\n",
            "--2022-08-18 14:52:36--  https://doc-14-c0-docs.googleusercontent.com/docs/securesc/ha0ro937gcuc7l7deffksulhg5h7mbp1/0soacsbsnit7vshrk4ntskbd9arbb4j2/1660834350000/14904333240138417226/*/1Mev_EEput0LlBj8MDHIJkBtahlJ6J901?e=download&uuid=c02d916d-f8aa-460f-b7f1-1711ecce6bcf\n",
            "Resolving doc-14-c0-docs.googleusercontent.com (doc-14-c0-docs.googleusercontent.com)... 74.125.70.132, 2607:f8b0:4001:c02::84\n",
            "Connecting to doc-14-c0-docs.googleusercontent.com (doc-14-c0-docs.googleusercontent.com)|74.125.70.132|:443... connected.\n",
            "HTTP request sent, awaiting response... 200 OK\n",
            "Length: 10733963 (10M) [application/zip]\n",
            "Saving to: ‘data.zip’\n",
            "\n",
            "data.zip            100%[===================>]  10.24M  17.6MB/s    in 0.6s    \n",
            "\n",
            "2022-08-18 14:52:37 (17.6 MB/s) - ‘data.zip’ saved [10733963/10733963]\n",
            "\n"
          ]
        }
      ]
    },
    {
      "cell_type": "code",
      "source": [
        "!unzip data.zip"
      ],
      "metadata": {
        "colab": {
          "base_uri": "https://localhost:8080/"
        },
        "id": "mjAuCojERXaa",
        "outputId": "ef22e662-276f-4f5b-f6de-3aaf8254806d"
      },
      "execution_count": null,
      "outputs": [
        {
          "output_type": "stream",
          "name": "stdout",
          "text": [
            "Archive:  data.zip\n",
            "  inflating: train.csv               \n",
            "  inflating: val.csv                 \n"
          ]
        }
      ]
    },
    {
      "cell_type": "code",
      "execution_count": null,
      "metadata": {
        "id": "LUCk-5M2yg3S"
      },
      "outputs": [],
      "source": [
        "import pandas as pd\n",
        "\n",
        "df_train = pd.read_csv(\"train.csv\")\n",
        "df_val = pd.read_csv(\"val.csv\")"
      ]
    },
    {
      "cell_type": "code",
      "execution_count": null,
      "metadata": {
        "colab": {
          "base_uri": "https://localhost:8080/",
          "height": 206
        },
        "id": "KBSf-OfDzWOI",
        "outputId": "cb30cee1-cd17-4c8d-d64f-6d54394c146a"
      },
      "outputs": [
        {
          "output_type": "execute_result",
          "data": {
            "text/plain": [
              "   id                                               text  class\n",
              "0   0  @alisachachka не уезжаааааааай. :(❤ я тоже не ...      0\n",
              "1   1  RT @GalyginVadim: Ребята и девчата!\\nВсе в кин...      1\n",
              "2   2  RT @ARTEM_KLYUSHIN: Кто ненавидит пробки ретви...      0\n",
              "3   3  RT @epupybobv: Хочется котлету по-киевски. Зап...      1\n",
              "4   4  @KarineKurganova @Yess__Boss босапопа есбоса н...      1"
            ],
            "text/html": [
              "\n",
              "  <div id=\"df-6036da22-e523-48bd-9dc7-f17942c724ff\">\n",
              "    <div class=\"colab-df-container\">\n",
              "      <div>\n",
              "<style scoped>\n",
              "    .dataframe tbody tr th:only-of-type {\n",
              "        vertical-align: middle;\n",
              "    }\n",
              "\n",
              "    .dataframe tbody tr th {\n",
              "        vertical-align: top;\n",
              "    }\n",
              "\n",
              "    .dataframe thead th {\n",
              "        text-align: right;\n",
              "    }\n",
              "</style>\n",
              "<table border=\"1\" class=\"dataframe\">\n",
              "  <thead>\n",
              "    <tr style=\"text-align: right;\">\n",
              "      <th></th>\n",
              "      <th>id</th>\n",
              "      <th>text</th>\n",
              "      <th>class</th>\n",
              "    </tr>\n",
              "  </thead>\n",
              "  <tbody>\n",
              "    <tr>\n",
              "      <th>0</th>\n",
              "      <td>0</td>\n",
              "      <td>@alisachachka не уезжаааааааай. :(❤ я тоже не ...</td>\n",
              "      <td>0</td>\n",
              "    </tr>\n",
              "    <tr>\n",
              "      <th>1</th>\n",
              "      <td>1</td>\n",
              "      <td>RT @GalyginVadim: Ребята и девчата!\\nВсе в кин...</td>\n",
              "      <td>1</td>\n",
              "    </tr>\n",
              "    <tr>\n",
              "      <th>2</th>\n",
              "      <td>2</td>\n",
              "      <td>RT @ARTEM_KLYUSHIN: Кто ненавидит пробки ретви...</td>\n",
              "      <td>0</td>\n",
              "    </tr>\n",
              "    <tr>\n",
              "      <th>3</th>\n",
              "      <td>3</td>\n",
              "      <td>RT @epupybobv: Хочется котлету по-киевски. Зап...</td>\n",
              "      <td>1</td>\n",
              "    </tr>\n",
              "    <tr>\n",
              "      <th>4</th>\n",
              "      <td>4</td>\n",
              "      <td>@KarineKurganova @Yess__Boss босапопа есбоса н...</td>\n",
              "      <td>1</td>\n",
              "    </tr>\n",
              "  </tbody>\n",
              "</table>\n",
              "</div>\n",
              "      <button class=\"colab-df-convert\" onclick=\"convertToInteractive('df-6036da22-e523-48bd-9dc7-f17942c724ff')\"\n",
              "              title=\"Convert this dataframe to an interactive table.\"\n",
              "              style=\"display:none;\">\n",
              "        \n",
              "  <svg xmlns=\"http://www.w3.org/2000/svg\" height=\"24px\"viewBox=\"0 0 24 24\"\n",
              "       width=\"24px\">\n",
              "    <path d=\"M0 0h24v24H0V0z\" fill=\"none\"/>\n",
              "    <path d=\"M18.56 5.44l.94 2.06.94-2.06 2.06-.94-2.06-.94-.94-2.06-.94 2.06-2.06.94zm-11 1L8.5 8.5l.94-2.06 2.06-.94-2.06-.94L8.5 2.5l-.94 2.06-2.06.94zm10 10l.94 2.06.94-2.06 2.06-.94-2.06-.94-.94-2.06-.94 2.06-2.06.94z\"/><path d=\"M17.41 7.96l-1.37-1.37c-.4-.4-.92-.59-1.43-.59-.52 0-1.04.2-1.43.59L10.3 9.45l-7.72 7.72c-.78.78-.78 2.05 0 2.83L4 21.41c.39.39.9.59 1.41.59.51 0 1.02-.2 1.41-.59l7.78-7.78 2.81-2.81c.8-.78.8-2.07 0-2.86zM5.41 20L4 18.59l7.72-7.72 1.47 1.35L5.41 20z\"/>\n",
              "  </svg>\n",
              "      </button>\n",
              "      \n",
              "  <style>\n",
              "    .colab-df-container {\n",
              "      display:flex;\n",
              "      flex-wrap:wrap;\n",
              "      gap: 12px;\n",
              "    }\n",
              "\n",
              "    .colab-df-convert {\n",
              "      background-color: #E8F0FE;\n",
              "      border: none;\n",
              "      border-radius: 50%;\n",
              "      cursor: pointer;\n",
              "      display: none;\n",
              "      fill: #1967D2;\n",
              "      height: 32px;\n",
              "      padding: 0 0 0 0;\n",
              "      width: 32px;\n",
              "    }\n",
              "\n",
              "    .colab-df-convert:hover {\n",
              "      background-color: #E2EBFA;\n",
              "      box-shadow: 0px 1px 2px rgba(60, 64, 67, 0.3), 0px 1px 3px 1px rgba(60, 64, 67, 0.15);\n",
              "      fill: #174EA6;\n",
              "    }\n",
              "\n",
              "    [theme=dark] .colab-df-convert {\n",
              "      background-color: #3B4455;\n",
              "      fill: #D2E3FC;\n",
              "    }\n",
              "\n",
              "    [theme=dark] .colab-df-convert:hover {\n",
              "      background-color: #434B5C;\n",
              "      box-shadow: 0px 1px 3px 1px rgba(0, 0, 0, 0.15);\n",
              "      filter: drop-shadow(0px 1px 2px rgba(0, 0, 0, 0.3));\n",
              "      fill: #FFFFFF;\n",
              "    }\n",
              "  </style>\n",
              "\n",
              "      <script>\n",
              "        const buttonEl =\n",
              "          document.querySelector('#df-6036da22-e523-48bd-9dc7-f17942c724ff button.colab-df-convert');\n",
              "        buttonEl.style.display =\n",
              "          google.colab.kernel.accessAllowed ? 'block' : 'none';\n",
              "\n",
              "        async function convertToInteractive(key) {\n",
              "          const element = document.querySelector('#df-6036da22-e523-48bd-9dc7-f17942c724ff');\n",
              "          const dataTable =\n",
              "            await google.colab.kernel.invokeFunction('convertToInteractive',\n",
              "                                                     [key], {});\n",
              "          if (!dataTable) return;\n",
              "\n",
              "          const docLinkHtml = 'Like what you see? Visit the ' +\n",
              "            '<a target=\"_blank\" href=https://colab.research.google.com/notebooks/data_table.ipynb>data table notebook</a>'\n",
              "            + ' to learn more about interactive tables.';\n",
              "          element.innerHTML = '';\n",
              "          dataTable['output_type'] = 'display_data';\n",
              "          await google.colab.output.renderOutput(dataTable, element);\n",
              "          const docLink = document.createElement('div');\n",
              "          docLink.innerHTML = docLinkHtml;\n",
              "          element.appendChild(docLink);\n",
              "        }\n",
              "      </script>\n",
              "    </div>\n",
              "  </div>\n",
              "  "
            ]
          },
          "metadata": {},
          "execution_count": 10
        }
      ],
      "source": [
        "df_train.head()"
      ]
    },
    {
      "cell_type": "markdown",
      "source": [
        "0 - negative<br>\n",
        "1 - positive"
      ],
      "metadata": {
        "id": "CRaO-Ub5e8hx"
      }
    },
    {
      "cell_type": "code",
      "source": [
        "df_train['class'].value_counts()"
      ],
      "metadata": {
        "colab": {
          "base_uri": "https://localhost:8080/"
        },
        "id": "8lYmshAoT57x",
        "outputId": "e61512ac-fd5f-4b81-a138-89a071b2dc05"
      },
      "execution_count": null,
      "outputs": [
        {
          "output_type": "execute_result",
          "data": {
            "text/plain": [
              "1    92063\n",
              "0    89404\n",
              "Name: class, dtype: int64"
            ]
          },
          "metadata": {},
          "execution_count": 11
        }
      ]
    },
    {
      "cell_type": "code",
      "execution_count": null,
      "metadata": {
        "colab": {
          "base_uri": "https://localhost:8080/",
          "height": 206
        },
        "id": "_9l0iHhaI0O1",
        "outputId": "1dc2d600-f3a0-4a79-ca3e-3e42d6fd2a79"
      },
      "outputs": [
        {
          "output_type": "execute_result",
          "data": {
            "text/plain": [
              "           id                                               text  class\n",
              "22678  204145  А я знаю из-за кого такая паршивая погода была...      1\n",
              "22679  204146  ааа.... что с Гмейлом. не ужто он умер сегодня...      0\n",
              "22680  204147  в учебники химии написано \"Пруст Жозеф Луи\"\\nя...      1\n",
              "22681  204148  Вот все любят,а я не люблю..как дура..говорю,ч...      0\n",
              "22682  204149  уххх спасибо дорогой Леле Евгеньевне и Штепуху...      1"
            ],
            "text/html": [
              "\n",
              "  <div id=\"df-3f9b30f6-9be5-473b-97ef-47b65a877ef8\">\n",
              "    <div class=\"colab-df-container\">\n",
              "      <div>\n",
              "<style scoped>\n",
              "    .dataframe tbody tr th:only-of-type {\n",
              "        vertical-align: middle;\n",
              "    }\n",
              "\n",
              "    .dataframe tbody tr th {\n",
              "        vertical-align: top;\n",
              "    }\n",
              "\n",
              "    .dataframe thead th {\n",
              "        text-align: right;\n",
              "    }\n",
              "</style>\n",
              "<table border=\"1\" class=\"dataframe\">\n",
              "  <thead>\n",
              "    <tr style=\"text-align: right;\">\n",
              "      <th></th>\n",
              "      <th>id</th>\n",
              "      <th>text</th>\n",
              "      <th>class</th>\n",
              "    </tr>\n",
              "  </thead>\n",
              "  <tbody>\n",
              "    <tr>\n",
              "      <th>22678</th>\n",
              "      <td>204145</td>\n",
              "      <td>А я знаю из-за кого такая паршивая погода была...</td>\n",
              "      <td>1</td>\n",
              "    </tr>\n",
              "    <tr>\n",
              "      <th>22679</th>\n",
              "      <td>204146</td>\n",
              "      <td>ааа.... что с Гмейлом. не ужто он умер сегодня...</td>\n",
              "      <td>0</td>\n",
              "    </tr>\n",
              "    <tr>\n",
              "      <th>22680</th>\n",
              "      <td>204147</td>\n",
              "      <td>в учебники химии написано \"Пруст Жозеф Луи\"\\nя...</td>\n",
              "      <td>1</td>\n",
              "    </tr>\n",
              "    <tr>\n",
              "      <th>22681</th>\n",
              "      <td>204148</td>\n",
              "      <td>Вот все любят,а я не люблю..как дура..говорю,ч...</td>\n",
              "      <td>0</td>\n",
              "    </tr>\n",
              "    <tr>\n",
              "      <th>22682</th>\n",
              "      <td>204149</td>\n",
              "      <td>уххх спасибо дорогой Леле Евгеньевне и Штепуху...</td>\n",
              "      <td>1</td>\n",
              "    </tr>\n",
              "  </tbody>\n",
              "</table>\n",
              "</div>\n",
              "      <button class=\"colab-df-convert\" onclick=\"convertToInteractive('df-3f9b30f6-9be5-473b-97ef-47b65a877ef8')\"\n",
              "              title=\"Convert this dataframe to an interactive table.\"\n",
              "              style=\"display:none;\">\n",
              "        \n",
              "  <svg xmlns=\"http://www.w3.org/2000/svg\" height=\"24px\"viewBox=\"0 0 24 24\"\n",
              "       width=\"24px\">\n",
              "    <path d=\"M0 0h24v24H0V0z\" fill=\"none\"/>\n",
              "    <path d=\"M18.56 5.44l.94 2.06.94-2.06 2.06-.94-2.06-.94-.94-2.06-.94 2.06-2.06.94zm-11 1L8.5 8.5l.94-2.06 2.06-.94-2.06-.94L8.5 2.5l-.94 2.06-2.06.94zm10 10l.94 2.06.94-2.06 2.06-.94-2.06-.94-.94-2.06-.94 2.06-2.06.94z\"/><path d=\"M17.41 7.96l-1.37-1.37c-.4-.4-.92-.59-1.43-.59-.52 0-1.04.2-1.43.59L10.3 9.45l-7.72 7.72c-.78.78-.78 2.05 0 2.83L4 21.41c.39.39.9.59 1.41.59.51 0 1.02-.2 1.41-.59l7.78-7.78 2.81-2.81c.8-.78.8-2.07 0-2.86zM5.41 20L4 18.59l7.72-7.72 1.47 1.35L5.41 20z\"/>\n",
              "  </svg>\n",
              "      </button>\n",
              "      \n",
              "  <style>\n",
              "    .colab-df-container {\n",
              "      display:flex;\n",
              "      flex-wrap:wrap;\n",
              "      gap: 12px;\n",
              "    }\n",
              "\n",
              "    .colab-df-convert {\n",
              "      background-color: #E8F0FE;\n",
              "      border: none;\n",
              "      border-radius: 50%;\n",
              "      cursor: pointer;\n",
              "      display: none;\n",
              "      fill: #1967D2;\n",
              "      height: 32px;\n",
              "      padding: 0 0 0 0;\n",
              "      width: 32px;\n",
              "    }\n",
              "\n",
              "    .colab-df-convert:hover {\n",
              "      background-color: #E2EBFA;\n",
              "      box-shadow: 0px 1px 2px rgba(60, 64, 67, 0.3), 0px 1px 3px 1px rgba(60, 64, 67, 0.15);\n",
              "      fill: #174EA6;\n",
              "    }\n",
              "\n",
              "    [theme=dark] .colab-df-convert {\n",
              "      background-color: #3B4455;\n",
              "      fill: #D2E3FC;\n",
              "    }\n",
              "\n",
              "    [theme=dark] .colab-df-convert:hover {\n",
              "      background-color: #434B5C;\n",
              "      box-shadow: 0px 1px 3px 1px rgba(0, 0, 0, 0.15);\n",
              "      filter: drop-shadow(0px 1px 2px rgba(0, 0, 0, 0.3));\n",
              "      fill: #FFFFFF;\n",
              "    }\n",
              "  </style>\n",
              "\n",
              "      <script>\n",
              "        const buttonEl =\n",
              "          document.querySelector('#df-3f9b30f6-9be5-473b-97ef-47b65a877ef8 button.colab-df-convert');\n",
              "        buttonEl.style.display =\n",
              "          google.colab.kernel.accessAllowed ? 'block' : 'none';\n",
              "\n",
              "        async function convertToInteractive(key) {\n",
              "          const element = document.querySelector('#df-3f9b30f6-9be5-473b-97ef-47b65a877ef8');\n",
              "          const dataTable =\n",
              "            await google.colab.kernel.invokeFunction('convertToInteractive',\n",
              "                                                     [key], {});\n",
              "          if (!dataTable) return;\n",
              "\n",
              "          const docLinkHtml = 'Like what you see? Visit the ' +\n",
              "            '<a target=\"_blank\" href=https://colab.research.google.com/notebooks/data_table.ipynb>data table notebook</a>'\n",
              "            + ' to learn more about interactive tables.';\n",
              "          element.innerHTML = '';\n",
              "          dataTable['output_type'] = 'display_data';\n",
              "          await google.colab.output.renderOutput(dataTable, element);\n",
              "          const docLink = document.createElement('div');\n",
              "          docLink.innerHTML = docLinkHtml;\n",
              "          element.appendChild(docLink);\n",
              "        }\n",
              "      </script>\n",
              "    </div>\n",
              "  </div>\n",
              "  "
            ]
          },
          "metadata": {},
          "execution_count": 12
        }
      ],
      "source": [
        "df_val.tail()"
      ]
    },
    {
      "cell_type": "code",
      "source": [
        "df_val['class'].value_counts()"
      ],
      "metadata": {
        "colab": {
          "base_uri": "https://localhost:8080/"
        },
        "id": "F3lecy8oT-rJ",
        "outputId": "e730c617-e943-43f4-b7b4-2e2cd5835883"
      },
      "execution_count": null,
      "outputs": [
        {
          "output_type": "execute_result",
          "data": {
            "text/plain": [
              "1    11449\n",
              "0    11234\n",
              "Name: class, dtype: int64"
            ]
          },
          "metadata": {},
          "execution_count": 13
        }
      ]
    },
    {
      "cell_type": "markdown",
      "metadata": {
        "id": "qEyvOxoOJDTP"
      },
      "source": [
        "### Предобработка"
      ]
    },
    {
      "cell_type": "code",
      "source": [
        "!pip install stop-words pymorphy2"
      ],
      "metadata": {
        "colab": {
          "base_uri": "https://localhost:8080/"
        },
        "id": "JimEynHhitb4",
        "outputId": "5ae7fae2-6027-4a9d-e97a-46d33172e5b2"
      },
      "execution_count": null,
      "outputs": [
        {
          "output_type": "stream",
          "name": "stdout",
          "text": [
            "Looking in indexes: https://pypi.org/simple, https://us-python.pkg.dev/colab-wheels/public/simple/\n",
            "Collecting stop-words\n",
            "  Downloading stop-words-2018.7.23.tar.gz (31 kB)\n",
            "Collecting pymorphy2\n",
            "  Downloading pymorphy2-0.9.1-py3-none-any.whl (55 kB)\n",
            "\u001b[K     |████████████████████████████████| 55 kB 1.3 MB/s \n",
            "\u001b[?25hCollecting pymorphy2-dicts-ru<3.0,>=2.4\n",
            "  Downloading pymorphy2_dicts_ru-2.4.417127.4579844-py2.py3-none-any.whl (8.2 MB)\n",
            "\u001b[K     |████████████████████████████████| 8.2 MB 9.5 MB/s \n",
            "\u001b[?25hCollecting docopt>=0.6\n",
            "  Downloading docopt-0.6.2.tar.gz (25 kB)\n",
            "Collecting dawg-python>=0.7.1\n",
            "  Downloading DAWG_Python-0.7.2-py2.py3-none-any.whl (11 kB)\n",
            "Building wheels for collected packages: stop-words, docopt\n",
            "  Building wheel for stop-words (setup.py) ... \u001b[?25l\u001b[?25hdone\n",
            "  Created wheel for stop-words: filename=stop_words-2018.7.23-py3-none-any.whl size=32911 sha256=ef3507150e85fa7af325f29d36269e2d91c367fb1e6a7088f3bb8f7249a60f53\n",
            "  Stored in directory: /root/.cache/pip/wheels/fb/86/b2/277b10b1ce9f73ce15059bf6975d4547cc4ec3feeb651978e9\n",
            "  Building wheel for docopt (setup.py) ... \u001b[?25l\u001b[?25hdone\n",
            "  Created wheel for docopt: filename=docopt-0.6.2-py2.py3-none-any.whl size=13723 sha256=09cffeeabf7129ea7c0e7e7434add71528c4b6cf1864dba881458a8dafa51a1a\n",
            "  Stored in directory: /root/.cache/pip/wheels/72/b0/3f/1d95f96ff986c7dfffe46ce2be4062f38ebd04b506c77c81b9\n",
            "Successfully built stop-words docopt\n",
            "Installing collected packages: pymorphy2-dicts-ru, docopt, dawg-python, stop-words, pymorphy2\n",
            "Successfully installed dawg-python-0.7.2 docopt-0.6.2 pymorphy2-0.9.1 pymorphy2-dicts-ru-2.4.417127.4579844 stop-words-2018.7.23\n"
          ]
        }
      ]
    },
    {
      "cell_type": "code",
      "execution_count": null,
      "metadata": {
        "id": "zuPoTViZRHlM"
      },
      "outputs": [],
      "source": [
        "from string import punctuation\n",
        "from stop_words import get_stop_words\n",
        "from pymorphy2 import MorphAnalyzer\n",
        "import re"
      ]
    },
    {
      "cell_type": "code",
      "execution_count": null,
      "metadata": {
        "id": "MrICmUgeRHlO"
      },
      "outputs": [],
      "source": [
        "sw = set(get_stop_words(\"ru\"))\n",
        "# sw"
      ]
    },
    {
      "cell_type": "code",
      "source": [
        "puncts = set(punctuation)\n",
        "puncts"
      ],
      "metadata": {
        "colab": {
          "base_uri": "https://localhost:8080/"
        },
        "id": "Kdmt_DVPjN4j",
        "outputId": "844c42e2-e534-4dde-931c-00dacfb5128e"
      },
      "execution_count": null,
      "outputs": [
        {
          "output_type": "execute_result",
          "data": {
            "text/plain": [
              "{'!',\n",
              " '\"',\n",
              " '#',\n",
              " '$',\n",
              " '%',\n",
              " '&',\n",
              " \"'\",\n",
              " '(',\n",
              " ')',\n",
              " '*',\n",
              " '+',\n",
              " ',',\n",
              " '-',\n",
              " '.',\n",
              " '/',\n",
              " ':',\n",
              " ';',\n",
              " '<',\n",
              " '=',\n",
              " '>',\n",
              " '?',\n",
              " '@',\n",
              " '[',\n",
              " '\\\\',\n",
              " ']',\n",
              " '^',\n",
              " '_',\n",
              " '`',\n",
              " '{',\n",
              " '|',\n",
              " '}',\n",
              " '~'}"
            ]
          },
          "metadata": {},
          "execution_count": 17
        }
      ]
    },
    {
      "cell_type": "markdown",
      "source": [
        "**ПОЗАВТРАКАЛИ**\n",
        "\n",
        "Стемминг (убираем лишнии куски слова):\n",
        "**завтрак**<br>\n",
        "Очень быстро, очень дешево и очень слабо.\n",
        "\n",
        "Лемматизация (перевод в неопределенную форму для гл. и в им.падеж для сущ.):\n",
        "**позавтракать**<br>\n",
        "Небыстро, сложно."
      ],
      "metadata": {
        "id": "hdO_4D8_kPWm"
      }
    },
    {
      "cell_type": "code",
      "source": [
        "morpher = MorphAnalyzer()\n",
        "morpher.parse('позавтракали')[0].normal_form"
      ],
      "metadata": {
        "colab": {
          "base_uri": "https://localhost:8080/",
          "height": 36
        },
        "id": "Q2nWhCfzkTCH",
        "outputId": "c69f9538-b589-471d-fea1-7c76ffb3b399"
      },
      "execution_count": null,
      "outputs": [
        {
          "output_type": "execute_result",
          "data": {
            "text/plain": [
              "'позавтракать'"
            ],
            "application/vnd.google.colaboratory.intrinsic+json": {
              "type": "string"
            }
          },
          "metadata": {},
          "execution_count": 18
        }
      ]
    },
    {
      "cell_type": "code",
      "source": [
        "morpher = MorphAnalyzer()\n",
        "\n",
        "\n",
        "def preprocess_text(txt):\n",
        "    txt = str(txt)\n",
        "    txt = \"\".join(c for c in txt if c not in puncts)\n",
        "    txt = txt.lower()\n",
        "    txt = re.sub(\"не\\s\", \"не\", txt)\n",
        "    txt = [morpher.parse(word)[0].normal_form for word in txt.split() if word not in sw]\n",
        "    return \" \".join(txt)"
      ],
      "metadata": {
        "id": "A5aTsDZxjPym"
      },
      "execution_count": null,
      "outputs": []
    },
    {
      "cell_type": "code",
      "source": [
        "df_train['text'].iloc[:1].values"
      ],
      "metadata": {
        "colab": {
          "base_uri": "https://localhost:8080/"
        },
        "id": "6J4Ybdk-jC-n",
        "outputId": "680c7a0c-4804-4465-c2e7-2b2bbfb13777"
      },
      "execution_count": null,
      "outputs": [
        {
          "output_type": "execute_result",
          "data": {
            "text/plain": [
              "array(['@alisachachka не уезжаааааааай. :(❤ я тоже не хочу, чтобы ты уезжала.'],\n",
              "      dtype=object)"
            ]
          },
          "metadata": {},
          "execution_count": 20
        }
      ]
    },
    {
      "cell_type": "code",
      "source": [
        "df_train['text'].iloc[:1].apply(preprocess_text).values"
      ],
      "metadata": {
        "colab": {
          "base_uri": "https://localhost:8080/"
        },
        "id": "UFDyfZLpi8BR",
        "outputId": "ef101574-91d6-4f5c-83e1-bcfe7651683d"
      },
      "execution_count": null,
      "outputs": [
        {
          "output_type": "execute_result",
          "data": {
            "text/plain": [
              "array(['alisachachka неуезжаааааааать ❤ нехотеть уезжать'], dtype=object)"
            ]
          },
          "metadata": {},
          "execution_count": 21
        }
      ]
    },
    {
      "cell_type": "code",
      "source": [
        "from tqdm import tqdm \n",
        "tqdm.pandas()\n",
        "\n",
        "df_train['text'] = df_train['text'].progress_apply(preprocess_text)\n",
        "df_val['text'] = df_val['text'].progress_apply(preprocess_text)"
      ],
      "metadata": {
        "colab": {
          "base_uri": "https://localhost:8080/"
        },
        "id": "iWrPbjNzi7pB",
        "outputId": "be3ded5b-7aca-4bb5-d7db-10fa837339cc"
      },
      "execution_count": null,
      "outputs": [
        {
          "output_type": "stream",
          "name": "stderr",
          "text": [
            "100%|██████████| 181467/181467 [03:43<00:00, 810.62it/s]\n",
            "100%|██████████| 22683/22683 [00:26<00:00, 849.44it/s]\n"
          ]
        }
      ]
    },
    {
      "cell_type": "code",
      "execution_count": null,
      "metadata": {
        "id": "C4o9QgmWI3Pw"
      },
      "outputs": [],
      "source": [
        "train_corpus = \" \".join(df_train[\"text\"])\n",
        "train_corpus = train_corpus.lower()"
      ]
    },
    {
      "cell_type": "code",
      "execution_count": null,
      "metadata": {
        "colab": {
          "base_uri": "https://localhost:8080/"
        },
        "id": "Hed2ySbwJH6B",
        "outputId": "270b8ebc-f38a-4d21-8e53-d74b26395c44"
      },
      "outputs": [
        {
          "output_type": "stream",
          "name": "stdout",
          "text": [
            "[nltk_data] Downloading package punkt to /root/nltk_data...\n",
            "[nltk_data]   Unzipping tokenizers/punkt.zip.\n"
          ]
        },
        {
          "output_type": "execute_result",
          "data": {
            "text/plain": [
              "['alisachachka', 'неуезжаааааааать', '❤', 'нехотеть', 'уезжать']"
            ]
          },
          "metadata": {},
          "execution_count": 23
        }
      ],
      "source": [
        "import nltk\n",
        "from nltk.tokenize import word_tokenize\n",
        "nltk.download(\"punkt\")\n",
        "\n",
        "tokens = word_tokenize(train_corpus)\n",
        "tokens[:5]"
      ]
    },
    {
      "cell_type": "markdown",
      "metadata": {
        "id": "yJ8T0fwYJYJX"
      },
      "source": [
        "Отфильтруем данные\n",
        "\n",
        "и соберём в корпус N наиболее частых токенов"
      ]
    },
    {
      "cell_type": "code",
      "execution_count": null,
      "metadata": {
        "id": "EXOLVK1tJLT8"
      },
      "outputs": [],
      "source": [
        "tokens_filtered = [word for word in tokens if word.isalnum()]"
      ]
    },
    {
      "cell_type": "code",
      "execution_count": null,
      "metadata": {
        "id": "8qCQH5nIJoiB",
        "colab": {
          "base_uri": "https://localhost:8080/"
        },
        "outputId": "a10c74c5-e562-4a28-d2d2-259baa63222f"
      },
      "outputs": [
        {
          "output_type": "execute_result",
          "data": {
            "text/plain": [
              "1999"
            ]
          },
          "metadata": {},
          "execution_count": 25
        }
      ],
      "source": [
        "from nltk.probability import FreqDist\n",
        "\n",
        "dist = FreqDist(tokens_filtered)\n",
        "tokens_filtered_top = [pair[0] for pair in dist.most_common(max_words-1)]  # вычитание 1 для padding\n",
        "len(tokens_filtered_top)"
      ]
    },
    {
      "cell_type": "code",
      "execution_count": null,
      "metadata": {
        "colab": {
          "base_uri": "https://localhost:8080/"
        },
        "id": "bRQ-6wwjJrGo",
        "outputId": "c857ae2e-9f99-4d9d-a0fe-74b59dcb1257"
      },
      "outputs": [
        {
          "output_type": "execute_result",
          "data": {
            "text/plain": [
              "['rt',\n",
              " 'd',\n",
              " 'хотеть',\n",
              " 'новый',\n",
              " 'завтра',\n",
              " 'мой',\n",
              " 'вообще',\n",
              " 'хороший',\n",
              " 'любить',\n",
              " 'немочь']"
            ]
          },
          "metadata": {},
          "execution_count": 26
        }
      ],
      "source": [
        "tokens_filtered_top[:10]"
      ]
    },
    {
      "cell_type": "code",
      "execution_count": null,
      "metadata": {
        "id": "Tdk777qGJtz4",
        "colab": {
          "base_uri": "https://localhost:8080/"
        },
        "outputId": "c0e44a59-6bc2-4781-8d0c-a93f7396cc8c"
      },
      "outputs": [
        {
          "output_type": "execute_result",
          "data": {
            "text/plain": [
              "{'rt': 1,\n",
              " 'd': 2,\n",
              " 'хотеть': 3,\n",
              " 'новый': 4,\n",
              " 'завтра': 5,\n",
              " 'мой': 6,\n",
              " 'вообще': 7,\n",
              " 'хороший': 8,\n",
              " 'любить': 9,\n",
              " 'немочь': 10,\n",
              " 'день': 11,\n",
              " 'делать': 12,\n",
              " 'смотреть': 13,\n",
              " 'блин': 14,\n",
              " 'самый': 15,\n",
              " 'знать': 16,\n",
              " 'идти': 17,\n",
              " 'думать': 18,\n",
              " 'дом': 19,\n",
              " '3': 20,\n",
              " 'сидеть': 21,\n",
              " 'небыть': 22,\n",
              " 'друг': 23,\n",
              " 'спать': 24,\n",
              " 'утро': 25,\n",
              " 'незнать': 26,\n",
              " 'один': 27,\n",
              " 'школа': 28,\n",
              " '2': 29,\n",
              " 'сделать': 30,\n",
              " 'настроение': 31,\n",
              " 'такой': 32,\n",
              " 'человек': 33,\n",
              " 'пойти': 34,\n",
              " 'писать': 35,\n",
              " 'ждать': 36,\n",
              " 'час': 37,\n",
              " 'мама': 38,\n",
              " 'нехотеть': 39,\n",
              " 'любимый': 40,\n",
              " 'работа': 41,\n",
              " 'болеть': 42,\n",
              " 'последний': 43,\n",
              " 'написать': 44,\n",
              " 'никто': 45,\n",
              " 'ночь': 46,\n",
              " 'свой': 47,\n",
              " 'посмотреть': 48,\n",
              " 'добрый': 49,\n",
              " 'говорить': 50,\n",
              " 'чтоть': 51,\n",
              " 'неделя': 52,\n",
              " 'какой': 53,\n",
              " 'прийти': 54,\n",
              " 'купить': 55,\n",
              " 'вчера': 56,\n",
              " 'мочь': 57,\n",
              " 'дело': 58,\n",
              " 'скучать': 59,\n",
              " 'найти': 60,\n",
              " 'скоро': 61,\n",
              " 'хотеться': 62,\n",
              " 'урок': 63,\n",
              " 'фильм': 64,\n",
              " 'снег': 65,\n",
              " 'первый': 66,\n",
              " 'голова': 67,\n",
              " 'остаться': 68,\n",
              " 'оо': 69,\n",
              " 'жить': 70,\n",
              " 'видеть': 71,\n",
              " 'читать': 72,\n",
              " 'вечер': 73,\n",
              " 'домой': 74,\n",
              " 'понять': 75,\n",
              " 'твой': 76,\n",
              " 'стать': 77,\n",
              " 'пара': 78,\n",
              " 'жизнь': 79,\n",
              " 'давать': 80,\n",
              " 'плохо': 81,\n",
              " 'равно': 82,\n",
              " 'нг': 83,\n",
              " '5': 84,\n",
              " 'забыть': 85,\n",
              " 'надеяться': 86,\n",
              " 'слово': 87,\n",
              " 'ходить': 88,\n",
              " 'бля': 89,\n",
              " 'жаль': 90,\n",
              " '4': 91,\n",
              " 'улица': 92,\n",
              " 'правда': 93,\n",
              " 'ахи': 94,\n",
              " 'твиттер': 95,\n",
              " 'сон': 96,\n",
              " 'работать': 97,\n",
              " 'изз': 98,\n",
              " 'телефон': 99,\n",
              " 'вроде': 100,\n",
              " 'рука': 101,\n",
              " 'песня': 102,\n",
              " 'наш': 103,\n",
              " 'что': 104,\n",
              " 'место': 105,\n",
              " 'парень': 106,\n",
              " 'плохой': 107,\n",
              " 'новогодний': 108,\n",
              " 'фотка': 109,\n",
              " 'минута': 110,\n",
              " 'твит': 111,\n",
              " 'ахах': 112,\n",
              " '1': 113,\n",
              " 'привет': 114,\n",
              " 'рождение': 115,\n",
              " 'девушка': 116,\n",
              " '10': 117,\n",
              " 'понимать': 118,\n",
              " 'решить': 119,\n",
              " 'крутой': 120,\n",
              " 'х': 121,\n",
              " 'пройти': 122,\n",
              " 'точно': 123,\n",
              " 'ехать': 124,\n",
              " 'сейчас': 125,\n",
              " 'сразу': 126,\n",
              " 'подарок': 127,\n",
              " 'играть': 128,\n",
              " 'увидеть': 129,\n",
              " 'дать': 130,\n",
              " 'выходной': 131,\n",
              " 'круто': 132,\n",
              " 'сказать': 133,\n",
              " 'приехать': 134,\n",
              " 'кстати': 135,\n",
              " 'класс': 136,\n",
              " 'ненавидеть': 137,\n",
              " 'глаз': 138,\n",
              " 'вопрос': 139,\n",
              " 'лента': 140,\n",
              " 'деньга': 141,\n",
              " 'конец': 142,\n",
              " 'папа': 143,\n",
              " 'город': 144,\n",
              " 'начать': 145,\n",
              " 'ребёнок': 146,\n",
              " 'столько': 147,\n",
              " 'както': 148,\n",
              " 'бог': 149,\n",
              " 'месяц': 150,\n",
              " 'выйти': 151,\n",
              " 'слушать': 152,\n",
              " 'прям': 153,\n",
              " 'ладный': 154,\n",
              " 'блядь': 155,\n",
              " 'наверное': 156,\n",
              " 'сильно': 157,\n",
              " 'взять': 158,\n",
              " 'еда': 159,\n",
              " 'нужный': 160,\n",
              " 'любовь': 161,\n",
              " 'момент': 162,\n",
              " 'русский': 163,\n",
              " 'прийтись': 164,\n",
              " 'нравиться': 165,\n",
              " 'красивый': 166,\n",
              " 'бояться': 167,\n",
              " 'должный': 168,\n",
              " 'зима': 169,\n",
              " 'вк': 170,\n",
              " 'нога': 171,\n",
              " 'чувствовать': 172,\n",
              " 'простить': 173,\n",
              " 'маленький': 174,\n",
              " 'че': 175,\n",
              " 'большой': 176,\n",
              " 'девочка': 177,\n",
              " 'ёлка': 178,\n",
              " 'уйти': 179,\n",
              " 'серия': 180,\n",
              " 'нелюбить': 181,\n",
              " 'праздник': 182,\n",
              " 'стоить': 183,\n",
              " 'душа': 184,\n",
              " 'мир': 185,\n",
              " 'экзамен': 186,\n",
              " 'отличный': 187,\n",
              " 'история': 188,\n",
              " 'музыка': 189,\n",
              " 'пиздец': 190,\n",
              " 'счастие': 191,\n",
              " 'целый': 192,\n",
              " 'закончиться': 193,\n",
              " 'проснуться': 194,\n",
              " 'россия': 195,\n",
              " 'ребята': 196,\n",
              " 'норма': 197,\n",
              " 'ктоть': 198,\n",
              " 'сука': 199,\n",
              " 'нормально': 200,\n",
              " 'ахахи': 201,\n",
              " 'ибо': 202,\n",
              " 'гулять': 203,\n",
              " 'фото': 204,\n",
              " 'игра': 205,\n",
              " 'ужасно': 206,\n",
              " 'получить': 207,\n",
              " 'чувство': 208,\n",
              " 'нев': 209,\n",
              " '8': 210,\n",
              " 'учить': 211,\n",
              " 'каникулы': 212,\n",
              " 'сходить': 213,\n",
              " 'вспомнить': 214,\n",
              " 'начинать': 215,\n",
              " 'поставить': 216,\n",
              " 'жалко': 217,\n",
              " 'милый': 218,\n",
              " 'проблема': 219,\n",
              " 'приятно': 220,\n",
              " 'подруга': 221,\n",
              " 'помнить': 222,\n",
              " 'интересно': 223,\n",
              " 'они': 224,\n",
              " 'dd': 225,\n",
              " 'интересный': 226,\n",
              " 'узнать': 227,\n",
              " 'погода': 228,\n",
              " 'вместе': 229,\n",
              " 'интернет': 230,\n",
              " 'эх': 231,\n",
              " 'главное': 232,\n",
              " 'нечего': 233,\n",
              " '6': 234,\n",
              " 'прекрасный': 235,\n",
              " 'устать': 236,\n",
              " 'к': 237,\n",
              " 'заболеть': 238,\n",
              " 'пол': 239,\n",
              " 'поход': 240,\n",
              " 'таки': 241,\n",
              " 'лето': 242,\n",
              " 'нетак': 243,\n",
              " 'поехать': 244,\n",
              " 'ой': 245,\n",
              " 'классный': 246,\n",
              " 'пусть': 247,\n",
              " 'который': 248,\n",
              " 'учиться': 249,\n",
              " 'ага': 250,\n",
              " 'старый': 251,\n",
              " 'пить': 252,\n",
              " 'никак': 253,\n",
              " 'желание': 254,\n",
              " 'группа': 255,\n",
              " 'обидно': 256,\n",
              " 'кот': 257,\n",
              " 'видео': 258,\n",
              " 'полный': 259,\n",
              " 'родитель': 260,\n",
              " 'тип': 261,\n",
              " 'счастливый': 262,\n",
              " 'утром': 263,\n",
              " 'непонимать': 264,\n",
              " 'быстро': 265,\n",
              " 'новость': 266,\n",
              " 'зачёт': 267,\n",
              " 'скучно': 268,\n",
              " 'пятница': 269,\n",
              " 'ненадо': 270,\n",
              " 'несмочь': 271,\n",
              " 'отлично': 272,\n",
              " 'каждый': 273,\n",
              " 'брат': 274,\n",
              " 'следующий': 275,\n",
              " 'понедельник': 276,\n",
              " 'концерт': 277,\n",
              " 'мысль': 278,\n",
              " 'москва': 279,\n",
              " 'лицо': 280,\n",
              " 'раз': 281,\n",
              " 'умереть': 282,\n",
              " 'понравиться': 283,\n",
              " 'нету': 284,\n",
              " 'голос': 285,\n",
              " '7': 286,\n",
              " 'невидеть': 287,\n",
              " 'офигенный': 288,\n",
              " 'боль': 289,\n",
              " 'начаться': 290,\n",
              " 'дорога': 291,\n",
              " 'учёба': 292,\n",
              " 'поэтому': 293,\n",
              " 'б': 294,\n",
              " 'ужасный': 295,\n",
              " 'книга': 296,\n",
              " 'сериал': 297,\n",
              " 'помочь': 298,\n",
              " 'нормальный': 299,\n",
              " '9': 300,\n",
              " 'бесить': 301,\n",
              " 'нехватать': 302,\n",
              " 'сезон': 303,\n",
              " 'тема': 304,\n",
              " 'встать': 305,\n",
              " 'зайти': 306,\n",
              " 'получиться': 307,\n",
              " 'др': 308,\n",
              " 'капец': 309,\n",
              " 'скорее': 310,\n",
              " 'нести': 311,\n",
              " 'собираться': 312,\n",
              " 'рада': 313,\n",
              " 'окно': 314,\n",
              " 'сдать': 315,\n",
              " 'обожать': 316,\n",
              " 'плакать': 317,\n",
              " 'вставать': 318,\n",
              " 'план': 319,\n",
              " 'какойтый': 320,\n",
              " 'пытаться': 321,\n",
              " 'второй': 322,\n",
              " 'мороз': 323,\n",
              " 'ох': 324,\n",
              " 'суббота': 325,\n",
              " 'машина': 326,\n",
              " 'убить': 327,\n",
              " 'мозг': 328,\n",
              " 'удача': 329,\n",
              " 'приходить': 330,\n",
              " 'весело': 331,\n",
              " 'євромайдан': 332,\n",
              " 'искать': 333,\n",
              " 'никакой': 334,\n",
              " 'реально': 335,\n",
              " 'неочень': 336,\n",
              " 'подарить': 337,\n",
              " 'сердце': 338,\n",
              " 'чувак': 339,\n",
              " 'приятный': 340,\n",
              " 'всякий': 341,\n",
              " 'з': 342,\n",
              " 'поздравлять': 343,\n",
              " 'грустно': 344,\n",
              " 'ужас': 345,\n",
              " '15': 346,\n",
              " 'жопа': 347,\n",
              " 'холодно': 348,\n",
              " '20': 349,\n",
              " 'мальчик': 350,\n",
              " 'провести': 351,\n",
              " 'свет': 352,\n",
              " 'подумать': 353,\n",
              " 'декабрь': 354,\n",
              " 'уехать': 355,\n",
              " 'нехотеться': 356,\n",
              " 'лежать': 357,\n",
              " 'вернуться': 358,\n",
              " 'магазин': 359,\n",
              " 'видимо': 360,\n",
              " 'близкий': 361,\n",
              " 'oo': 362,\n",
              " 'любой': 363,\n",
              " 'сессия': 364,\n",
              " 'другой': 365,\n",
              " 'тупой': 366,\n",
              " 'английский': 367,\n",
              " 'сила': 368,\n",
              " 'родный': 369,\n",
              " 'выходить': 370,\n",
              " 'молодец': 371,\n",
              " 'короче': 372,\n",
              " 'женщина': 373,\n",
              " 'тви': 374,\n",
              " 'чай': 375,\n",
              " 'мужик': 376,\n",
              " 'часть': 377,\n",
              " 'ааа': 378,\n",
              " 'комп': 379,\n",
              " 'мнеказаться': 380,\n",
              " 'вещь': 381,\n",
              " 'черта': 382,\n",
              " 'больший': 383,\n",
              " 'соскучиться': 384,\n",
              " 'рассказать': 385,\n",
              " '30': 386,\n",
              " 'некоторый': 387,\n",
              " 'билет': 388,\n",
              " 'бабушка': 389,\n",
              " 'весёлый': 390,\n",
              " 'дорогой': 391,\n",
              " 'оказываться': 392,\n",
              " 'скорый': 393,\n",
              " 'аж': 394,\n",
              " 'желать': 395,\n",
              " 'потерять': 396,\n",
              " 'детство': 397,\n",
              " 'готовый': 398,\n",
              " 'слеза': 399,\n",
              " 'ненужный': 400,\n",
              " 'спокойный': 401,\n",
              " 'куча': 402,\n",
              " 'сайт': 403,\n",
              " 'вместо': 404,\n",
              " 'хах': 405,\n",
              " 'лень': 406,\n",
              " 'хд': 407,\n",
              " 'похоже': 408,\n",
              " '12': 409,\n",
              " 'оказаться': 410,\n",
              " 'семья': 411,\n",
              " 'непонять': 412,\n",
              " 'ахахах': 413,\n",
              " 'ночью': 414,\n",
              " 'наконецтый': 415,\n",
              " 'позвонить': 416,\n",
              " 'настоящий': 417,\n",
              " 'картинка': 418,\n",
              " 'волос': 419,\n",
              " 'наверно': 420,\n",
              " 'народ': 421,\n",
              " 'вечером': 422,\n",
              " 'мужчина': 423,\n",
              " 'мнетак': 424,\n",
              " 'непойти': 425,\n",
              " 'смысл': 426,\n",
              " 'кофе': 427,\n",
              " 'ваш': 428,\n",
              " 'кино': 429,\n",
              " 'есть': 430,\n",
              " 'печаль': 431,\n",
              " 'считать': 432,\n",
              " 'верить': 433,\n",
              " 'общий': 434,\n",
              " 'мненравиться': 435,\n",
              " 'сторона': 436,\n",
              " 'лечь': 437,\n",
              " 'вид': 438,\n",
              " 'мнеочень': 439,\n",
              " 'уснуть': 440,\n",
              " 'физика': 441,\n",
              " 'петь': 442,\n",
              " 'послать': 443,\n",
              " 'уходить': 444,\n",
              " 'танец': 445,\n",
              " 'случай': 446,\n",
              " 'просить': 447,\n",
              " 'добро': 448,\n",
              " 'неуспеть': 449,\n",
              " 'быстрый': 450,\n",
              " 'чёрный': 451,\n",
              " 'больно': 452,\n",
              " 'температура': 453,\n",
              " 'прочитать': 454,\n",
              " 'квартира': 455,\n",
              " 'правильно': 456,\n",
              " 'сестра': 457,\n",
              " 'успеть': 458,\n",
              " 'брать': 459,\n",
              " 'попасть': 460,\n",
              " 'общаться': 461,\n",
              " 'январь': 462,\n",
              " 'каток': 463,\n",
              " 'постоянно': 464,\n",
              " 'номер': 465,\n",
              " 'появиться': 466,\n",
              " 'страшно': 467,\n",
              " 'больница': 468,\n",
              " 'открыть': 469,\n",
              " 'мечта': 470,\n",
              " 'перестать': 471,\n",
              " 'ответ': 472,\n",
              " 'радость': 473,\n",
              " 'единственный': 474,\n",
              " 'остальной': 475,\n",
              " 'автобус': 476,\n",
              " 'ставить': 477,\n",
              " 'право': 478,\n",
              " 'комната': 479,\n",
              " 'ddd': 480,\n",
              " 'лох': 481,\n",
              " 'непомнить': 482,\n",
              " 'погулять': 483,\n",
              " 'готовиться': 484,\n",
              " 'обещать': 485,\n",
              " 'бегать': 486,\n",
              " 'говно': 487,\n",
              " 'бедный': 488,\n",
              " 'разный': 489,\n",
              " 'либо': 490,\n",
              " 'огромный': 491,\n",
              " 'настя': 492,\n",
              " 'честно': 493,\n",
              " 'пропустить': 494,\n",
              " 'звонить': 495,\n",
              " 'звать': 496,\n",
              " 'забрать': 497,\n",
              " 'письмо': 498,\n",
              " 'вода': 499,\n",
              " 'сообщение': 500,\n",
              " 'придумать': 501,\n",
              " 'замечательный': 502,\n",
              " 'дождь': 503,\n",
              " 'надоесть': 504,\n",
              " 'хватить': 505,\n",
              " 'поговорить': 506,\n",
              " 'даа': 507,\n",
              " 'около': 508,\n",
              " 'знакомый': 509,\n",
              " 'ура': 510,\n",
              " 'заходить': 511,\n",
              " 'половина': 512,\n",
              " 'гость': 513,\n",
              " '11': 514,\n",
              " 'химия': 515,\n",
              " 'печально': 516,\n",
              " 'ощущение': 517,\n",
              " 'страшный': 518,\n",
              " 'неработать': 519,\n",
              " 'кинуть': 520,\n",
              " 'одноклассник': 521,\n",
              " 'готовить': 522,\n",
              " 'итог': 523,\n",
              " 'показать': 524,\n",
              " 'страна': 525,\n",
              " 'попробовать': 526,\n",
              " 'странный': 527,\n",
              " 'похожий': 528,\n",
              " 'недумать': 529,\n",
              " 'курс': 530,\n",
              " 'a': 531,\n",
              " 'начинаться': 532,\n",
              " 'обратно': 533,\n",
              " 'оставаться': 534,\n",
              " 'упасть': 535,\n",
              " 'спросить': 536,\n",
              " 'нос': 537,\n",
              " 'идиот': 538,\n",
              " 'рабочий': 539,\n",
              " 'контрольный': 540,\n",
              " 'радовать': 541,\n",
              " 'супер': 542,\n",
              " 'тренировка': 543,\n",
              " 'неписать': 544,\n",
              " 'ретвит': 545,\n",
              " 'начало': 546,\n",
              " 'слышать': 547,\n",
              " 'фотография': 548,\n",
              " 'собака': 549,\n",
              " 'состояние': 550,\n",
              " 'ум': 551,\n",
              " 'саша': 552,\n",
              " 'заниматься': 553,\n",
              " 'становиться': 554,\n",
              " 'ващий': 555,\n",
              " 'вспоминать': 556,\n",
              " 'жена': 557,\n",
              " 'помощь': 558,\n",
              " 'простой': 559,\n",
              " 'фигня': 560,\n",
              " 'неговорить': 561,\n",
              " 'встретить': 562,\n",
              " 'смочь': 563,\n",
              " 'страница': 564,\n",
              " 'год': 565,\n",
              " 'мнеть': 566,\n",
              " 'нить': 567,\n",
              " 'встреча': 568,\n",
              " 'шок': 569,\n",
              " 'сожаление': 570,\n",
              " 'покупать': 571,\n",
              " 'сильный': 572,\n",
              " 'безумно': 573,\n",
              " 'сдавать': 574,\n",
              " 'лола': 575,\n",
              " 'стоять': 576,\n",
              " 'прямо': 577,\n",
              " 'кушать': 578,\n",
              " 'вкусный': 579,\n",
              " 'неуметь': 580,\n",
              " 'обязательно': 581,\n",
              " 'шикарный': 582,\n",
              " 'ответить': 583,\n",
              " 'горло': 584,\n",
              " 'число': 585,\n",
              " 'лёгкий': 586,\n",
              " 'уезжать': 587,\n",
              " 'странно': 588,\n",
              " 'кровать': 589,\n",
              " 'пост': 590,\n",
              " 'мненужный': 591,\n",
              " 'нахуй': 592,\n",
              " 'сладкий': 593,\n",
              " 'идея': 594,\n",
              " 'язык': 595,\n",
              " 'стол': 596,\n",
              " 'происходить': 597,\n",
              " 'испортить': 598,\n",
              " 'воскресение': 599,\n",
              " 'уметь': 600,\n",
              " '100': 601,\n",
              " 'прошлый': 602,\n",
              " 'прислать': 603,\n",
              " 'универ': 604,\n",
              " 'красный': 605,\n",
              " 'съесть': 606,\n",
              " 'алгебра': 607,\n",
              " 'живой': 608,\n",
              " 'сегодняшний': 609,\n",
              " 'достать': 610,\n",
              " 'муж': 611,\n",
              " 'пробка': 612,\n",
              " 'жрать': 613,\n",
              " 'ради': 614,\n",
              " 'тяжёлый': 615,\n",
              " 'белый': 616,\n",
              " 'метро': 617,\n",
              " 'л': 618,\n",
              " 'тёплый': 619,\n",
              " 'нето': 620,\n",
              " 'наушник': 621,\n",
              " 'весь': 622,\n",
              " 'отношение': 623,\n",
              " 'называть': 624,\n",
              " 'случиться': 625,\n",
              " 'всетаки': 626,\n",
              " 'очередной': 627,\n",
              " 'палец': 628,\n",
              " 'шк': 629,\n",
              " 'повод': 630,\n",
              " 'недать': 631,\n",
              " 'выглядеть': 632,\n",
              " 'классно': 633,\n",
              " 'lt3': 634,\n",
              " 'выспаться': 635,\n",
              " 'вести': 636,\n",
              " '13': 637,\n",
              " 'мать': 638,\n",
              " 'молодёжка': 639,\n",
              " 'tukvasociopat': 640,\n",
              " 'ездить': 641,\n",
              " 'дед': 642,\n",
              " 'удалить': 643,\n",
              " 'мило': 644,\n",
              " 'баба': 645,\n",
              " 'платье': 646,\n",
              " 'читатель': 647,\n",
              " 'вернуть': 648,\n",
              " 'получаться': 649,\n",
              " 'встретиться': 650,\n",
              " 'приезжать': 651,\n",
              " 'называться': 652,\n",
              " 'нетолько': 653,\n",
              " 'выздоравливать': 654,\n",
              " 'дура': 655,\n",
              " 'оставить': 656,\n",
              " 'заметить': 657,\n",
              " 'смеяться': 658,\n",
              " 'несмотреть': 659,\n",
              " 'волгоград': 660,\n",
              " 'неделать': 661,\n",
              " 'мнить': 662,\n",
              " 'аааа': 663,\n",
              " 'вчерашний': 664,\n",
              " 'отправить': 665,\n",
              " 'оценка': 666,\n",
              " 'учитель': 667,\n",
              " 'хуй': 668,\n",
              " 'попросить': 669,\n",
              " 'сложно': 670,\n",
              " 'путин': 671,\n",
              " 'ошибка': 672,\n",
              " 'сниться': 673,\n",
              " 'follow': 674,\n",
              " 'ток': 675,\n",
              " 'скинуть': 676,\n",
              " 'дааа': 677,\n",
              " 'хуйня': 678,\n",
              " 'неидти': 679,\n",
              " 'ооо': 680,\n",
              " 'цвет': 681,\n",
              " 'киев': 682,\n",
              " 'радоваться': 683,\n",
              " 'олимпиада': 684,\n",
              " 'настолько': 685,\n",
              " 'разговаривать': 686,\n",
              " 'питер': 687,\n",
              " 'недавать': 688,\n",
              " 'поднять': 689,\n",
              " 'проспать': 690,\n",
              " 'незабыть': 691,\n",
              " 'жуйк': 692,\n",
              " 'поздно': 693,\n",
              " 'несказать': 694,\n",
              " 'сломать': 695,\n",
              " 'кароч': 696,\n",
              " 'контакт': 697,\n",
              " 'рубль': 698,\n",
              " 'отвечать': 699,\n",
              " 'гдеть': 700,\n",
              " 'мечтать': 701,\n",
              " 'позитив': 702,\n",
              " 'ложиться': 703,\n",
              " 'список': 704,\n",
              " 'сосед': 705,\n",
              " 'катя': 706,\n",
              " 'спрашивать': 707,\n",
              " 'физр': 708,\n",
              " 'реклама': 709,\n",
              " 'ухо': 710,\n",
              " 'неполучиться': 711,\n",
              " 'кошка': 712,\n",
              " 'включить': 713,\n",
              " 'q': 714,\n",
              " 'неполучаться': 715,\n",
              " 'господь': 716,\n",
              " 'грустный': 717,\n",
              " 'ржать': 718,\n",
              " 'танцевать': 719,\n",
              " 'тепло': 720,\n",
              " 'смешно': 721,\n",
              " 'жизньболь': 722,\n",
              " 'показывать': 723,\n",
              " 'например': 724,\n",
              " 'инет': 725,\n",
              " 'отдать': 726,\n",
              " 'разговор': 727,\n",
              " 'коготь': 728,\n",
              " 'спасть': 729,\n",
              " 'почемуть': 730,\n",
              " 'умный': 731,\n",
              " 'время': 732,\n",
              " 'ненравиться': 733,\n",
              " 'заставить': 734,\n",
              " 'проходить': 735,\n",
              " 'откуда': 736,\n",
              " 'поздравить': 737,\n",
              " 'ах': 738,\n",
              " 'пацан': 739,\n",
              " 'зимний': 740,\n",
              " 'рисовать': 741,\n",
              " 'проводить': 742,\n",
              " 'нь': 743,\n",
              " 'собраться': 744,\n",
              " 'какаять': 745,\n",
              " 'футбол': 746,\n",
              " 'хрен': 747,\n",
              " 'врач': 748,\n",
              " 'кровь': 749,\n",
              " 'память': 750,\n",
              " 'больной': 751,\n",
              " 'ппц': 752,\n",
              " 'выпить': 753,\n",
              " 'принести': 754,\n",
              " 'альбом': 755,\n",
              " 'красиво': 756,\n",
              " 'майдан': 757,\n",
              " 'злой': 758,\n",
              " 'сутки': 759,\n",
              " 'ситуация': 760,\n",
              " 'вечно': 761,\n",
              " 'назвать': 762,\n",
              " 'почитать': 763,\n",
              " 'сюда': 764,\n",
              " 'тт': 765,\n",
              " 'подряд': 766,\n",
              " 'кататься': 767,\n",
              " 'понятно': 768,\n",
              " 'сложный': 769,\n",
              " 'пиво': 770,\n",
              " 'мнебыть': 771,\n",
              " 'тяжело': 772,\n",
              " 'просыпаться': 773,\n",
              " 'шутка': 774,\n",
              " 'ссылка': 775,\n",
              " 'мнетожий': 776,\n",
              " 'бл': 777,\n",
              " 'ктонибыть': 778,\n",
              " 'штука': 779,\n",
              " 'бросить': 780,\n",
              " 'невыспаться': 781,\n",
              " 'вариант': 782,\n",
              " 'отдыхать': 783,\n",
              " 'поесть': 784,\n",
              " 'мнеещё': 785,\n",
              " 'ноут': 786,\n",
              " 'снежок': 787,\n",
              " 'фраза': 788,\n",
              " 'команда': 789,\n",
              " 'чудо': 790,\n",
              " 'возможно': 791,\n",
              " 'компания': 792,\n",
              " '111213': 793,\n",
              " 'пропасть': 794,\n",
              " 'рассказывать': 795,\n",
              " 'фу': 796,\n",
              " 'случайно': 797,\n",
              " 'статус': 798,\n",
              " 'умирать': 799,\n",
              " 'впервые': 800,\n",
              " 'увы': 801,\n",
              " 'скачать': 802,\n",
              " 'красота': 803,\n",
              " 'менять': 804,\n",
              " 'сеть': 805,\n",
              " 'улыбка': 806,\n",
              " 'живот': 807,\n",
              " 'рад': 808,\n",
              " 'очередь': 809,\n",
              " 'добавить': 810,\n",
              " 'иметь': 811,\n",
              " 'серьёзно': 812,\n",
              " 'детский': 813,\n",
              " 'жесть': 814,\n",
              " 'неужели': 815,\n",
              " 'шапка': 816,\n",
              " 'свободный': 817,\n",
              " 'поиграть': 818,\n",
              " 'пздца': 819,\n",
              " 'результат': 820,\n",
              " 'четверг': 821,\n",
              " 'везти': 822,\n",
              " 'загадать': 823,\n",
              " 'несделать': 824,\n",
              " 'ахахахи': 825,\n",
              " 'поспать': 826,\n",
              " 'тупо': 827,\n",
              " 'извинить': 828,\n",
              " 'личный': 829,\n",
              " 'обычный': 830,\n",
              " 'хз': 831,\n",
              " 'даша': 832,\n",
              " 'третий': 833,\n",
              " 'тож': 834,\n",
              " 'teamfollowback': 835,\n",
              " 'держать': 836,\n",
              " 'плач': 837,\n",
              " 'спокойно': 838,\n",
              " 'геометрия': 839,\n",
              " 'почта': 840,\n",
              " 'ненайти': 841,\n",
              " 'нея': 842,\n",
              " 'улыбаться': 843,\n",
              " 'послушать': 844,\n",
              " 'устроить': 845,\n",
              " 'айфон': 846,\n",
              " 'тест': 847,\n",
              " 'счёт': 848,\n",
              " 'стараться': 849,\n",
              " 'центр': 850,\n",
              " 'главный': 851,\n",
              " 'оч': 852,\n",
              " 'мнение': 853,\n",
              " 'помоему': 854,\n",
              " 'тело': 855,\n",
              " 'судить': 856,\n",
              " 'чета': 857,\n",
              " 'дойти': 858,\n",
              " 'зуб': 859,\n",
              " 'согласный': 860,\n",
              " 'здорово': 861,\n",
              " 'зал': 862,\n",
              " 'gt': 863,\n",
              " 'идеальный': 864,\n",
              " 'стыдно': 865,\n",
              " 'шерлок': 866,\n",
              " 'здоровье': 867,\n",
              " 'завидовать': 868,\n",
              " 'мнея': 869,\n",
              " 'ciooptimal': 870,\n",
              " 'посидеть': 871,\n",
              " 'минь': 872,\n",
              " 'поздравление': 873,\n",
              " 'збс': 874,\n",
              " 'украина': 875,\n",
              " 'ад': 876,\n",
              " '2014': 877,\n",
              " 'внимание': 878,\n",
              " 'кончиться': 879,\n",
              " 'хреновый': 880,\n",
              " 'чтонибыть': 881,\n",
              " 'херня': 882,\n",
              " 'the': 883,\n",
              " 'снять': 884,\n",
              " 'выбрать': 885,\n",
              " 'среда': 886,\n",
              " 'эмоция': 887,\n",
              " 'звонок': 888,\n",
              " 'встречать': 889,\n",
              " 'неверить': 890,\n",
              " 'редко': 891,\n",
              " 'продолжать': 892,\n",
              " 'лететь': 893,\n",
              " 'забить': 894,\n",
              " 'невозможно': 895,\n",
              " 'биология': 896,\n",
              " 'неплохо': 897,\n",
              " 'закрыть': 898,\n",
              " 'решать': 899,\n",
              " 'название': 900,\n",
              " 'вика': 901,\n",
              " 'фига': 902,\n",
              " 'удачный': 903,\n",
              " 'зря': 904,\n",
              " 'хрень': 905,\n",
              " 'трудно': 906,\n",
              " 'путь': 907,\n",
              " 'клуб': 908,\n",
              " 'пользоваться': 909,\n",
              " '25': 910,\n",
              " 'отмечать': 911,\n",
              " 'скайп': 912,\n",
              " 'зимой': 913,\n",
              " 'выучить': 914,\n",
              " 'огонь': 915,\n",
              " 'возможность': 916,\n",
              " 'держаться': 917,\n",
              " 'напомнить': 918,\n",
              " 'приложение': 919,\n",
              " 'отдохнуть': 920,\n",
              " 'помогать': 921,\n",
              " 'внезапно': 922,\n",
              " 'нестать': 923,\n",
              " 'карта': 924,\n",
              " 'причём': 925,\n",
              " 'серый': 926,\n",
              " 'привыкнуть': 927,\n",
              " 'ааааа': 928,\n",
              " 'любим': 929,\n",
              " 'страдать': 930,\n",
              " 'mtvstars': 931,\n",
              " 'нифига': 932,\n",
              " 'дверь': 933,\n",
              " '40': 934,\n",
              " 'иначе': 935,\n",
              " 'программа': 936,\n",
              " 'пароль': 937,\n",
              " 'неспать': 938,\n",
              " 'снимать': 939,\n",
              " 'представлять': 940,\n",
              " 'звезда': 941,\n",
              " 'присниться': 942,\n",
              " 'переживать': 943,\n",
              " 'обед': 944,\n",
              " 'і': 945,\n",
              " 'российский': 946,\n",
              " 'срочно': 947,\n",
              " 'высокий': 948,\n",
              " 'просмотр': 949,\n",
              " 'плюс': 950,\n",
              " 'инстаграм': 951,\n",
              " 'типо': 952,\n",
              " 'дурацкий': 953,\n",
              " 'горячий': 954,\n",
              " 'невсе': 955,\n",
              " 'стих': 956,\n",
              " 'солнце': 957,\n",
              " 'дождаться': 958,\n",
              " 'спина': 959,\n",
              " 'домашний': 960,\n",
              " '50': 961,\n",
              " 'математика': 962,\n",
              " 'весна': 963,\n",
              " 'привезти': 964,\n",
              " 'вкус': 965,\n",
              " 'смешной': 966,\n",
              " 'приходиться': 967,\n",
              " 'нечитать': 968,\n",
              " 'море': 969,\n",
              " 'малый': 970,\n",
              " 'канал': 971,\n",
              " 'цена': 972,\n",
              " 'познакомиться': 973,\n",
              " 'смех': 974,\n",
              " 'собрать': 975,\n",
              " 'пипец': 976,\n",
              " 'победитель': 977,\n",
              " 'полностью': 978,\n",
              " 'сын': 979,\n",
              " 'жутко': 980,\n",
              " 'ч': 981,\n",
              " 'молчать': 982,\n",
              " 'получать': 983,\n",
              " 'смерть': 984,\n",
              " 'обидеться': 985,\n",
              " 'пьяный': 986,\n",
              " 'явно': 987,\n",
              " 'минус': 988,\n",
              " 'юм': 989,\n",
              " 'текст': 990,\n",
              " 'игрушка': 991,\n",
              " 'заставлять': 992,\n",
              " '0': 993,\n",
              " 'проект': 994,\n",
              " 'клип': 995,\n",
              " 'долгий': 996,\n",
              " 'впереди': 997,\n",
              " 'smampgt': 998,\n",
              " 'слава': 999,\n",
              " 'заказать': 1000,\n",
              " ...}"
            ]
          },
          "metadata": {},
          "execution_count": 27
        }
      ],
      "source": [
        "vocabulary = {v: k for k, v in dict(enumerate(tokens_filtered_top, 1)).items()}\n",
        "vocabulary"
      ]
    },
    {
      "cell_type": "code",
      "execution_count": null,
      "metadata": {
        "id": "5OULZgvkJzpj"
      },
      "outputs": [],
      "source": [
        "import numpy as np\n",
        "\n",
        "\n",
        "def text_to_sequence(text, maxlen):\n",
        "    result = []\n",
        "    tokens = word_tokenize(text.lower())\n",
        "    tokens_filtered = [word for word in tokens if word.isalnum()]\n",
        "    for word in tokens_filtered:\n",
        "        if word in vocabulary:\n",
        "            result.append(vocabulary[word])\n",
        "\n",
        "    padding = [0] * (maxlen-len(result))\n",
        "    return result[-maxlen:] + padding"
      ]
    },
    {
      "cell_type": "code",
      "execution_count": null,
      "metadata": {
        "id": "pqHlf5nNJ2hl",
        "colab": {
          "base_uri": "https://localhost:8080/"
        },
        "outputId": "fafe24d4-c5f5-4474-ffe1-54ead0843cbe"
      },
      "outputs": [
        {
          "output_type": "stream",
          "name": "stdout",
          "text": [
            "CPU times: user 27.1 s, sys: 157 ms, total: 27.3 s\n",
            "Wall time: 33 s\n"
          ]
        }
      ],
      "source": [
        "%%time\n",
        "x_train = np.asarray([text_to_sequence(text, max_len) for text in df_train[\"text\"]])\n",
        "x_val = np.asarray([text_to_sequence(text, max_len) for text in df_val[\"text\"]])"
      ]
    },
    {
      "cell_type": "code",
      "execution_count": null,
      "metadata": {
        "colab": {
          "base_uri": "https://localhost:8080/"
        },
        "id": "lI4NUg_TJ6NK",
        "outputId": "32090c5f-1b2a-4cf3-9790-3412aae444c2"
      },
      "outputs": [
        {
          "output_type": "execute_result",
          "data": {
            "text/plain": [
              "(181467, 20)"
            ]
          },
          "metadata": {},
          "execution_count": 30
        }
      ],
      "source": [
        "x_train.shape"
      ]
    },
    {
      "cell_type": "code",
      "source": [
        "df_train['text'].iloc[0]"
      ],
      "metadata": {
        "colab": {
          "base_uri": "https://localhost:8080/",
          "height": 36
        },
        "id": "0I6B2MHb81pF",
        "outputId": "19caee2c-1cf2-40bd-d853-0b45da59ace1"
      },
      "execution_count": null,
      "outputs": [
        {
          "output_type": "execute_result",
          "data": {
            "text/plain": [
              "'alisachachka неуезжаааааааать ❤ нехотеть уезжать'"
            ],
            "application/vnd.google.colaboratory.intrinsic+json": {
              "type": "string"
            }
          },
          "metadata": {},
          "execution_count": 31
        }
      ]
    },
    {
      "cell_type": "code",
      "execution_count": null,
      "metadata": {
        "colab": {
          "base_uri": "https://localhost:8080/"
        },
        "id": "9QlLvXd9KDf3",
        "outputId": "2a2197d7-d51b-42c7-a213-66ce312a63fb"
      },
      "outputs": [
        {
          "output_type": "execute_result",
          "data": {
            "text/plain": [
              "array([ 39, 587,   0,   0,   0,   0,   0,   0,   0,   0,   0,   0,   0,\n",
              "         0,   0,   0,   0,   0,   0,   0])"
            ]
          },
          "metadata": {},
          "execution_count": 32
        }
      ],
      "source": [
        "x_train[0]"
      ]
    },
    {
      "cell_type": "code",
      "execution_count": null,
      "metadata": {
        "id": "Ynw9XOZNK4Wp"
      },
      "outputs": [],
      "source": [
        "import torch\n",
        "import torch.nn as nn\n",
        "import torch.nn.functional as F\n",
        "\n",
        "\n",
        "class Net(nn.Module):\n",
        "    def __init__(self, vocab_size=2000, embedding_dim=128, out_channel=128, num_classes=1):\n",
        "        super().__init__()\n",
        "        self.embedding = nn.Embedding(vocab_size, embedding_dim)\n",
        "        self.conv_1 = nn.Conv1d(embedding_dim, out_channel, kernel_size=2)\n",
        "        self.conv_2 = nn.Conv1d(embedding_dim, out_channel, kernel_size=3)\n",
        "        self.pool = nn.MaxPool1d(2)\n",
        "        self.relu = nn.ReLU()\n",
        "        self.linear_1 = nn.Linear(out_channel, out_channel // 2)\n",
        "        self.linear_2 = nn.Linear(out_channel // 2, num_classes)\n",
        "        \n",
        "    def forward(self, x):        \n",
        "        output = self.embedding(x) # B, L, E\n",
        "        #                       B  E  L         \n",
        "        output = output.permute(0, 2, 1)\n",
        "        output = self.conv_1(output)\n",
        "        output = self.relu(output)\n",
        "        output = self.pool(output)\n",
        "\n",
        "        output = self.conv_2(output)\n",
        "        output = self.relu(output)\n",
        "        output = self.pool(output)\n",
        "        output = torch.max(output, axis=2).values\n",
        "        output = self.linear_1(output)\n",
        "        output = self.relu(output)\n",
        "        output = self.linear_2(output)\n",
        "        output = F.sigmoid(output)\n",
        "        return output"
      ]
    },
    {
      "cell_type": "code",
      "execution_count": null,
      "metadata": {
        "id": "PhwK7yLAK8b0"
      },
      "outputs": [],
      "source": [
        "from torch.utils.data import DataLoader, Dataset\n",
        "\n",
        "\n",
        "class DataWrapper(Dataset):\n",
        "    def __init__(self, data, target, transform=None):\n",
        "        self.data = torch.from_numpy(data).long()\n",
        "        self.target = torch.from_numpy(target).long()\n",
        "        self.transform = transform\n",
        "        \n",
        "    def __getitem__(self, index):\n",
        "        x = self.data[index]\n",
        "        y = self.target[index]\n",
        "        \n",
        "        if self.transform:\n",
        "            x = self.transform(x)\n",
        "            \n",
        "        return x, y\n",
        "    \n",
        "    def __len__(self):\n",
        "        return len(self.data)"
      ]
    },
    {
      "cell_type": "code",
      "source": [
        "train_dataset = DataWrapper(x_train, df_train['class'].values)\n",
        "train_loader = DataLoader(train_dataset, batch_size=batch_size, shuffle=True)\n",
        "\n",
        "val_dataset = DataWrapper(x_val, df_val['class'].values)\n",
        "val_loader = DataLoader(val_dataset, batch_size=8, shuffle=True)"
      ],
      "metadata": {
        "id": "Qq0DK08tHKHf"
      },
      "execution_count": null,
      "outputs": []
    },
    {
      "cell_type": "code",
      "source": [
        "for x, l in train_loader:\n",
        "    print(x.shape)\n",
        "    print(l.shape)\n",
        "    print(l[0])\n",
        "    break"
      ],
      "metadata": {
        "colab": {
          "base_uri": "https://localhost:8080/"
        },
        "id": "J6v8MCvfPqJN",
        "outputId": "292ded6c-48ee-4107-e70a-3b5254be1ec0"
      },
      "execution_count": null,
      "outputs": [
        {
          "output_type": "stream",
          "name": "stdout",
          "text": [
            "torch.Size([512, 20])\n",
            "torch.Size([512])\n",
            "tensor(1)\n"
          ]
        }
      ]
    },
    {
      "cell_type": "code",
      "source": [
        "model = Net(vocab_size=max_words)\n",
        "\n",
        "device = 'cuda' if torch.cuda.is_available() else 'cpu'\n",
        "device"
      ],
      "metadata": {
        "id": "F-3ExwIMG8BB",
        "colab": {
          "base_uri": "https://localhost:8080/",
          "height": 36
        },
        "outputId": "13f0330a-78e7-49df-aef2-b5388c9a509f"
      },
      "execution_count": null,
      "outputs": [
        {
          "output_type": "execute_result",
          "data": {
            "text/plain": [
              "'cuda'"
            ],
            "application/vnd.google.colaboratory.intrinsic+json": {
              "type": "string"
            }
          },
          "metadata": {},
          "execution_count": 46
        }
      ]
    },
    {
      "cell_type": "code",
      "source": [
        "print(model)\n",
        "print(\"Parameters:\", sum([param.nelement() for param in model.parameters()]))"
      ],
      "metadata": {
        "colab": {
          "base_uri": "https://localhost:8080/"
        },
        "id": "ayB6rEFkHB1D",
        "outputId": "a3ded359-0344-49f9-9f80-8b1a3dc4e575"
      },
      "execution_count": null,
      "outputs": [
        {
          "output_type": "stream",
          "name": "stdout",
          "text": [
            "Net(\n",
            "  (embedding): Embedding(2000, 128)\n",
            "  (conv_1): Conv1d(128, 128, kernel_size=(2,), stride=(1,))\n",
            "  (conv_2): Conv1d(128, 128, kernel_size=(3,), stride=(1,))\n",
            "  (pool): MaxPool1d(kernel_size=2, stride=2, padding=0, dilation=1, ceil_mode=False)\n",
            "  (relu): ReLU()\n",
            "  (linear_1): Linear(in_features=128, out_features=64, bias=True)\n",
            "  (linear_2): Linear(in_features=64, out_features=1, bias=True)\n",
            ")\n",
            "Parameters: 346497\n"
          ]
        }
      ]
    },
    {
      "cell_type": "code",
      "source": [
        "optimizer = torch.optim.Adam(model.parameters(), lr=0.01)\n",
        "criterion = nn.BCELoss()"
      ],
      "metadata": {
        "id": "vOpjN8zrHIfJ"
      },
      "execution_count": null,
      "outputs": []
    },
    {
      "cell_type": "code",
      "source": [
        "model = model.to(device)\n",
        "model.train()\n",
        "th = 0.5\n",
        "\n",
        "train_loss_history = []\n",
        "test_loss_history = []\n",
        "\n",
        "\n",
        "for epoch in range(epochs):  \n",
        "    running_items, running_right = 0.0, 0.0\n",
        "    for i, data in enumerate(train_loader, 0):\n",
        "        inputs, labels = data[0].to(device), data[1].to(device)\n",
        "        \n",
        "        # обнуляем градиент\n",
        "        optimizer.zero_grad()\n",
        "        outputs = model(inputs)\n",
        "        \n",
        "        loss = criterion(outputs, labels.float().view(-1, 1))\n",
        "        loss.backward()\n",
        "        optimizer.step()\n",
        "\n",
        "        # подсчет ошибки на обучении\n",
        "        loss = loss.item()\n",
        "        running_items += len(labels)\n",
        "        # подсчет метрики на обучении\n",
        "        pred_labels = torch.squeeze((outputs > th).int())\n",
        "        running_right += (labels == pred_labels).sum()\n",
        "        \n",
        "    # выводим статистику о процессе обучения\n",
        "    model.eval()\n",
        "    \n",
        "    print(f'Epoch [{epoch + 1}/{epochs}]. ' \\\n",
        "            f'Step [{i + 1}/{len(train_loader)}]. ' \\\n",
        "            f'Loss: {loss:.3f}. ' \\\n",
        "            f'Acc: {running_right / running_items:.3f}', end='. ')\n",
        "    running_loss, running_items, running_right = 0.0, 0.0, 0.0\n",
        "    train_loss_history.append(loss)\n",
        "\n",
        "        # выводим статистику на тестовых данных\n",
        "    test_running_right, test_running_total, test_loss = 0.0, 0.0, 0.0\n",
        "    for j, data in enumerate(val_loader):\n",
        "        test_labels = data[1].to(device)\n",
        "        test_outputs = model(data[0].to(device))\n",
        "        \n",
        "        # подсчет ошибки на тесте\n",
        "        test_loss = criterion(test_outputs, test_labels.float().view(-1, 1))\n",
        "        # подсчет метрики на тесте\n",
        "        test_running_total += len(data[1])\n",
        "        pred_test_labels = torch.squeeze((test_outputs > th).int())\n",
        "        test_running_right += (test_labels == pred_test_labels).sum()\n",
        "    \n",
        "    test_loss_history.append(test_loss.item())\n",
        "    print(f'Test loss: {test_loss:.3f}. Test acc: {test_running_right / test_running_total:.3f}')\n",
        "    \n",
        "    model.train()\n",
        "        \n",
        "print('Training is finished!')"
      ],
      "metadata": {
        "colab": {
          "base_uri": "https://localhost:8080/"
        },
        "id": "ee9kfUQaCXpl",
        "outputId": "a12f6d00-006b-4909-a37b-9c5faee93b36"
      },
      "execution_count": null,
      "outputs": [
        {
          "output_type": "stream",
          "name": "stderr",
          "text": [
            "/usr/local/lib/python3.7/dist-packages/torch/nn/functional.py:1944: UserWarning: nn.functional.sigmoid is deprecated. Use torch.sigmoid instead.\n",
            "  warnings.warn(\"nn.functional.sigmoid is deprecated. Use torch.sigmoid instead.\")\n"
          ]
        },
        {
          "output_type": "stream",
          "name": "stdout",
          "text": [
            "Epoch [1/5]. Step [355/355]. Loss: 0.583. Acc: 0.689. Test loss: 0.670. Test acc: 0.707\n",
            "Epoch [2/5]. Step [355/355]. Loss: 0.554. Acc: 0.720. Test loss: 0.632. Test acc: 0.711\n",
            "Epoch [3/5]. Step [355/355]. Loss: 0.533. Acc: 0.731. Test loss: 1.275. Test acc: 0.710\n",
            "Epoch [4/5]. Step [355/355]. Loss: 0.512. Acc: 0.743. Test loss: 0.641. Test acc: 0.709\n",
            "Epoch [5/5]. Step [355/355]. Loss: 0.467. Acc: 0.758. Test loss: 1.664. Test acc: 0.708\n",
            "Training is finished!\n"
          ]
        }
      ]
    },
    {
      "cell_type": "code",
      "source": [
        "import matplotlib.pyplot as plt\n",
        "\n",
        "plt.title('Loss history')\n",
        "plt.grid(True)\n",
        "plt.ylabel('Loss')\n",
        "plt.xlabel('Epoch')\n",
        "plt.plot(train_loss_history, label='train')\n",
        "plt.plot(test_loss_history, label='test')\n",
        "plt.legend();"
      ],
      "metadata": {
        "colab": {
          "base_uri": "https://localhost:8080/",
          "height": 295
        },
        "id": "jRFEu1X4jpLU",
        "outputId": "6ab2ce7a-1a8f-4fb5-d58c-e68775fa902a"
      },
      "execution_count": null,
      "outputs": [
        {
          "output_type": "display_data",
          "data": {
            "text/plain": [
              "<Figure size 432x288 with 1 Axes>"
            ],
            "image/png": "[encoded data removed]"
          },
          "metadata": {
            "needs_background": "light"
          }
        }
      ]
    },
    {
      "cell_type": "markdown",
      "source": [
        "## Домашнее задание\n",
        "1. Попробуйте обучить нейронную сеть с применением одномерных сверток для предсказания сентимента сообщений с твитера на примере https://www.kaggle.com/datasets/arkhoshghalb/twitter-sentiment-analysis-hatred-speech\n",
        "\n",
        "2. Опишите, какой результат вы получили? Что помогло вам улучшить ее точность?\n",
        "\n",
        "У кого нет возможности работать через каггл (нет верификации), то можете данные взять по ссылке: https://disk.yandex.ru/d/LV1cYS1orMyRWA"
      ],
      "metadata": {
        "id": "bzjJy15I3r9U"
      }
    }
  ],
  "metadata": {
    "colab": {
      "collapsed_sections": [],
      "name": "PyTorch_Lesson_6.ipynb",
      "provenance": [],
      "toc_visible": true
    },
    "kernelspec": {
      "display_name": "Python 3",
      "language": "python",
      "name": "python3"
    },
    "language_info": {
      "codemirror_mode": {
        "name": "ipython",
        "version": 3
      },
      "file_extension": ".py",
      "mimetype": "text/x-python",
      "name": "python",
      "nbconvert_exporter": "python",
      "pygments_lexer": "ipython3",
      "version": "3.7.4"
    },
    "accelerator": "GPU"
  },
  "nbformat": 4,
  "nbformat_minor": 0
}