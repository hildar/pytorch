{
 "cells": [
  {
   "cell_type": "code",
   "execution_count": 1,
   "metadata": {
    "id": "_CNZn_3CofVO"
   },
   "outputs": [],
   "source": [
    "import torch"
   ]
  },
  {
   "cell_type": "code",
   "execution_count": 28,
   "metadata": {
    "id": "QGYTKAxeofVR"
   },
   "outputs": [],
   "source": [
    "# 1. Создайте случайный FloatTensor размера 3x4x5"
   ]
  },
  {
   "cell_type": "code",
   "execution_count": 29,
   "metadata": {},
   "outputs": [
    {
     "data": {
      "text/plain": [
       "tensor([[[-1.1740e+00,  6.8816e-02, -1.7323e+00,  7.0450e-01,  5.7384e-01],\n",
       "         [ 7.0294e-02, -1.4653e-01, -2.5573e+00, -1.9047e-01, -1.2566e+00],\n",
       "         [-1.4219e+00,  1.2795e+00,  6.0846e-01, -3.6704e-01, -2.9733e-01],\n",
       "         [ 6.9641e-02, -2.9311e-01, -3.0643e-02, -1.4989e+00, -1.1786e-03]],\n",
       "\n",
       "        [[ 1.0695e+00, -1.5560e+00, -1.0112e+00, -8.1238e-01, -3.6146e-01],\n",
       "         [ 1.6002e+00,  7.8384e-01,  3.0121e-01, -1.5495e-01,  1.3501e+00],\n",
       "         [ 3.8076e-01, -1.9769e-01, -7.5509e-01,  1.1057e+00,  1.5434e+00],\n",
       "         [-1.1252e+00, -4.0408e-01, -8.0672e-01,  4.9157e-01,  7.4210e-01]],\n",
       "\n",
       "        [[-1.5776e+00, -1.6508e-01,  3.9824e-01,  9.8806e-01,  8.9964e-01],\n",
       "         [-1.6428e+00,  6.0556e-01, -2.7703e+00, -1.1773e+00,  6.0762e-01],\n",
       "         [-1.6303e+00, -1.2972e+00,  1.1801e+00, -1.2666e+00, -8.1126e-02],\n",
       "         [ 5.0862e-01,  4.6072e-01,  6.6230e-01,  3.1414e-01,  1.4148e+00]]])"
      ]
     },
     "execution_count": 29,
     "metadata": {},
     "output_type": "execute_result"
    }
   ],
   "source": [
    "a = torch.randn(3, 4, 5)\n",
    "a"
   ]
  },
  {
   "cell_type": "code",
   "execution_count": 30,
   "metadata": {
    "id": "7GV_q8DdofVV"
   },
   "outputs": [],
   "source": [
    "# 2. Выведите его форму (shape)"
   ]
  },
  {
   "cell_type": "code",
   "execution_count": 31,
   "metadata": {},
   "outputs": [
    {
     "data": {
      "text/plain": [
       "torch.Size([3, 4, 5])"
      ]
     },
     "execution_count": 31,
     "metadata": {},
     "output_type": "execute_result"
    }
   ],
   "source": [
    "a.shape"
   ]
  },
  {
   "cell_type": "code",
   "execution_count": 32,
   "metadata": {
    "id": "f1OTy65FofVX"
   },
   "outputs": [],
   "source": [
    "# 3. Приведите его к форме 6х10"
   ]
  },
  {
   "cell_type": "code",
   "execution_count": 33,
   "metadata": {},
   "outputs": [
    {
     "data": {
      "text/plain": [
       "tensor([[-1.1740e+00,  6.8816e-02, -1.7323e+00,  7.0450e-01,  5.7384e-01,\n",
       "          7.0294e-02, -1.4653e-01, -2.5573e+00, -1.9047e-01, -1.2566e+00],\n",
       "        [-1.4219e+00,  1.2795e+00,  6.0846e-01, -3.6704e-01, -2.9733e-01,\n",
       "          6.9641e-02, -2.9311e-01, -3.0643e-02, -1.4989e+00, -1.1786e-03],\n",
       "        [ 1.0695e+00, -1.5560e+00, -1.0112e+00, -8.1238e-01, -3.6146e-01,\n",
       "          1.6002e+00,  7.8384e-01,  3.0121e-01, -1.5495e-01,  1.3501e+00],\n",
       "        [ 3.8076e-01, -1.9769e-01, -7.5509e-01,  1.1057e+00,  1.5434e+00,\n",
       "         -1.1252e+00, -4.0408e-01, -8.0672e-01,  4.9157e-01,  7.4210e-01],\n",
       "        [-1.5776e+00, -1.6508e-01,  3.9824e-01,  9.8806e-01,  8.9964e-01,\n",
       "         -1.6428e+00,  6.0556e-01, -2.7703e+00, -1.1773e+00,  6.0762e-01],\n",
       "        [-1.6303e+00, -1.2972e+00,  1.1801e+00, -1.2666e+00, -8.1126e-02,\n",
       "          5.0862e-01,  4.6072e-01,  6.6230e-01,  3.1414e-01,  1.4148e+00]])"
      ]
     },
     "execution_count": 33,
     "metadata": {},
     "output_type": "execute_result"
    }
   ],
   "source": [
    "a = a.reshape(6, 10)\n",
    "a"
   ]
  },
  {
   "cell_type": "code",
   "execution_count": 34,
   "metadata": {},
   "outputs": [
    {
     "data": {
      "text/plain": [
       "torch.Size([6, 10])"
      ]
     },
     "execution_count": 34,
     "metadata": {},
     "output_type": "execute_result"
    }
   ],
   "source": [
    "a.shape"
   ]
  },
  {
   "cell_type": "code",
   "execution_count": 35,
   "metadata": {
    "id": "BEVOv9_TofVe"
   },
   "outputs": [],
   "source": [
    "# 4. Создайте случайный IntTensor размера 10"
   ]
  },
  {
   "cell_type": "code",
   "execution_count": 36,
   "metadata": {},
   "outputs": [
    {
     "data": {
      "text/plain": [
       "tensor([5, 7, 3, 1, 9, 7, 3, 7, 3, 3])"
      ]
     },
     "execution_count": 36,
     "metadata": {},
     "output_type": "execute_result"
    }
   ],
   "source": [
    "b = torch.randint(10, size=(10,))\n",
    "b"
   ]
  },
  {
   "cell_type": "code",
   "execution_count": 37,
   "metadata": {},
   "outputs": [
    {
     "data": {
      "text/plain": [
       "torch.Size([10])"
      ]
     },
     "execution_count": 37,
     "metadata": {},
     "output_type": "execute_result"
    }
   ],
   "source": [
    "b.shape"
   ]
  },
  {
   "cell_type": "code",
   "execution_count": 40,
   "metadata": {
    "id": "TAX3DUiSa07K"
   },
   "outputs": [],
   "source": [
    "# 5. Умножьте созданный FloatTensor на созданный IntTensor поэлементно"
   ]
  },
  {
   "cell_type": "code",
   "execution_count": 41,
   "metadata": {},
   "outputs": [
    {
     "data": {
      "text/plain": [
       "tensor([[-5.8699e+00,  4.8171e-01, -5.1968e+00,  7.0450e-01,  5.1645e+00,\n",
       "          4.9206e-01, -4.3960e-01, -1.7901e+01, -5.7140e-01, -3.7697e+00],\n",
       "        [-7.1097e+00,  8.9564e+00,  1.8254e+00, -3.6704e-01, -2.6759e+00,\n",
       "          4.8749e-01, -8.7933e-01, -2.1450e-01, -4.4967e+00, -3.5358e-03],\n",
       "        [ 5.3474e+00, -1.0892e+01, -3.0336e+00, -8.1238e-01, -3.2532e+00,\n",
       "          1.1201e+01,  2.3515e+00,  2.1085e+00, -4.6485e-01,  4.0503e+00],\n",
       "        [ 1.9038e+00, -1.3839e+00, -2.2653e+00,  1.1057e+00,  1.3890e+01,\n",
       "         -7.8762e+00, -1.2122e+00, -5.6471e+00,  1.4747e+00,  2.2263e+00],\n",
       "        [-7.8881e+00, -1.1555e+00,  1.1947e+00,  9.8806e-01,  8.0967e+00,\n",
       "         -1.1499e+01,  1.8167e+00, -1.9392e+01, -3.5319e+00,  1.8229e+00],\n",
       "        [-8.1516e+00, -9.0803e+00,  3.5403e+00, -1.2666e+00, -7.3013e-01,\n",
       "          3.5603e+00,  1.3821e+00,  4.6361e+00,  9.4241e-01,  4.2444e+00]])"
      ]
     },
     "execution_count": 41,
     "metadata": {},
     "output_type": "execute_result"
    }
   ],
   "source": [
    "c = a * b\n",
    "c"
   ]
  },
  {
   "cell_type": "code",
   "execution_count": 42,
   "metadata": {},
   "outputs": [
    {
     "data": {
      "text/plain": [
       "torch.Size([6, 10])"
      ]
     },
     "execution_count": 42,
     "metadata": {},
     "output_type": "execute_result"
    }
   ],
   "source": [
    "c.shape"
   ]
  },
  {
   "cell_type": "code",
   "execution_count": 39,
   "metadata": {
    "id": "eUxdWlQZofVi"
   },
   "outputs": [],
   "source": [
    "# 6. Умножьте тензор матрично на себя, чтобы результат был размерности 6x6\n",
    "# Подсказка: .dot может не подойти"
   ]
  },
  {
   "cell_type": "code",
   "execution_count": 47,
   "metadata": {},
   "outputs": [
    {
     "data": {
      "text/plain": [
       "tensor([[ 424.2967,   29.5317,  -86.5134,  160.9591,  417.8830,  -77.9736],\n",
       "        [  29.5317,  162.6685, -127.0863,  -75.8416,   38.7156,  -19.2171],\n",
       "        [ -86.5134, -127.0863,  319.7358, -108.6097, -216.7597,  117.6332],\n",
       "        [ 160.9591,  -75.8416, -108.6097,  307.3582,  294.1603,  -67.5736],\n",
       "        [ 417.8830,   38.7156, -216.7597,  294.1603,  658.8995,  -52.0657],\n",
       "        [ -77.9736,  -19.2171,  117.6332,  -67.5736,  -52.0657,  218.5534]])"
      ]
     },
     "execution_count": 47,
     "metadata": {},
     "output_type": "execute_result"
    }
   ],
   "source": [
    "d = c.matmul(c.T)  # просто сам на себя нельзя умножить, размерность же не совпадает\n",
    "d"
   ]
  },
  {
   "cell_type": "code",
   "execution_count": 48,
   "metadata": {},
   "outputs": [
    {
     "data": {
      "text/plain": [
       "torch.Size([6, 6])"
      ]
     },
     "execution_count": 48,
     "metadata": {},
     "output_type": "execute_result"
    }
   ],
   "source": [
    "d.shape"
   ]
  },
  {
   "cell_type": "code",
   "execution_count": 49,
   "metadata": {
    "id": "u3V6CsNkofVj"
   },
   "outputs": [],
   "source": [
    "# 7. Посчитайте производную функции y = x**3 + z - 75t в точке (1, 0.5, 2)"
   ]
  },
  {
   "cell_type": "code",
   "execution_count": 61,
   "metadata": {},
   "outputs": [
    {
     "data": {
      "text/plain": [
       "-71"
      ]
     },
     "execution_count": 61,
     "metadata": {},
     "output_type": "execute_result"
    }
   ],
   "source": [
    "-71"
   ]
  },
  {
   "cell_type": "code",
   "execution_count": 62,
   "metadata": {
    "id": "FzH6QkyxofVm"
   },
   "outputs": [],
   "source": [
    "# 8. Создайте единичный тензор размера 5x6"
   ]
  },
  {
   "cell_type": "code",
   "execution_count": 52,
   "metadata": {},
   "outputs": [
    {
     "data": {
      "text/plain": [
       "tensor([[1., 1., 1., 1., 1., 1.],\n",
       "        [1., 1., 1., 1., 1., 1.],\n",
       "        [1., 1., 1., 1., 1., 1.],\n",
       "        [1., 1., 1., 1., 1., 1.],\n",
       "        [1., 1., 1., 1., 1., 1.]])"
      ]
     },
     "execution_count": 52,
     "metadata": {},
     "output_type": "execute_result"
    }
   ],
   "source": [
    "e = torch.zeros((5, 6)).fill_(1)\n",
    "e"
   ]
  },
  {
   "cell_type": "code",
   "execution_count": 53,
   "metadata": {},
   "outputs": [
    {
     "data": {
      "text/plain": [
       "torch.Size([5, 6])"
      ]
     },
     "execution_count": 53,
     "metadata": {},
     "output_type": "execute_result"
    }
   ],
   "source": [
    "e.shape"
   ]
  },
  {
   "cell_type": "code",
   "execution_count": 54,
   "metadata": {
    "id": "z49ttvWPofVo"
   },
   "outputs": [],
   "source": [
    "# 9. Переведите его в формат numpy"
   ]
  },
  {
   "cell_type": "code",
   "execution_count": 60,
   "metadata": {},
   "outputs": [
    {
     "data": {
      "text/plain": [
       "array([[1., 1., 1., 1., 1., 1.],\n",
       "       [1., 1., 1., 1., 1., 1.],\n",
       "       [1., 1., 1., 1., 1., 1.],\n",
       "       [1., 1., 1., 1., 1., 1.],\n",
       "       [1., 1., 1., 1., 1., 1.]], dtype=float32)"
      ]
     },
     "execution_count": 60,
     "metadata": {},
     "output_type": "execute_result"
    }
   ],
   "source": [
    "e = e.numpy()\n",
    "e"
   ]
  },
  {
   "cell_type": "code",
   "execution_count": null,
   "metadata": {},
   "outputs": [],
   "source": []
  }
 ],
 "metadata": {
  "colab": {
   "collapsed_sections": [],
   "name": "HW_1.ipynb",
   "provenance": []
  },
  "kernelspec": {
   "display_name": "Python 3 (ipykernel)",
   "language": "python",
   "name": "python3"
  },
  "language_info": {
   "codemirror_mode": {
    "name": "ipython",
    "version": 3
   },
   "file_extension": ".py",
   "mimetype": "text/x-python",
   "name": "python",
   "nbconvert_exporter": "python",
   "pygments_lexer": "ipython3",
   "version": "3.9.12"
  }
 },
 "nbformat": 4,
 "nbformat_minor": 4
}
