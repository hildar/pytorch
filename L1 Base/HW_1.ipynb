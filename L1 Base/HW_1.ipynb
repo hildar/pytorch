{
 "cells": [
  {
   "cell_type": "code",
   "execution_count": 1,
   "metadata": {
    "id": "_CNZn_3CofVO"
   },
   "outputs": [],
   "source": [
    "import torch"
   ]
  },
  {
   "cell_type": "code",
   "execution_count": 2,
   "metadata": {
    "id": "QGYTKAxeofVR"
   },
   "outputs": [],
   "source": [
    "# 1. Создайте случайный FloatTensor размера 3x4x5"
   ]
  },
  {
   "cell_type": "code",
   "execution_count": 3,
   "metadata": {},
   "outputs": [
    {
     "data": {
      "text/plain": [
       "tensor([[[ 0.0194,  1.4037, -1.0438, -0.1924,  0.5489],\n",
       "         [-1.3583,  1.1282, -0.5281,  0.2512, -1.0764],\n",
       "         [ 0.4958, -0.2520, -0.2127,  0.5397,  2.4413],\n",
       "         [-0.6149, -1.1526,  0.6924, -1.6459, -0.0467]],\n",
       "\n",
       "        [[-0.7774,  0.0639,  1.2852, -0.7496,  0.6544],\n",
       "         [-0.0161,  0.2484, -0.1432, -0.8984,  1.2495],\n",
       "         [ 0.9103, -0.3682,  1.3181,  1.3190,  0.3465],\n",
       "         [-0.5249, -0.9287,  0.0789,  0.6168,  0.0625]],\n",
       "\n",
       "        [[-0.7227,  0.2368, -0.7096, -0.6570,  2.2302],\n",
       "         [ 0.8977, -0.4150, -1.6656, -0.9051,  1.4166],\n",
       "         [ 0.9852,  0.2197, -0.1078,  1.9827, -1.5374],\n",
       "         [ 0.2609,  0.0521,  1.5684, -0.2272, -0.8682]]])"
      ]
     },
     "execution_count": 3,
     "metadata": {},
     "output_type": "execute_result"
    }
   ],
   "source": [
    "a = torch.randn(3, 4, 5)\n",
    "a"
   ]
  },
  {
   "cell_type": "code",
   "execution_count": 4,
   "metadata": {
    "id": "7GV_q8DdofVV"
   },
   "outputs": [],
   "source": [
    "# 2. Выведите его форму (shape)"
   ]
  },
  {
   "cell_type": "code",
   "execution_count": 5,
   "metadata": {},
   "outputs": [
    {
     "data": {
      "text/plain": [
       "torch.Size([3, 4, 5])"
      ]
     },
     "execution_count": 5,
     "metadata": {},
     "output_type": "execute_result"
    }
   ],
   "source": [
    "a.shape"
   ]
  },
  {
   "cell_type": "code",
   "execution_count": 6,
   "metadata": {
    "id": "f1OTy65FofVX"
   },
   "outputs": [],
   "source": [
    "# 3. Приведите его к форме 6х10"
   ]
  },
  {
   "cell_type": "code",
   "execution_count": 7,
   "metadata": {},
   "outputs": [
    {
     "data": {
      "text/plain": [
       "tensor([[ 0.0194,  1.4037, -1.0438, -0.1924,  0.5489, -1.3583,  1.1282, -0.5281,\n",
       "          0.2512, -1.0764],\n",
       "        [ 0.4958, -0.2520, -0.2127,  0.5397,  2.4413, -0.6149, -1.1526,  0.6924,\n",
       "         -1.6459, -0.0467],\n",
       "        [-0.7774,  0.0639,  1.2852, -0.7496,  0.6544, -0.0161,  0.2484, -0.1432,\n",
       "         -0.8984,  1.2495],\n",
       "        [ 0.9103, -0.3682,  1.3181,  1.3190,  0.3465, -0.5249, -0.9287,  0.0789,\n",
       "          0.6168,  0.0625],\n",
       "        [-0.7227,  0.2368, -0.7096, -0.6570,  2.2302,  0.8977, -0.4150, -1.6656,\n",
       "         -0.9051,  1.4166],\n",
       "        [ 0.9852,  0.2197, -0.1078,  1.9827, -1.5374,  0.2609,  0.0521,  1.5684,\n",
       "         -0.2272, -0.8682]])"
      ]
     },
     "execution_count": 7,
     "metadata": {},
     "output_type": "execute_result"
    }
   ],
   "source": [
    "a = a.reshape(6, 10)\n",
    "a"
   ]
  },
  {
   "cell_type": "code",
   "execution_count": 8,
   "metadata": {},
   "outputs": [
    {
     "data": {
      "text/plain": [
       "torch.Size([6, 10])"
      ]
     },
     "execution_count": 8,
     "metadata": {},
     "output_type": "execute_result"
    }
   ],
   "source": [
    "a.shape"
   ]
  },
  {
   "cell_type": "code",
   "execution_count": 9,
   "metadata": {
    "id": "BEVOv9_TofVe"
   },
   "outputs": [],
   "source": [
    "# 4. Создайте случайный IntTensor размера 10"
   ]
  },
  {
   "cell_type": "code",
   "execution_count": 10,
   "metadata": {},
   "outputs": [
    {
     "data": {
      "text/plain": [
       "tensor([7, 9, 8, 8, 4, 4, 5, 7, 3, 2])"
      ]
     },
     "execution_count": 10,
     "metadata": {},
     "output_type": "execute_result"
    }
   ],
   "source": [
    "b = torch.randint(10, size=(10,))\n",
    "b"
   ]
  },
  {
   "cell_type": "code",
   "execution_count": 11,
   "metadata": {},
   "outputs": [
    {
     "data": {
      "text/plain": [
       "torch.Size([10])"
      ]
     },
     "execution_count": 11,
     "metadata": {},
     "output_type": "execute_result"
    }
   ],
   "source": [
    "b.shape"
   ]
  },
  {
   "cell_type": "code",
   "execution_count": 12,
   "metadata": {
    "id": "TAX3DUiSa07K"
   },
   "outputs": [],
   "source": [
    "# 5. Умножьте созданный FloatTensor на созданный IntTensor поэлементно"
   ]
  },
  {
   "cell_type": "code",
   "execution_count": 13,
   "metadata": {},
   "outputs": [
    {
     "data": {
      "text/plain": [
       "tensor([[  0.1355,  12.6332,  -8.3508,  -1.5388,   2.1954,  -5.4331,   5.6410,\n",
       "          -3.6967,   0.7535,  -2.1528],\n",
       "        [  3.4709,  -2.2676,  -1.7019,   4.3177,   9.7651,  -2.4595,  -5.7629,\n",
       "           4.8465,  -4.9376,  -0.0934],\n",
       "        [ -5.4415,   0.5755,  10.2818,  -5.9967,   2.6177,  -0.0643,   1.2420,\n",
       "          -1.0022,  -2.6951,   2.4990],\n",
       "        [  6.3723,  -3.3135,  10.5444,  10.5520,   1.3861,  -2.0997,  -4.6435,\n",
       "           0.5523,   1.8504,   0.1249],\n",
       "        [ -5.0589,   2.1308,  -5.6764,  -5.2560,   8.9208,   3.5908,  -2.0749,\n",
       "         -11.6593,  -2.7152,   2.8332],\n",
       "        [  6.8966,   1.9771,  -0.8622,  15.8615,  -6.1495,   1.0435,   0.2604,\n",
       "          10.9785,  -0.6815,  -1.7364]])"
      ]
     },
     "execution_count": 13,
     "metadata": {},
     "output_type": "execute_result"
    }
   ],
   "source": [
    "c = a * b\n",
    "c"
   ]
  },
  {
   "cell_type": "code",
   "execution_count": 14,
   "metadata": {},
   "outputs": [
    {
     "data": {
      "text/plain": [
       "torch.Size([6, 10])"
      ]
     },
     "execution_count": 14,
     "metadata": {},
     "output_type": "execute_result"
    }
   ],
   "source": [
    "c.shape"
   ]
  },
  {
   "cell_type": "code",
   "execution_count": 15,
   "metadata": {
    "id": "eUxdWlQZofVi"
   },
   "outputs": [],
   "source": [
    "# 6. Умножьте тензор матрично на себя, чтобы результат был размерности 6x6\n",
    "# Подсказка: .dot может не подойти"
   ]
  },
  {
   "cell_type": "code",
   "execution_count": 16,
   "metadata": {},
   "outputs": [
    {
     "data": {
      "text/plain": [
       "tensor([[ 316.7469,  -39.7518,  -60.7034, -157.9483,  105.0505,  -46.3565],\n",
       "        [ -39.7518,  221.2223,  -36.8030,   96.2344,   11.4494,   82.0234],\n",
       "        [ -60.7034,  -36.8030,  194.5284,    1.3254,   48.5362, -169.7174],\n",
       "        [-157.9483,   96.2344,    1.3254,  305.7507, -151.2629,  188.3357],\n",
       "        [ 105.0505,   11.4494,   48.5362, -151.2629,  338.0989, -291.8739],\n",
       "        [ -46.3565,   82.0234, -169.7174,  188.3357, -291.8739,  466.7814]])"
      ]
     },
     "execution_count": 16,
     "metadata": {},
     "output_type": "execute_result"
    }
   ],
   "source": [
    "d = c.matmul(c.T)  # просто сам на себя нельзя умножить, размерность же не совпадает\n",
    "d"
   ]
  },
  {
   "cell_type": "code",
   "execution_count": 17,
   "metadata": {},
   "outputs": [
    {
     "data": {
      "text/plain": [
       "torch.Size([6, 6])"
      ]
     },
     "execution_count": 17,
     "metadata": {},
     "output_type": "execute_result"
    }
   ],
   "source": [
    "d.shape"
   ]
  },
  {
   "cell_type": "code",
   "execution_count": 18,
   "metadata": {
    "id": "u3V6CsNkofVj"
   },
   "outputs": [],
   "source": [
    "# 7. Посчитайте производную функции y = x**3 + z - 75t в точке (1, 0.5, 2)"
   ]
  },
  {
   "cell_type": "markdown",
   "metadata": {},
   "source": [
    "$y = x^3 + z - 75t$\n",
    "\n",
    "$y' = 3x^2 + 1 - 75 = 3x^2 - 74$\n",
    "\n",
    "Так как z и t после диффиринцирования стали константами то в итоге подставляем в полученное уравнение только x.\n",
    "\n",
    "$y' = 3x^2 - 74 = 3\\cdot 1^2 - 74 = -71 $"
   ]
  },
  {
   "cell_type": "markdown",
   "metadata": {},
   "source": [
    "Проверим с помощью torch:"
   ]
  },
  {
   "cell_type": "code",
   "execution_count": 19,
   "metadata": {},
   "outputs": [
    {
     "data": {
      "text/plain": [
       "(tensor([1.], requires_grad=True),\n",
       " tensor([0.5000], requires_grad=True),\n",
       " tensor([2.], requires_grad=True))"
      ]
     },
     "execution_count": 19,
     "metadata": {},
     "output_type": "execute_result"
    }
   ],
   "source": [
    "x = torch.tensor([1.0], requires_grad=True)\n",
    "z = torch.tensor([0.5], requires_grad=True)\n",
    "t = torch.tensor([2.0], requires_grad=True)\n",
    "x, z, t"
   ]
  },
  {
   "cell_type": "code",
   "execution_count": 20,
   "metadata": {},
   "outputs": [],
   "source": [
    "y = x ** 3 + z - 75 * t"
   ]
  },
  {
   "cell_type": "code",
   "execution_count": 21,
   "metadata": {},
   "outputs": [
    {
     "data": {
      "text/plain": [
       "tensor([-148.5000], grad_fn=<SubBackward0>)"
      ]
     },
     "execution_count": 21,
     "metadata": {},
     "output_type": "execute_result"
    }
   ],
   "source": [
    "y"
   ]
  },
  {
   "cell_type": "code",
   "execution_count": 22,
   "metadata": {},
   "outputs": [],
   "source": [
    "y.backward()"
   ]
  },
  {
   "cell_type": "code",
   "execution_count": 23,
   "metadata": {},
   "outputs": [
    {
     "data": {
      "text/plain": [
       "(tensor([3.]), tensor([1.]), tensor([-75.]))"
      ]
     },
     "execution_count": 23,
     "metadata": {},
     "output_type": "execute_result"
    }
   ],
   "source": [
    "x.grad, z.grad, t.grad"
   ]
  },
  {
   "cell_type": "code",
   "execution_count": 24,
   "metadata": {},
   "outputs": [
    {
     "data": {
      "text/plain": [
       "tensor([-71.])"
      ]
     },
     "execution_count": 24,
     "metadata": {},
     "output_type": "execute_result"
    }
   ],
   "source": [
    "x.grad + z.grad + t.grad\n",
    "\n",
    "# Вот здесь я не понял есть ли метод сразу получить производную из функции 'y' без ручного суммирования производных?"
   ]
  },
  {
   "cell_type": "code",
   "execution_count": 25,
   "metadata": {
    "id": "FzH6QkyxofVm"
   },
   "outputs": [],
   "source": [
    "# 8. Создайте единичный тензор размера 5x6"
   ]
  },
  {
   "cell_type": "code",
   "execution_count": 26,
   "metadata": {},
   "outputs": [
    {
     "data": {
      "text/plain": [
       "tensor([[1., 1., 1., 1., 1., 1.],\n",
       "        [1., 1., 1., 1., 1., 1.],\n",
       "        [1., 1., 1., 1., 1., 1.],\n",
       "        [1., 1., 1., 1., 1., 1.],\n",
       "        [1., 1., 1., 1., 1., 1.]])"
      ]
     },
     "execution_count": 26,
     "metadata": {},
     "output_type": "execute_result"
    }
   ],
   "source": [
    "e = torch.zeros((5, 6)).fill_(1)\n",
    "e"
   ]
  },
  {
   "cell_type": "code",
   "execution_count": 27,
   "metadata": {},
   "outputs": [
    {
     "data": {
      "text/plain": [
       "torch.Size([5, 6])"
      ]
     },
     "execution_count": 27,
     "metadata": {},
     "output_type": "execute_result"
    }
   ],
   "source": [
    "e.shape"
   ]
  },
  {
   "cell_type": "code",
   "execution_count": 28,
   "metadata": {
    "id": "z49ttvWPofVo"
   },
   "outputs": [],
   "source": [
    "# 9. Переведите его в формат numpy"
   ]
  },
  {
   "cell_type": "code",
   "execution_count": 29,
   "metadata": {},
   "outputs": [
    {
     "data": {
      "text/plain": [
       "array([[1., 1., 1., 1., 1., 1.],\n",
       "       [1., 1., 1., 1., 1., 1.],\n",
       "       [1., 1., 1., 1., 1., 1.],\n",
       "       [1., 1., 1., 1., 1., 1.],\n",
       "       [1., 1., 1., 1., 1., 1.]], dtype=float32)"
      ]
     },
     "execution_count": 29,
     "metadata": {},
     "output_type": "execute_result"
    }
   ],
   "source": [
    "e = e.numpy()\n",
    "e"
   ]
  },
  {
   "cell_type": "code",
   "execution_count": null,
   "metadata": {},
   "outputs": [],
   "source": []
  }
 ],
 "metadata": {
  "colab": {
   "collapsed_sections": [],
   "name": "HW_1.ipynb",
   "provenance": []
  },
  "kernelspec": {
   "display_name": "Python 3 (ipykernel)",
   "language": "python",
   "name": "python3"
  },
  "language_info": {
   "codemirror_mode": {
    "name": "ipython",
    "version": 3
   },
   "file_extension": ".py",
   "mimetype": "text/x-python",
   "name": "python",
   "nbconvert_exporter": "python",
   "pygments_lexer": "ipython3",
   "version": "3.9.12"
  }
 },
 "nbformat": 4,
 "nbformat_minor": 4
}
