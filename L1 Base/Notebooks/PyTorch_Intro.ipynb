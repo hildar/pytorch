{
 "cells": [
  {
   "cell_type": "markdown",
   "metadata": {
    "id": "FrnqvfvtSZAb"
   },
   "source": [
    "# “Фреймворк PyTorch для разработки искусственных нейронных сетей”"
   ]
  },
  {
   "cell_type": "markdown",
   "metadata": {
    "id": "pJlBKkWQSZAc"
   },
   "source": [
    "![pytorch-logo.png](attachment:pytorch-logo.png)"
   ]
  },
  {
   "cell_type": "markdown",
   "metadata": {
    "id": "sqHJLtlBSZAd"
   },
   "source": [
    "### План курса:\n",
    "1. Введение в PyTorch. Тензоры, автодифференцирование\n",
    "2. Feed-forward нейронные сети на Pytorch\n",
    "3. Dataloader, Dataset в Pytorch. Продвинутые методы оптимизации\n",
    "4. Сверточные сети в Pytorch. Классификация изображений. Предобученные сети в Pytorch\n",
    "5. Составная лосс-функция. Сегментация изображений.\n",
    "6. Сверточные сети применительно к текстовым задачам. Эмбеддинг-слои. Классификация новостей одномерными свертками.\n",
    "7. Рекурентные нейронные сети. GRU, LSTM на Pytorch. Задача NER.\n",
    "8. GAN на Pytorch.\n",
    "9. Bert и Transformer на Pytorch\n",
    "10. Face Detection and Emotion Recognition"
   ]
  },
  {
   "cell_type": "markdown",
   "metadata": {
    "id": "QV7WMxkdSZAd"
   },
   "source": [
    "# PyTorch, вводное занятие"
   ]
  },
  {
   "cell_type": "markdown",
   "metadata": {
    "id": "4LukZPaISZAd"
   },
   "source": [
    "### План занятия:\n",
    "* Tensorflow vs PyTorch\n",
    "* Установка\n",
    "* Понятие Тензора\n",
    "* Основы работы с тензорами\n",
    "* Принципы автодифференцирования\n",
    "* Градиент\n",
    "* Оптимизация функции градиентным спуском\n",
    "* Пара слов о CUDA и GPU "
   ]
  },
  {
   "cell_type": "markdown",
   "metadata": {
    "id": "sL-hWlqlSZAe"
   },
   "source": [
    "###  Tensorflow vs PyTorch:"
   ]
  },
  {
   "cell_type": "markdown",
   "metadata": {
    "id": "aLMKFTEGSZAe"
   },
   "source": [
    "![tensorflow.png](tensorflow.png)"
   ]
  },
  {
   "cell_type": "markdown",
   "metadata": {
    "id": "5aOzIh3ySZAe"
   },
   "source": [
    "* GPU и TPU\n",
    "* Отладка\n",
    "* Определение графа - верно для старых версий, в Октябре 2019 года добавили поддержку подобного стиля программирования "
   ]
  },
  {
   "cell_type": "markdown",
   "metadata": {
    "id": "W86ob_22SZAe"
   },
   "source": [
    "#### Различия:\n",
    "https://towardsdatascience.com/pytorch-vs-tensorflow-in-2020-fe237862fae1\n",
    "![Screenshot%20from%202020-09-25%2009-55-49.png](attachment:Screenshot%20from%202020-09-25%2009-55-49.png)"
   ]
  },
  {
   "cell_type": "markdown",
   "metadata": {
    "id": "_VcF_1ORSZAf"
   },
   "source": [
    "### Важные источники"
   ]
  },
  {
   "cell_type": "markdown",
   "metadata": {
    "id": "DMP67X5RSZAf"
   },
   "source": [
    "* https://pytorch.org/tutorials/\n",
    "\n",
    "* https://discuss.pytorch.org/\n",
    "\n",
    "* https://stackoverflow.com/ :)"
   ]
  },
  {
   "cell_type": "markdown",
   "metadata": {
    "id": "5IjU4GsMSZAf"
   },
   "source": [
    "### Установка"
   ]
  },
  {
   "cell_type": "markdown",
   "metadata": {
    "id": "NX8Xkmz_SZAf"
   },
   "source": [
    "### https://pytorch.org/"
   ]
  },
  {
   "cell_type": "code",
   "execution_count": 1,
   "metadata": {
    "colab": {
     "base_uri": "https://localhost:8080/"
    },
    "executionInfo": {
     "elapsed": 4979,
     "status": "ok",
     "timestamp": 1655740365241,
     "user": {
      "displayName": "Михаил Баранов",
      "userId": "05195714544608108975"
     },
     "user_tz": -180
    },
    "id": "BS4CJMJ1SZAf",
    "outputId": "56e2a83d-8456-4b73-bc42-7ea914b66291"
   },
   "outputs": [
    {
     "name": "stdout",
     "output_type": "stream",
     "text": [
      "Looking in indexes: https://pypi.org/simple, https://us-python.pkg.dev/colab-wheels/public/simple/\n",
      "Requirement already satisfied: torch in /usr/local/lib/python3.7/dist-packages (1.11.0+cu113)\n",
      "Requirement already satisfied: torchvision in /usr/local/lib/python3.7/dist-packages (0.12.0+cu113)\n",
      "Requirement already satisfied: typing-extensions in /usr/local/lib/python3.7/dist-packages (from torch) (4.1.1)\n",
      "Requirement already satisfied: numpy in /usr/local/lib/python3.7/dist-packages (from torchvision) (1.21.6)\n",
      "Requirement already satisfied: pillow!=8.3.*,>=5.3.0 in /usr/local/lib/python3.7/dist-packages (from torchvision) (7.1.2)\n",
      "Requirement already satisfied: requests in /usr/local/lib/python3.7/dist-packages (from torchvision) (2.23.0)\n",
      "Requirement already satisfied: certifi>=2017.4.17 in /usr/local/lib/python3.7/dist-packages (from requests->torchvision) (2022.6.15)\n",
      "Requirement already satisfied: urllib3!=1.25.0,!=1.25.1,<1.26,>=1.21.1 in /usr/local/lib/python3.7/dist-packages (from requests->torchvision) (1.24.3)\n",
      "Requirement already satisfied: chardet<4,>=3.0.2 in /usr/local/lib/python3.7/dist-packages (from requests->torchvision) (3.0.4)\n",
      "Requirement already satisfied: idna<3,>=2.5 in /usr/local/lib/python3.7/dist-packages (from requests->torchvision) (2.10)\n"
     ]
    }
   ],
   "source": [
    "!pip install torch torchvision"
   ]
  },
  {
   "cell_type": "markdown",
   "metadata": {
    "id": "bXsr00LISZAg"
   },
   "source": [
    "### Подключение "
   ]
  },
  {
   "cell_type": "code",
   "execution_count": 2,
   "metadata": {
    "executionInfo": {
     "elapsed": 4091,
     "status": "ok",
     "timestamp": 1655740369312,
     "user": {
      "displayName": "Михаил Баранов",
      "userId": "05195714544608108975"
     },
     "user_tz": -180
    },
    "id": "WkAmaXXNSZAg"
   },
   "outputs": [],
   "source": [
    "import torch\n",
    "import torchvision"
   ]
  },
  {
   "cell_type": "markdown",
   "metadata": {
    "id": "0T2G8-kQSZAg"
   },
   "source": [
    "### Некоторые основы и пару слов о  numpy"
   ]
  },
  {
   "cell_type": "code",
   "execution_count": 3,
   "metadata": {
    "executionInfo": {
     "elapsed": 6,
     "status": "ok",
     "timestamp": 1655740369312,
     "user": {
      "displayName": "Михаил Баранов",
      "userId": "05195714544608108975"
     },
     "user_tz": -180
    },
    "id": "HmxHAkiOSZAh"
   },
   "outputs": [],
   "source": [
    "import numpy as np"
   ]
  },
  {
   "cell_type": "markdown",
   "metadata": {
    "id": "nOXxggHzSZAh"
   },
   "source": [
    "Pytorch позволяет делать многие вещи так же, как и numpy. Это означает, что вы можете получить значение тензора в любой момент времени. Но так же, обратите внимание на некоторые отличия. Полная таблица расхождений расположена здесь: \n",
    "* https://github.com/torch/torch7/wiki/Torch-for-Numpy-users"
   ]
  },
  {
   "cell_type": "code",
   "execution_count": 4,
   "metadata": {
    "colab": {
     "base_uri": "https://localhost:8080/"
    },
    "executionInfo": {
     "elapsed": 6,
     "status": "ok",
     "timestamp": 1655740369313,
     "user": {
      "displayName": "Михаил Баранов",
      "userId": "05195714544608108975"
     },
     "user_tz": -180
    },
    "id": "E_y8pW-5SZAh",
    "outputId": "d82f6b67-456d-4c06-aed9-6536167892c8"
   },
   "outputs": [
    {
     "name": "stdout",
     "output_type": "stream",
     "text": [
      "X :\n",
      "[[0 1 2]\n",
      " [3 4 5]\n",
      " [6 7 8]]\n",
      "\n",
      "X размеры : (3, 3)\n",
      "\n",
      "X тип : <class 'numpy.ndarray'>\n",
      "\n"
     ]
    }
   ],
   "source": [
    "x = np.arange(9).reshape(3, 3)\n",
    "\n",
    "print(\"X :\\n%s\\n\" % x)\n",
    "print(\"X размеры : %s\\n\" % (x.shape,))\n",
    "print(\"X тип : %s\\n\" % (type(x)))\n",
    "# print(\"Добавим 10 :\\n%s\\n\" % (x + 10))\n",
    "# print(\"Среднее по строчке :\\n%s\\n\" % (x.mean(axis=-1)))\n",
    "# print(\"Среднее по столбцу :\\n%s\\n\" % (x.mean(axis=0)))"
   ]
  },
  {
   "cell_type": "markdown",
   "metadata": {
    "id": "oydmBiM3SZAh"
   },
   "source": [
    "##### PyTorch поддерживает разные типы тензоров:\n",
    "\n",
    "* HalfTensor: 16-bit float\n",
    "* FloatTensor: 32-bit float (torch.Tensor)\n",
    "* DoubleTensor: 64-bit float\n",
    "\n",
    "* ShortTensor: 16-bit int\n",
    "* IntTensor: 32-bit int\n",
    "* LongTensor: 64-bit int\n",
    "\n",
    "\n",
    "\n",
    "#####  Весь список:\n",
    "* https://pytorch.org/docs/stable/tensors.html"
   ]
  },
  {
   "cell_type": "markdown",
   "metadata": {
    "id": "94nkz3YESZAh"
   },
   "source": [
    "##### Функция для вывода данных о тензоре:"
   ]
  },
  {
   "cell_type": "code",
   "execution_count": 5,
   "metadata": {
    "executionInfo": {
     "elapsed": 312,
     "status": "ok",
     "timestamp": 1655742033126,
     "user": {
      "displayName": "Михаил Баранов",
      "userId": "05195714544608108975"
     },
     "user_tz": -180
    },
    "id": "aD26Y5sISZAh"
   },
   "outputs": [],
   "source": [
    "def print_tens_info(tensor):\n",
    "    print(\"X :\\n%s\\n\" % tensor)\n",
    "    print(\"X количество измерений:\\n%s\\n\" % tensor.dim())\n",
    "    print(\"X размеры : \",  tensor.size())\n",
    "    print(\"X тип : %s\\n\" % (tensor.type()))\n",
    "#     print(\"Добавим 10 :\\n%s\\n\" % (tensor + 10))\n",
    "#     print(\"Среднее по строчке :\\n%s\\n\" % (tensor.mean(axis=-1)))\n",
    "#     print(\"Среднее по столбцу :\\n%s\\n\" % (tensor.mean(axis=0)))\n",
    "    "
   ]
  },
  {
   "cell_type": "code",
   "execution_count": 6,
   "metadata": {
    "executionInfo": {
     "elapsed": 5,
     "status": "ok",
     "timestamp": 1655742034132,
     "user": {
      "displayName": "Михаил Баранов",
      "userId": "05195714544608108975"
     },
     "user_tz": -180
    },
    "id": "kumvWc0_SZAh"
   },
   "outputs": [],
   "source": [
    "# y = np.arange(9).reshape(3, 3).astype(float)\n",
    "# x = torch.tensor(y)  \n",
    "# x = torch.DoubleTensor(3, 3, 3)\n",
    "x = torch.LongTensor([[1.0, 2.0],[2.0,3.0]])  "
   ]
  },
  {
   "cell_type": "code",
   "execution_count": 7,
   "metadata": {
    "colab": {
     "base_uri": "https://localhost:8080/"
    },
    "executionInfo": {
     "elapsed": 10,
     "status": "ok",
     "timestamp": 1655742035260,
     "user": {
      "displayName": "Михаил Баранов",
      "userId": "05195714544608108975"
     },
     "user_tz": -180
    },
    "id": "eJxMoA9jSZAh",
    "outputId": "e7f255b8-8ce8-4900-a4aa-1651669f4440",
    "scrolled": true
   },
   "outputs": [
    {
     "name": "stdout",
     "output_type": "stream",
     "text": [
      "X :\n",
      "tensor([[1, 2],\n",
      "        [2, 3]])\n",
      "\n",
      "X количество измерений:\n",
      "2\n",
      "\n",
      "X размеры :  torch.Size([2, 2])\n",
      "X тип : torch.LongTensor\n",
      "\n"
     ]
    }
   ],
   "source": [
    "print_tens_info(x)"
   ]
  },
  {
   "cell_type": "code",
   "execution_count": 8,
   "metadata": {
    "executionInfo": {
     "elapsed": 288,
     "status": "ok",
     "timestamp": 1655742176415,
     "user": {
      "displayName": "Михаил Баранов",
      "userId": "05195714544608108975"
     },
     "user_tz": -180
    },
    "id": "zfZTBREqSZAi"
   },
   "outputs": [],
   "source": [
    "x = torch.arange(9).view(3,3) \n",
    "x = torch.arange(0,9).view(3,3).type(torch.float32)\n",
    "# y = np.arange(9).reshape(3, 3).astype(float)"
   ]
  },
  {
   "cell_type": "code",
   "execution_count": 10,
   "metadata": {
    "colab": {
     "base_uri": "https://localhost:8080/",
     "height": 165
    },
    "executionInfo": {
     "elapsed": 265,
     "status": "error",
     "timestamp": 1655742219173,
     "user": {
      "displayName": "Михаил Баранов",
      "userId": "05195714544608108975"
     },
     "user_tz": -180
    },
    "id": "TW091XXKSZAi",
    "outputId": "78a8a6e4-3e3b-4ba6-86c0-93b88c5bac1b",
    "scrolled": true
   },
   "outputs": [
    {
     "ename": "RuntimeError",
     "evalue": "ignored",
     "output_type": "error",
     "traceback": [
      "\u001b[0;31m---------------------------------------------------------------------------\u001b[0m",
      "\u001b[0;31mRuntimeError\u001b[0m                              Traceback (most recent call last)",
      "\u001b[0;32m<ipython-input-10-74fdaf7610b9>\u001b[0m in \u001b[0;36m<module>\u001b[0;34m()\u001b[0m\n\u001b[0;32m----> 1\u001b[0;31m \u001b[0mx\u001b[0m \u001b[0;34m=\u001b[0m \u001b[0mtorch\u001b[0m\u001b[0;34m.\u001b[0m\u001b[0marange\u001b[0m\u001b[0;34m(\u001b[0m\u001b[0;36m9\u001b[0m\u001b[0;34m)\u001b[0m\u001b[0;34m.\u001b[0m\u001b[0mview\u001b[0m\u001b[0;34m(\u001b[0m\u001b[0;36m2\u001b[0m\u001b[0;34m,\u001b[0m\u001b[0;36m3\u001b[0m\u001b[0;34m)\u001b[0m\u001b[0;34m\u001b[0m\u001b[0;34m\u001b[0m\u001b[0m\n\u001b[0m",
      "\u001b[0;31mRuntimeError\u001b[0m: shape '[2, 3]' is invalid for input of size 9"
     ]
    }
   ],
   "source": [
    "x = torch.arange(9).view(2,3) "
   ]
  },
  {
   "cell_type": "markdown",
   "metadata": {
    "id": "wsZ3bWZiSZAi"
   },
   "source": [
    "#####  Из numpy в tensor и обратно"
   ]
  },
  {
   "cell_type": "code",
   "execution_count": 11,
   "metadata": {
    "colab": {
     "base_uri": "https://localhost:8080/"
    },
    "executionInfo": {
     "elapsed": 383,
     "status": "ok",
     "timestamp": 1655742315407,
     "user": {
      "displayName": "Михаил Баранов",
      "userId": "05195714544608108975"
     },
     "user_tz": -180
    },
    "id": "UcAydQadSZAi",
    "outputId": "54a27035-8e1d-4bc5-97e1-a3a5ad7ca35f",
    "scrolled": true
   },
   "outputs": [
    {
     "name": "stdout",
     "output_type": "stream",
     "text": [
      "X :\n",
      "[[0. 1. 2.]\n",
      " [3. 4. 5.]\n",
      " [6. 7. 8.]]\n",
      "\n",
      "X размеры : (3, 3)\n",
      "\n",
      "X тип : <class 'numpy.ndarray'>\n",
      "\n"
     ]
    }
   ],
   "source": [
    "x = x.numpy()\n",
    "print(\"X :\\n%s\\n\" % x)\n",
    "print(\"X размеры : %s\\n\" % (x.shape,))\n",
    "print(\"X тип : %s\\n\" % (type(x)))\n",
    "# print(\"Добавим 10 :\\n%s\\n\" % (x + 10))\n",
    "# print(\"Среднее по строчке :\\n%s\\n\" % (x.mean(axis=-1)))\n",
    "# print(\"Среднее по столбцу :\\n%s\\n\" % (x.mean(axis=0)))"
   ]
  },
  {
   "cell_type": "code",
   "execution_count": 14,
   "metadata": {
    "colab": {
     "base_uri": "https://localhost:8080/"
    },
    "executionInfo": {
     "elapsed": 9,
     "status": "ok",
     "timestamp": 1655742369412,
     "user": {
      "displayName": "Михаил Баранов",
      "userId": "05195714544608108975"
     },
     "user_tz": -180
    },
    "id": "VaRx5U9xSZAi",
    "outputId": "91bca58b-97e7-4447-9630-ecf573367d2d"
   },
   "outputs": [
    {
     "data": {
      "text/plain": [
       "tensor([5.2055e-316, 1.1757e+214], dtype=torch.float64)"
      ]
     },
     "execution_count": 14,
     "metadata": {},
     "output_type": "execute_result"
    }
   ],
   "source": [
    "x = np.random.randint(2, 3)\n",
    "torch.DoubleTensor(x)"
   ]
  },
  {
   "cell_type": "markdown",
   "metadata": {
    "id": "ugPkkR9fSZAi"
   },
   "source": [
    "#####  Некоторые отличия:"
   ]
  },
  {
   "cell_type": "markdown",
   "metadata": {
    "id": "i1zTyTP0SZAi"
   },
   "source": [
    "* ```x.astype('int64') -> x.type(torch.LongTensor)```\n",
    "* ``` np.concatenate ->\ttorch.cat ```\n",
    "* ``` np.multiply ->\ttorch.cmul ```\n",
    "* ``` np.copy(x) ->\tx:clone() ```\n"
   ]
  },
  {
   "cell_type": "markdown",
   "metadata": {
    "id": "FWXiQUA4SZAi"
   },
   "source": [
    "### Градиент"
   ]
  },
  {
   "cell_type": "markdown",
   "metadata": {
    "id": "3pr0jOEHSZAi"
   },
   "source": [
    "$$a = (b + c)*(c + 2) $$\n",
    "![Simple-graph-example-260x300.png](Simple-graph-example-260x300.png)"
   ]
  },
  {
   "cell_type": "code",
   "execution_count": 15,
   "metadata": {
    "executionInfo": {
     "elapsed": 794,
     "status": "ok",
     "timestamp": 1655742425730,
     "user": {
      "displayName": "Михаил Баранов",
      "userId": "05195714544608108975"
     },
     "user_tz": -180
    },
    "id": "bwn6rXaLSZAi"
   },
   "outputs": [],
   "source": [
    "from torch.autograd import Variable"
   ]
  },
  {
   "cell_type": "code",
   "execution_count": 17,
   "metadata": {
    "colab": {
     "base_uri": "https://localhost:8080/"
    },
    "executionInfo": {
     "elapsed": 364,
     "status": "ok",
     "timestamp": 1655742748070,
     "user": {
      "displayName": "Михаил Баранов",
      "userId": "05195714544608108975"
     },
     "user_tz": -180
    },
    "id": "4DmDVJIUSZAi",
    "outputId": "b0f5fe97-9b47-4716-a759-7ea351db6d24"
   },
   "outputs": [
    {
     "data": {
      "text/plain": [
       "tensor([1., 1., 1.])"
      ]
     },
     "execution_count": 17,
     "metadata": {},
     "output_type": "execute_result"
    }
   ],
   "source": [
    "torch.ones(3)"
   ]
  },
  {
   "cell_type": "code",
   "execution_count": 18,
   "metadata": {
    "executionInfo": {
     "elapsed": 4,
     "status": "ok",
     "timestamp": 1655742748349,
     "user": {
      "displayName": "Михаил Баранов",
      "userId": "05195714544608108975"
     },
     "user_tz": -180
    },
    "id": "eRWuarBKSZAi"
   },
   "outputs": [],
   "source": [
    "x = Variable(torch.ones(3), requires_grad = True)"
   ]
  },
  {
   "cell_type": "markdown",
   "metadata": {
    "id": "cJwafTjOSZAi"
   },
   "source": [
    "#### requires_grad \n",
    "Флаг, что необходимо автоматически вычислять градиент на тензоре при вызове функции .backward(). Если стоит False - градиент не нужен, обучение не происходит. \n",
    "Пример:"
   ]
  },
  {
   "cell_type": "code",
   "execution_count": 19,
   "metadata": {
    "colab": {
     "base_uri": "https://localhost:8080/"
    },
    "executionInfo": {
     "elapsed": 278,
     "status": "ok",
     "timestamp": 1655742798864,
     "user": {
      "displayName": "Михаил Баранов",
      "userId": "05195714544608108975"
     },
     "user_tz": -180
    },
    "id": "t5atxpTBSZAi",
    "outputId": "9514a4d4-98a4-4308-b933-8da428563479"
   },
   "outputs": [
    {
     "name": "stdout",
     "output_type": "stream",
     "text": [
      "X :\n",
      "tensor([1., 1., 1.], requires_grad=True)\n",
      "\n",
      "X количество измерений:\n",
      "1\n",
      "\n",
      "X размеры :  torch.Size([3])\n",
      "X тип : torch.FloatTensor\n",
      "\n"
     ]
    }
   ],
   "source": [
    "print_tens_info(x)"
   ]
  },
  {
   "cell_type": "code",
   "execution_count": 20,
   "metadata": {
    "colab": {
     "base_uri": "https://localhost:8080/"
    },
    "executionInfo": {
     "elapsed": 9,
     "status": "ok",
     "timestamp": 1655742799755,
     "user": {
      "displayName": "Михаил Баранов",
      "userId": "05195714544608108975"
     },
     "user_tz": -180
    },
    "id": "TeaD5WUPSZAj",
    "outputId": "45c47246-64a7-411b-8fb1-9a6bc482884b"
   },
   "outputs": [
    {
     "name": "stdout",
     "output_type": "stream",
     "text": [
      "None\n"
     ]
    }
   ],
   "source": [
    "print(x.grad)"
   ]
  },
  {
   "cell_type": "code",
   "execution_count": 21,
   "metadata": {
    "executionInfo": {
     "elapsed": 257,
     "status": "ok",
     "timestamp": 1655742810137,
     "user": {
      "displayName": "Михаил Баранов",
      "userId": "05195714544608108975"
     },
     "user_tz": -180
    },
    "id": "d9aVaOB8SZAj"
   },
   "outputs": [],
   "source": [
    "z = (x * x) + 5.0 * x #задание - посчитать производную ручками"
   ]
  },
  {
   "cell_type": "code",
   "execution_count": 26,
   "metadata": {
    "executionInfo": {
     "elapsed": 4,
     "status": "ok",
     "timestamp": 1655742891899,
     "user": {
      "displayName": "Михаил Баранов",
      "userId": "05195714544608108975"
     },
     "user_tz": -180
    },
    "id": "ZrZk-u5qSZAj"
   },
   "outputs": [],
   "source": [
    "y = x**2 + 5*x\n",
    "y.backward(torch.ones(3))"
   ]
  },
  {
   "cell_type": "code",
   "execution_count": 23,
   "metadata": {
    "executionInfo": {
     "elapsed": 276,
     "status": "ok",
     "timestamp": 1655742836992,
     "user": {
      "displayName": "Михаил Баранов",
      "userId": "05195714544608108975"
     },
     "user_tz": -180
    },
    "id": "goza6X8mSZAj"
   },
   "outputs": [],
   "source": [
    "z.backward(torch.ones(3))"
   ]
  },
  {
   "cell_type": "code",
   "execution_count": 27,
   "metadata": {
    "colab": {
     "base_uri": "https://localhost:8080/"
    },
    "executionInfo": {
     "elapsed": 290,
     "status": "ok",
     "timestamp": 1655742963562,
     "user": {
      "displayName": "Михаил Баранов",
      "userId": "05195714544608108975"
     },
     "user_tz": -180
    },
    "id": "rLEh_sQ6SZAj",
    "outputId": "c46f6b1f-e7a5-48b3-ca75-0e67110334d4"
   },
   "outputs": [
    {
     "name": "stdout",
     "output_type": "stream",
     "text": [
      "tensor([14., 14., 14.])\n"
     ]
    }
   ],
   "source": [
    "print(x.grad)"
   ]
  },
  {
   "cell_type": "markdown",
   "metadata": {
    "id": "crl6jDyDSZAj"
   },
   "source": [
    "#### Подключаемые модули"
   ]
  },
  {
   "cell_type": "code",
   "execution_count": 30,
   "metadata": {
    "executionInfo": {
     "elapsed": 280,
     "status": "ok",
     "timestamp": 1655743173037,
     "user": {
      "displayName": "Михаил Баранов",
      "userId": "05195714544608108975"
     },
     "user_tz": -180
    },
    "id": "ADNp1omdSZAj"
   },
   "outputs": [],
   "source": [
    "from torch import nn \n",
    "from torch import optim"
   ]
  },
  {
   "cell_type": "markdown",
   "metadata": {
    "id": "xSx3geyYSZAj"
   },
   "source": [
    "* nn - формирование вычислительных графов для слоев нейронных сетей. TensorFlow: Keras.\n",
    "* optim - алгоритмы оптимизации (SGD, Adam и т.д.). TensorFlow: модуль optimizers"
   ]
  },
  {
   "cell_type": "code",
   "execution_count": 31,
   "metadata": {
    "executionInfo": {
     "elapsed": 330,
     "status": "ok",
     "timestamp": 1655743174614,
     "user": {
      "displayName": "Михаил Баранов",
      "userId": "05195714544608108975"
     },
     "user_tz": -180
    },
    "id": "EBHUHxdySZAj"
   },
   "outputs": [],
   "source": [
    "linear = nn.Linear(2, 2)"
   ]
  },
  {
   "cell_type": "code",
   "execution_count": 32,
   "metadata": {
    "colab": {
     "base_uri": "https://localhost:8080/"
    },
    "executionInfo": {
     "elapsed": 11,
     "status": "ok",
     "timestamp": 1655743174985,
     "user": {
      "displayName": "Михаил Баранов",
      "userId": "05195714544608108975"
     },
     "user_tz": -180
    },
    "id": "gsI_3JKWSZAj",
    "outputId": "9f3a045a-591a-40cb-c04c-c53ab17610ef",
    "scrolled": true
   },
   "outputs": [
    {
     "name": "stdout",
     "output_type": "stream",
     "text": [
      "w:  Parameter containing:\n",
      "tensor([[-0.5713, -0.1295],\n",
      "        [ 0.4868, -0.5177]], requires_grad=True)\n",
      "b:  Parameter containing:\n",
      "tensor([-0.2776,  0.0259], requires_grad=True)\n"
     ]
    }
   ],
   "source": [
    "print ('w: ', linear.weight)\n",
    "print ('b: ', linear.bias)"
   ]
  },
  {
   "cell_type": "code",
   "execution_count": 35,
   "metadata": {
    "colab": {
     "base_uri": "https://localhost:8080/"
    },
    "executionInfo": {
     "elapsed": 274,
     "status": "ok",
     "timestamp": 1655743376062,
     "user": {
      "displayName": "Михаил Баранов",
      "userId": "05195714544608108975"
     },
     "user_tz": -180
    },
    "id": "y0ygpV7l_fB9",
    "outputId": "91e9f577-45f0-4268-a7a6-1b2ed890a98d"
   },
   "outputs": [
    {
     "data": {
      "text/plain": [
       "tensor([-1.6791, -0.0359], grad_fn=<AddBackward0>)"
      ]
     },
     "execution_count": 35,
     "metadata": {},
     "output_type": "execute_result"
    }
   ],
   "source": [
    "linear(torch.FloatTensor([2, 2]))"
   ]
  },
  {
   "cell_type": "code",
   "execution_count": 36,
   "metadata": {
    "colab": {
     "base_uri": "https://localhost:8080/"
    },
    "executionInfo": {
     "elapsed": 8,
     "status": "ok",
     "timestamp": 1655743408624,
     "user": {
      "displayName": "Михаил Баранов",
      "userId": "05195714544608108975"
     },
     "user_tz": -180
    },
    "id": "MZvSSeT-_u-j",
    "outputId": "f5f7f59d-7051-4f81-d4d0-9400bd24ee54"
   },
   "outputs": [
    {
     "data": {
      "text/plain": [
       "tensor([-1.6791, -0.0359], grad_fn=<AddBackward0>)"
      ]
     },
     "execution_count": 36,
     "metadata": {},
     "output_type": "execute_result"
    }
   ],
   "source": [
    "torch.matmul(linear.weight, torch.FloatTensor([2, 2])) + linear.bias"
   ]
  },
  {
   "cell_type": "code",
   "execution_count": 37,
   "metadata": {
    "executionInfo": {
     "elapsed": 288,
     "status": "ok",
     "timestamp": 1655743485186,
     "user": {
      "displayName": "Михаил Баранов",
      "userId": "05195714544608108975"
     },
     "user_tz": -180
    },
    "id": "67EXSNmvSZAj"
   },
   "outputs": [],
   "source": [
    "criterion = nn.MSELoss()"
   ]
  },
  {
   "cell_type": "code",
   "execution_count": 47,
   "metadata": {
    "executionInfo": {
     "elapsed": 6,
     "status": "ok",
     "timestamp": 1655743713345,
     "user": {
      "displayName": "Михаил Баранов",
      "userId": "05195714544608108975"
     },
     "user_tz": -180
    },
    "id": "GPnX8p73SZAj"
   },
   "outputs": [],
   "source": [
    "optimizer = torch.optim.SGD([linear.weight], lr=0.01)"
   ]
  },
  {
   "cell_type": "code",
   "execution_count": 48,
   "metadata": {
    "executionInfo": {
     "elapsed": 269,
     "status": "ok",
     "timestamp": 1655743720213,
     "user": {
      "displayName": "Михаил Баранов",
      "userId": "05195714544608108975"
     },
     "user_tz": -180
    },
    "id": "y1747_spSZAj"
   },
   "outputs": [],
   "source": [
    "x = Variable(torch.randn(2), requires_grad = True)\n",
    "y = Variable(torch.randn(2), requires_grad = False)"
   ]
  },
  {
   "cell_type": "code",
   "execution_count": 49,
   "metadata": {
    "colab": {
     "base_uri": "https://localhost:8080/"
    },
    "executionInfo": {
     "elapsed": 6,
     "status": "ok",
     "timestamp": 1655743723265,
     "user": {
      "displayName": "Михаил Баранов",
      "userId": "05195714544608108975"
     },
     "user_tz": -180
    },
    "id": "Y-YP_57cSZAj",
    "outputId": "88ecabc6-093d-43e0-e8d5-0bfd7aba2961",
    "scrolled": true
   },
   "outputs": [
    {
     "name": "stdout",
     "output_type": "stream",
     "text": [
      "loss:  0.10518285632133484\n"
     ]
    }
   ],
   "source": [
    "optimizer.zero_grad()\n",
    "pred = linear(x)\n",
    "loss = criterion(pred, y)\n",
    "print('loss: ', loss.item())"
   ]
  },
  {
   "cell_type": "code",
   "execution_count": 51,
   "metadata": {
    "colab": {
     "base_uri": "https://localhost:8080/"
    },
    "executionInfo": {
     "elapsed": 329,
     "status": "ok",
     "timestamp": 1655743857916,
     "user": {
      "displayName": "Михаил Баранов",
      "userId": "05195714544608108975"
     },
     "user_tz": -180
    },
    "id": "aTcqsy1MSZAk",
    "outputId": "a375203c-2aa8-474f-e772-a7f0bb18b19d"
   },
   "outputs": [
    {
     "name": "stdout",
     "output_type": "stream",
     "text": [
      "dL/dw:  tensor([[0., 0.],\n",
      "        [0., 0.]])\n",
      "dL/db:  tensor([ 0.3477, -2.0965])\n"
     ]
    }
   ],
   "source": [
    "print ('dL/dw: ', linear.weight.grad) \n",
    "print ('dL/db: ', linear.bias.grad)"
   ]
  },
  {
   "cell_type": "code",
   "execution_count": 52,
   "metadata": {
    "executionInfo": {
     "elapsed": 317,
     "status": "ok",
     "timestamp": 1655743861283,
     "user": {
      "displayName": "Михаил Баранов",
      "userId": "05195714544608108975"
     },
     "user_tz": -180
    },
    "id": "qJ_KWj-BSZAk",
    "scrolled": true
   },
   "outputs": [],
   "source": [
    "loss.backward()"
   ]
  },
  {
   "cell_type": "code",
   "execution_count": 53,
   "metadata": {
    "colab": {
     "base_uri": "https://localhost:8080/"
    },
    "executionInfo": {
     "elapsed": 6,
     "status": "ok",
     "timestamp": 1655743862351,
     "user": {
      "displayName": "Михаил Баранов",
      "userId": "05195714544608108975"
     },
     "user_tz": -180
    },
    "id": "mxvjakc3SZAk",
    "outputId": "5b2cc562-7283-45d2-95ab-6fa69202e26b"
   },
   "outputs": [
    {
     "name": "stdout",
     "output_type": "stream",
     "text": [
      "dL/dw:  tensor([[-0.0035,  0.0112],\n",
      "        [ 0.0844, -0.2678]])\n",
      "dL/db:  tensor([ 0.3285, -1.6383])\n"
     ]
    }
   ],
   "source": [
    "print ('dL/dw: ', linear.weight.grad) \n",
    "print ('dL/db: ', linear.bias.grad)"
   ]
  },
  {
   "cell_type": "code",
   "execution_count": 54,
   "metadata": {
    "colab": {
     "base_uri": "https://localhost:8080/"
    },
    "executionInfo": {
     "elapsed": 273,
     "status": "ok",
     "timestamp": 1655743887147,
     "user": {
      "displayName": "Михаил Баранов",
      "userId": "05195714544608108975"
     },
     "user_tz": -180
    },
    "id": "l9WyjvwBSZAk",
    "outputId": "3854557a-7b6e-4821-c88f-d31c4cb1c11d"
   },
   "outputs": [
    {
     "name": "stdout",
     "output_type": "stream",
     "text": [
      "w:  Parameter containing:\n",
      "tensor([[-0.5687, -0.1251],\n",
      "        [ 0.4711, -0.5439]], requires_grad=True)\n",
      "b:  Parameter containing:\n",
      "tensor([-0.2810,  0.0469], requires_grad=True)\n"
     ]
    }
   ],
   "source": [
    "print ('w: ', linear.weight)\n",
    "print ('b: ', linear.bias)"
   ]
  },
  {
   "cell_type": "code",
   "execution_count": 55,
   "metadata": {
    "executionInfo": {
     "elapsed": 8,
     "status": "ok",
     "timestamp": 1655743887966,
     "user": {
      "displayName": "Михаил Баранов",
      "userId": "05195714544608108975"
     },
     "user_tz": -180
    },
    "id": "Djj1u4p_SZAk"
   },
   "outputs": [],
   "source": [
    "optimizer.step()"
   ]
  },
  {
   "cell_type": "code",
   "execution_count": 56,
   "metadata": {
    "colab": {
     "base_uri": "https://localhost:8080/"
    },
    "executionInfo": {
     "elapsed": 255,
     "status": "ok",
     "timestamp": 1655743891308,
     "user": {
      "displayName": "Михаил Баранов",
      "userId": "05195714544608108975"
     },
     "user_tz": -180
    },
    "id": "Nh2W6YzkSZAk",
    "outputId": "a4d29ad1-50ec-4a07-c2b2-9d29e31c4da4"
   },
   "outputs": [
    {
     "name": "stdout",
     "output_type": "stream",
     "text": [
      "w:  Parameter containing:\n",
      "tensor([[-0.5687, -0.1253],\n",
      "        [ 0.4703, -0.5412]], requires_grad=True)\n",
      "b:  Parameter containing:\n",
      "tensor([-0.2810,  0.0469], requires_grad=True)\n"
     ]
    }
   ],
   "source": [
    "print ('w: ', linear.weight)\n",
    "print ('b: ', linear.bias)"
   ]
  },
  {
   "cell_type": "markdown",
   "metadata": {
    "id": "VRGMVbMTSZAk"
   },
   "source": [
    "![a0Rv7LQ_700b.jpg](a0Rv7LQ_700b.jpg)"
   ]
  },
  {
   "cell_type": "markdown",
   "metadata": {
    "id": "hd2AiwkISZAk"
   },
   "source": [
    "# Попрактикуемся с более привычными функциями"
   ]
  },
  {
   "cell_type": "code",
   "execution_count": null,
   "metadata": {
    "id": "IpOl3hs8SZAk"
   },
   "outputs": [],
   "source": [
    "# функция "
   ]
  },
  {
   "cell_type": "markdown",
   "metadata": {
    "id": "YwpfhMXtSZAk"
   },
   "source": [
    "#### Подключение GPU "
   ]
  },
  {
   "cell_type": "code",
   "execution_count": null,
   "metadata": {
    "id": "E8t6o1fdSZAk",
    "outputId": "c76961e1-cd36-423c-cae5-513bff91eff7"
   },
   "outputs": [
    {
     "name": "stdout",
     "output_type": "stream",
     "text": [
      "cuda:0\n"
     ]
    }
   ],
   "source": [
    "device = torch.device(\"cuda:0\" if torch.cuda.is_available() else \"cpu\")\n",
    "print(device)"
   ]
  },
  {
   "cell_type": "code",
   "execution_count": null,
   "metadata": {
    "id": "L2gA2ZgoSZAk",
    "outputId": "3dbba0e3-076e-474a-9f58-8e8e93dce287"
   },
   "outputs": [
    {
     "data": {
      "text/plain": [
       "tensor([[-1.1673e+00, -4.4547e-01,  1.0386e+00, -8.7516e-01, -3.5741e-01,\n",
       "          8.5138e-01, -1.1577e+00,  1.3708e+00, -5.2753e-01, -5.3392e-01],\n",
       "        [ 1.5675e-03, -3.4978e-01,  1.6073e+00, -1.7114e+00,  3.8542e-02,\n",
       "          3.1676e-01,  4.4632e-01, -1.1929e+00,  5.2055e-03, -6.4465e-01],\n",
       "        [ 1.4146e+00, -1.1439e-01,  1.2020e+00, -1.3957e-01, -1.9631e+00,\n",
       "          2.6970e-01, -6.7097e-01, -1.0678e+00,  8.9411e-01,  5.5723e-01],\n",
       "        [ 2.0426e-01,  1.3255e+00, -1.0611e+00, -3.0638e-01, -1.8725e-01,\n",
       "          5.4164e-01, -8.1759e-01,  1.0486e-01,  9.1875e-03, -2.4288e+00],\n",
       "        [-9.6765e-01, -1.0468e+00,  1.6859e-01,  1.0626e+00, -5.5881e-01,\n",
       "          3.3930e-01, -1.7819e-01, -4.2448e-01, -1.3382e+00, -5.8529e-01],\n",
       "        [ 1.2879e+00, -3.0908e-01,  5.6328e-01, -1.2010e+00,  1.4069e+00,\n",
       "          4.3076e-01, -6.8986e-01,  1.5604e+00, -4.8704e-01, -2.0964e+00],\n",
       "        [ 8.8558e-01, -4.8685e-01,  2.9001e-01,  1.5581e+00, -1.3618e+00,\n",
       "          1.5163e+00,  6.4413e-01, -1.0781e-01,  7.0673e-01,  6.7241e-01],\n",
       "        [ 7.2888e-01,  1.1845e-01, -1.7672e+00,  3.3296e-01,  4.5527e-01,\n",
       "         -1.4915e-01, -1.7216e+00, -3.7370e-02, -7.4740e-01, -2.7401e-02],\n",
       "        [-8.4331e-01, -3.0640e-01, -6.5792e-01, -1.0790e+00,  1.6824e-01,\n",
       "          7.0540e-01, -3.7004e-01,  1.1610e-01, -1.4765e-01,  4.2906e-01],\n",
       "        [ 2.0907e+00, -9.5635e-01, -4.8274e-01,  3.1891e-01, -9.2258e-01,\n",
       "         -1.8836e+00, -2.7632e-01, -1.3120e+00,  2.2688e-01,  9.2730e-01]],\n",
       "       device='cuda:0')"
      ]
     },
     "execution_count": 50,
     "metadata": {},
     "output_type": "execute_result"
    }
   ],
   "source": [
    "torch.randn(10, 10, device=device)"
   ]
  },
  {
   "cell_type": "code",
   "execution_count": null,
   "metadata": {
    "id": "s4VeAFYySZAk",
    "outputId": "8ab95105-5b38-491b-c7f1-de7a1cf95b8b"
   },
   "outputs": [
    {
     "data": {
      "text/plain": [
       "Net(\n",
       "  (conv1): Conv2d(3, 6, kernel_size=(5, 5), stride=(1, 1))\n",
       "  (pool): MaxPool2d(kernel_size=2, stride=2, padding=0, dilation=1, ceil_mode=False)\n",
       "  (conv2): Conv2d(6, 16, kernel_size=(5, 5), stride=(1, 1))\n",
       "  (fc1): Linear(in_features=400, out_features=120, bias=True)\n",
       "  (fc2): Linear(in_features=120, out_features=84, bias=True)\n",
       "  (fc3): Linear(in_features=84, out_features=10, bias=True)\n",
       ")"
      ]
     },
     "execution_count": 51,
     "metadata": {},
     "output_type": "execute_result"
    }
   ],
   "source": [
    "net.to(device)"
   ]
  },
  {
   "cell_type": "code",
   "execution_count": null,
   "metadata": {
    "id": "EsQu8GWqSZAk"
   },
   "outputs": [],
   "source": []
  }
 ],
 "metadata": {
  "colab": {
   "name": "PyTorch_Intro.ipynb",
   "provenance": []
  },
  "kernelspec": {
   "display_name": "Python 3 (ipykernel)",
   "language": "python",
   "name": "python3"
  },
  "language_info": {
   "codemirror_mode": {
    "name": "ipython",
    "version": 3
   },
   "file_extension": ".py",
   "mimetype": "text/x-python",
   "name": "python",
   "nbconvert_exporter": "python",
   "pygments_lexer": "ipython3",
   "version": "3.9.12"
  }
 },
 "nbformat": 4,
 "nbformat_minor": 4
}
