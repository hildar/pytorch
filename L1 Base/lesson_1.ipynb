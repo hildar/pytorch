{
 "cells": [
  {
   "cell_type": "markdown",
   "metadata": {
    "id": "3E8KtDqFlrcm"
   },
   "source": [
    "# Фреймворк PyTorch для разработки искусственных нейронных сетей"
   ]
  },
  {
   "cell_type": "markdown",
   "metadata": {
    "id": "LS0-beUdHdMi"
   },
   "source": [
    "- Материалы и ДЗ берите с ноутбуков Web*.ipynb\n",
    "- 10 занятий, 2 дня в неделю\n",
    "- Тайминг занятий ~1.5 часа"
   ]
  },
  {
   "cell_type": "markdown",
   "metadata": {
    "id": "5JT3FtljAhgw"
   },
   "source": [
    "<img src='https://drive.google.com/uc?export=view&id=1v51-gWkPgQmtIhcGpmwuw81TGwMz7aM5'>"
   ]
  },
  {
   "cell_type": "markdown",
   "metadata": {
    "id": "kJo6HP61Ahgy"
   },
   "source": [
    "### План курса\n",
    "\n",
    "1. Введение в PyTorch. Тензоры, автодифференцирование\n",
    "2. Feed-forward нейронные сети на Pytorch\n",
    "3. Dataloader, Dataset в Pytorch. Продвинутые методы оптимизации\n",
    "4. Сверточные сети в Pytorch. Классификация изображений. Предобученные сети в Pytorch\n",
    "5. Составная лосс-функция. Сегментация изображений.\n",
    "6. Сверточные сети применительно к текстовым задачам. Эмбеддинг-слои. Классификация новостей одномерными свертками.\n",
    "7. Рекурентные нейронные сети. GRU, LSTM на Pytorch. Задача NER.\n",
    "8. GAN на Pytorch.\n",
    "9. Bert и Transformer на Pytorch\n",
    "10. Face Detection and Emotion Recognition"
   ]
  },
  {
   "cell_type": "markdown",
   "metadata": {
    "id": "GoFHbsJClrcw"
   },
   "source": [
    "# PyTorch, вводное занятие"
   ]
  },
  {
   "cell_type": "markdown",
   "metadata": {
    "id": "6q9v2uVflrcw"
   },
   "source": [
    "### План занятия:\n",
    "\n",
    "* Установка\n",
    "* Тензоры\n",
    "* Введение в синтаксис pytorch и Тензорные вычисления\n",
    "* Вычислительный граф и Автоматическое диференцирование\n",
    "* Погружаемся в детали\n",
    "* Tensorflow vs PyTorch\n",
    "* Где полученные знания можно применить"
   ]
  },
  {
   "cell_type": "markdown",
   "metadata": {
    "id": "ZsbYTszFlrcy"
   },
   "source": [
    "# 0. Установка"
   ]
  },
  {
   "cell_type": "code",
   "execution_count": 1,
   "metadata": {
    "colab": {
     "base_uri": "https://localhost:8080/"
    },
    "id": "yxkIdBBrlrcz",
    "outputId": "74193b0e-a4bf-4c2e-938b-80ed9ef99f2f"
   },
   "outputs": [
    {
     "name": "stdout",
     "output_type": "stream",
     "text": [
      "Requirement already satisfied: torch in /Users/ildar/opt/anaconda3/lib/python3.9/site-packages (1.11.0)\n",
      "Requirement already satisfied: torchvision in /Users/ildar/opt/anaconda3/lib/python3.9/site-packages (0.12.0)\n",
      "Requirement already satisfied: typing_extensions in /Users/ildar/opt/anaconda3/lib/python3.9/site-packages (from torch) (4.1.1)\n",
      "Requirement already satisfied: numpy in /Users/ildar/opt/anaconda3/lib/python3.9/site-packages (from torchvision) (1.21.5)\n",
      "Requirement already satisfied: requests in /Users/ildar/opt/anaconda3/lib/python3.9/site-packages (from torchvision) (2.27.1)\n",
      "Requirement already satisfied: pillow!=8.3.*,>=5.3.0 in /Users/ildar/opt/anaconda3/lib/python3.9/site-packages (from torchvision) (9.0.1)\n",
      "Requirement already satisfied: idna<4,>=2.5 in /Users/ildar/opt/anaconda3/lib/python3.9/site-packages (from requests->torchvision) (3.3)\n",
      "Requirement already satisfied: certifi>=2017.4.17 in /Users/ildar/opt/anaconda3/lib/python3.9/site-packages (from requests->torchvision) (2022.6.15)\n",
      "Requirement already satisfied: urllib3<1.27,>=1.21.1 in /Users/ildar/opt/anaconda3/lib/python3.9/site-packages (from requests->torchvision) (1.26.9)\n",
      "Requirement already satisfied: charset-normalizer~=2.0.0 in /Users/ildar/opt/anaconda3/lib/python3.9/site-packages (from requests->torchvision) (2.0.4)\n",
      "\u001b[33mWARNING: There was an error checking the latest version of pip.\u001b[0m\u001b[33m\n",
      "\u001b[0m"
     ]
    }
   ],
   "source": [
    "!pip3 install torch torchvision"
   ]
  },
  {
   "cell_type": "markdown",
   "metadata": {
    "id": "Vz-hpRAclrc4"
   },
   "source": [
    "# 1. Тензоры"
   ]
  },
  {
   "cell_type": "markdown",
   "metadata": {
    "id": "ioO3fIeclrc4"
   },
   "source": [
    "Тензоры схожи с ndarrays в NumPy, с добавлением того, что тензоры могут быть использованы на GPU для ускорения вычислений."
   ]
  },
  {
   "cell_type": "markdown",
   "metadata": {
    "id": "ajgxH0z_AhhB"
   },
   "source": [
    "### Тензоры\n",
    "\n",
    "Тензор - основная структура данных в библиотеках машинного обучения, которая похожа на массив Numpy. Что-то вроде n-мерной матрицы или массива массивов.Тензоры обеспечивают ускорение различных математических операций. Эти операции при выполнении в большом количестве в глубоком обучении имеют огромное значение в скорости."
   ]
  },
  {
   "cell_type": "markdown",
   "metadata": {
    "id": "JZzcooQUe83I"
   },
   "source": [
    "<img src='https://drive.google.com/uc?export=view&id=1pDiSoBIL8IBpIFq3R4OKGRW3YseBRvFm'>\n",
    "\n",
    "\n",
    "Визуализизация тензора с более чем двумя осями:\n",
    "\n",
    "<img src='https://drive.google.com/uc?Export=view&id=1C6pu0iDx1Ugz2OMyE9d6KZH9IcN3-STG'>\n",
    "<img src='https://drive.google.com/uc?export=view&id=1cmVLwGNLc8fkDpmNZreTecMNCXgD6zGl'>\n",
    "<img src='https://drive.google.com/uc?export=view&id=1XiGSZVsVQrlH279eu2IK1bekSvccX6aT'>\n"
   ]
  },
  {
   "cell_type": "markdown",
   "metadata": {
    "id": "1Wwd8OUFlrc-"
   },
   "source": [
    "# 2. Введение в синтаксис pytorch и Тензорные вычисления"
   ]
  },
  {
   "cell_type": "markdown",
   "metadata": {
    "id": "oo6pzUghlrc-"
   },
   "source": [
    "[База от pytorch](https://pytorch.org/tutorials/beginner/basics/intro.html)"
   ]
  },
  {
   "cell_type": "code",
   "execution_count": 2,
   "metadata": {
    "id": "cr4ur_8Llrc_"
   },
   "outputs": [],
   "source": [
    "from IPython import display\n",
    "import numpy as np\n",
    "import random\n",
    "import torch"
   ]
  },
  {
   "cell_type": "markdown",
   "metadata": {
    "id": "GjBbSSOXlrdB"
   },
   "source": [
    "### 2.1 Тензоры в pytorch"
   ]
  },
  {
   "cell_type": "markdown",
   "metadata": {
    "id": "DsP_QDjylrdC"
   },
   "source": [
    "Тип данных, хранимых тензором, отражается в имени его конструктора. Конструктор без параметров вернёт специальное значение — тензор без размерности, который нельзя использовать ни в каких операциях."
   ]
  },
  {
   "cell_type": "code",
   "execution_count": 3,
   "metadata": {
    "id": "fZUu5E6klrdC"
   },
   "outputs": [
    {
     "data": {
      "text/plain": [
       "tensor([])"
      ]
     },
     "execution_count": 3,
     "metadata": {},
     "output_type": "execute_result"
    }
   ],
   "source": [
    "torch.FloatTensor()\n",
    "a = torch.Tensor()\n",
    "a"
   ]
  },
  {
   "cell_type": "markdown",
   "metadata": {
    "id": "sc2jfbOalrdD"
   },
   "source": [
    "Типы тензоров в pytorch:"
   ]
  },
  {
   "cell_type": "markdown",
   "metadata": {
    "id": "YRGslGDYlrdE"
   },
   "source": [
    "torch.HalfTensor      # 16 бит, с плавающей точкой  \n",
    "torch.FloatTensor     # 32 бита,  с плавающей точкой  \n",
    "torch.DoubleTensor    # 64 бита, с плавающей точкой  \n",
    "\n",
    "torch.ShortTensor     # 16 бит, целочисленный, знаковый  \n",
    "torch.IntTensor       # 32 бита, целочисленный, знаковый  \n",
    "torch.LongTensor      # 64 бита, целочисленный, знаковый  \n",
    "\n",
    "torch.CharTensor      # 8 бит, целочисленный, знаковый  \n",
    "torch.ByteTensor      # 8 бит, целочисленный, беззнаковый  "
   ]
  },
  {
   "cell_type": "markdown",
   "metadata": {
    "id": "3npMKfhHlrdF"
   },
   "source": [
    "torch.Tensor является сокращённым названием для torch.FloatTensor. Так же в последних версиях существует автоматическое приведение типов, если типы не сопоставимы:"
   ]
  },
  {
   "cell_type": "code",
   "execution_count": 4,
   "metadata": {
    "colab": {
     "base_uri": "https://localhost:8080/"
    },
    "id": "mP6jj5ImlrdF",
    "outputId": "d440c9c6-ce7a-4f96-b8b9-3d95e75a8c62"
   },
   "outputs": [
    {
     "name": "stdout",
     "output_type": "stream",
     "text": [
      "tensor([1.])\n",
      "tensor([2.], dtype=torch.float64)\n"
     ]
    },
    {
     "data": {
      "text/plain": [
       "tensor([2.], dtype=torch.float64)"
      ]
     },
     "execution_count": 4,
     "metadata": {},
     "output_type": "execute_result"
    }
   ],
   "source": [
    "a = torch.FloatTensor([1.0])\n",
    "b = torch.DoubleTensor([2.0])\n",
    "print(a)\n",
    "print(b)\n",
    "a * b"
   ]
  },
  {
   "cell_type": "markdown",
   "metadata": {
    "id": "ULPsrNnxlrdH"
   },
   "source": [
    "Но где-то могут возникать проблемы в виду разных типов. Для этого предусмотрена возможность явного приведения типов:"
   ]
  },
  {
   "cell_type": "code",
   "execution_count": 5,
   "metadata": {
    "colab": {
     "base_uri": "https://localhost:8080/"
    },
    "id": "Mzydn0ntlrdI",
    "outputId": "8ff17cf2-bef9-4bde-ec6b-38c79731f048"
   },
   "outputs": [
    {
     "name": "stdout",
     "output_type": "stream",
     "text": [
      "torch.IntTensor\n",
      "torch.ByteTensor\n"
     ]
    }
   ],
   "source": [
    "a = torch.IntTensor([1])\n",
    "print(a.type())\n",
    "a = a.byte()\n",
    "print(a.type())"
   ]
  },
  {
   "cell_type": "code",
   "execution_count": 6,
   "metadata": {
    "colab": {
     "base_uri": "https://localhost:8080/"
    },
    "id": "fDpxFj1mlrdJ",
    "outputId": "358f2ba6-486d-470b-8b00-989bbc720088"
   },
   "outputs": [
    {
     "data": {
      "text/plain": [
       "tensor([1.])"
      ]
     },
     "execution_count": 6,
     "metadata": {},
     "output_type": "execute_result"
    }
   ],
   "source": [
    "a.float()"
   ]
  },
  {
   "cell_type": "markdown",
   "metadata": {
    "id": "78WC03sMlrdK"
   },
   "source": [
    "### 2.2 Немного о различиях в функциях"
   ]
  },
  {
   "cell_type": "markdown",
   "metadata": {
    "id": "hll1Lq_MlrdK"
   },
   "source": [
    "Соглашение о именовании в PyTorch гласит, что любая функция вида xxx возвращает новый тензор, т.е. является immutable функцией. В противоположность ей функция вида xxx_ изменяет изначальный тензор, т.е. является mutable функцией. Последние ещё носят название inplace функций. \n",
    "Почти для любой immutable функции в PyTorch существует её собрат. Однако бывает и так, что функция существует лишь в каком-то одном варианте. По понятным причинам, функции, изменяющие размер тензора всегда являются immutable."
   ]
  },
  {
   "cell_type": "markdown",
   "metadata": {
    "id": "A5sdx0omlrdL"
   },
   "source": [
    "По поводу всех функций прошу [сюда](https://pytorch.org/docs/master/tensors.html). А сейчас мы коснемся лишь самых важных."
   ]
  },
  {
   "cell_type": "markdown",
   "metadata": {
    "id": "swyfZlVrlrdM"
   },
   "source": [
    "### 2.3 Инициализация"
   ]
  },
  {
   "cell_type": "markdown",
   "metadata": {
    "id": "O_XGiOlRlrdV"
   },
   "source": [
    "Начнем с того, как мы можем задать наш тензор. Полный список функций можно посмотреть в [официальном источнике](https://pytorch.org/docs/stable/torch.html) под заголовком Creation Ops. Вот некоторые разные варианты:"
   ]
  },
  {
   "cell_type": "code",
   "execution_count": 7,
   "metadata": {
    "colab": {
     "base_uri": "https://localhost:8080/"
    },
    "id": "XBIvfmmzlrdW",
    "outputId": "035136c8-4df1-4a77-bd35-bc5871ca3f6e"
   },
   "outputs": [
    {
     "name": "stdout",
     "output_type": "stream",
     "text": [
      "type of tensor :  torch.FloatTensor\n",
      "Simple way: tensor([1.0000, 1.4000, 2.5000])\n",
      "Via type : tensor([1.0000, 1.4000, 2.5000])\n",
      "Zeros:\n",
      " tensor([[0., 0., 0.],\n",
      "        [0., 0., 0.]])\n",
      "Превращаем а в нули : tensor([0., 0., 0.])\n",
      "Заполним тензор константой : tensor([5., 5., 5.])\n",
      "Range: tensor([0, 1, 2, 3, 4, 5, 6, 7, 8, 9])\n",
      "Complicated range: tensor([ 4,  6,  8, 10])\n",
      "Space: tensor([1.0000, 1.6000, 2.2000, 2.8000, 3.4000, 4.0000])\n"
     ]
    }
   ],
   "source": [
    "a = [1. , 1.4 , 2.5]\n",
    "a_tensor = torch.tensor(a)\n",
    "print(f\"type of tensor : \", a_tensor.type())\n",
    "print(f\"Simple way: {torch.tensor(a)}\")\n",
    "print(f\"Via type : {torch.FloatTensor(a)}\")\n",
    "print(f\"Zeros:\\n {torch.zeros((2, 3))}\")\n",
    "print(f\"Превращаем а в нули : {a_tensor.zero_()}\")\n",
    "print(f\"Заполним тензор константой : {a_tensor.fill_(5)}\")\n",
    "print(f\"Range: {torch.arange(0, 10)}\")\n",
    "print(f\"Complicated range: {torch.arange(4, 12, 2)}\")\n",
    "print(f\"Space: {torch.linspace(1, 4, 6)}\")"
   ]
  },
  {
   "cell_type": "markdown",
   "metadata": {
    "id": "BIf4MP-ulrdX"
   },
   "source": [
    "### 2.4 Случайная выборка"
   ]
  },
  {
   "cell_type": "markdown",
   "metadata": {
    "id": "-rGBzeeKlrdX"
   },
   "source": [
    "Теперь про то, как мы можем генерировать случайнные значения в наших тензорах. Полный список функций можно посмотреть по ссылке выше под заголовком Random sampling."
   ]
  },
  {
   "cell_type": "code",
   "execution_count": 8,
   "metadata": {
    "colab": {
     "base_uri": "https://localhost:8080/"
    },
    "id": "-vKQwM1olrdY",
    "outputId": "f7eb7d8f-53f2-41d7-890a-805fad984062"
   },
   "outputs": [
    {
     "name": "stdout",
     "output_type": "stream",
     "text": [
      "From 0 to 1: tensor([0.4971])\n",
      "Vector from 0 to 1: tensor([0.2393, 0.3576, 0.3893, 0.1518, 0.6018])\n",
      "Vector from a normal distribution with mean 0 and variance 1: tensor([[-1.1816,  1.2491,  0.7544],\n",
      "        [-0.7257, -0.2392, -1.1467]])\n",
      "Vector from 0 to 10: tensor([9, 6, 2, 8, 3])\n",
      "Непрерывное равномерное распределение : tensor([1.7760e-01, 3.1123e+00, 2.7302e-03])\n"
     ]
    }
   ],
   "source": [
    "print(f\"From 0 to 1: {torch.rand(1)}\")\n",
    "print(f\"Vector from 0 to 1: {torch.rand(5)}\")\n",
    "print(f\"Vector from a normal distribution with mean 0 and variance 1: {torch.randn(2, 3)}\")\n",
    "print(f\"Vector from 0 to 10: {torch.randint(10, size=(5,))}\")\n",
    "print(f\"Непрерывное равномерное распределение : {a_tensor.uniform_(0, 5)}\")"
   ]
  },
  {
   "cell_type": "markdown",
   "metadata": {
    "id": "1apoSI34lrda"
   },
   "source": [
    "### 2.5 Математические операции"
   ]
  },
  {
   "cell_type": "markdown",
   "metadata": {
    "id": "eogPvK3olrdb"
   },
   "source": [
    "С матричными операциями так же все аналогично с тем же numpy"
   ]
  },
  {
   "cell_type": "code",
   "execution_count": 9,
   "metadata": {
    "colab": {
     "base_uri": "https://localhost:8080/"
    },
    "id": "mMpVDkyOlrdb",
    "outputId": "87e89d12-39aa-46b8-d399-13559a1417ca"
   },
   "outputs": [
    {
     "name": "stdout",
     "output_type": "stream",
     "text": [
      "a: tensor([0., 1., 2., 3., 4., 5., 6., 7., 8., 9.])\n",
      "shape: torch.Size([10])\n",
      "b: tensor([-10.0000,  -7.7778,  -5.5556,  -3.3333,  -1.1111,   1.1111,   3.3333,\n",
      "          5.5556,   7.7778,  10.0000])\n",
      "shape: torch.Size([10])\n"
     ]
    }
   ],
   "source": [
    "a = torch.arange(10).type(torch.FloatTensor)\n",
    "b = torch.linspace(-10, 10, 10)\n",
    "print(f\"a: {a}\\nshape: {a.size()}\")\n",
    "print(f\"b: {b}\\nshape: {b.size()}\")"
   ]
  },
  {
   "cell_type": "code",
   "execution_count": 10,
   "metadata": {
    "colab": {
     "base_uri": "https://localhost:8080/"
    },
    "id": "wLvfZBI5niyi",
    "outputId": "025a9677-6aa4-433f-b44c-9d9336fe7631"
   },
   "outputs": [
    {
     "name": "stdout",
     "output_type": "stream",
     "text": [
      "a + b: tensor([-10.0000,  -6.7778,  -3.5556,  -0.3333,   2.8889,   6.1111,   9.3333,\n",
      "         12.5556,  15.7778,  19.0000]),\n",
      " a * b: tensor([ -0.0000,  -7.7778, -11.1111, -10.0000,  -4.4444,   5.5556,  20.0000,\n",
      "         38.8889,  62.2222,  90.0000])\n",
      "a + b: tensor([-10.0000,  -6.7778,  -3.5556,  -0.3333,   2.8889,   6.1111,   9.3333,\n",
      "         12.5556,  15.7778,  19.0000]),\n",
      " a * b: tensor([ -0.0000,  -7.7778, -11.1111, -10.0000,  -4.4444,   5.5556,  20.0000,\n",
      "         38.8889,  62.2222,  90.0000])\n",
      "a + b: tensor([-10.0000,  -6.7778,  -3.5556,  -0.3333,   2.8889,   6.1111,   9.3333,\n",
      "         12.5556,  15.7778,  19.0000]),\n",
      " a * b: tensor([100.0000,  52.7160,  19.7531,   1.1111,  -3.2099,   6.7901,  31.1111,\n",
      "         69.7531, 122.7160, 190.0000])\n"
     ]
    }
   ],
   "source": [
    "print(f\"a + b: {a + b},\\n a * b: {a * b}\")\n",
    "print(f\"a + b: {a.add(b)},\\n a * b: {a.mul(b)}\") # вычитание sub, деление - div\n",
    "print(f\"a + b: {a.add_(b)},\\n a * b: {a.mul_(b)}\")"
   ]
  },
  {
   "cell_type": "code",
   "execution_count": 11,
   "metadata": {},
   "outputs": [
    {
     "data": {
      "text/plain": [
       "tensor([100.0000,  52.7160,  19.7531,   1.1111,  -3.2099,   6.7901,  31.1111,\n",
       "         69.7531, 122.7160, 190.0000])"
      ]
     },
     "execution_count": 11,
     "metadata": {},
     "output_type": "execute_result"
    }
   ],
   "source": [
    "a"
   ]
  },
  {
   "cell_type": "code",
   "execution_count": 12,
   "metadata": {
    "colab": {
     "base_uri": "https://localhost:8080/"
    },
    "id": "w8ev2q3OnkSg",
    "outputId": "7811f388-007e-4c5f-9749-3e040a9fe2c0"
   },
   "outputs": [
    {
     "name": "stdout",
     "output_type": "stream",
     "text": [
      "Экспонента : tensor([1.0000e+00, 2.7183e+00, 7.3891e+00, 2.0086e+01, 5.4598e+01, 1.4841e+02,\n",
      "        4.0343e+02, 1.0966e+03, 2.9810e+03, 8.1031e+03]),\n",
      " tensor([1.0000e+00, 2.7183e+00, 7.3891e+00, 2.0086e+01, 5.4598e+01, 1.4841e+02,\n",
      "        4.0343e+02, 1.0966e+03, 2.9810e+03, 8.1031e+03]), \n",
      " tensor([1.0000e+00, 2.7183e+00, 7.3891e+00, 2.0086e+01, 5.4598e+01, 1.4841e+02,\n",
      "        4.0343e+02, 1.0966e+03, 2.9810e+03, 8.1031e+03])\n",
      "Логарифм : tensor([0.0000, 1.0000, 2.0000, 3.0000, 4.0000, 5.0000, 6.0000, 7.0000, 8.0000,\n",
      "        9.0000])\n",
      "Модуль : tensor([1.0000e+00, 2.7183e+00, 7.3891e+00, 2.0086e+01, 5.4598e+01, 1.4841e+02,\n",
      "        4.0343e+02, 1.0966e+03, 2.9810e+03, 8.1031e+03])\n"
     ]
    }
   ],
   "source": [
    "a = torch.arange(10).type(torch.FloatTensor)\n",
    "\n",
    "print(f\"Экспонента : {a.exp()},\\n {torch.exp(a)}, \\n {a.exp_()}\")\n",
    "print(f\"Логарифм : {a.log()}\")\n",
    "print(f\"Модуль : {a.abs()}\")"
   ]
  },
  {
   "cell_type": "code",
   "execution_count": 13,
   "metadata": {
    "colab": {
     "base_uri": "https://localhost:8080/"
    },
    "id": "Gqhs-wzFnlqm",
    "outputId": "e3bcefe3-9ebd-4912-e077-d432fc4d7d9a"
   },
   "outputs": [
    {
     "name": "stdout",
     "output_type": "stream",
     "text": [
      "Скалярное произведение: 111618.328125\n",
      "Mean: 1281.830810546875, STD: 2571.337890625\n",
      "Sum: 12818.30859375, Min: 1.0, Max: 8103.083984375\n"
     ]
    }
   ],
   "source": [
    "print(f\"Скалярное произведение: {a.dot(b)}\")\n",
    "print(f\"Mean: {a.mean()}, STD: {a.std()}\")\n",
    "print(f\"Sum: {a.sum()}, Min: {a.min()}, Max: {a.max()}\")"
   ]
  },
  {
   "cell_type": "code",
   "execution_count": 14,
   "metadata": {
    "colab": {
     "base_uri": "https://localhost:8080/"
    },
    "id": "bqJzUTbESuO8",
    "outputId": "1717d3ba-f3f5-479b-fa2a-1eec7efe7fae"
   },
   "outputs": [
    {
     "data": {
      "text/plain": [
       "torch.Size([10])"
      ]
     },
     "execution_count": 14,
     "metadata": {},
     "output_type": "execute_result"
    }
   ],
   "source": [
    "a.shape"
   ]
  },
  {
   "cell_type": "code",
   "execution_count": 15,
   "metadata": {
    "colab": {
     "base_uri": "https://localhost:8080/"
    },
    "id": "b8FYpFBMnm9_",
    "outputId": "5d63f464-92c7-43be-fe15-1053f282a7bf"
   },
   "outputs": [
    {
     "name": "stdout",
     "output_type": "stream",
     "text": [
      "Reshape:\n",
      "tensor([[1.0000e+00],\n",
      "        [2.7183e+00],\n",
      "        [7.3891e+00],\n",
      "        [2.0086e+01],\n",
      "        [5.4598e+01],\n",
      "        [1.4841e+02],\n",
      "        [4.0343e+02],\n",
      "        [1.0966e+03],\n",
      "        [2.9810e+03],\n",
      "        [8.1031e+03]])\n",
      "shape: torch.Size([10, 1])\n",
      "Повторения:\n",
      "tensor([[1.0000e+00, 1.0000e+00, 1.0000e+00, 1.0000e+00, 1.0000e+00],\n",
      "        [2.7183e+00, 2.7183e+00, 2.7183e+00, 2.7183e+00, 2.7183e+00],\n",
      "        [7.3891e+00, 7.3891e+00, 7.3891e+00, 7.3891e+00, 7.3891e+00],\n",
      "        [2.0086e+01, 2.0086e+01, 2.0086e+01, 2.0086e+01, 2.0086e+01],\n",
      "        [5.4598e+01, 5.4598e+01, 5.4598e+01, 5.4598e+01, 5.4598e+01],\n",
      "        [1.4841e+02, 1.4841e+02, 1.4841e+02, 1.4841e+02, 1.4841e+02],\n",
      "        [4.0343e+02, 4.0343e+02, 4.0343e+02, 4.0343e+02, 4.0343e+02],\n",
      "        [1.0966e+03, 1.0966e+03, 1.0966e+03, 1.0966e+03, 1.0966e+03],\n",
      "        [2.9810e+03, 2.9810e+03, 2.9810e+03, 2.9810e+03, 2.9810e+03],\n",
      "        [8.1031e+03, 8.1031e+03, 8.1031e+03, 8.1031e+03, 8.1031e+03]])\n",
      "shape: torch.Size([10, 5])\n",
      "Транспонирование:\n",
      "tensor([[1.0000e+00, 2.7183e+00, 7.3891e+00, 2.0086e+01, 5.4598e+01, 1.4841e+02,\n",
      "         4.0343e+02, 1.0966e+03, 2.9810e+03, 8.1031e+03],\n",
      "        [1.0000e+00, 2.7183e+00, 7.3891e+00, 2.0086e+01, 5.4598e+01, 1.4841e+02,\n",
      "         4.0343e+02, 1.0966e+03, 2.9810e+03, 8.1031e+03],\n",
      "        [1.0000e+00, 2.7183e+00, 7.3891e+00, 2.0086e+01, 5.4598e+01, 1.4841e+02,\n",
      "         4.0343e+02, 1.0966e+03, 2.9810e+03, 8.1031e+03],\n",
      "        [1.0000e+00, 2.7183e+00, 7.3891e+00, 2.0086e+01, 5.4598e+01, 1.4841e+02,\n",
      "         4.0343e+02, 1.0966e+03, 2.9810e+03, 8.1031e+03],\n",
      "        [1.0000e+00, 2.7183e+00, 7.3891e+00, 2.0086e+01, 5.4598e+01, 1.4841e+02,\n",
      "         4.0343e+02, 1.0966e+03, 2.9810e+03, 8.1031e+03]])\n",
      "shape: torch.Size([5, 10])\n",
      "Уникальные элементы: tensor([1.0000e+00, 2.7183e+00, 7.3891e+00, 2.0086e+01, 5.4598e+01, 1.4841e+02,\n",
      "        4.0343e+02, 1.0966e+03, 2.9810e+03, 8.1031e+03])\n"
     ]
    }
   ],
   "source": [
    "print(f\"Reshape:\\n{a.reshape(-1, 1)}\\nshape: {a.reshape(-1, 1).size()}\")\n",
    "c = a.reshape(-1, 1).repeat(1, 5)\n",
    "print(f\"Повторения:\\n{c}\\nshape: {c.size()}\")\n",
    "print(f\"Транспонирование:\\n{c.T}\\nshape: {c.T.size()}\")\n",
    "print(f\"Уникальные элементы: {torch.unique(c)}\")"
   ]
  },
  {
   "cell_type": "markdown",
   "metadata": {
    "id": "mrI9Y6-klrdd"
   },
   "source": [
    "### 2.6 Индексирование"
   ]
  },
  {
   "cell_type": "code",
   "execution_count": 16,
   "metadata": {
    "colab": {
     "base_uri": "https://localhost:8080/"
    },
    "id": "gWKhVxkulrdd",
    "outputId": "c6a342a6-eb2a-4ccd-d0c8-ae58402a909c"
   },
   "outputs": [
    {
     "name": "stdout",
     "output_type": "stream",
     "text": [
      "Array:\n",
      "tensor([[ 0,  1,  2,  3,  4,  5,  6,  7,  8,  9],\n",
      "        [10, 11, 12, 13, 14, 15, 16, 17, 18, 19],\n",
      "        [20, 21, 22, 23, 24, 25, 26, 27, 28, 29],\n",
      "        [30, 31, 32, 33, 34, 35, 36, 37, 38, 39],\n",
      "        [40, 41, 42, 43, 44, 45, 46, 47, 48, 49],\n",
      "        [50, 51, 52, 53, 54, 55, 56, 57, 58, 59],\n",
      "        [60, 61, 62, 63, 64, 65, 66, 67, 68, 69],\n",
      "        [70, 71, 72, 73, 74, 75, 76, 77, 78, 79],\n",
      "        [80, 81, 82, 83, 84, 85, 86, 87, 88, 89],\n",
      "        [90, 91, 92, 93, 94, 95, 96, 97, 98, 99]])\n",
      "shape: torch.Size([10, 10])\n",
      "Get first column: tensor([ 0, 10, 20, 30, 40, 50, 60, 70, 80, 90])\n",
      "Get last row: tensor([90, 91, 92, 93, 94, 95, 96, 97, 98, 99])\n",
      "Add new aхis:\n",
      "tensor([[[ 0,  1,  2,  3,  4,  5,  6,  7,  8,  9]],\n",
      "\n",
      "        [[10, 11, 12, 13, 14, 15, 16, 17, 18, 19]],\n",
      "\n",
      "        [[20, 21, 22, 23, 24, 25, 26, 27, 28, 29]],\n",
      "\n",
      "        [[30, 31, 32, 33, 34, 35, 36, 37, 38, 39]],\n",
      "\n",
      "        [[40, 41, 42, 43, 44, 45, 46, 47, 48, 49]],\n",
      "\n",
      "        [[50, 51, 52, 53, 54, 55, 56, 57, 58, 59]],\n",
      "\n",
      "        [[60, 61, 62, 63, 64, 65, 66, 67, 68, 69]],\n",
      "\n",
      "        [[70, 71, 72, 73, 74, 75, 76, 77, 78, 79]],\n",
      "\n",
      "        [[80, 81, 82, 83, 84, 85, 86, 87, 88, 89]],\n",
      "\n",
      "        [[90, 91, 92, 93, 94, 95, 96, 97, 98, 99]]])\n",
      "shape: torch.Size([10, 1, 10])\n",
      "Specific indexing:\n",
      "tensor([[47, 48, 49],\n",
      "        [57, 58, 59]])\n"
     ]
    }
   ],
   "source": [
    "a = torch.arange(100).reshape(10, 10)\n",
    "print(f\"Array:\\n{a}\\nshape: {a.size()}\")\n",
    "print(f\"Get first column: {a[:, 0]}\")\n",
    "print(f\"Get last row: {a[-1, :]}\")\n",
    "print(f\"Add new aхis:\\n{a[:, np.newaxis]}\\nshape: {a[:, np.newaxis].size()}\")\n",
    "print(f\"Specific indexing:\\n{a[4:6, 7:]}\")"
   ]
  },
  {
   "cell_type": "markdown",
   "metadata": {
    "id": "XxJ36RNblrde"
   },
   "source": [
    "### 2.7 Из numpy в pytorch и обратно"
   ]
  },
  {
   "cell_type": "code",
   "execution_count": 20,
   "metadata": {
    "colab": {
     "base_uri": "https://localhost:8080/"
    },
    "id": "Von-vTQxlrdk",
    "outputId": "6155c9fb-bd94-4c75-c492-21ebb4d46d4b"
   },
   "outputs": [
    {
     "data": {
      "text/plain": [
       "array([[-1.2367272 ,  1.3137656 ,  1.6162295 , -0.18708052],\n",
       "       [ 0.8943113 ,  0.1309139 ,  0.8088319 ,  0.11725986]],\n",
       "      dtype=float32)"
      ]
     },
     "execution_count": 20,
     "metadata": {},
     "output_type": "execute_result"
    }
   ],
   "source": [
    "a = torch.normal(mean=torch.zeros(2,4))\n",
    "a.numpy()"
   ]
  },
  {
   "cell_type": "code",
   "execution_count": 21,
   "metadata": {
    "colab": {
     "base_uri": "https://localhost:8080/"
    },
    "id": "nQl1YKAVlrdl",
    "outputId": "8156caf2-5bcb-4e22-f327-53e9bb270c55"
   },
   "outputs": [
    {
     "data": {
      "text/plain": [
       "tensor([[-1.5736, -0.4304, -0.2129,  0.3558],\n",
       "        [-0.4416, -1.7497,  0.3436,  0.6091]], dtype=torch.float64)"
      ]
     },
     "execution_count": 21,
     "metadata": {},
     "output_type": "execute_result"
    }
   ],
   "source": [
    "b = np.random.normal(size=(2, 4))\n",
    "torch.from_numpy(b)"
   ]
  },
  {
   "cell_type": "markdown",
   "metadata": {
    "id": "oB-V0qAFlrdm"
   },
   "source": [
    "### 2.8 CUDA"
   ]
  },
  {
   "cell_type": "markdown",
   "metadata": {
    "id": "TgH4-Qsklrdm"
   },
   "source": [
    "torch.cuda - это пакет для поддержки CUDA. Он поддерживает такую же функциональность как и CPU, но использует CUDA ядра для вычислений. С полным функционалом можно ознакомиться [здесь](https://pytorch.org/docs/stable/cuda.html?highlight=cuda#module-torch.cuda)"
   ]
  },
  {
   "cell_type": "code",
   "execution_count": 23,
   "metadata": {
    "colab": {
     "base_uri": "https://localhost:8080/"
    },
    "id": "cKi3yXWzlrdn",
    "outputId": "55fcf1b6-1f00-43a8-bbbd-fcfd9e24e8cc"
   },
   "outputs": [
    {
     "name": "stdout",
     "output_type": "stream",
     "text": [
      "Поддерживается ли CUDA : False\n",
      "Количество гпу девайсов: 0\n",
      "Удаляем всю незанятую память через torch.cuda.empty_cache()\n"
     ]
    }
   ],
   "source": [
    "print(f\"Поддерживается ли CUDA : {torch.cuda.is_available()}\")\n",
    "print(f'Количество гпу девайсов: {torch.cuda.device_count()}')\n",
    "# print(f\"Характеристики видеокарты : {torch.cuda.get_device_properties(0)}\")\n",
    "print(f\"Удаляем всю незанятую память через torch.cuda.empty_cache()\")"
   ]
  },
  {
   "cell_type": "markdown",
   "metadata": {
    "id": "ZYuP3-cHlrdo"
   },
   "source": [
    "Давайте посмотрим на практике как работать с cuda. Допустим мы инициализуем два тензора:"
   ]
  },
  {
   "cell_type": "code",
   "execution_count": 24,
   "metadata": {
    "colab": {
     "base_uri": "https://localhost:8080/"
    },
    "id": "tDl0l9wQlrdo",
    "outputId": "ac6421d7-bbb0-4d64-a635-33e677db948a",
    "tags": []
   },
   "outputs": [
    {
     "name": "stdout",
     "output_type": "stream",
     "text": [
      "a:\n",
      "tensor([[-0.5694, -1.5639,  0.1506, -0.6459],\n",
      "        [-0.5929,  1.6693,  1.5719,  1.6286]])\n",
      "b:\n",
      "tensor([[ 0.1254, -1.4610, -0.0312, -0.2871],\n",
      "        [ 0.1153, -0.5774,  0.1829, -1.6288]])\n"
     ]
    }
   ],
   "source": [
    "a = torch.normal(mean=torch.zeros(2, 4))\n",
    "b = torch.normal(mean=torch.zeros(2, 4))\n",
    "print(f\"a:\\n{a}\\nb:\\n{b}\")"
   ]
  },
  {
   "cell_type": "markdown",
   "metadata": {
    "id": "i1K9I_VKlrdp"
   },
   "source": [
    "Наши тензоры автоматом загружены в память cpu. Но мы легко можем перевести их на cpu таким способом:"
   ]
  },
  {
   "cell_type": "code",
   "execution_count": 25,
   "metadata": {
    "colab": {
     "base_uri": "https://localhost:8080/"
    },
    "id": "lDb6ruPvlrdq",
    "outputId": "f296a95f-518c-4d71-b244-f07287aef2be"
   },
   "outputs": [
    {
     "ename": "AssertionError",
     "evalue": "Torch not compiled with CUDA enabled",
     "output_type": "error",
     "traceback": [
      "\u001b[0;31m---------------------------------------------------------------------------\u001b[0m",
      "\u001b[0;31mAssertionError\u001b[0m                            Traceback (most recent call last)",
      "Input \u001b[0;32mIn [25]\u001b[0m, in \u001b[0;36m<cell line: 1>\u001b[0;34m()\u001b[0m\n\u001b[0;32m----> 1\u001b[0m a \u001b[38;5;241m=\u001b[39m \u001b[43ma\u001b[49m\u001b[38;5;241;43m.\u001b[39;49m\u001b[43mcuda\u001b[49m\u001b[43m(\u001b[49m\u001b[43m)\u001b[49m\n\u001b[1;32m      2\u001b[0m a\n",
      "File \u001b[0;32m~/opt/anaconda3/lib/python3.9/site-packages/torch/cuda/__init__.py:210\u001b[0m, in \u001b[0;36m_lazy_init\u001b[0;34m()\u001b[0m\n\u001b[1;32m    206\u001b[0m     \u001b[38;5;28;01mraise\u001b[39;00m \u001b[38;5;167;01mRuntimeError\u001b[39;00m(\n\u001b[1;32m    207\u001b[0m         \u001b[38;5;124m\"\u001b[39m\u001b[38;5;124mCannot re-initialize CUDA in forked subprocess. To use CUDA with \u001b[39m\u001b[38;5;124m\"\u001b[39m\n\u001b[1;32m    208\u001b[0m         \u001b[38;5;124m\"\u001b[39m\u001b[38;5;124mmultiprocessing, you must use the \u001b[39m\u001b[38;5;124m'\u001b[39m\u001b[38;5;124mspawn\u001b[39m\u001b[38;5;124m'\u001b[39m\u001b[38;5;124m start method\u001b[39m\u001b[38;5;124m\"\u001b[39m)\n\u001b[1;32m    209\u001b[0m \u001b[38;5;28;01mif\u001b[39;00m \u001b[38;5;129;01mnot\u001b[39;00m \u001b[38;5;28mhasattr\u001b[39m(torch\u001b[38;5;241m.\u001b[39m_C, \u001b[38;5;124m'\u001b[39m\u001b[38;5;124m_cuda_getDeviceCount\u001b[39m\u001b[38;5;124m'\u001b[39m):\n\u001b[0;32m--> 210\u001b[0m     \u001b[38;5;28;01mraise\u001b[39;00m \u001b[38;5;167;01mAssertionError\u001b[39;00m(\u001b[38;5;124m\"\u001b[39m\u001b[38;5;124mTorch not compiled with CUDA enabled\u001b[39m\u001b[38;5;124m\"\u001b[39m)\n\u001b[1;32m    211\u001b[0m \u001b[38;5;28;01mif\u001b[39;00m _cudart \u001b[38;5;129;01mis\u001b[39;00m \u001b[38;5;28;01mNone\u001b[39;00m:\n\u001b[1;32m    212\u001b[0m     \u001b[38;5;28;01mraise\u001b[39;00m \u001b[38;5;167;01mAssertionError\u001b[39;00m(\n\u001b[1;32m    213\u001b[0m         \u001b[38;5;124m\"\u001b[39m\u001b[38;5;124mlibcudart functions unavailable. It looks like you have a broken build?\u001b[39m\u001b[38;5;124m\"\u001b[39m)\n",
      "\u001b[0;31mAssertionError\u001b[0m: Torch not compiled with CUDA enabled"
     ]
    }
   ],
   "source": [
    "a = a.cuda()\n",
    "a"
   ]
  },
  {
   "cell_type": "markdown",
   "metadata": {
    "id": "Ha5DoFO5lrdq"
   },
   "source": [
    "Теперь, если мы попробуем сложить эти два тензора, то у нас вылезет ошибка, т.к. один тензор на cpu, а другой на cuda:"
   ]
  },
  {
   "cell_type": "code",
   "execution_count": null,
   "metadata": {
    "colab": {
     "base_uri": "https://localhost:8080/",
     "height": 169
    },
    "id": "UGwUNC2xlrdw",
    "outputId": "afea4cb2-b36b-4cdc-e155-74ded377f82f"
   },
   "outputs": [
    {
     "ename": "RuntimeError",
     "evalue": "ignored",
     "output_type": "error",
     "traceback": [
      "\u001b[0;31m---------------------------------------------------------------------------\u001b[0m",
      "\u001b[0;31mRuntimeError\u001b[0m                              Traceback (most recent call last)",
      "\u001b[0;32m<ipython-input-21-bd58363a63fc>\u001b[0m in \u001b[0;36m<module>\u001b[0;34m()\u001b[0m\n\u001b[0;32m----> 1\u001b[0;31m \u001b[0ma\u001b[0m \u001b[0;34m+\u001b[0m \u001b[0mb\u001b[0m\u001b[0;34m\u001b[0m\u001b[0;34m\u001b[0m\u001b[0m\n\u001b[0m",
      "\u001b[0;31mRuntimeError\u001b[0m: Expected all tensors to be on the same device, but found at least two devices, cuda:0 and cpu!"
     ]
    }
   ],
   "source": [
    "a + b"
   ]
  },
  {
   "cell_type": "markdown",
   "metadata": {
    "id": "Hc627l3ulrdw"
   },
   "source": [
    "Мы не можем производить никакие операции с тензорами, находящимеся на разных устройствах. Что бы сложить их нам нужно оба тензора перевести на одно устройство:"
   ]
  },
  {
   "cell_type": "code",
   "execution_count": null,
   "metadata": {
    "colab": {
     "base_uri": "https://localhost:8080/"
    },
    "id": "Xv7Vbf0glrdx",
    "outputId": "925a8377-51c9-4b37-acd6-6d8d26afce30"
   },
   "outputs": [
    {
     "data": {
      "text/plain": [
       "tensor([[ 0.4862,  0.0987,  2.4687,  1.1996],\n",
       "        [ 0.9445,  2.1796, -1.4226, -0.4463]], device='cuda:0')"
      ]
     },
     "execution_count": 22,
     "metadata": {},
     "output_type": "execute_result"
    }
   ],
   "source": [
    "a + b.cuda()"
   ]
  },
  {
   "cell_type": "code",
   "execution_count": null,
   "metadata": {
    "colab": {
     "base_uri": "https://localhost:8080/"
    },
    "id": "X-WcdeyTlrdx",
    "outputId": "9df2677f-edf9-47e2-fbf0-ef43a46f1595"
   },
   "outputs": [
    {
     "data": {
      "text/plain": [
       "tensor([[ 0.4862,  0.0987,  2.4687,  1.1996],\n",
       "        [ 0.9445,  2.1796, -1.4226, -0.4463]])"
      ]
     },
     "execution_count": 23,
     "metadata": {},
     "output_type": "execute_result"
    }
   ],
   "source": [
    "a.cpu() + b"
   ]
  },
  {
   "cell_type": "code",
   "execution_count": null,
   "metadata": {
    "colab": {
     "base_uri": "https://localhost:8080/"
    },
    "id": "gmcJ4-dYlrdz",
    "outputId": "378233b1-d36d-41f2-a43d-399d311eade4"
   },
   "outputs": [
    {
     "data": {
      "text/plain": [
       "tensor([[ 0.4862,  0.0987,  2.4687,  1.1996],\n",
       "        [ 0.9445,  2.1796, -1.4226, -0.4463]])"
      ]
     },
     "execution_count": 24,
     "metadata": {},
     "output_type": "execute_result"
    }
   ],
   "source": [
    "(a + b.cuda()).cpu()"
   ]
  },
  {
   "cell_type": "markdown",
   "metadata": {
    "id": "MBhzRlf5lrdz"
   },
   "source": [
    "Так же мы можем задать следующее определение устройства. Если  есть куда, то выбираем куду. В ином случае - цпу:"
   ]
  },
  {
   "cell_type": "code",
   "execution_count": 26,
   "metadata": {
    "colab": {
     "base_uri": "https://localhost:8080/"
    },
    "id": "6_7usJoelrd0",
    "outputId": "92eb026b-61b4-4eb3-8b39-b3e18fd4a4b0"
   },
   "outputs": [
    {
     "name": "stdout",
     "output_type": "stream",
     "text": [
      "cpu\n"
     ]
    }
   ],
   "source": [
    "device = torch.device(\"cuda:0\" if torch.cuda.is_available() else \"cpu\")\n",
    "print(device)"
   ]
  },
  {
   "cell_type": "markdown",
   "metadata": {
    "id": "q4RrmCBTlrd0"
   },
   "source": [
    "У каждого тензора есть поле device, которое по умолчанию стоит cpu. Но мы можем менять его при инициализации или в процессе использования:"
   ]
  },
  {
   "cell_type": "code",
   "execution_count": 27,
   "metadata": {
    "colab": {
     "base_uri": "https://localhost:8080/"
    },
    "id": "Tf4O-Jbzlrd7",
    "outputId": "8fc017b3-c12d-4eaf-d755-d7672d48ebfb"
   },
   "outputs": [
    {
     "data": {
      "text/plain": [
       "tensor([[-0.3759,  2.5947,  1.5654,  1.4512,  0.5893,  0.9479, -0.8077, -0.9503,\n",
       "         -0.5939,  0.9576],\n",
       "        [-0.1574,  0.4714, -0.3154,  0.8067,  2.0169,  0.4727,  2.2462, -0.1651,\n",
       "         -0.5976, -1.1344],\n",
       "        [ 1.4850,  0.1253, -1.7365,  0.0472,  0.4593,  0.7762,  0.4556, -1.0968,\n",
       "          0.2660, -0.5064],\n",
       "        [-0.1769, -0.5374,  0.9672, -0.9237,  0.8446, -0.1793,  0.8616,  0.8199,\n",
       "         -2.4882, -1.0187],\n",
       "        [-1.2528, -1.0713,  0.2839, -0.2656,  0.9981,  1.0208,  0.2874,  1.5025,\n",
       "         -0.7612, -0.7053],\n",
       "        [-0.0597,  0.1940, -0.4556,  0.4035,  0.2671, -0.4141, -1.2533,  1.0064,\n",
       "          0.6598,  0.7074],\n",
       "        [-2.5938, -0.1352,  0.1517,  0.4159, -0.9210,  1.6710,  0.3987, -1.6576,\n",
       "         -0.3369,  1.4087],\n",
       "        [-0.8735, -0.5837, -0.7305, -0.2457,  0.4999, -0.1511,  0.2438, -0.7036,\n",
       "          0.7978,  0.8758],\n",
       "        [-2.1681, -0.8504,  0.3830, -1.0283,  0.3637, -0.3839, -0.1451,  0.8069,\n",
       "          1.2448,  1.1657],\n",
       "        [-0.8515, -0.0527, -0.2895, -0.0475, -0.6179, -0.6615,  0.7040, -1.8054,\n",
       "          0.8350, -0.6564]])"
      ]
     },
     "execution_count": 27,
     "metadata": {},
     "output_type": "execute_result"
    }
   ],
   "source": [
    "torch.randn(10, 10, device=device)"
   ]
  },
  {
   "cell_type": "code",
   "execution_count": 28,
   "metadata": {
    "colab": {
     "base_uri": "https://localhost:8080/"
    },
    "id": "PQwfJX44lrd8",
    "outputId": "18fe30c4-c5ee-432b-aa07-13e38626923e"
   },
   "outputs": [
    {
     "name": "stdout",
     "output_type": "stream",
     "text": [
      "tensor([2, 3])\n"
     ]
    }
   ],
   "source": [
    "a = torch.tensor((2 ,3))\n",
    "print(a)"
   ]
  },
  {
   "cell_type": "markdown",
   "metadata": {
    "id": "LtemnxcGlrd9"
   },
   "source": [
    "Переместить можно не только a.cuda(), но и так:"
   ]
  },
  {
   "cell_type": "code",
   "execution_count": 29,
   "metadata": {
    "colab": {
     "base_uri": "https://localhost:8080/"
    },
    "id": "TrYYeQ2Ylrd9",
    "outputId": "f2151243-5564-4407-f453-ee14e01b596c"
   },
   "outputs": [
    {
     "data": {
      "text/plain": [
       "tensor([2, 3])"
      ]
     },
     "execution_count": 29,
     "metadata": {},
     "output_type": "execute_result"
    }
   ],
   "source": [
    "a.to(device)"
   ]
  },
  {
   "cell_type": "markdown",
   "metadata": {
    "id": "QJfvB_s_lrd-"
   },
   "source": [
    "Но следует запомнить что .cuda() immutable функция. Т.е. она возвращает новый тензор, а не перезаписывает существующий a:"
   ]
  },
  {
   "cell_type": "code",
   "execution_count": 30,
   "metadata": {
    "colab": {
     "base_uri": "https://localhost:8080/"
    },
    "id": "DHVkYlxWlrd-",
    "outputId": "de6928d5-4c9f-4ba2-ac57-4e488ceb6891"
   },
   "outputs": [
    {
     "data": {
      "text/plain": [
       "tensor([2, 3])"
      ]
     },
     "execution_count": 30,
     "metadata": {},
     "output_type": "execute_result"
    }
   ],
   "source": [
    "a"
   ]
  },
  {
   "cell_type": "markdown",
   "metadata": {
    "id": "1r-u4QZ3lrd_"
   },
   "source": [
    "Как видим наш тензор a все на том же cpu. Что бы интерпретатор запомнил что a у нас на куде необходимо присвоить значение выражение в тензор:"
   ]
  },
  {
   "cell_type": "code",
   "execution_count": 31,
   "metadata": {
    "id": "8PZP4VMqlrd_"
   },
   "outputs": [],
   "source": [
    "# a = a.cuda()"
   ]
  },
  {
   "cell_type": "code",
   "execution_count": 32,
   "metadata": {
    "colab": {
     "base_uri": "https://localhost:8080/"
    },
    "id": "jSnuqWi4lreA",
    "outputId": "ed2c4458-0fd7-478d-a8d0-ec50f3d3bbca"
   },
   "outputs": [
    {
     "data": {
      "text/plain": [
       "tensor([2, 3])"
      ]
     },
     "execution_count": 32,
     "metadata": {},
     "output_type": "execute_result"
    }
   ],
   "source": [
    "a"
   ]
  },
  {
   "cell_type": "markdown",
   "metadata": {
    "id": "KiV-LOESlreG"
   },
   "source": [
    "Проверяем, находится ли сейчас тензор на куде:"
   ]
  },
  {
   "cell_type": "code",
   "execution_count": 33,
   "metadata": {
    "colab": {
     "base_uri": "https://localhost:8080/"
    },
    "id": "6w2LyZpklreH",
    "outputId": "9c0011e4-9932-42bb-a558-36c9627d007e"
   },
   "outputs": [
    {
     "data": {
      "text/plain": [
       "False"
      ]
     },
     "execution_count": 33,
     "metadata": {},
     "output_type": "execute_result"
    }
   ],
   "source": [
    "a.is_cuda"
   ]
  },
  {
   "cell_type": "markdown",
   "metadata": {
    "id": "cN3pziw3r0kf"
   },
   "source": [
    "# 3. Вычислительный граф и Автоматическое диференцирование\n"
   ]
  },
  {
   "cell_type": "markdown",
   "metadata": {
    "id": "wYIltf84lreJ"
   },
   "source": [
    "\n",
    "### 3.1 Вычислительный граф\n",
    "\n",
    "Вычислительный граф — это иллюстрированная запись какой-либо функции, состоящая из вершин и рёбер. Вершины (или узлы) — вычислительные операции, которые необходимо выполнить, а рёбра связывают их в определённую последовательность.\n",
    "\n",
    "Автоматическое дифференцирование - строительный блок не только в Pytorch, но и в каждой другой DL библиотеке. Движок автоматического дифференцирования в Pytorch называет [Autograd](https://pytorch.org/docs/stable/autograd.html). \n",
    "\n",
    "Современные архитектуры нейронных сетей могут иметь миллионы обучающихся параметров. С вычислительной точки зрения тренировка сети состоит из двух фаз:\n",
    "\n",
    "1) Прямой проход для вычисления значения функции потерь.  \n",
    "2) Обратный проход для вычисления градиентов обучаемых параметров.\n",
    "\n",
    "Прямой проход весьма прямолинеен: выход одного слоя является входом другого.\n",
    "Обратный проход немного сложнее, поскольку он требует от нас использования цепного правила для вычисления градиентов весов относительно функции потерь."
   ]
  },
  {
   "cell_type": "markdown",
   "metadata": {
    "id": "PTUPg57vAhg6"
   },
   "source": [
    "Ниже представлен простой пример вычислительного графа для вычисления выражения $\\sigma(x*w_1 + w_0)$. Можно разбить вычисление на следующие шаги:"
   ]
  },
  {
   "cell_type": "markdown",
   "metadata": {
    "id": "7DEEdtooAhg6"
   },
   "source": [
    "<img src='https://drive.google.com/uc?export=view&id=1jCTO6zBGyE8sYkkSv_6NENdFOiwuJCMC' width=600>"
   ]
  },
  {
   "cell_type": "markdown",
   "metadata": {
    "id": "TJMGxYF6Ahg7"
   },
   "source": [
    "Преимущества использования вычислительного графа в том, что каждый узел является независимым функционирующим куском кода, если получит все необходимые входные данные. Это позволяет  оптимизировать производительность при выполнении расчетов, используя многоканальную обработку, параллельные вычисления."
   ]
  },
  {
   "cell_type": "markdown",
   "metadata": {
    "id": "5gbHTyn5lreo"
   },
   "source": [
    "### 3.2 PyTorch Autograd"
   ]
  },
  {
   "cell_type": "markdown",
   "metadata": {
    "id": "JZHQDshMlreo"
   },
   "source": [
    "Теперь, когда мы понимаем, что такое вычислительный граф, вернемся к PyTorch и разберемся, как это реализовано в PyTorch."
   ]
  },
  {
   "cell_type": "markdown",
   "metadata": {
    "id": "0415zzOllrep"
   },
   "source": [
    "#### 3.2.1 Tензоры и requires_grad"
   ]
  },
  {
   "cell_type": "markdown",
   "metadata": {
    "id": "bUUpc9TGlrep"
   },
   "source": [
    "Как мы видели выше, тензор - это структура данных, которая является фундаментальным строительным блоком PyTorch и они во многом похожи на массивы numpy, за исключением того, что в отличие от numpy, тензоры предназначены для использования преимуществ параллельных вычислений графического процессора(GPU)."
   ]
  },
  {
   "cell_type": "code",
   "execution_count": null,
   "metadata": {
    "colab": {
     "base_uri": "https://localhost:8080/"
    },
    "id": "rnhj6vjolreq",
    "outputId": "193dcb0b-3b8a-4ca8-f706-fcb6dd3ae7a7"
   },
   "outputs": [
    {
     "data": {
      "text/plain": [
       "tensor([[6.4314e+10, 0.0000e+00, 0.0000e+00, 0.0000e+00, 0.0000e+00],\n",
       "        [0.0000e+00, 0.0000e+00, 0.0000e+00, 0.0000e+00, 0.0000e+00],\n",
       "        [0.0000e+00, 0.0000e+00, 0.0000e+00, 0.0000e+00, 0.0000e+00]])"
      ]
     },
     "execution_count": 33,
     "metadata": {},
     "output_type": "execute_result"
    }
   ],
   "source": [
    "import torch\n",
    "tsr = torch.Tensor(3,5)\n",
    "tsr"
   ]
  },
  {
   "cell_type": "markdown",
   "metadata": {
    "id": "PAM31O5ylrer"
   },
   "source": [
    "Вот он Tensor похожий на numpy ndarray. Структура данных, которая позволяет быстро выполнять операции линейной алгебры. Что бы сделать тензор обучающимся и мы бы смогли вычислить его градиент, необходимо поставить его параметр requires_grad в значение True."
   ]
  },
  {
   "cell_type": "markdown",
   "metadata": {
    "id": "WQX1h7uvlrer"
   },
   "source": [
    "requires_grad можно менять как при инициализации тензора, так и после:"
   ]
  },
  {
   "cell_type": "code",
   "execution_count": null,
   "metadata": {
    "colab": {
     "base_uri": "https://localhost:8080/"
    },
    "id": "NjB1sRIMlrex",
    "outputId": "745bc24e-3c8a-47f9-e2a9-c98e64d717c8"
   },
   "outputs": [
    {
     "name": "stdout",
     "output_type": "stream",
     "text": [
      "True\n",
      "False\n"
     ]
    }
   ],
   "source": [
    "t1 = torch.randn((3, 3), requires_grad=True)\n",
    "print(t1.requires_grad)\n",
    "t2 = torch.FloatTensor(3, 3)\n",
    "print(t2.requires_grad)"
   ]
  },
  {
   "cell_type": "code",
   "execution_count": null,
   "metadata": {
    "colab": {
     "base_uri": "https://localhost:8080/"
    },
    "id": "PJkO2Yuolrey",
    "outputId": "3f914ed3-3d5c-4e87-9980-6a2f479a4602"
   },
   "outputs": [
    {
     "name": "stdout",
     "output_type": "stream",
     "text": [
      "True\n"
     ]
    }
   ],
   "source": [
    "t2.requires_grad = True\n",
    "print(t2.requires_grad)"
   ]
  },
  {
   "cell_type": "markdown",
   "metadata": {
    "id": "zzX5Atkmlrez"
   },
   "source": [
    "requires_grad заразителен. Это означает, что когда тензор создается с помощью других тензоров, для параметра requires_grad результирующего тензора будет установлено значение True, если хотя бы один из тензоров, используемых для создания, имеет для параметра requires_grad значение True."
   ]
  },
  {
   "cell_type": "markdown",
   "metadata": {
    "id": "heK4cN4iq8Kp"
   },
   "source": [
    "*__Вопрос__: в каких ситуациях нам не нужен градиент для переменных?*\n"
   ]
  },
  {
   "cell_type": "code",
   "execution_count": null,
   "metadata": {
    "colab": {
     "base_uri": "https://localhost:8080/"
    },
    "id": "lZ6G8eOqAhhU",
    "outputId": "d29e35c2-182b-479f-d44e-5db193df9b41"
   },
   "outputs": [
    {
     "data": {
      "text/plain": [
       "tensor([1., 1., 1.], requires_grad=True)"
      ]
     },
     "execution_count": 36,
     "metadata": {},
     "output_type": "execute_result"
    }
   ],
   "source": [
    "x = torch.ones(3, requires_grad=True)\n",
    "x"
   ]
  },
  {
   "cell_type": "markdown",
   "metadata": {
    "id": "u_aXcleXAhhU"
   },
   "source": [
    "В x у нас хранится информация о градиенте. Мы можем получить ее через метод grad:"
   ]
  },
  {
   "cell_type": "code",
   "execution_count": null,
   "metadata": {
    "id": "ft_gExlZAhhV"
   },
   "outputs": [],
   "source": [
    "x.grad"
   ]
  },
  {
   "cell_type": "markdown",
   "metadata": {
    "id": "go7WnPwfAhhV"
   },
   "source": [
    "В данном случае ничего нет, т.к. мы никаких действий с нашим тензором не производили."
   ]
  },
  {
   "cell_type": "markdown",
   "metadata": {
    "id": "G50J9jHEAhhV"
   },
   "source": [
    "Создадим переменную на основе x:"
   ]
  },
  {
   "cell_type": "code",
   "execution_count": null,
   "metadata": {
    "id": "nIqgi87CAhhW"
   },
   "outputs": [],
   "source": [
    "z = (x ** 2) + 5.0 * x  # задание - посчитать производную руками"
   ]
  },
  {
   "cell_type": "code",
   "execution_count": null,
   "metadata": {
    "colab": {
     "base_uri": "https://localhost:8080/"
    },
    "id": "cCl_FwTTAhhW",
    "outputId": "969bbcae-52d7-461b-9033-4e3ccf2dd602"
   },
   "outputs": [
    {
     "data": {
      "text/plain": [
       "tensor([6., 6., 6.], grad_fn=<AddBackward0>)"
      ]
     },
     "execution_count": 39,
     "metadata": {},
     "output_type": "execute_result"
    }
   ],
   "source": [
    "z"
   ]
  },
  {
   "cell_type": "markdown",
   "metadata": {
    "id": "zwpCO-5hAhhW"
   },
   "source": [
    "Мы вызываем метод backward и передаем ей единичный тензор:"
   ]
  },
  {
   "cell_type": "code",
   "execution_count": null,
   "metadata": {
    "id": "U2RngNdNAhhX"
   },
   "outputs": [],
   "source": [
    "z.backward(x)"
   ]
  },
  {
   "cell_type": "markdown",
   "metadata": {
    "id": "GMNtkwy6AhhX"
   },
   "source": [
    "И тогда, когда мы выполнили эту функцию - мы вызываем градиент и мы получаем три 7ки:"
   ]
  },
  {
   "cell_type": "code",
   "execution_count": null,
   "metadata": {
    "colab": {
     "base_uri": "https://localhost:8080/"
    },
    "id": "DXcfyu2FAhhX",
    "outputId": "f8b78f13-01b9-43ff-d26c-cf93f5842e8f"
   },
   "outputs": [
    {
     "data": {
      "text/plain": [
       "tensor([7., 7., 7.])"
      ]
     },
     "execution_count": 41,
     "metadata": {},
     "output_type": "execute_result"
    }
   ],
   "source": [
    "x.grad"
   ]
  },
  {
   "cell_type": "markdown",
   "metadata": {
    "id": "t8e4hHAybGqo"
   },
   "source": [
    "<img src='https://drive.google.com/uc?export=view&id=1jCTO6zBGyE8sYkkSv_6NENdFOiwuJCMC' width=600>"
   ]
  },
  {
   "cell_type": "code",
   "execution_count": null,
   "metadata": {
    "colab": {
     "base_uri": "https://localhost:8080/"
    },
    "id": "BFUmKCyCbGqx",
    "outputId": "7a0cb253-99b1-4bc3-e1f1-e10e7ed7ef8e"
   },
   "outputs": [
    {
     "name": "stderr",
     "output_type": "stream",
     "text": [
      "/usr/local/lib/python3.7/dist-packages/torch/nn/functional.py:1960: UserWarning: nn.functional.sigmoid is deprecated. Use torch.sigmoid instead.\n",
      "  warnings.warn(\"nn.functional.sigmoid is deprecated. Use torch.sigmoid instead.\")\n"
     ]
    },
    {
     "data": {
      "text/plain": [
       "tensor(0.0590, grad_fn=<MseLossBackward0>)"
      ]
     },
     "execution_count": 42,
     "metadata": {},
     "output_type": "execute_result"
    }
   ],
   "source": [
    "x = torch.FloatTensor([1])\n",
    "w1 = torch.tensor([0.417], requires_grad=True)\n",
    "w0 = torch.tensor([0.72], requires_grad=True)\n",
    "\n",
    "a = x * w1\n",
    "b = a + w0\n",
    "\n",
    "sigma = torch.nn.functional.sigmoid(b)\n",
    "mse = torch.nn.functional.mse_loss(sigma, x)\n",
    "mse"
   ]
  },
  {
   "cell_type": "code",
   "execution_count": null,
   "metadata": {
    "id": "Co67-_HqbGq0"
   },
   "outputs": [],
   "source": [
    "mse.backward()"
   ]
  },
  {
   "cell_type": "code",
   "execution_count": null,
   "metadata": {
    "colab": {
     "base_uri": "https://localhost:8080/"
    },
    "id": "bYWTMpiEbGq1",
    "outputId": "86539e0e-9b3c-442d-a701-2779aad6085c"
   },
   "outputs": [
    {
     "data": {
      "text/plain": [
       "(tensor([-0.0893]), tensor([-0.0893]))"
      ]
     },
     "execution_count": 44,
     "metadata": {},
     "output_type": "execute_result"
    }
   ],
   "source": [
    "w1.grad, w0.grad"
   ]
  },
  {
   "cell_type": "markdown",
   "metadata": {
    "id": "jXn6KlzWlre0"
   },
   "source": [
    "У каждого тензора есть атрибут grad_fn, который отсылается к функции (математическому оператору), создающему переменную. \n",
    "\n",
    "grad_fn будет равен None, если нет зависимых функций, к примеру, переменная `а`\n",
    "ни от чего не зависит, нет ни какой функции, из которой бы получилась переменная а, а значит и grad_fn=None"
   ]
  },
  {
   "cell_type": "code",
   "execution_count": null,
   "metadata": {
    "colab": {
     "base_uri": "https://localhost:8080/"
    },
    "id": "rGsqOfzQlre_",
    "outputId": "f6bd4817-ff87-4850-c453-37e66289b74e"
   },
   "outputs": [
    {
     "name": "stdout",
     "output_type": "stream",
     "text": [
      "The grad fn for a is None\n",
      "The grad fn for d is <AddBackward0 object at 0x7f645283ea90>\n"
     ]
    }
   ],
   "source": [
    "a = torch.randn((3,3), requires_grad=True)\n",
    "\n",
    "w1 = torch.randn((3,3), requires_grad=True)\n",
    "w2 = torch.randn((3,3), requires_grad=True)\n",
    "w3 = torch.randn((3,3), requires_grad=True)\n",
    "w4 = torch.randn((3,3), requires_grad=True)\n",
    "\n",
    "b = w1 * a\n",
    "c = w2 * a\n",
    "\n",
    "d = w3 * b + w4 * c\n",
    "\n",
    "L = 10 - d\n",
    "\n",
    "print(\"The grad fn for a is\", a.grad_fn)\n",
    "print(\"The grad fn for d is\", d.grad_fn)"
   ]
  },
  {
   "cell_type": "markdown",
   "metadata": {
    "id": "IhIb7fzAlrfA"
   },
   "source": [
    "Можно использовать функцию-член is_leaf, чтобы определить, является ли переменная листовым тензором или нет. Листовые тензоры - это тензоры, которые мы подаем в нашу систему вычислений. В нашем случае это а:"
   ]
  },
  {
   "cell_type": "code",
   "execution_count": null,
   "metadata": {
    "colab": {
     "base_uri": "https://localhost:8080/"
    },
    "id": "j5QIyVGOlrfB",
    "outputId": "786d3aec-831f-4661-c06f-647428585bb9"
   },
   "outputs": [
    {
     "data": {
      "text/plain": [
       "(True, True)"
      ]
     },
     "execution_count": 46,
     "metadata": {},
     "output_type": "execute_result"
    }
   ],
   "source": [
    "a.is_leaf, w1.is_leaf"
   ]
  },
  {
   "cell_type": "code",
   "execution_count": null,
   "metadata": {
    "colab": {
     "base_uri": "https://localhost:8080/"
    },
    "id": "RnZelZ9KlrfC",
    "outputId": "06b15315-1853-4f6f-c459-7e8eb922a1d5"
   },
   "outputs": [
    {
     "data": {
      "text/plain": [
       "False"
      ]
     },
     "execution_count": 47,
     "metadata": {},
     "output_type": "execute_result"
    }
   ],
   "source": [
    "L.is_leaf"
   ]
  },
  {
   "cell_type": "markdown",
   "metadata": {
    "id": "AMm2QuehlrfD"
   },
   "source": [
    "#### 3.2.2 Function"
   ]
  },
  {
   "cell_type": "markdown",
   "metadata": {
    "id": "pSs52A0rlrfD"
   },
   "source": [
    "Все математические операции в PyTorch реализуются классом [torch.nn.Autograd.Function](https://pytorch.org/docs/stable/autograd.html#function). У этого класса есть две важные функции-члены, на которые нам нужно обратить внимание.\n",
    "\n",
    "Во-первых, это forward функция, которая просто вычисляет выходные данные, используя входные данные.\n",
    "\n",
    "Функция backward принимает входящий градиент, исходящий от части сети перед ней. Как вы можете видеть, градиент, который должен распространяться в обратном направлении от функции f, - это, по сути, градиент, который передается обратно в f от слоев перед ним, умноженный на локальный градиент выходных данных f по отношению к его входам. Именно это и делает обратная функция.\n"
   ]
  },
  {
   "cell_type": "markdown",
   "metadata": {
    "id": "GMXS85bmlrfG"
   },
   "source": [
    "Алгоритмически, вот как происходит обратное распространение с графом вычислений. (Не фактическая реализация, только пример):"
   ]
  },
  {
   "cell_type": "markdown",
   "metadata": {
    "id": "MNm3GMI-lrfG"
   },
   "source": [
    "```\n",
    "\n",
    "def backward(incoming_gradients):\n",
    "    self.Tensor.grad = incoming_gradients\n",
    "\n",
    "    for inp in self.inputs:\n",
    "        if inp.grad_fn is not None:\n",
    "            new_incoming_gradients = incoming_gradient * local_grad(self.Tensor, inp)\n",
    "\n",
    "            inp.grad_fn.backward(new_incoming_gradients)\n",
    "        else:\n",
    "            pass\n",
    "\n",
    "\n",
    "```\n",
    "\n"
   ]
  },
  {
   "cell_type": "markdown",
   "metadata": {
    "id": "0EtJtoVblrfG"
   },
   "source": [
    "Здесь self.Tensor - это, тензор, созданный Autograd.Function, который использовался в нашем примере.\n",
    "\n",
    "Входящие градиенты и локальные градиенты были описаны выше."
   ]
  },
  {
   "cell_type": "markdown",
   "metadata": {
    "id": "DLVqseSWlrfH"
   },
   "source": [
    "----"
   ]
  },
  {
   "cell_type": "markdown",
   "metadata": {
    "id": "2EJewzsLlrfJ"
   },
   "source": [
    "Чтобы вычислить производные в нашей нейронной сети, мы обычно обращаемся к тензору, представляющему нашу потерю. Затем мы возвращаемся по графику, начиная с узла, представляющего grad_fn наших потерь.\n",
    "\n",
    "Как описано выше, обратная функция рекурсивно вызывается по графику, когда мы возвращаемся. Однажды мы достигаем листового узла, поскольку grad_fn равен None, но прекращаем возвращение по этому пути.\n",
    "\n",
    "Здесь следует отметить, что PyTorch выдает ошибку, если вы вызываете backward () для векторного тензора. Это означает, что вы можете выполнять обратный вызов только для тензорного скалярного значения. В нашем примере, если мы предположим, что a - тензор с векторным значением, и обратимся к L, он выдаст ошибку."
   ]
  },
  {
   "cell_type": "code",
   "execution_count": null,
   "metadata": {
    "colab": {
     "base_uri": "https://localhost:8080/",
     "height": 402
    },
    "id": "OHnXE1tDlrfJ",
    "outputId": "f32a8893-b509-44b4-e79c-6290b90a0a8d"
   },
   "outputs": [
    {
     "name": "stdout",
     "output_type": "stream",
     "text": [
      "tensor([[10.4202, 10.1657,  9.9900],\n",
      "        [ 9.6156, 12.2761,  7.5257],\n",
      "        [ 9.4521, 10.1619,  9.6070]], grad_fn=<RsubBackward1>)\n"
     ]
    },
    {
     "ename": "RuntimeError",
     "evalue": "ignored",
     "output_type": "error",
     "traceback": [
      "\u001b[0;31m---------------------------------------------------------------------------\u001b[0m",
      "\u001b[0;31mRuntimeError\u001b[0m                              Traceback (most recent call last)",
      "\u001b[0;32m<ipython-input-48-04b6b2e5b3ae>\u001b[0m in \u001b[0;36m<module>\u001b[0;34m()\u001b[0m\n\u001b[1;32m     16\u001b[0m \u001b[0mprint\u001b[0m\u001b[0;34m(\u001b[0m\u001b[0mL\u001b[0m\u001b[0;34m)\u001b[0m\u001b[0;34m\u001b[0m\u001b[0;34m\u001b[0m\u001b[0m\n\u001b[1;32m     17\u001b[0m \u001b[0;34m\u001b[0m\u001b[0m\n\u001b[0;32m---> 18\u001b[0;31m \u001b[0mL\u001b[0m\u001b[0;34m.\u001b[0m\u001b[0mbackward\u001b[0m\u001b[0;34m(\u001b[0m\u001b[0;34m)\u001b[0m\u001b[0;34m\u001b[0m\u001b[0;34m\u001b[0m\u001b[0m\n\u001b[0m",
      "\u001b[0;32m/usr/local/lib/python3.7/dist-packages/torch/_tensor.py\u001b[0m in \u001b[0;36mbackward\u001b[0;34m(self, gradient, retain_graph, create_graph, inputs)\u001b[0m\n\u001b[1;32m    394\u001b[0m                 \u001b[0mcreate_graph\u001b[0m\u001b[0;34m=\u001b[0m\u001b[0mcreate_graph\u001b[0m\u001b[0;34m,\u001b[0m\u001b[0;34m\u001b[0m\u001b[0;34m\u001b[0m\u001b[0m\n\u001b[1;32m    395\u001b[0m                 inputs=inputs)\n\u001b[0;32m--> 396\u001b[0;31m         \u001b[0mtorch\u001b[0m\u001b[0;34m.\u001b[0m\u001b[0mautograd\u001b[0m\u001b[0;34m.\u001b[0m\u001b[0mbackward\u001b[0m\u001b[0;34m(\u001b[0m\u001b[0mself\u001b[0m\u001b[0;34m,\u001b[0m \u001b[0mgradient\u001b[0m\u001b[0;34m,\u001b[0m \u001b[0mretain_graph\u001b[0m\u001b[0;34m,\u001b[0m \u001b[0mcreate_graph\u001b[0m\u001b[0;34m,\u001b[0m \u001b[0minputs\u001b[0m\u001b[0;34m=\u001b[0m\u001b[0minputs\u001b[0m\u001b[0;34m)\u001b[0m\u001b[0;34m\u001b[0m\u001b[0;34m\u001b[0m\u001b[0m\n\u001b[0m\u001b[1;32m    397\u001b[0m \u001b[0;34m\u001b[0m\u001b[0m\n\u001b[1;32m    398\u001b[0m     \u001b[0;32mdef\u001b[0m \u001b[0mregister_hook\u001b[0m\u001b[0;34m(\u001b[0m\u001b[0mself\u001b[0m\u001b[0;34m,\u001b[0m \u001b[0mhook\u001b[0m\u001b[0;34m)\u001b[0m\u001b[0;34m:\u001b[0m\u001b[0;34m\u001b[0m\u001b[0;34m\u001b[0m\u001b[0m\n",
      "\u001b[0;32m/usr/local/lib/python3.7/dist-packages/torch/autograd/__init__.py\u001b[0m in \u001b[0;36mbackward\u001b[0;34m(tensors, grad_tensors, retain_graph, create_graph, grad_variables, inputs)\u001b[0m\n\u001b[1;32m    164\u001b[0m \u001b[0;34m\u001b[0m\u001b[0m\n\u001b[1;32m    165\u001b[0m     \u001b[0mgrad_tensors_\u001b[0m \u001b[0;34m=\u001b[0m \u001b[0m_tensor_or_tensors_to_tuple\u001b[0m\u001b[0;34m(\u001b[0m\u001b[0mgrad_tensors\u001b[0m\u001b[0;34m,\u001b[0m \u001b[0mlen\u001b[0m\u001b[0;34m(\u001b[0m\u001b[0mtensors\u001b[0m\u001b[0;34m)\u001b[0m\u001b[0;34m)\u001b[0m\u001b[0;34m\u001b[0m\u001b[0;34m\u001b[0m\u001b[0m\n\u001b[0;32m--> 166\u001b[0;31m     \u001b[0mgrad_tensors_\u001b[0m \u001b[0;34m=\u001b[0m \u001b[0m_make_grads\u001b[0m\u001b[0;34m(\u001b[0m\u001b[0mtensors\u001b[0m\u001b[0;34m,\u001b[0m \u001b[0mgrad_tensors_\u001b[0m\u001b[0;34m,\u001b[0m \u001b[0mis_grads_batched\u001b[0m\u001b[0;34m=\u001b[0m\u001b[0;32mFalse\u001b[0m\u001b[0;34m)\u001b[0m\u001b[0;34m\u001b[0m\u001b[0;34m\u001b[0m\u001b[0m\n\u001b[0m\u001b[1;32m    167\u001b[0m     \u001b[0;32mif\u001b[0m \u001b[0mretain_graph\u001b[0m \u001b[0;32mis\u001b[0m \u001b[0;32mNone\u001b[0m\u001b[0;34m:\u001b[0m\u001b[0;34m\u001b[0m\u001b[0;34m\u001b[0m\u001b[0m\n\u001b[1;32m    168\u001b[0m         \u001b[0mretain_graph\u001b[0m \u001b[0;34m=\u001b[0m \u001b[0mcreate_graph\u001b[0m\u001b[0;34m\u001b[0m\u001b[0;34m\u001b[0m\u001b[0m\n",
      "\u001b[0;32m/usr/local/lib/python3.7/dist-packages/torch/autograd/__init__.py\u001b[0m in \u001b[0;36m_make_grads\u001b[0;34m(outputs, grads, is_grads_batched)\u001b[0m\n\u001b[1;32m     65\u001b[0m             \u001b[0;32mif\u001b[0m \u001b[0mout\u001b[0m\u001b[0;34m.\u001b[0m\u001b[0mrequires_grad\u001b[0m\u001b[0;34m:\u001b[0m\u001b[0;34m\u001b[0m\u001b[0;34m\u001b[0m\u001b[0m\n\u001b[1;32m     66\u001b[0m                 \u001b[0;32mif\u001b[0m \u001b[0mout\u001b[0m\u001b[0;34m.\u001b[0m\u001b[0mnumel\u001b[0m\u001b[0;34m(\u001b[0m\u001b[0;34m)\u001b[0m \u001b[0;34m!=\u001b[0m \u001b[0;36m1\u001b[0m\u001b[0;34m:\u001b[0m\u001b[0;34m\u001b[0m\u001b[0;34m\u001b[0m\u001b[0m\n\u001b[0;32m---> 67\u001b[0;31m                     \u001b[0;32mraise\u001b[0m \u001b[0mRuntimeError\u001b[0m\u001b[0;34m(\u001b[0m\u001b[0;34m\"grad can be implicitly created only for scalar outputs\"\u001b[0m\u001b[0;34m)\u001b[0m\u001b[0;34m\u001b[0m\u001b[0;34m\u001b[0m\u001b[0m\n\u001b[0m\u001b[1;32m     68\u001b[0m                 \u001b[0mnew_grads\u001b[0m\u001b[0;34m.\u001b[0m\u001b[0mappend\u001b[0m\u001b[0;34m(\u001b[0m\u001b[0mtorch\u001b[0m\u001b[0;34m.\u001b[0m\u001b[0mones_like\u001b[0m\u001b[0;34m(\u001b[0m\u001b[0mout\u001b[0m\u001b[0;34m,\u001b[0m \u001b[0mmemory_format\u001b[0m\u001b[0;34m=\u001b[0m\u001b[0mtorch\u001b[0m\u001b[0;34m.\u001b[0m\u001b[0mpreserve_format\u001b[0m\u001b[0;34m)\u001b[0m\u001b[0;34m)\u001b[0m\u001b[0;34m\u001b[0m\u001b[0;34m\u001b[0m\u001b[0m\n\u001b[1;32m     69\u001b[0m             \u001b[0;32melse\u001b[0m\u001b[0;34m:\u001b[0m\u001b[0;34m\u001b[0m\u001b[0;34m\u001b[0m\u001b[0m\n",
      "\u001b[0;31mRuntimeError\u001b[0m: grad can be implicitly created only for scalar outputs"
     ]
    }
   ],
   "source": [
    "import torch \n",
    "\n",
    "a = torch.randn((3,3), requires_grad=True)\n",
    "\n",
    "w1 = torch.randn((3,3), requires_grad=True)\n",
    "w2 = torch.randn((3,3), requires_grad=True)\n",
    "w3 = torch.randn((3,3), requires_grad=True)\n",
    "w4 = torch.randn((3,3), requires_grad=True)\n",
    "\n",
    "b = w1 * a \n",
    "c = w2 * a\n",
    "\n",
    "d = w3 * b + w4 * c \n",
    "\n",
    "L = (10 - d)\n",
    "print(L)\n",
    "\n",
    "L.backward()"
   ]
  },
  {
   "cell_type": "markdown",
   "metadata": {
    "id": "bd_gEROTlrfK"
   },
   "source": [
    "Это потому, что градиенты могут быть вычислены относительно скалярных значений по определению. Вы не можете точно отличить вектор от другого вектора."
   ]
  },
  {
   "cell_type": "markdown",
   "metadata": {
    "id": "ETgNADiolrfL"
   },
   "source": [
    "Если вы просто сделаете небольшое изменение в приведенном выше коде, установив L как сумму всех ошибок, наша проблема будет решена."
   ]
  },
  {
   "cell_type": "code",
   "execution_count": null,
   "metadata": {
    "colab": {
     "base_uri": "https://localhost:8080/"
    },
    "id": "SUdyzF2WlrfL",
    "outputId": "254e65f0-725b-4050-927e-3a7186fd254b"
   },
   "outputs": [
    {
     "name": "stdout",
     "output_type": "stream",
     "text": [
      "tensor(96.0045, grad_fn=<SumBackward0>)\n"
     ]
    }
   ],
   "source": [
    "import torch \n",
    "\n",
    "a = torch.randn((3,3), requires_grad=True)\n",
    "\n",
    "w1 = torch.randn((3,3), requires_grad=True)\n",
    "w2 = torch.randn((3,3), requires_grad=True)\n",
    "w3 = torch.randn((3,3), requires_grad=True)\n",
    "w4 = torch.randn((3,3), requires_grad=True)\n",
    "\n",
    "b = w1 * a \n",
    "c = w2 * a\n",
    "\n",
    "d = w3 * b + w4 * c \n",
    "\n",
    "# Replace L = (10 - d) by \n",
    "L = (10 - d).sum()\n",
    "print(L)\n",
    "\n",
    "L.backward()"
   ]
  },
  {
   "cell_type": "markdown",
   "metadata": {
    "id": "TUVG6dtolrfN"
   },
   "source": [
    "Как только это будет сделано, вы можете получить доступ к градиентам, вызвав атрибут grad в Tensor."
   ]
  },
  {
   "cell_type": "markdown",
   "metadata": {
    "id": "geQBtfx6lrfQ"
   },
   "source": [
    "#### 3.2.3 Некоторые хитрости"
   ]
  },
  {
   "cell_type": "markdown",
   "metadata": {
    "id": "WPyuy1PxlrfR"
   },
   "source": [
    "1) requires_grad"
   ]
  },
  {
   "cell_type": "markdown",
   "metadata": {
    "id": "-adpm4BrlrfR"
   },
   "source": [
    "Это атрибут класса Tensor. По умолчанию это False. Это удобно, когда вам нужно заморозить некоторые слои и запретить им обновлять параметры во время тренировки. Вы можете просто установить для параметра requires_grad значение False, и эти тензоры не будут участвовать в графе вычислений."
   ]
  },
  {
   "cell_type": "markdown",
   "metadata": {
    "id": "LE87s9HhlrfS"
   },
   "source": [
    "2) torch.no_grad()"
   ]
  },
  {
   "cell_type": "markdown",
   "metadata": {
    "id": "zOHxTUA-lrfh"
   },
   "source": [
    "Когда мы вычисляем градиенты, нам нужно кэшировать входные значения и промежуточные функции, поскольку они могут потребоваться для вычисления градиента позже.  Если нам нужно сохранить эти значения для вычисления градиента во время обратного прохода, это повлияет на объем памяти, занимаемой сетью."
   ]
  },
  {
   "cell_type": "markdown",
   "metadata": {
    "id": "qJ2CMPD3lrfi"
   },
   "source": [
    "С использованием torch.no_grad мы выполняем вывод нашей нейронной сети и мы не вычисляем градиенты и, следовательно, нам не нужно хранить эти значения. Фактически, во время вывода графа вычислений создавать не нужно, так как это приведет к бесполезному потреблению памяти."
   ]
  },
  {
   "cell_type": "markdown",
   "metadata": {
    "id": "BjayYcWxlrfj"
   },
   "source": [
    "PyTorch предлагает для этой цели диспетчер контекста, называемый torch.no_grad."
   ]
  },
  {
   "cell_type": "code",
   "execution_count": null,
   "metadata": {
    "id": "F5IRJk1Wlrfj"
   },
   "outputs": [],
   "source": [
    "with torch.no_grad():\n",
    "    # inference code goes here \n",
    "    pass"
   ]
  },
  {
   "cell_type": "markdown",
   "metadata": {
    "id": "7MMq6SyGlrfk"
   },
   "source": [
    "# 4. Погружаемся в детали"
   ]
  },
  {
   "cell_type": "markdown",
   "metadata": {
    "id": "PkcMK9v7lrfl"
   },
   "source": [
    "Все основные модули которые будут рассматриваться ниже находятся в [torch.nn](https://pytorch.org/docs/stable/nn.html#). Все кроме оптимизаторов - они находятся в [torch.optim](https://pytorch.org/docs/stable/optim.html)"
   ]
  },
  {
   "cell_type": "markdown",
   "metadata": {
    "id": "zuo6jRyclrfl"
   },
   "source": [
    "### 4.1. Слои"
   ]
  },
  {
   "cell_type": "markdown",
   "metadata": {
    "id": "PqyiBsZslrfm"
   },
   "source": [
    "#### Линейный слой (Линейное преобразование)\n",
    "\n",
    "[pytorch doc](https://pytorch.org/docs/stable/generated/torch.nn.Linear.html)\n",
    "\n",
    "$$y = xA^T + b$$"
   ]
  },
  {
   "cell_type": "code",
   "execution_count": null,
   "metadata": {
    "id": "wW0hJOqRlrfr"
   },
   "outputs": [],
   "source": [
    "layer = torch.nn.Linear(\n",
    "    in_features=3,\n",
    "    out_features=2,\n",
    "    bias=True\n",
    ")"
   ]
  },
  {
   "cell_type": "code",
   "execution_count": null,
   "metadata": {
    "colab": {
     "base_uri": "https://localhost:8080/"
    },
    "id": "vBymHmwoO6Gc",
    "outputId": "9330686b-efc1-4256-8542-dc5044c527b6"
   },
   "outputs": [
    {
     "data": {
      "text/plain": [
       "(Parameter containing:\n",
       " tensor([[-0.5448, -0.5664, -0.0289],\n",
       "         [-0.1011,  0.3132,  0.1811]], requires_grad=True),\n",
       " Parameter containing:\n",
       " tensor([0.3515, 0.1411], requires_grad=True))"
      ]
     },
     "execution_count": 52,
     "metadata": {},
     "output_type": "execute_result"
    }
   ],
   "source": [
    "layer.weight, layer.bias"
   ]
  },
  {
   "cell_type": "markdown",
   "metadata": {
    "id": "eHImPO4olrgZ"
   },
   "source": [
    "### 4.2 Алгоритм обучения в pytorch"
   ]
  },
  {
   "cell_type": "code",
   "execution_count": null,
   "metadata": {
    "id": "phZxJlZ5lrgZ"
   },
   "outputs": [],
   "source": [
    "import torch\n",
    "from torch import nn\n",
    "from torch import optim"
   ]
  },
  {
   "cell_type": "markdown",
   "metadata": {
    "id": "leaG6UYdlrgb"
   },
   "source": [
    "1. Для начала нам нужна модель через которую мы будем прогонять данные и получать какой-то результат. Для этого возьмем линейное преобразование:"
   ]
  },
  {
   "cell_type": "code",
   "execution_count": null,
   "metadata": {
    "id": "8p_Y5Ix8lrge"
   },
   "outputs": [],
   "source": [
    "linear = nn.Linear(2, 2)"
   ]
  },
  {
   "cell_type": "markdown",
   "metadata": {
    "id": "MCYlfLIZlrgf"
   },
   "source": [
    "У слоя в pytorch мы всегда можем посмотреть веса и отклонение:"
   ]
  },
  {
   "cell_type": "code",
   "execution_count": null,
   "metadata": {
    "colab": {
     "base_uri": "https://localhost:8080/"
    },
    "id": "QfmjSh0wlrgg",
    "outputId": "2fdf37e2-ccd2-4be6-cfc0-59e924945974"
   },
   "outputs": [
    {
     "name": "stdout",
     "output_type": "stream",
     "text": [
      "w:  Parameter containing:\n",
      "tensor([[-0.1174, -0.0257],\n",
      "        [ 0.6716, -0.0734]], requires_grad=True)\n",
      "b:  Parameter containing:\n",
      "tensor([ 0.2584, -0.6283], requires_grad=True)\n"
     ]
    }
   ],
   "source": [
    "print('w: ', linear.weight)\n",
    "print('b: ', linear.bias)"
   ]
  },
  {
   "cell_type": "markdown",
   "metadata": {
    "id": "EcEQk9xklrgg"
   },
   "source": [
    "2. Теперь нам нужно определить функцию ошибок для подсчета градиента:"
   ]
  },
  {
   "cell_type": "code",
   "execution_count": null,
   "metadata": {
    "id": "ktjXPigolrgh"
   },
   "outputs": [],
   "source": [
    "criterion = nn.MSELoss()"
   ]
  },
  {
   "cell_type": "markdown",
   "metadata": {
    "id": "9s5fLcGGlrgm"
   },
   "source": [
    "3. Так же нам нужен оптимизатор который будет изменять веса нашей модели:"
   ]
  },
  {
   "cell_type": "code",
   "execution_count": null,
   "metadata": {
    "id": "TQoaffbOlrgm"
   },
   "outputs": [],
   "source": [
    "optimizer = torch.optim.SGD(linear.parameters(), lr=0.01)"
   ]
  },
  {
   "cell_type": "markdown",
   "metadata": {
    "id": "jsft9Mrulrgn"
   },
   "source": [
    "4. Нам нужны данные (х) и верные метки (y) по которым мы поймем правильные ли предсказания делает модель. (В данном случае у нас всего пара значений (данные, метки). О том как организовывать много данных ниже и в дальнейших вебинарах):"
   ]
  },
  {
   "cell_type": "code",
   "execution_count": null,
   "metadata": {
    "colab": {
     "base_uri": "https://localhost:8080/"
    },
    "id": "0aXEA3OGlrgn",
    "outputId": "6dc5310b-8049-41dd-a721-19d0a5f6502e"
   },
   "outputs": [
    {
     "data": {
      "text/plain": [
       "(tensor([0.1722, 0.7229], requires_grad=True), tensor([-0.7220,  0.9363]))"
      ]
     },
     "execution_count": 58,
     "metadata": {},
     "output_type": "execute_result"
    }
   ],
   "source": [
    "x = torch.randn(2, requires_grad=True)\n",
    "y = torch.randn(2, requires_grad=False)\n",
    "\n",
    "x, y"
   ]
  },
  {
   "cell_type": "markdown",
   "metadata": {
    "id": "hT-kKVE7lrgo"
   },
   "source": [
    "5. Перед тем как считать градиенты и менять веса, нам нужно обнулить градиенты хранящиеся в свойстве тензора .grad. Для этого выполняем следующую строчку кода:"
   ]
  },
  {
   "cell_type": "code",
   "execution_count": null,
   "metadata": {
    "id": "JdByvAdylrgo"
   },
   "outputs": [],
   "source": [
    "optimizer.zero_grad()"
   ]
  },
  {
   "cell_type": "markdown",
   "metadata": {
    "id": "nleewGB2lrgp"
   },
   "source": [
    "6. Затем делаем предсказание на наших данных х, получаем предсказание модели и сохраняем это предсказание в переменную pred:"
   ]
  },
  {
   "cell_type": "code",
   "execution_count": null,
   "metadata": {
    "id": "6vd31Yqxlrgp"
   },
   "outputs": [],
   "source": [
    "pred = linear(x)"
   ]
  },
  {
   "cell_type": "markdown",
   "metadata": {
    "id": "8_xyEM2Ilrgq"
   },
   "source": [
    "7. Переменная pred имеет ту же размерность, что и y. y - это наша правильная метка (ground truth). На этом этапе мы сравниваем предсказанное с реальным и получаем некую численную оценку этого через функцию потерь:"
   ]
  },
  {
   "cell_type": "code",
   "execution_count": null,
   "metadata": {
    "colab": {
     "base_uri": "https://localhost:8080/"
    },
    "id": "KMATmsD0lrgq",
    "outputId": "90094468-7365-43d5-c67d-33320be939e8"
   },
   "outputs": [
    {
     "name": "stdout",
     "output_type": "stream",
     "text": [
      "loss:  tensor(1.5714, grad_fn=<MseLossBackward0>)  \n",
      "loss_item : 1.5713751316070557\n"
     ]
    }
   ],
   "source": [
    "loss = criterion(pred, y)\n",
    "print('loss: ', loss, ' \\nloss_item :', loss.item())"
   ]
  },
  {
   "cell_type": "markdown",
   "metadata": {
    "id": "1LBFt80flrgr"
   },
   "source": [
    "Стоит отметить, что если мы посмотрим на переменную .grad наших весов и отклонения, то ничего не будет:"
   ]
  },
  {
   "cell_type": "code",
   "execution_count": null,
   "metadata": {
    "colab": {
     "base_uri": "https://localhost:8080/"
    },
    "id": "CUIp6jQtlrgs",
    "outputId": "3afe189f-10c7-4559-b134-f691d9d7d3a7"
   },
   "outputs": [
    {
     "name": "stdout",
     "output_type": "stream",
     "text": [
      "dL/dw:  None\n",
      "dL/db:  None\n"
     ]
    }
   ],
   "source": [
    "print('dL/dw: ', linear.weight.grad) \n",
    "print('dL/db: ', linear.bias.grad)"
   ]
  },
  {
   "cell_type": "markdown",
   "metadata": {
    "id": "UpKSxAbulrgs"
   },
   "source": [
    "Это потому что мы не начинали идти в обратном направлении и высчитывать градиенты."
   ]
  },
  {
   "cell_type": "markdown",
   "metadata": {
    "id": "MyCJdzdclrgt"
   },
   "source": [
    "8. Что ж, самое время это сделать. Проходим в обратном направлении и вычислим градиенты:"
   ]
  },
  {
   "cell_type": "code",
   "execution_count": null,
   "metadata": {
    "id": "JroDNpxJlrgt"
   },
   "outputs": [],
   "source": [
    "loss.backward()"
   ]
  },
  {
   "cell_type": "markdown",
   "metadata": {
    "id": "qlzi3IZflrgu"
   },
   "source": [
    "Теперь если мы посмотрим на grad весов, то уже что-то увидим:"
   ]
  },
  {
   "cell_type": "code",
   "execution_count": null,
   "metadata": {
    "colab": {
     "base_uri": "https://localhost:8080/"
    },
    "id": "S2jqTzv5lrgu",
    "outputId": "29357313-457a-4147-dd79-1f3dcbed17ca"
   },
   "outputs": [
    {
     "name": "stdout",
     "output_type": "stream",
     "text": [
      "w:  tensor([[ 0.1621,  0.6806],\n",
      "        [-0.2586, -1.0858]])\n",
      "b:  tensor([ 0.9416, -1.5021])\n"
     ]
    }
   ],
   "source": [
    "print('w: ', linear.weight.grad)\n",
    "print('b: ', linear.bias.grad)"
   ]
  },
  {
   "cell_type": "markdown",
   "metadata": {
    "id": "96uo8Dyulrgv"
   },
   "source": [
    "9. Теперь самое время поменять веса. Для этого надо сделать так называемый шаг оптимизатора. Здесь оптимизатор имея информацию о высчитанных градиентах и значениях весов меняет последние:"
   ]
  },
  {
   "cell_type": "code",
   "execution_count": null,
   "metadata": {
    "colab": {
     "base_uri": "https://localhost:8080/"
    },
    "id": "JOQ1VXTOlrgv",
    "outputId": "41060dcb-17e4-41eb-b33f-8ae49746197f"
   },
   "outputs": [
    {
     "name": "stdout",
     "output_type": "stream",
     "text": [
      "BEFORE:\n",
      " w:  Parameter containing:\n",
      "tensor([[-0.1174, -0.0257],\n",
      "        [ 0.6716, -0.0734]], requires_grad=True)\n",
      "b:  Parameter containing:\n",
      "tensor([ 0.2584, -0.6283], requires_grad=True) \n",
      "\n",
      "AFTER:\n",
      "w:  Parameter containing:\n",
      "tensor([[-0.1191, -0.0325],\n",
      "        [ 0.6742, -0.0625]], requires_grad=True)\n",
      "b:  Parameter containing:\n",
      "tensor([ 0.2490, -0.6133], requires_grad=True)\n"
     ]
    }
   ],
   "source": [
    "# Веса до\n",
    "print('BEFORE:\\n','w: ', linear.weight)\n",
    "print('b: ', linear.bias, '\\n')\n",
    "\n",
    "# Делаем шаг оптимизатора\n",
    "optimizer.step()\n",
    "\n",
    "# Веса после\n",
    "print('AFTER:\\n''w: ', linear.weight)\n",
    "print('b: ', linear.bias)"
   ]
  },
  {
   "cell_type": "markdown",
   "metadata": {
    "id": "3HhgLc7nlrhR"
   },
   "source": [
    "#  5. Tensorflow vs PyTorch:"
   ]
  },
  {
   "cell_type": "markdown",
   "metadata": {
    "id": "FZvXLj-RlrhS"
   },
   "source": [
    "<img src='https://drive.google.com/uc?export=view&id=13SNw7d9JGT8lHMrKN2-mNgYrqKqkNXfG'>"
   ]
  },
  {
   "cell_type": "markdown",
   "metadata": {
    "id": "MjwlR38ylrhT"
   },
   "source": [
    "* Определение графа - верно для старых версий, в Октябре 2019 года добавили поддержку подобного стиля программирования "
   ]
  },
  {
   "cell_type": "markdown",
   "metadata": {
    "id": "Y2zYPfsDlrhV"
   },
   "source": [
    "#### Различия:\n",
    "\n",
    "PyTorch разработал Facebook Lab в 2016 году, здесь динамическое определение графа. А Tensorflow разрабатывался командой Google Brains в 2015 и до 2019 года граф определялся только статически.\n",
    "\n",
    "В TensorFlow граф определяется статически перед запуском модели. Связь осуществляется с помощью объекта tf.Session и tf.Placeholder — тензорами, которые во время выполнения программы будут заменены внешними данными.\n",
    "\n",
    "В PyTorch можно определять, изменять и выполнять узлы как вам угодно без дополнительных session- и placeholder-интерфейсов. Когда вы пишите на TensorFlow, иногда кажется, что с моделью можно связываться через несколько крошечных отверстий в кирпичной стене, за которой и прячется модель.\n",
    "\n",
    "Существуют архитектуры нейронных сетей, которые получают преимущества от динамического подхода. RNN со статическим графом длина входной последовательности остается постоянной. Это означает, что необходимо зафиксировать длину предложения на максимальном значении, а все более мелкие последовательности заполнять нулями.\n",
    "\n",
    "Но теперь и в Tensorflow и PyTorch есть возможность динамического определения графа.\n",
    "\n",
    "\n",
    "<img src='https://drive.google.com/uc?export=view&id=1YceAfoUFkzUo_nHPwpwW8OuklFlQGMwu'>\n",
    "\n",
    "[Ссылка](https://chel-center.ru/python-yfc/2020/12/22/pytorch-protiv-tensorflow-dlya-vashego-proekta-glubokogo-obucheniya-python/) на статью где хорошо объясняется различие pytorch от tensorflow."
   ]
  },
  {
   "cell_type": "markdown",
   "metadata": {
    "id": "3btv8V0QlrhW"
   },
   "source": [
    "# 6. Где полученные знания можно применять"
   ]
  },
  {
   "cell_type": "markdown",
   "metadata": {
    "id": "LDMm1C17lrhX"
   },
   "source": [
    "pytorch можно использовать в следующих областях:\n",
    "* Распознавание и синтез аудио. Об этом [torchaudio](https://pytorch.org/audio/stable/index.html)  \n",
    "* Так же с инструментом pytorch можно заниматься регрессионными проблемами, прогнозирования временных рядов. Например предсказывать цены на определенные валюты, акции, дома и т.д. [ссылка](https://www.machinelearningmastery.ru/lstm-for-time-series-prediction-de8aeb26f2ca/)\n",
    "* [Задачи NLP](https://pytorchnlp.readthedocs.io/en/latest/index.html#)  \n",
    "* Можно генерировать разную информацию от картинок до текста и аудио.\n",
    "\n",
    "В общем pytorch можно применять везде, где используются нейронные сети.\n",
    "\n",
    "[Бонус](https://www.8host.com/blog/kak-ustanovit-i-ispolzovat-pytorch/): зайдите по ссылке и долистайте до \"Экосистема Pytorch\""
   ]
  },
  {
   "cell_type": "markdown",
   "metadata": {
    "id": "MkJ7emsMxaYF"
   },
   "source": [
    "# Домашнее задание\n",
    "\n",
    "\n",
    "- Срок сдачи 7 дней\n",
    "- Если не успеваете, то после истечения срока в 7 дней на странице ДЗ появляется кнопка о **самостоятельном продлении** сроков еще на 7 дней\n",
    "- Если после 14 дней, то через техподдержку\n",
    "- В выходные дни возможен ревьюер ДЗ\n",
    "\n",
    "\n",
    "Ноутбук: https://colab.research.google.com/drive/1l_ngLK9Ltwkd8Gkv9WwQYGo_ctCs3HvY"
   ]
  },
  {
   "cell_type": "markdown",
   "metadata": {
    "id": "nfRSfecExTgi"
   },
   "source": [
    "# Дополнительные материалы\n",
    "1. [Pytorch vs Tensorflow in 2020](https://towardsdatascience.com/pytorch-vs-tensorflow-in-2020-fe237862fae1)\n",
    "2. [Официальная документация PyTorch](https://pytorch.org/tutorials/)"
   ]
  },
  {
   "cell_type": "markdown",
   "metadata": {
    "id": "u4TESt3AxXg7"
   },
   "source": [
    "# Определения\n",
    "\n",
    "\n",
    "**Вычислительный граф** — это иллюстрированная запись какой-либо функции, состоящая из вершин и рёбер. Вершины (или узлы) — вычислительные операции, которые необходимо выполнить, а рёбра связывают их в определённую последовательность.\n",
    "\n",
    "Шаги обучения:\n",
    "1. Проход по батчу\n",
    "2. Обнуление градиента\n",
    "3. Предсказание модели на батче\n",
    "4. Подсчет ошибки\n",
    "5. Подсчет градиентов\n",
    "6. Шаг оптимизации\n",
    "7. Логирование информации"
   ]
  }
 ],
 "metadata": {
  "accelerator": "GPU",
  "colab": {
   "collapsed_sections": [
    "nfRSfecExTgi",
    "u4TESt3AxXg7"
   ],
   "name": "lesson_1.ipynb",
   "provenance": [],
   "toc_visible": true
  },
  "kernelspec": {
   "display_name": "Python 3 (ipykernel)",
   "language": "python",
   "name": "python3"
  },
  "language_info": {
   "codemirror_mode": {
    "name": "ipython",
    "version": 3
   },
   "file_extension": ".py",
   "mimetype": "text/x-python",
   "name": "python",
   "nbconvert_exporter": "python",
   "pygments_lexer": "ipython3",
   "version": "3.9.12"
  }
 },
 "nbformat": 4,
 "nbformat_minor": 4
}
